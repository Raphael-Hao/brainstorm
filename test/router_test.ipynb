{
 "cells": [
  {
   "cell_type": "code",
   "execution_count": 1,
   "metadata": {},
   "outputs": [
    {
     "name": "stdout",
     "output_type": "stream",
     "text": [
      "The Top-K scatter router is using tutel dispatcher, the dispatcher should be shared with the corresponding gather router\n"
     ]
    }
   ],
   "source": [
    "import brt\n",
    "import brt.nn as nn\n",
    "from brt.router import TopKScatterRouter\n",
    "\n",
    "class MoE(nn.Module):\n",
    "    def __init__(self, num_classes, num_experts):\n",
    "        super(MoE, self).__init__()\n",
    "        self.num_experts = num_experts\n",
    "        self.num_classes = num_classes\n",
    "        self.scatter_router = TopKScatterRouter(num_experts, num_classes, k=1)\n",
    "        self.experts = nn.ModuleList([nn.Linear(num_classes, num_experts) for _ in range(num_experts)])\n",
    "    \n",
    "    def forward(self,*inputs):\n",
    "        route_results = self.scatter_router(*inputs)\n",
    "        return route_results\n",
    "\n",
    "moe_layer = MoE(num_classes=10, num_experts=3)"
   ]
  },
  {
   "cell_type": "code",
   "execution_count": 5,
   "metadata": {},
   "outputs": [
    {
     "name": "stdout",
     "output_type": "stream",
     "text": [
      "tensor([[0.0358, 0.3994, 0.1877, 0.0076, 0.1112, 0.3173, 0.4823, 0.7247, 0.3828,\n",
      "         0.3636],\n",
      "        [0.5469, 0.1183, 0.3323, 0.0015, 0.7258, 0.2847, 0.5763, 0.3972, 0.6416,\n",
      "         0.9550],\n",
      "        [0.8049, 0.0740, 0.0637, 0.5944, 0.9977, 0.1261, 0.1994, 0.7598, 0.8554,\n",
      "         0.3870],\n",
      "        [0.7930, 0.7629, 0.7290, 0.3484, 0.0146, 0.3571, 0.1219, 0.3743, 0.3395,\n",
      "         0.7183],\n",
      "        [0.5719, 0.7084, 0.6222, 0.3905, 0.0362, 0.4071, 0.6137, 0.8696, 0.6173,\n",
      "         0.2888],\n",
      "        [0.2140, 0.3955, 0.6417, 0.9412, 0.5603, 0.0891, 0.2241, 0.5066, 0.6249,\n",
      "         0.1827],\n",
      "        [0.5930, 0.7778, 0.8240, 0.8875, 0.4327, 0.3294, 0.1940, 0.7929, 0.5275,\n",
      "         0.6555],\n",
      "        [0.5432, 0.4496, 0.7000, 0.4606, 0.7558, 0.1503, 0.9612, 0.7910, 0.1956,\n",
      "         0.4822],\n",
      "        [0.8505, 0.1396, 0.0996, 0.9467, 0.8724, 0.7139, 0.7971, 0.1985, 0.0851,\n",
      "         0.3410],\n",
      "        [0.9718, 0.1706, 0.8537, 0.4524, 0.3744, 0.4604, 0.9220, 0.4425, 0.9168,\n",
      "         0.8643]])\n",
      "indices: [tensor([0, 0, 0, 0, 0, 0, 0, 0, 0, 0], dtype=torch.int32)]\n",
      "locations: [tensor([0, 1, 2, 3, 4, 5, 6, 7, 8, 9], dtype=torch.int32)]\n",
      "gates: [tensor([0.3522, 0.3760, 0.4673, 0.3868, 0.4465, 0.5034, 0.4628, 0.4751, 0.4631,\n",
      "        0.4806], grad_fn=<SumBackward1>)]\n",
      "capacity: 4\n",
      "(tensor([[0.0358, 0.3994, 0.1877, 0.0076, 0.1112, 0.3173, 0.4823, 0.7247, 0.3828,\n",
      "         0.3636],\n",
      "        [0.5469, 0.1183, 0.3323, 0.0015, 0.7258, 0.2847, 0.5763, 0.3972, 0.6416,\n",
      "         0.9550],\n",
      "        [0.8049, 0.0740, 0.0637, 0.5944, 0.9977, 0.1261, 0.1994, 0.7598, 0.8554,\n",
      "         0.3870],\n",
      "        [0.7930, 0.7629, 0.7290, 0.3484, 0.0146, 0.3571, 0.1219, 0.3743, 0.3395,\n",
      "         0.7183],\n",
      "        [0.0000, 0.0000, 0.0000, 0.0000, 0.0000, 0.0000, 0.0000, 0.0000, 0.0000,\n",
      "         0.0000],\n",
      "        [0.0000, 0.0000, 0.0000, 0.0000, 0.0000, 0.0000, 0.0000, 0.0000, 0.0000,\n",
      "         0.0000],\n",
      "        [0.0000, 0.0000, 0.0000, 0.0000, 0.0000, 0.0000, 0.0000, 0.0000, 0.0000,\n",
      "         0.0000],\n",
      "        [0.0000, 0.0000, 0.0000, 0.0000, 0.0000, 0.0000, 0.0000, 0.0000, 0.0000,\n",
      "         0.0000],\n",
      "        [0.0000, 0.0000, 0.0000, 0.0000, 0.0000, 0.0000, 0.0000, 0.0000, 0.0000,\n",
      "         0.0000],\n",
      "        [0.0000, 0.0000, 0.0000, 0.0000, 0.0000, 0.0000, 0.0000, 0.0000, 0.0000,\n",
      "         0.0000],\n",
      "        [0.0000, 0.0000, 0.0000, 0.0000, 0.0000, 0.0000, 0.0000, 0.0000, 0.0000,\n",
      "         0.0000],\n",
      "        [0.0000, 0.0000, 0.0000, 0.0000, 0.0000, 0.0000, 0.0000, 0.0000, 0.0000,\n",
      "         0.0000]]), tensor(1.3241, grad_fn=<MulBackward0>), torch.Size([10, 10]))\n"
     ]
    }
   ],
   "source": [
    "import torch\n",
    "inputs = torch.rand((10,10))\n",
    "print(inputs)\n",
    "route_results = moe_layer(inputs)\n",
    "print(route_results)"
   ]
  }
 ],
 "metadata": {
  "interpreter": {
   "hash": "849bd15258cbc1fdb3dc8c930a1445a9f672620f82bbd55fbc814541035aa795"
  },
  "kernelspec": {
   "display_name": "Python 3.7.11 64-bit ('base')",
   "language": "python",
   "name": "python3"
  },
  "language_info": {
   "codemirror_mode": {
    "name": "ipython",
    "version": 3
   },
   "file_extension": ".py",
   "mimetype": "text/x-python",
   "name": "python",
   "nbconvert_exporter": "python",
   "pygments_lexer": "ipython3",
   "version": "3.7.11"
  },
  "orig_nbformat": 4
 },
 "nbformat": 4,
 "nbformat_minor": 2
}
