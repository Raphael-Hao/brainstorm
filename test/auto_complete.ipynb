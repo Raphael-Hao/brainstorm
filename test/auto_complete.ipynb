{
 "cells": [
  {
   "cell_type": "code",
   "execution_count": 1,
   "metadata": {},
   "outputs": [
    {
     "name": "stdout",
     "output_type": "stream",
     "text": [
      "tensor([-2.6793, -1.5228, -0.5034,  3.8692, -1.4155, -0.3518,  3.1452, -2.6615,\n",
      "         4.5736,  1.2620], grad_fn=<AddBackward0>)\n",
      "graph(%self : __torch__.brt.netlet.___torch_mangle_0.wrapper,\n",
      "      %x.1 : Tensor):\n",
      "  %linear1 : __torch__.brt.netlet.wrapper = prim::GetAttr[name=\"linear1\"](%self)\n",
      "  %6 : Function = prim::Constant[name=\"linear\"]()\n",
      "  %weight.1 : Tensor = prim::GetAttr[name=\"weight\"](%linear1)\n",
      "  %bias.1 : Tensor = prim::GetAttr[name=\"bias\"](%linear1)\n",
      "  %x.5 : Tensor = aten::linear(%x.1, %weight.1, %bias.1) # /state/partition/whcui/tools/pyenv/versions/miniconda3-4.7.12/lib/python3.7/site-packages/torch/nn/functional.py:1848:11\n",
      "  %linear2 : __torch__.brt.netlet.wrapper = prim::GetAttr[name=\"linear2\"](%self)\n",
      "  %10 : Function = prim::Constant[name=\"linear\"]()\n",
      "  %weight : Tensor = prim::GetAttr[name=\"weight\"](%linear2)\n",
      "  %bias : Tensor = prim::GetAttr[name=\"bias\"](%linear2)\n",
      "  %x.9 : Tensor = aten::linear(%x.5, %weight, %bias) # /state/partition/whcui/tools/pyenv/versions/miniconda3-4.7.12/lib/python3.7/site-packages/torch/nn/functional.py:1848:11\n",
      "  return (%x.9)\n",
      "\n"
     ]
    }
   ],
   "source": [
    "import brt\n",
    "import brt.nn as nn\n",
    "import torch\n",
    "\n",
    "\n",
    "@brt.netlet\n",
    "class SimpleNet(nn.Module):\n",
    "    def __init__(self):\n",
    "        super().__init__()\n",
    "        self.linear1 = nn.Linear(10, 10)\n",
    "        self.linear2 = nn.Linear(10, 10)\n",
    "\n",
    "    def forward(self, x):\n",
    "        x = self.linear1(x)\n",
    "        x = self.linear2(x)\n",
    "        return x\n",
    "\n",
    "\n",
    "simple_net = SimpleNet()\n",
    "\n",
    "x = torch.Tensor([1, 2, 3, 4, 5, 6, 7, 8, 9, 10])\n",
    "x = simple_net(x)\n",
    "print(x)\n",
    "\n",
    "simple_net.brt(True)\n",
    "script_simple_net = torch.jit.script(simple_net)\n",
    "simple_net_inlined_graph = script_simple_net.inlined_graph\n",
    "print(simple_net_inlined_graph)\n",
    "\n",
    "\n",
    "\n",
    "import torch.onnx"
   ]
  }
 ],
 "metadata": {
  "interpreter": {
   "hash": "849bd15258cbc1fdb3dc8c930a1445a9f672620f82bbd55fbc814541035aa795"
  },
  "kernelspec": {
   "display_name": "Python 3.7.11 64-bit ('base')",
   "language": "python",
   "name": "python3"
  },
  "language_info": {
   "codemirror_mode": {
    "name": "ipython",
    "version": 3
   },
   "file_extension": ".py",
   "mimetype": "text/x-python",
   "name": "python",
   "nbconvert_exporter": "python",
   "pygments_lexer": "ipython3",
   "version": "3.7.11"
  },
  "orig_nbformat": 4
 },
 "nbformat": 4,
 "nbformat_minor": 2
}
