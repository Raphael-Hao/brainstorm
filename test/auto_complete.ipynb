{
 "cells": [
  {
   "cell_type": "code",
   "execution_count": null,
   "metadata": {},
   "outputs": [],
   "source": [
    "import brt\n",
    "import brt.nn as nn\n",
    "import torch\n",
    "\n",
    "\n",
    "@brt.netlet\n",
    "class SimpleNet(nn.Module):\n",
    "    def __init__(self):\n",
    "        super().__init__()\n",
    "        self.linear1 = nn.Linear(10, 10)\n",
    "        self.linear2 = nn.Linear(10, 10)\n",
    "\n",
    "    def forward(self, x, y: int):\n",
    "        for i in range(y):\n",
    "            x = self.linear1(x)\n",
    "            x = self.linear2(x)\n",
    "        return x\n",
    "\n",
    "\n",
    "simple_net = SimpleNet()\n",
    "\n",
    "x = torch.Tensor([1, 2, 3, 4, 5, 6, 7, 8, 9, 10])\n",
    "x = simple_net(x, 10)\n",
    "print(x)\n",
    "\n",
    "simple_net.brt(True)\n",
    "script_simple_net = torch.jit.script(simple_net)\n",
    "simple_net_inlined_graph = script_simple_net.inlined_graph\n",
    "print(simple_net_inlined_graph)\n"
   ]
  },
  {
   "cell_type": "code",
   "execution_count": 9,
   "metadata": {},
   "outputs": [
    {
     "name": "stdout",
     "output_type": "stream",
     "text": [
      "[tensor([[ 1.,  2.,  3.,  4.,  5.,  6.,  7.,  8.,  9., 10.]]), tensor([[ 1.,  2.,  3.,  4.,  5.,  6.,  7.,  8.,  9., 10.]])]\n",
      "[tensor([[ 3.3947e+00,  3.9147e+00, -3.7942e+00, -3.2952e+00,  8.1701e-01,\n",
      "          2.0672e+00,  6.8571e+00,  5.6515e+00, -6.8027e-01, -1.8900e+00],\n",
      "        [ 1.6006e+00,  4.6057e+00, -3.5487e+00, -9.4125e+00, -5.0309e-03,\n",
      "         -5.7639e-01, -6.2666e-01,  2.1591e-01, -1.9878e+00, -2.3471e-02]],\n",
      "       grad_fn=<StackBackward0>), None]\n",
      "[tensor([[-3.1959, -0.9272, -1.1972,  1.8145,  3.0189, -0.2120, -0.2599, -2.8027,\n",
      "         -2.3451,  1.8039]], grad_fn=<StackBackward0>), tensor([[-3.8645,  2.4000,  0.0152,  1.3356,  2.0964,  2.0406,  2.7486,  0.4004,\n",
      "          0.8766, -3.3796]], grad_fn=<StackBackward0>)]\n",
      "[tensor([[ 0.1495, -1.3255, -1.5483,  0.7197,  0.8409, -0.1732, -0.1724,  2.8066,\n",
      "          0.4115,  0.2538]], grad_fn=<StackBackward0>), tensor([[ 1.3291,  1.2626,  0.3755, -1.3392, -1.1763, -2.0587, -0.0837,  1.5242,\n",
      "          2.1446, -2.1055]], grad_fn=<StackBackward0>)]\n",
      "[None, tensor([[ 0.3158,  1.0500, -1.4691,  0.4688, -0.8019, -1.2728, -0.2924,  1.4478,\n",
      "          0.6130,  0.4730],\n",
      "        [-1.3726,  0.4841, -0.9349,  0.8332,  0.7113,  0.6849,  0.1913,  0.0784,\n",
      "          1.0906, -0.6340]], grad_fn=<StackBackward0>)]\n",
      "[tensor([[ 0.1001,  0.0127,  0.0380,  0.1209,  0.1367, -0.4444, -0.3780,  0.1391,\n",
      "         -0.6355,  1.5241]], grad_fn=<StackBackward0>), tensor([[ 1.0236,  0.3440,  0.2458, -0.1037, -0.4172, -0.2892,  0.1789,  0.3525,\n",
      "         -0.0172, -0.3538]], grad_fn=<StackBackward0>)]\n",
      "[tensor([[ 0.1122, -0.6444, -0.7356, -0.2246,  0.3130,  0.6366, -0.3257,  0.1864,\n",
      "          0.6598, -0.0074]], grad_fn=<StackBackward0>), tensor([[-0.0204,  0.2350, -0.4857,  0.2105, -0.0142, -0.3187, -0.0240,  0.1820,\n",
      "         -0.2390,  0.4074]], grad_fn=<StackBackward0>)]\n",
      "[tensor([[-0.3920,  0.4944, -0.4148,  0.0412,  0.1308, -0.0462, -0.0172, -0.2566,\n",
      "          0.0041,  0.3135],\n",
      "        [-0.0619, -0.0896,  0.1925,  0.1627,  0.1942, -0.0123, -0.1655, -0.0039,\n",
      "         -0.4639,  0.6007]], grad_fn=<StackBackward0>), None]\n",
      "[tensor([[-0.0164, -0.1523, -0.5146, -0.1603,  0.1604,  0.4468, -0.3644,  0.0522,\n",
      "          0.4826, -0.0624]], grad_fn=<StackBackward0>), tensor([[-0.1327,  0.0418, -0.4057, -0.2830,  0.2455,  0.0953, -0.1394,  0.0113,\n",
      "          0.0763,  0.1848]], grad_fn=<StackBackward0>)]\n",
      "[tensor([[-0.3091,  0.3839, -0.3640, -0.1378,  0.1597, -0.0315, -0.1254, -0.3162,\n",
      "         -0.0351,  0.3080]], grad_fn=<StackBackward0>), tensor([[ 0.1010, -0.0065,  0.0196,  0.2304, -0.0668,  0.1080,  0.0416,  0.1410,\n",
      "         -0.3262,  0.3278]], grad_fn=<StackBackward0>)]\n",
      "tensor([[-0.0439, -0.0818,  0.0526,  0.1113,  0.1757,  0.0326, -0.1715, -0.0391,\n",
      "         -0.4314,  0.3181],\n",
      "        [-0.1458,  0.0082, -0.4226, -0.2173,  0.2440,  0.0962, -0.1904, -0.0704,\n",
      "          0.0517,  0.2425]], grad_fn=<ViewBackward0>)\n"
     ]
    }
   ],
   "source": [
    "import torch\n",
    "import brt\n",
    "import brt.nn as nn\n",
    "from brt.router import RandomScatterRouter, RandomGatherRouter\n",
    "\n",
    "\n",
    "@brt.netlet\n",
    "class MoE(nn.Module):\n",
    "    def __init__(self):\n",
    "        super().__init__()\n",
    "        self.scatter_router = RandomScatterRouter(route_num=2)\n",
    "        self.expert1 = nn.Linear(10, 10)\n",
    "        self.expert2 = nn.Linear(10, 10)\n",
    "        self.gather_router = RandomGatherRouter(route_num=2)\n",
    "\n",
    "    def forward(self, x, y: int):\n",
    "        for i in range(y):\n",
    "            route_results, reverse_indice, origin_shape = self.scatter_router(x)\n",
    "            x_0 = self.expert1(route_results[0])\n",
    "            x_1 = self.expert2(route_results[1])\n",
    "            x = self.gather_router(reverse_indice, origin_shape, x_0, x_1)\n",
    "        return x\n",
    "\n",
    "\n",
    "moe = MoE()\n",
    "\n",
    "x = torch.Tensor([[1, 2, 3, 4, 5, 6, 7, 8, 9, 10], [1, 2, 3, 4, 5, 6, 7, 8, 9, 10]])\n",
    "y = 10\n",
    "z = moe(x, y)\n",
    "\n",
    "print(z)\n"
   ]
  },
  {
   "cell_type": "code",
   "execution_count": 10,
   "metadata": {},
   "outputs": [
    {
     "name": "stdout",
     "output_type": "stream",
     "text": [
      "graph(%self : __torch__.brt.netlet.___torch_mangle_1.wrapper,\n",
      "      %x.1 : Tensor,\n",
      "      %y.1 : int):\n",
      "  %3 : bool = prim::Constant[value=1]() # /tmp/ipykernel_2208925/1408058768.py:17:8\n",
      "  %4 : int = prim::Constant[value=0]() # /tmp/ipykernel_2208925/1408058768.py:19:45\n",
      "  %5 : int = prim::Constant[value=1]() # /tmp/ipykernel_2208925/1408058768.py:20:45\n",
      "  %x : Tensor = prim::Loop(%y.1, %3, %x.1) # /tmp/ipykernel_2208925/1408058768.py:17:8\n",
      "    block0(%i : int, %x.11 : Tensor):\n",
      "      %scatter_router : __torch__.brt.router.scatter_router.RandomScatterRouter = prim::GetAttr[name=\"scatter_router\"](%self)\n",
      "      %10 : (Tensor, Tensor, Tensor) = ^forward()(%scatter_router, %x.11) # /tmp/ipykernel_2208925/1408058768.py:18:58\n",
      "      %route_results.1 : Tensor, %reverse_indice.1 : Tensor, %origin_shape.1 : Tensor = prim::TupleUnpack(%10)\n",
      "      %expert1 : __torch__.brt.netlet.wrapper = prim::GetAttr[name=\"expert1\"](%self)\n",
      "      %15 : Tensor = aten::select(%route_results.1, %4, %4) # /tmp/ipykernel_2208925/1408058768.py:19:31\n",
      "      %22 : Function = prim::Constant[name=\"linear\"]()\n",
      "      %weight.1 : Tensor = prim::GetAttr[name=\"weight\"](%expert1)\n",
      "      %bias.1 : Tensor = prim::GetAttr[name=\"bias\"](%expert1)\n",
      "      %x_0.1 : Tensor = aten::linear(%15, %weight.1, %bias.1) # /state/partition/whcui/tools/pyenv/versions/miniconda3-4.7.12/lib/python3.7/site-packages/torch/nn/functional.py:1848:11\n",
      "      %expert2 : __torch__.brt.netlet.wrapper = prim::GetAttr[name=\"expert2\"](%self)\n",
      "      %18 : Tensor = aten::select(%route_results.1, %4, %5) # /tmp/ipykernel_2208925/1408058768.py:20:31\n",
      "      %26 : Function = prim::Constant[name=\"linear\"]()\n",
      "      %weight : Tensor = prim::GetAttr[name=\"weight\"](%expert2)\n",
      "      %bias : Tensor = prim::GetAttr[name=\"bias\"](%expert2)\n",
      "      %x_1.1 : Tensor = aten::linear(%18, %weight, %bias) # /state/partition/whcui/tools/pyenv/versions/miniconda3-4.7.12/lib/python3.7/site-packages/torch/nn/functional.py:1848:11\n",
      "      %gather_router : __torch__.brt.router.gather_router.RandomGatherRouter = prim::GetAttr[name=\"gather_router\"](%self)\n",
      "      %x.5 : Tensor = ^forward()(%gather_router, %reverse_indice.1, %origin_shape.1, %x_0.1, %x_1.1) # /tmp/ipykernel_2208925/1408058768.py:21:16\n",
      "      -> (%3, %x.5)\n",
      "  return (%x)\n",
      "\n"
     ]
    }
   ],
   "source": [
    "moe.brt(True)\n",
    "script_moe = torch.jit.script(moe)\n",
    "\n",
    "print(script_moe.inlined_graph)"
   ]
  },
  {
   "cell_type": "code",
   "execution_count": 11,
   "metadata": {},
   "outputs": [
    {
     "name": "stdout",
     "output_type": "stream",
     "text": [
      "graph(%self : __torch__.brt.netlet.___torch_mangle_1.wrapper,\n",
      "      %x.1 : Tensor,\n",
      "      %y.1 : int):\n",
      "  %3 : bool = prim::Constant[value=1]() # /tmp/ipykernel_2208925/1408058768.py:17:8\n",
      "  %4 : int = prim::Constant[value=0]() # /tmp/ipykernel_2208925/1408058768.py:19:45\n",
      "  %5 : int = prim::Constant[value=1]() # /tmp/ipykernel_2208925/1408058768.py:20:45\n",
      "  %x : Tensor = prim::Loop(%y.1, %3, %x.1) # /tmp/ipykernel_2208925/1408058768.py:17:8\n",
      "    block0(%i : int, %x.11 : Tensor):\n",
      "      %scatter_router : __torch__.brt.router.scatter_router.RandomScatterRouter = prim::GetAttr[name=\"scatter_router\"](%self)\n",
      "      %10 : (Tensor, Tensor, Tensor) = ^forward()(%scatter_router, %x.11) # /tmp/ipykernel_2208925/1408058768.py:18:58\n",
      "      %route_results.1 : Tensor, %reverse_indice.1 : Tensor, %origin_shape.1 : Tensor = prim::TupleUnpack(%10)\n",
      "      %expert1 : __torch__.brt.netlet.wrapper = prim::GetAttr[name=\"expert1\"](%self)\n",
      "      %15 : Tensor = aten::select(%route_results.1, %4, %4) # /tmp/ipykernel_2208925/1408058768.py:19:31\n",
      "      %22 : Function = prim::Constant[name=\"linear\"]()\n",
      "      %weight.1 : Tensor = prim::GetAttr[name=\"weight\"](%expert1)\n",
      "      %bias.1 : Tensor = prim::GetAttr[name=\"bias\"](%expert1)\n",
      "      %x_0.1 : Tensor = aten::linear(%15, %weight.1, %bias.1) # /state/partition/whcui/tools/pyenv/versions/miniconda3-4.7.12/lib/python3.7/site-packages/torch/nn/functional.py:1848:11\n",
      "      %expert2 : __torch__.brt.netlet.wrapper = prim::GetAttr[name=\"expert2\"](%self)\n",
      "      %18 : Tensor = aten::select(%route_results.1, %4, %5) # /tmp/ipykernel_2208925/1408058768.py:20:31\n",
      "      %26 : Function = prim::Constant[name=\"linear\"]()\n",
      "      %weight : Tensor = prim::GetAttr[name=\"weight\"](%expert2)\n",
      "      %bias : Tensor = prim::GetAttr[name=\"bias\"](%expert2)\n",
      "      %x_1.1 : Tensor = aten::linear(%18, %weight, %bias) # /state/partition/whcui/tools/pyenv/versions/miniconda3-4.7.12/lib/python3.7/site-packages/torch/nn/functional.py:1848:11\n",
      "      %gather_router : __torch__.brt.router.gather_router.RandomGatherRouter = prim::GetAttr[name=\"gather_router\"](%self)\n",
      "      %x.5 : Tensor = ^forward()(%gather_router, %reverse_indice.1, %origin_shape.1, %x_0.1, %x_1.1) # /tmp/ipykernel_2208925/1408058768.py:21:16\n",
      "      -> (%3, %x.5)\n",
      "  return (%x)\n",
      "\n"
     ]
    }
   ],
   "source": [
    "moe.brt(True)\n",
    "script_moe = torch.jit.script(moe)\n",
    "\n",
    "print(script_moe.inlined_graph)"
   ]
  }
 ],
 "metadata": {
  "interpreter": {
   "hash": "849bd15258cbc1fdb3dc8c930a1445a9f672620f82bbd55fbc814541035aa795"
  },
  "kernelspec": {
   "display_name": "Python 3.7.11 64-bit ('base')",
   "language": "python",
   "name": "python3"
  },
  "language_info": {
   "codemirror_mode": {
    "name": "ipython",
    "version": 3
   },
   "file_extension": ".py",
   "mimetype": "text/x-python",
   "name": "python",
   "nbconvert_exporter": "python",
   "pygments_lexer": "ipython3",
   "version": "3.7.11"
  },
  "orig_nbformat": 4
 },
 "nbformat": 4,
 "nbformat_minor": 2
}
