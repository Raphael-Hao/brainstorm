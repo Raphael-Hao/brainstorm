{
 "cells": [
  {
   "cell_type": "code",
   "execution_count": null,
   "metadata": {},
   "outputs": [],
   "source": [
    "import sys\n",
    "\n",
    "if \"include\" not in sys.path:\n",
    "    sys.path.append(\"include\")\n"
   ]
  },
  {
   "cell_type": "code",
   "execution_count": null,
   "metadata": {},
   "outputs": [],
   "source": [
    "import os\n",
    "import sys\n",
    "import pathlib\n",
    "\n",
    "from PIL import Image\n",
    "import numpy as np\n",
    "from sklearn.cluster import MiniBatchKMeans, KMeans\n",
    "import torch\n",
    "import torchvision\n",
    "\n",
    "from include.img2vec_pytorch import Img2Vec\n"
   ]
  },
  {
   "cell_type": "code",
   "execution_count": null,
   "metadata": {},
   "outputs": [],
   "source": [
    "def crop_cpu(img, crop_sz, step):\n",
    "    n_channels = len(img.shape)\n",
    "    if n_channels == 2:\n",
    "        h, w = img.shape\n",
    "    elif n_channels == 3:\n",
    "        h, w, c = img.shape\n",
    "    else:\n",
    "        raise ValueError(\"Wrong image shape - {}\".format(n_channels))\n",
    "    h_space = np.arange(0, h - crop_sz + 1, step)\n",
    "    w_space = np.arange(0, w - crop_sz + 1, step)\n",
    "    index = 0\n",
    "    num_h = 0\n",
    "    lr_list = []\n",
    "    for x in h_space:\n",
    "        num_h += 1\n",
    "        num_w = 0\n",
    "        for y in w_space:\n",
    "            num_w += 1\n",
    "            index += 1\n",
    "            if n_channels == 2:\n",
    "                crop_img = img[x : x + crop_sz, y : y + crop_sz]\n",
    "            else:\n",
    "                crop_img = img[x : x + crop_sz, y : y + crop_sz, :]\n",
    "            lr_list.append(crop_img)\n",
    "    h = x + crop_sz\n",
    "    w = y + crop_sz\n",
    "    return lr_list, num_h, num_w, h, w\n",
    "\n",
    "\n",
    "def crop_image(image: torch.Tensor, size: int, stride: int):\n",
    "    \"\"\"@param image: C, H, W\"\"\"\n",
    "    c, h, w = image.shape\n",
    "    image = image.unsqueeze(0)\n",
    "    unfolded = torch.nn.functional.unfold(image, size, stride=stride)\n",
    "    unfolded = unfolded.permute(0, 2, 1)\n",
    "    unfolded = unfolded.reshape(-1, c, size, size)\n",
    "    return unfolded.contiguous()\n"
   ]
  },
  {
   "cell_type": "code",
   "execution_count": null,
   "metadata": {},
   "outputs": [],
   "source": [
    "DATASET_DIR = pathlib.Path().parent / \"dataset/cam1/LQ\"\n",
    "\n",
    "image_files = DATASET_DIR.iterdir()\n",
    "img2vec = Img2Vec(cuda=True)\n",
    "\n",
    "all_image_vectors = []\n",
    "\n",
    "resnet = torchvision.models.resnet18(\n",
    "    weights=torchvision.models.ResNet18_Weights.IMAGENET1K_V1\n",
    ").eval()\n",
    "\n",
    "for imgfile in image_files:\n",
    "    image = torchvision.io.read_image(str(imgfile)).to(dtype=torch.float32)\n",
    "    sub_images = crop_image(image, 32, 28)\n",
    "    output = torch.empty(sub_images.shape[0], 512, requires_grad=False)\n",
    "    copy_output = lambda m, i, o: output.copy_(o.detach().squeeze())\n",
    "    hook = resnet._modules.get(\"avgpool\").register_forward_hook(copy_output)\n",
    "    resnet(sub_images)\n",
    "    hook.remove()\n",
    "    all_image_vectors.append(output)\n",
    "    \n",
    "    # labels = kmeans.predict(output)\n",
    "    # labels = torch.from_numpy(labels).to(dtype=torch.long)\n",
    "\n",
    "    # image = Image.open(imgfile)\n",
    "    # subimages = crop_cpu(np.array(image), 32, 28)[0]\n",
    "    # print(len(subimages), subimages[0].shape)\n",
    "    # image_vectors = img2vec.get_vec(\n",
    "    #     [Image.fromarray(sub) for sub in subimages], tensor=True\n",
    "    # ).squeeze()\n",
    "    # all_image_vectors.append(image_vectors)\n"
   ]
  },
  {
   "cell_type": "code",
   "execution_count": null,
   "metadata": {},
   "outputs": [],
   "source": [
    "all_image_vectors_cat = torch.cat(all_image_vectors)\n",
    "print(all_image_vectors_cat.shape)\n",
    "\n",
    "for n_clusters in [10]:\n",
    "    kmeans = MiniBatchKMeans(n_clusters)\n",
    "    kmeans.fit(all_image_vectors_cat)\n",
    "\n",
    "    all_counts = np.empty((len(all_image_vectors), n_clusters), dtype=int)\n",
    "    for i, image_vectors in enumerate(all_image_vectors):\n",
    "        labels = kmeans.predict(image_vectors)\n",
    "        counts = np.bincount(labels, minlength=n_clusters)\n",
    "        all_counts[i] = counts\n",
    "\n",
    "    gates_max = np.amax(all_counts, axis=0)\n",
    "    gates_ptp = np.ptp(all_counts, axis=0)\n",
    "    print(np.array([gates_max, gates_ptp]))\n",
    "    # print(n_clusters, '\\t', np.amax(all_counts, axis=0))\n",
    "    # print(np.amin(all_counts, axis=0))\n",
    "    # print('\\t', np.ptp(all_counts, axis=0))\n"
   ]
  },
  {
   "cell_type": "code",
   "execution_count": null,
   "metadata": {},
   "outputs": [],
   "source": [
    "import pickle\n",
    "gates_max = np.amax(all_counts, axis=0)\n",
    "gates_ptp = np.ptp(all_counts, axis=0)\n",
    "pkl_file = \"kmeans_10.pkl\"\n",
    "with open(pkl_file, \"wb\") as pkl:\n",
    "    pickle.dump({\"kmeans\": kmeans, \"gates_max\": gates_max, \"gates_ptp\": gates_ptp}, pkl)\n",
    "with open(pkl_file, \"rb\") as pkl:\n",
    "    kmeans_dict = pickle.load(pkl)\n",
    "    kmeans_load = kmeans_dict[\"kmeans\"]\n",
    "    gates_max_load = kmeans_dict[\"gates_max\"]\n",
    "    gates_ptp_load = kmeans_dict[\"gates_ptp\"]\n",
    "\n",
    "all_counts = np.empty((len(all_image_vectors), n_clusters), dtype=int)\n",
    "for i, image_vectors in enumerate(all_image_vectors):\n",
    "    labels = kmeans_load.predict(image_vectors)\n",
    "    counts = np.bincount(labels, minlength=n_clusters)\n",
    "    all_counts[i] = counts\n",
    "\n",
    "print(np.array([np.amax(all_counts, axis=0), np.ptp(all_counts, axis=0)]))\n"
   ]
  },
  {
   "cell_type": "code",
   "execution_count": null,
   "metadata": {},
   "outputs": [],
   "source": [
    "import torch\n",
    "\n",
    "\n",
    "def crop_image(image: torch.Tensor, size: int, stride: int):\n",
    "    n, c, h, w = image.shape\n",
    "    print(f\"{image=}, {image.shape=}\")\n",
    "    unfolded = torch.nn.functional.unfold(image, size, stride=stride)\n",
    "    # print(f\"{unfolded=}, {unfolded.shape=}\")\n",
    "    unfolded = unfolded.permute(0, 2, 1)\n",
    "    # print(f\"{unfolded=}, {unfolded.shape=}\")\n",
    "    unfolded = unfolded.reshape(8, c, size, size)\n",
    "    print(f\"{unfolded=}, {unfolded.shape=}\")\n",
    "    return unfolded\n",
    "\n",
    "\n",
    "image = torch.arange(3 * 3 * 5, dtype=float).reshape(1, 3, 3, 5).contiguous()\n",
    "unfolded = crop_image(image, 2, 1)\n"
   ]
  },
  {
   "cell_type": "code",
   "execution_count": 34,
   "metadata": {},
   "outputs": [
    {
     "name": "stdout",
     "output_type": "stream",
     "text": [
      "random_gradual_03([0]) = [0]\n",
      "random_gradual_03([0, 1]) = [0, 1]\n",
      "random_gradual_03([0, 2, 4]) = [0, 2, 4, 4]\n",
      "random_gradual_03([0, 1, 2, 3, 4]) = [0, 1, 2, 3, 4, 4, 4, 4]\n",
      "random_gradual_03([0, 1, 0, 1, 0, 1]) = [0, 1, 0, 1, 0, 1, 1, 1, 1, 1]\n"
     ]
    }
   ],
   "source": [
    "def random_gradual_03(elem_list):\n",
    "    random_list = []\n",
    "\n",
    "    if len(elem_list) == 1:\n",
    "        random_list.extend([elem_list[0]])\n",
    "    else:\n",
    "        for i in range(len(elem_list)):\n",
    "            if i == len(elem_list) - 1:\n",
    "                random_list.extend([elem_list[i]] * len(random_list))\n",
    "            else:\n",
    "                random_list.extend([elem_list[i]] * 1)\n",
    "\n",
    "    return random_list\n",
    "\n",
    "print(f\"{random_gradual_03([0]) = }\")\n",
    "print(f\"{random_gradual_03([0, 1]) = }\")\n",
    "print(f\"{random_gradual_03([0, 2, 4]) = }\")\n",
    "print(f\"{random_gradual_03([0, 2, 4, 1]) = }\")\n",
    "print(f\"{random_gradual_03([0, 1, 2, 3, 4]) = }\")\n",
    "print(f\"{random_gradual_03([0, 1, 0, 1, 0, 1]) = }\")"
   ]
  }
 ],
 "metadata": {
  "kernelspec": {
   "display_name": "Python 3.8.13 ('base')",
   "language": "python",
   "name": "python3"
  },
  "language_info": {
   "codemirror_mode": {
    "name": "ipython",
    "version": 3
   },
   "file_extension": ".py",
   "mimetype": "text/x-python",
   "name": "python",
   "nbconvert_exporter": "python",
   "pygments_lexer": "ipython3",
   "version": "3.8.13"
  },
  "orig_nbformat": 4,
  "vscode": {
   "interpreter": {
    "hash": "ada0f2bafc207a9420389a0d15036c00ed757384986ead74c3b832cdd2f7c4ec"
   }
  }
 },
 "nbformat": 4,
 "nbformat_minor": 2
}
