{
 "cells": [
  {
   "cell_type": "code",
   "execution_count": 2,
   "metadata": {},
   "outputs": [],
   "source": [
    "import sys\n",
    "\n",
    "if \"include\" not in sys.path:\n",
    "    sys.path.append(\"include\")\n"
   ]
  },
  {
   "cell_type": "code",
   "execution_count": 3,
   "metadata": {},
   "outputs": [
    {
     "name": "stderr",
     "output_type": "stream",
     "text": [
      "/home/v-louyang/miniconda3/lib/python3.8/site-packages/tqdm/auto.py:22: TqdmWarning: IProgress not found. Please update jupyter and ipywidgets. See https://ipywidgets.readthedocs.io/en/stable/user_install.html\n",
      "  from .autonotebook import tqdm as notebook_tqdm\n"
     ]
    }
   ],
   "source": [
    "import os\n",
    "import sys\n",
    "import pathlib\n",
    "\n",
    "from PIL import Image\n",
    "import numpy as np\n",
    "from sklearn.cluster import MiniBatchKMeans, KMeans\n",
    "import torch\n",
    "import torchvision\n",
    "\n",
    "from include.img2vec_pytorch import Img2Vec\n"
   ]
  },
  {
   "cell_type": "code",
   "execution_count": 4,
   "metadata": {},
   "outputs": [],
   "source": [
    "def crop_cpu(img, crop_sz, step):\n",
    "    n_channels = len(img.shape)\n",
    "    if n_channels == 2:\n",
    "        h, w = img.shape\n",
    "    elif n_channels == 3:\n",
    "        h, w, c = img.shape\n",
    "    else:\n",
    "        raise ValueError(\"Wrong image shape - {}\".format(n_channels))\n",
    "    h_space = np.arange(0, h - crop_sz + 1, step)\n",
    "    w_space = np.arange(0, w - crop_sz + 1, step)\n",
    "    index = 0\n",
    "    num_h = 0\n",
    "    lr_list = []\n",
    "    for x in h_space:\n",
    "        num_h += 1\n",
    "        num_w = 0\n",
    "        for y in w_space:\n",
    "            num_w += 1\n",
    "            index += 1\n",
    "            if n_channels == 2:\n",
    "                crop_img = img[x : x + crop_sz, y : y + crop_sz]\n",
    "            else:\n",
    "                crop_img = img[x : x + crop_sz, y : y + crop_sz, :]\n",
    "            lr_list.append(crop_img)\n",
    "    h = x + crop_sz\n",
    "    w = y + crop_sz\n",
    "    return lr_list, num_h, num_w, h, w\n",
    "\n",
    "\n",
    "def crop_image(image: torch.Tensor, size: int, stride: int):\n",
    "    \"\"\"@param image: C, H, W\"\"\"\n",
    "    c, h, w = image.shape\n",
    "    image = image.unsqueeze(0)\n",
    "    unfolded = torch.nn.functional.unfold(image, size, stride=stride)\n",
    "    unfolded = unfolded.permute(0, 2, 1)\n",
    "    unfolded = unfolded.reshape(-1, c, size, size)\n",
    "    return unfolded.contiguous()\n"
   ]
  },
  {
   "cell_type": "code",
   "execution_count": 5,
   "metadata": {},
   "outputs": [
    {
     "name": "stderr",
     "output_type": "stream",
     "text": [
      "/home/v-louyang/miniconda3/lib/python3.8/site-packages/torchvision/models/_utils.py:208: UserWarning: The parameter 'pretrained' is deprecated since 0.13 and will be removed in 0.15, please use 'weights' instead.\n",
      "  warnings.warn(\n",
      "/home/v-louyang/miniconda3/lib/python3.8/site-packages/torchvision/models/_utils.py:223: UserWarning: Arguments other than a weight enum or `None` for 'weights' are deprecated since 0.13 and will be removed in 0.15. The current behavior is equivalent to passing `weights=ResNet18_Weights.IMAGENET1K_V1`. You can also use `weights=ResNet18_Weights.DEFAULT` to get the most up-to-date weights.\n",
      "  warnings.warn(msg)\n"
     ]
    }
   ],
   "source": [
    "DATASET_DIR = pathlib.Path().parent / \"dataset/cam1/LQ\"\n",
    "\n",
    "image_files = DATASET_DIR.iterdir()\n",
    "img2vec = Img2Vec(cuda=True)\n",
    "\n",
    "all_image_vectors = []\n",
    "\n",
    "resnet = torchvision.models.resnet18(\n",
    "    weights=torchvision.models.ResNet18_Weights.IMAGENET1K_V1\n",
    ").eval()\n",
    "\n",
    "for imgfile in image_files:\n",
    "    image = torchvision.io.read_image(str(imgfile)).to(dtype=torch.float32)\n",
    "    sub_images = crop_image(image, 32, 28)\n",
    "    output = torch.empty(sub_images.shape[0], 512, requires_grad=False)\n",
    "    copy_output = lambda m, i, o: output.copy_(o.detach().squeeze())\n",
    "    hook = resnet._modules.get(\"avgpool\").register_forward_hook(copy_output)\n",
    "    resnet(sub_images)\n",
    "    hook.remove()\n",
    "    all_image_vectors.append(output)\n",
    "    \n",
    "    # labels = kmeans.predict(output)\n",
    "    # labels = torch.from_numpy(labels).to(dtype=torch.long)\n",
    "\n",
    "    # image = Image.open(imgfile)\n",
    "    # subimages = crop_cpu(np.array(image), 32, 28)[0]\n",
    "    # print(len(subimages), subimages[0].shape)\n",
    "    # image_vectors = img2vec.get_vec(\n",
    "    #     [Image.fromarray(sub) for sub in subimages], tensor=True\n",
    "    # ).squeeze()\n",
    "    # all_image_vectors.append(image_vectors)\n"
   ]
  },
  {
   "cell_type": "code",
   "execution_count": 27,
   "metadata": {},
   "outputs": [
    {
     "name": "stdout",
     "output_type": "stream",
     "text": [
      "torch.Size([8800, 512])\n",
      "[[42 20 10 22]\n",
      " [ 4  3  4  4]]\n",
      "[[ 9 32 18 16 18  7]\n",
      " [ 3  4  3  4  5  3]]\n",
      "[[21  8 16 11 20  8  7 15]\n",
      " [ 6  3  3  4  5  3  3  7]]\n",
      "[[19  4 16 15 19  6 10  5  9  2]\n",
      " [ 4  3  3  6  4  3  2  2  4  2]]\n"
     ]
    }
   ],
   "source": [
    "all_image_vectors_cat = torch.cat(all_image_vectors)\n",
    "print(all_image_vectors_cat.shape)\n",
    "\n",
    "\n",
    "all_n_clusters = [4, 6, 8, 10]\n",
    "all_kmeans = {}\n",
    "\n",
    "for n_clusters in all_n_clusters:\n",
    "    kmeans = MiniBatchKMeans(n_clusters)\n",
    "    kmeans.fit(all_image_vectors_cat)\n",
    "\n",
    "    all_counts = np.empty((len(all_image_vectors), n_clusters), dtype=int)\n",
    "    for i, image_vectors in enumerate(all_image_vectors):\n",
    "        labels = kmeans.predict(image_vectors)\n",
    "        counts = np.bincount(labels, minlength=n_clusters)\n",
    "        all_counts[i] = counts\n",
    "\n",
    "    gates_max = np.amax(all_counts, axis=0)\n",
    "    gates_ptp = np.ptp(all_counts, axis=0)\n",
    "    all_kmeans[n_clusters] = {'kmeans': kmeans, \"gates_max\": gates_max, \"gates_ptp\": gates_ptp}\n",
    "    print(np.array([gates_max, gates_ptp]))\n",
    "    # print(np.amin(all_counts, axis=0))\n"
   ]
  },
  {
   "cell_type": "code",
   "execution_count": 29,
   "metadata": {},
   "outputs": [
    {
     "name": "stdout",
     "output_type": "stream",
     "text": [
      "[INFO] kmeans_4.pkl exists, won't overwriting\n",
      "[[19 25 18 36]\n",
      " [ 6  3  3  7]]\n",
      "[INFO] kmeans_6.pkl exists, won't overwriting\n",
      "[[ 9 32 18 16 18  7]\n",
      " [ 3  4  3  4  5  3]]\n",
      "[INFO] kmeans_8.pkl exists, won't overwriting\n",
      "[[21  8 16 11 20  8  7 15]\n",
      " [ 6  3  3  4  5  3  3  7]]\n",
      "[INFO] kmeans_10.pkl exists, won't overwriting\n",
      "[[ 6  7 12 27  8  8  8 12 12  4]\n",
      " [ 1  3  3  4  5  3  2  6  3  1]]\n"
     ]
    }
   ],
   "source": [
    "import pickle\n",
    "\n",
    "IS_OVERWRITING = False\n",
    "\n",
    "for n_clusters in all_n_clusters:\n",
    "    kmeans = all_kmeans[n_clusters][\"kmeans\"]\n",
    "    gates_max = all_kmeans[n_clusters][\"gates_max\"]\n",
    "    gates_ptp = all_kmeans[n_clusters][\"gates_ptp\"]\n",
    "    pkl_file = pathlib.Path(f\"kmeans_{n_clusters}.pkl\")\n",
    "    if not IS_OVERWRITING and pkl_file.exists():\n",
    "        print(f\"[INFO] {pkl_file} exists, won't overwriting\")\n",
    "    else: # IS_OVERWRITING\n",
    "        if pkl_file.exists():\n",
    "            print(f\"[WARNING] {pkl_file} exists, overwriting\")\n",
    "        with open(pkl_file, \"wb\") as pkl:\n",
    "            pickle.dump({\"kmeans\": kmeans, \"gates_max\": gates_max, \"gates_ptp\": gates_ptp}, pkl)\n",
    "\n",
    "    with open(pkl_file, \"rb\") as pkl:\n",
    "        kmeans_dict = pickle.load(pkl)\n",
    "        kmeans_load = kmeans_dict[\"kmeans\"]\n",
    "        gates_max_load = kmeans_dict[\"gates_max\"]\n",
    "        gates_ptp_load = kmeans_dict[\"gates_ptp\"]\n",
    "\n",
    "    all_counts = np.empty((len(all_image_vectors), n_clusters), dtype=int)\n",
    "    for i, image_vectors in enumerate(all_image_vectors):\n",
    "        labels = kmeans_load.predict(image_vectors)\n",
    "        counts = np.bincount(labels, minlength=n_clusters)\n",
    "        all_counts[i] = counts\n",
    "\n",
    "    print(np.array([np.amax(all_counts, axis=0), np.ptp(all_counts, axis=0)]))\n"
   ]
  },
  {
   "cell_type": "code",
   "execution_count": null,
   "metadata": {},
   "outputs": [],
   "source": [
    "import torch\n",
    "\n",
    "\n",
    "def crop_image(image: torch.Tensor, size: int, stride: int):\n",
    "    n, c, h, w = image.shape\n",
    "    print(f\"{image=}, {image.shape=}\")\n",
    "    unfolded = torch.nn.functional.unfold(image, size, stride=stride)\n",
    "    # print(f\"{unfolded=}, {unfolded.shape=}\")\n",
    "    unfolded = unfolded.permute(0, 2, 1)\n",
    "    # print(f\"{unfolded=}, {unfolded.shape=}\")\n",
    "    unfolded = unfolded.reshape(8, c, size, size)\n",
    "    print(f\"{unfolded=}, {unfolded.shape=}\")\n",
    "    return unfolded\n",
    "\n",
    "\n",
    "image = torch.arange(3 * 3 * 5, dtype=float).reshape(1, 3, 3, 5).contiguous()\n",
    "unfolded = crop_image(image, 2, 1)\n"
   ]
  },
  {
   "cell_type": "code",
   "execution_count": 34,
   "metadata": {},
   "outputs": [
    {
     "name": "stdout",
     "output_type": "stream",
     "text": [
      "random_gradual_03([0]) = [0]\n",
      "random_gradual_03([0, 1]) = [0, 1]\n",
      "random_gradual_03([0, 2, 4]) = [0, 2, 4, 4]\n",
      "random_gradual_03([0, 1, 2, 3, 4]) = [0, 1, 2, 3, 4, 4, 4, 4]\n",
      "random_gradual_03([0, 1, 0, 1, 0, 1]) = [0, 1, 0, 1, 0, 1, 1, 1, 1, 1]\n"
     ]
    }
   ],
   "source": [
    "def random_gradual_03(elem_list):\n",
    "    random_list = []\n",
    "\n",
    "    if len(elem_list) == 1:\n",
    "        random_list.extend([elem_list[0]])\n",
    "    else:\n",
    "        for i in range(len(elem_list)):\n",
    "            if i == len(elem_list) - 1:\n",
    "                random_list.extend([elem_list[i]] * len(random_list))\n",
    "            else:\n",
    "                random_list.extend([elem_list[i]] * 1)\n",
    "\n",
    "    return random_list\n",
    "\n",
    "print(f\"{random_gradual_03([0]) = }\")\n",
    "print(f\"{random_gradual_03([0, 1]) = }\")\n",
    "print(f\"{random_gradual_03([0, 2, 4]) = }\")\n",
    "print(f\"{random_gradual_03([0, 2, 4, 1]) = }\")\n",
    "print(f\"{random_gradual_03([0, 1, 2, 3, 4]) = }\")\n",
    "print(f\"{random_gradual_03([0, 1, 0, 1, 0, 1]) = }\")"
   ]
  }
 ],
 "metadata": {
  "kernelspec": {
   "display_name": "Python 3.8.13 ('base')",
   "language": "python",
   "name": "python3"
  },
  "language_info": {
   "codemirror_mode": {
    "name": "ipython",
    "version": 3
   },
   "file_extension": ".py",
   "mimetype": "text/x-python",
   "name": "python",
   "nbconvert_exporter": "python",
   "pygments_lexer": "ipython3",
   "version": "3.8.13"
  },
  "orig_nbformat": 4,
  "vscode": {
   "interpreter": {
    "hash": "ada0f2bafc207a9420389a0d15036c00ed757384986ead74c3b832cdd2f7c4ec"
   }
  }
 },
 "nbformat": 4,
 "nbformat_minor": 2
}
