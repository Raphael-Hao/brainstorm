{
 "cells": [
  {
   "cell_type": "code",
   "execution_count": 1,
   "metadata": {},
   "outputs": [
    {
     "name": "stdout",
     "output_type": "stream",
     "text": [
      "tensor([[ 2.6653, -0.7239,  1.1037, -0.0944],\n",
      "        [-0.3736,  0.4243, -1.3772,  1.2093],\n",
      "        [-2.3181,  1.5101,  0.3743,  0.3359],\n",
      "        [-0.1201, -0.3560, -0.4822,  1.0486],\n",
      "        [ 0.1518,  0.4519,  1.0166,  0.4574],\n",
      "        [-1.1799, -1.2427,  0.7379, -0.2425],\n",
      "        [ 0.6018,  0.1740,  1.2797,  1.8234],\n",
      "        [ 0.8516, -0.2564, -0.3058, -0.5935]])\n"
     ]
    }
   ],
   "source": [
    "import torch\n",
    "scores= torch.randn((8, 4))\n",
    "print(scores)"
   ]
  },
  {
   "cell_type": "code",
   "execution_count": 2,
   "metadata": {},
   "outputs": [
    {
     "name": "stdout",
     "output_type": "stream",
     "text": [
      "tensor([[ 2.6653,  1.1037],\n",
      "        [ 1.2093,  0.4243],\n",
      "        [ 1.5101,  0.3743],\n",
      "        [ 1.0486, -0.1201],\n",
      "        [ 1.0166,  0.4574],\n",
      "        [ 0.7379, -0.2425],\n",
      "        [ 1.8234,  1.2797],\n",
      "        [ 0.8516, -0.2564]])\n",
      "tensor([[0, 2],\n",
      "        [3, 1],\n",
      "        [1, 2],\n",
      "        [3, 0],\n",
      "        [2, 3],\n",
      "        [2, 3],\n",
      "        [3, 2],\n",
      "        [0, 1]])\n"
     ]
    }
   ],
   "source": [
    "topk_logits, topk_indices = torch.topk(scores, 2, dim=1)\n",
    "print(topk_logits )\n",
    "print(topk_indices)"
   ]
  },
  {
   "cell_type": "code",
   "execution_count": 3,
   "metadata": {},
   "outputs": [
    {
     "name": "stdout",
     "output_type": "stream",
     "text": [
      "[tensor([0, 3, 1, 3, 2, 2, 3, 0]), tensor([2, 1, 2, 0, 3, 3, 2, 1])]\n",
      "tensor([[1, 0, 0, 0],\n",
      "        [0, 0, 0, 1],\n",
      "        [0, 1, 0, 0],\n",
      "        [0, 0, 0, 1],\n",
      "        [0, 0, 1, 0],\n",
      "        [0, 0, 1, 0],\n",
      "        [0, 0, 0, 1],\n",
      "        [1, 0, 0, 0]])\n",
      "tensor([[0, 0, 1, 0],\n",
      "        [0, 1, 0, 0],\n",
      "        [0, 0, 1, 0],\n",
      "        [1, 0, 0, 0],\n",
      "        [0, 0, 0, 1],\n",
      "        [0, 0, 0, 1],\n",
      "        [0, 0, 1, 0],\n",
      "        [0, 1, 0, 0]])\n",
      "tensor([[1, 0, 1, 0],\n",
      "        [0, 1, 0, 1],\n",
      "        [0, 1, 1, 0],\n",
      "        [1, 0, 0, 1],\n",
      "        [0, 0, 1, 1],\n",
      "        [0, 0, 1, 1],\n",
      "        [0, 0, 1, 1],\n",
      "        [1, 1, 0, 0]])\n"
     ]
    }
   ],
   "source": [
    "def one_hot_with_dtype(data, num_classes, dtype):\n",
    "    result = torch.zeros([data.size(0), num_classes], device=data.device, dtype=dtype)\n",
    "    result.scatter_(1, data.unsqueeze(-1), 1)\n",
    "    return result\n",
    "\n",
    "\n",
    "indices_s = [x.view(-1) for x in topk_indices.chunk(2, dim=1)]\n",
    "print(indices_s)\n",
    "mask_se = [one_hot_with_dtype(x, num_classes=4, dtype=x.dtype) for x in indices_s]\n",
    "for mask in mask_se:\n",
    "    print(mask)\n",
    "\n",
    "\n",
    "hot_mask = torch.zeros_like(scores, dtype=torch.int64, device=scores.device).scatter_(\n",
    "    1, topk_indices, 1\n",
    ")\n",
    "print(hot_mask)"
   ]
  },
  {
   "cell_type": "code",
   "execution_count": 4,
   "metadata": {},
   "outputs": [
    {
     "name": "stdout",
     "output_type": "stream",
     "text": [
      "tensor([-2.6653, -1.2093, -1.5101, -1.0486, -1.0166, -0.7379, -1.8234, -0.8516])\n",
      "tensor([0, 6, 2, 1, 3, 4, 7, 5])\n"
     ]
    }
   ],
   "source": [
    "importance_scores = -1 * scores.max(dim=1)[0]\n",
    "print(importance_scores)\n",
    "print(importance_scores.argsort(dim=0))"
   ]
  },
  {
   "cell_type": "code",
   "execution_count": 6,
   "metadata": {},
   "outputs": [
    {
     "name": "stdout",
     "output_type": "stream",
     "text": [
      "tensor([[1, 0, 0, 0],\n",
      "        [0, 0, 0, 2],\n",
      "        [0, 1, 0, 0],\n",
      "        [0, 0, 0, 3],\n",
      "        [0, 0, 1, 0],\n",
      "        [0, 0, 2, 0],\n",
      "        [0, 0, 0, 1],\n",
      "        [2, 0, 0, 0]])\n",
      "tensor([[0, 0, 1, 0],\n",
      "        [0, 1, 0, 0],\n",
      "        [0, 0, 3, 0],\n",
      "        [1, 0, 0, 0],\n",
      "        [0, 0, 0, 1],\n",
      "        [0, 0, 0, 2],\n",
      "        [0, 0, 2, 0],\n",
      "        [0, 2, 0, 0]])\n",
      "tensor([[2, 1, 2, 3]])\n",
      "tensor([[1, 0, 0, 0],\n",
      "        [0, 0, 0, 2],\n",
      "        [0, 1, 0, 0],\n",
      "        [0, 0, 0, 3],\n",
      "        [0, 0, 1, 0],\n",
      "        [0, 0, 2, 0],\n",
      "        [0, 0, 0, 1],\n",
      "        [2, 0, 0, 0]])\n",
      "tensor([[0, 0, 3, 0],\n",
      "        [0, 2, 0, 0],\n",
      "        [0, 0, 5, 0],\n",
      "        [3, 0, 0, 0],\n",
      "        [0, 0, 0, 4],\n",
      "        [0, 0, 0, 5],\n",
      "        [0, 0, 4, 0],\n",
      "        [0, 3, 0, 0]])\n",
      "tensor([[1, 0, 3, 0],\n",
      "        [0, 2, 0, 2],\n",
      "        [0, 1, 5, 0],\n",
      "        [3, 0, 0, 3],\n",
      "        [0, 0, 1, 4],\n",
      "        [0, 0, 2, 5],\n",
      "        [0, 0, 4, 1],\n",
      "        [2, 3, 0, 0]])\n",
      "[tensor([[1, 0, 0, 0],\n",
      "        [0, 0, 0, 2],\n",
      "        [0, 1, 0, 0],\n",
      "        [0, 0, 0, 3],\n",
      "        [0, 0, 1, 0],\n",
      "        [0, 0, 2, 0],\n",
      "        [0, 0, 0, 1],\n",
      "        [2, 0, 0, 0]]), tensor([[0, 0, 3, 0],\n",
      "        [0, 2, 0, 0],\n",
      "        [0, 0, 5, 0],\n",
      "        [3, 0, 0, 0],\n",
      "        [0, 0, 0, 4],\n",
      "        [0, 0, 0, 5],\n",
      "        [0, 0, 4, 0],\n",
      "        [0, 3, 0, 0]])]\n"
     ]
    }
   ],
   "source": [
    "from tutel_ea.jit_kernels.gating import fast_cumsum_sub_one\n",
    "from brt.router.utils import generate_dst_indices\n",
    "\n",
    "\n",
    "def tutel_compute_location(scores, mask):\n",
    "    sorted_mask = mask[scores.argsort(dim=0)]\n",
    "    sorted_cumsum = (fast_cumsum_sub_one(sorted_mask) + 1) * sorted_mask\n",
    "    return sorted_cumsum[scores.argsort(dim=0).argsort(dim=0)]\n",
    "\n",
    "\n",
    "def brt_compute_location(scores, mask):\n",
    "    sorted_mask = mask[scores.argsort(dim=0)]\n",
    "    sorted_cumsum, loads = generate_dst_indices(sorted_mask)\n",
    "    return sorted_cumsum[scores.argsort(dim=0).argsort(dim=0)], loads\n",
    "\n",
    "\n",
    "locations = [tutel_compute_location(importance_scores, mask) for mask in mask_se]\n",
    "print(locations[0])\n",
    "print(locations[1])\n",
    "\n",
    "acc_base = torch.sum(mask_se[0], dim=0, keepdim=True)\n",
    "\n",
    "locations[1] = (acc_base + locations[1]) * mask_se[1]\n",
    "print(acc_base)\n",
    "print(locations[0])\n",
    "print(locations[1])\n",
    "print(locations[0] + locations[1])\n",
    "\n",
    "locations = []\n",
    "location_base = None\n",
    "\n",
    "for mask in mask_se:\n",
    "    location, loads = brt_compute_location(importance_scores, mask)\n",
    "    location = location if location_base is None else (location_base + location) * mask\n",
    "    location_base = (\n",
    "        loads.unsqueeze(0)\n",
    "        if location_base is None\n",
    "        else location_base + loads.unsqueeze(0)\n",
    "    )\n",
    "    locations.append(location)\n",
    "\n",
    "print(locations)"
   ]
  },
  {
   "cell_type": "code",
   "execution_count": 15,
   "metadata": {},
   "outputs": [
    {
     "name": "stdout",
     "output_type": "stream",
     "text": [
      "[tensor([2.6653, 1.2093, 1.5101, 1.0486, 1.0166, 0.7379, 1.8234, 0.8516]), tensor([ 1.1037,  0.4243,  0.3743, -0.1201,  0.4574, -0.2425,  1.2797, -0.2564])]\n",
      "tensor([0, 3, 1, 3, 2, 2, 3, 0])\n",
      "tensor([2, 1, 2, 0, 3, 3, 2, 1])\n"
     ]
    },
    {
     "data": {
      "text/plain": [
       "tensor([[ 2.6653,  0.0000,  1.1037,  0.0000],\n",
       "        [ 0.0000,  0.4243,  0.0000,  1.2093],\n",
       "        [ 0.0000,  1.5101,  0.3743,  0.0000],\n",
       "        [-0.1201,  0.0000,  0.0000,  1.0486],\n",
       "        [ 0.0000,  0.0000,  1.0166,  0.4574],\n",
       "        [ 0.0000,  0.0000,  0.7379, -0.2425],\n",
       "        [ 0.0000,  0.0000,  1.2797,  1.8234],\n",
       "        [ 0.8516, -0.2564,  0.0000,  0.0000]])"
      ]
     },
     "execution_count": 15,
     "metadata": {},
     "output_type": "execute_result"
    }
   ],
   "source": [
    "gates_s = [(scores * x).sum(dim=1) for x in mask_se]\n",
    "print(gates_s)\n",
    "gates = torch.zeros_like(scores, dtype=scores.dtype, device=scores.device)\n",
    "print(indices_s[0])\n",
    "print(indices_s[1])\n",
    "gates.scatter_(1, indices_s[0].unsqueeze(-1), gates_s[0].unsqueeze(-1))\n",
    "gates.scatter(1, indices_s[1].unsqueeze(-1), gates_s[1].unsqueeze(-1))"
   ]
  }
 ],
 "metadata": {
  "kernelspec": {
   "display_name": "Python 3.8.10 64-bit ('base')",
   "language": "python",
   "name": "python3"
  },
  "language_info": {
   "codemirror_mode": {
    "name": "ipython",
    "version": 3
   },
   "file_extension": ".py",
   "mimetype": "text/x-python",
   "name": "python",
   "nbconvert_exporter": "python",
   "pygments_lexer": "ipython3",
   "version": "3.8.10"
  },
  "orig_nbformat": 4,
  "vscode": {
   "interpreter": {
    "hash": "d4914c35dbc1a262acb2241fbfc193aaeb9362d455da2cebdd4b0a1d658dbfd5"
   }
  }
 },
 "nbformat": 4,
 "nbformat_minor": 2
}
