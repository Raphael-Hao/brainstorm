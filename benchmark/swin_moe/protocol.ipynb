{
 "cells": [
  {
   "cell_type": "code",
   "execution_count": 27,
   "metadata": {},
   "outputs": [
    {
     "name": "stdout",
     "output_type": "stream",
     "text": [
      "tensor([[ 0.9094,  0.5632, -1.2995, -0.0162, -0.7846, -0.7688, -0.8744, -0.6386],\n",
      "        [-0.9376,  0.1207, -0.6128, -0.3607, -0.0858,  0.4954, -1.6601,  0.9203],\n",
      "        [ 0.7702,  0.3170,  1.4561, -1.0591, -1.7216, -1.1876, -0.1930,  0.2659],\n",
      "        [ 0.3682, -0.6647,  1.3395, -1.4207, -1.1318, -0.8974, -0.0921, -0.0366]])\n"
     ]
    }
   ],
   "source": [
    "import torch\n",
    "scores= torch.randn((4, 8))\n",
    "print(scores)"
   ]
  },
  {
   "cell_type": "code",
   "execution_count": 28,
   "metadata": {},
   "outputs": [
    {
     "name": "stdout",
     "output_type": "stream",
     "text": [
      "tensor([[0.9094, 0.5632],\n",
      "        [0.9203, 0.4954],\n",
      "        [1.4561, 0.7702],\n",
      "        [1.3395, 0.3682]])\n",
      "tensor([[0, 1],\n",
      "        [7, 5],\n",
      "        [2, 0],\n",
      "        [2, 0]])\n"
     ]
    }
   ],
   "source": [
    "topk_logits, topk_indices = torch.topk(scores, 2, dim=1)\n",
    "print(topk_logits )\n",
    "print(topk_indices)"
   ]
  },
  {
   "cell_type": "code",
   "execution_count": 29,
   "metadata": {},
   "outputs": [
    {
     "name": "stdout",
     "output_type": "stream",
     "text": [
      "[tensor([0, 7, 2, 2]), tensor([1, 5, 0, 0])]\n",
      "tensor([[1, 0, 0, 0, 0, 0, 0, 0],\n",
      "        [0, 0, 0, 0, 0, 0, 0, 1],\n",
      "        [0, 0, 1, 0, 0, 0, 0, 0],\n",
      "        [0, 0, 1, 0, 0, 0, 0, 0]])\n",
      "tensor([[0, 1, 0, 0, 0, 0, 0, 0],\n",
      "        [0, 0, 0, 0, 0, 1, 0, 0],\n",
      "        [1, 0, 0, 0, 0, 0, 0, 0],\n",
      "        [1, 0, 0, 0, 0, 0, 0, 0]])\n"
     ]
    }
   ],
   "source": [
    "def one_hot_with_dtype(data, num_classes, dtype):\n",
    "    result = torch.zeros([data.size(0), num_classes], device=data.device, dtype=dtype)\n",
    "    result.scatter_(1, data.unsqueeze(-1), 1)\n",
    "    return result\n",
    "\n",
    "indices_s = [x.view(-1) for x in topk_indices.chunk(2, dim=1)]\n",
    "print(indices_s)\n",
    "mask_se = [one_hot_with_dtype(x, num_classes=8, dtype=x.dtype) for x in indices_s]\n",
    "for mask in mask_se:\n",
    "    print(mask)"
   ]
  },
  {
   "cell_type": "code",
   "execution_count": 30,
   "metadata": {},
   "outputs": [
    {
     "name": "stdout",
     "output_type": "stream",
     "text": [
      "tensor([[0.3373, 0.2386, 0.0370, 0.1337, 0.0620, 0.0630, 0.0567, 0.0717],\n",
      "        [0.0488, 0.1407, 0.0676, 0.0870, 0.1145, 0.2047, 0.0237, 0.3131],\n",
      "        [0.2003, 0.1273, 0.3978, 0.0322, 0.0166, 0.0283, 0.0765, 0.1210],\n",
      "        [0.1676, 0.0596, 0.4426, 0.0280, 0.0374, 0.0473, 0.1057, 0.1118]])\n",
      "torch.return_types.max(\n",
      "values=tensor([0.3373, 0.3131, 0.3978, 0.4426]),\n",
      "indices=tensor([0, 7, 2, 2]))\n",
      "tensor([-0.3373, -0.3131, -0.3978, -0.4426])\n"
     ]
    }
   ],
   "source": [
    "import torch.nn.functional as F\n",
    "gates = F.softmax(scores, dim=1)\n",
    "print(gates)\n",
    "print(gates.max(dim=1))\n",
    "importance_scores = -1 * gates.max(dim=1)[0]\n",
    "print(importance_scores)"
   ]
  },
  {
   "cell_type": "code",
   "execution_count": 33,
   "metadata": {},
   "outputs": [
    {
     "name": "stdout",
     "output_type": "stream",
     "text": [
      "tensor([[1, 0, 0, 0, 0, 0, 0, 0],\n",
      "        [0, 0, 0, 0, 0, 0, 0, 1],\n",
      "        [0, 0, 1, 0, 0, 0, 0, 0],\n",
      "        [0, 0, 1, 0, 0, 0, 0, 0]])\n",
      "tensor([3, 2, 0, 1])\n",
      "tensor([[0, 0, 1, 0, 0, 0, 0, 0],\n",
      "        [0, 0, 1, 0, 0, 0, 0, 0],\n",
      "        [1, 0, 0, 0, 0, 0, 0, 0],\n",
      "        [0, 0, 0, 0, 0, 0, 0, 1]])\n",
      "tensor([[1, 0, 0, 0, 0, 0, 0, 0],\n",
      "        [0, 0, 0, 0, 0, 0, 0, 1],\n",
      "        [0, 0, 1, 0, 0, 0, 0, 0],\n",
      "        [0, 0, 1, 0, 0, 0, 0, 0]])\n"
     ]
    }
   ],
   "source": [
    "mask = mask_se[0]\n",
    "print(mask)\n",
    "print(importance_scores.argsort(dim=0))\n",
    "sorted_mask = mask[importance_scores.argsort(dim=0)]\n",
    "print(sorted_mask)\n",
    "re_sorted_mask = sorted_mask[importance_scores.argsort(dim=0).argsort(0)]\n",
    "print(re_sorted_mask)\n"
   ]
  }
 ],
 "metadata": {
  "kernelspec": {
   "display_name": "Python 3.8.10 64-bit ('base')",
   "language": "python",
   "name": "python3"
  },
  "language_info": {
   "codemirror_mode": {
    "name": "ipython",
    "version": 3
   },
   "file_extension": ".py",
   "mimetype": "text/x-python",
   "name": "python",
   "nbconvert_exporter": "python",
   "pygments_lexer": "ipython3",
   "version": "3.8.10"
  },
  "orig_nbformat": 4,
  "vscode": {
   "interpreter": {
    "hash": "d4914c35dbc1a262acb2241fbfc193aaeb9362d455da2cebdd4b0a1d658dbfd5"
   }
  }
 },
 "nbformat": 4,
 "nbformat_minor": 2
}
