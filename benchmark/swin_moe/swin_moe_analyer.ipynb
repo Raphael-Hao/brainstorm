{
 "cells": [
  {
   "cell_type": "code",
   "execution_count": 13,
   "metadata": {},
   "outputs": [],
   "source": [
    "import pickle\n",
    "import torch\n",
    "import os\n",
    "from tqdm import tqdm\n",
    "from sklearn.model_selection import train_test_split\n",
    "\n",
    "from sklearn.neighbors import KNeighborsClassifier\n",
    "from sklearn.neural_network import MLPClassifier\n",
    "import xgboost as xgb\n",
    "import time\n",
    "import matplotlib.pyplot as plt\n",
    "import numpy\n",
    "import pandas as pd"
   ]
  },
  {
   "cell_type": "code",
   "execution_count": 3,
   "metadata": {},
   "outputs": [],
   "source": [
    "router_data = pickle.load(open(\"../swinmoe_router.pkl.0\", \"rb\"))"
   ]
  },
  {
   "cell_type": "code",
   "execution_count": 4,
   "metadata": {},
   "outputs": [],
   "source": [
    "layers = [(2,1),(2,3),(2,5),(2,7),(2,9), (2,11), (2,13), (2,15), (2,17), (3,1)]"
   ]
  },
  {
   "cell_type": "code",
   "execution_count": 26,
   "metadata": {},
   "outputs": [
    {
     "data": {
      "text/plain": [
       "18432"
      ]
     },
     "execution_count": 26,
     "metadata": {},
     "output_type": "execute_result"
    }
   ],
   "source": [
    "len(router_data[0]['expert'][(2,1)][0])"
   ]
  },
  {
   "cell_type": "code",
   "execution_count": 5,
   "metadata": {},
   "outputs": [],
   "source": [
    "def router_data_to_seqs(router_data, layers, batch_size=128):\n",
    "    seqs = []\n",
    "    for batch_id, _ in tqdm(enumerate(router_data)):\n",
    "        seq = [[] for i in range(batch_size)]\n",
    "        for layer_id in layers:\n",
    "            layer_img_size = (192//(4*(2**layer_id[0])))**2\n",
    "            img_layer = [[] for i in range(batch_size)]\n",
    "            for token_id, _ in enumerate(router_data[batch_id]['expert'][layer_id][0]):\n",
    "                img_layer[token_id//layer_img_size].append(router_data[batch_id]['expert'][layer_id][0][token_id])\n",
    "            \n",
    "            assert len(img_layer[0]) == len(img_layer[-1])\n",
    "\n",
    "            for i in range(batch_size):\n",
    "                seq[i].append(img_layer[i])\n",
    "        seqs.extend(seq)\n",
    "    return seqs"
   ]
  },
  {
   "cell_type": "code",
   "execution_count": 6,
   "metadata": {},
   "outputs": [
    {
     "name": "stderr",
     "output_type": "stream",
     "text": [
      "500it [06:03,  1.38it/s]\n"
     ]
    }
   ],
   "source": [
    "seqs = router_data_to_seqs(router_data, layers)"
   ]
  },
  {
   "cell_type": "code",
   "execution_count": 89,
   "metadata": {},
   "outputs": [],
   "source": [
    "def cmp(pred_y, test_y):\n",
    "    if type(pred_y) == numpy.ndarray:\n",
    "        assert(len(pred_y) == len(test_y))\n",
    "        positive = 0\n",
    "        for i, _ in enumerate(pred_y):\n",
    "            if pred_y[i] == test_y[i]:\n",
    "                positive += 1\n",
    "        return float(positive) / len(pred_y)\n",
    "    else:\n",
    "        return float(pred_y == test_y)\n",
    "\n",
    "def train(seq_train_X, seq_train_Y, ckpt_path = None):\n",
    "    if ckpt_path and os.path.isfile(ckpt_path):\n",
    "        print(f\"load checkpoint from {ckpt_path}\")\n",
    "        model = pickle.load(open(ckpt_path, 'rb'))\n",
    "    else:\n",
    "        print(f\"no checkpoint, build model from scratch\")\n",
    "        model = KNeighborsClassifier(n_jobs=-1)\n",
    "    \n",
    "    print(\"Start Training\")\n",
    "    model.fit(seq_train_X, seq_train_Y)\n",
    "    \n",
    "    print(f\"Training Done, saving checkpoint to {ckpt_path}\")\n",
    "    pickle.dump(model, open(ckpt_path, \"wb\"))\n",
    "    \n",
    "def eval(seq_test_X, seq_test_Y, ckpt_path = None):\n",
    "    if ckpt_path and os.path.isfile(ckpt_path):\n",
    "        print(f\"load checkpoint from {ckpt_path}\")\n",
    "        model = pickle.load(open(ckpt_path, 'rb'))\n",
    "    else:\n",
    "        raise ValueError\n",
    "    print(\"Start Eval\")\n",
    "    score = 0\n",
    "    pred_Y = model.predict(seq_test_X)\n",
    "    for pred_id, _ in enumerate(seq_test_X):\n",
    "        score += cmp(pred_Y[pred_id], seq_test_Y[pred_id])\n",
    "    print(f\" Eval Score: {score/len(seq_test_Y)}\")\n",
    "    return score"
   ]
  },
  {
   "cell_type": "code",
   "execution_count": 49,
   "metadata": {},
   "outputs": [],
   "source": [
    "def preprocess_data(seqs, lag, train_size=0.5):\n",
    "    # Note: the first element is token_tensor\n",
    "    seq_train, seq_test = train_test_split(seqs, train_size = train_size)\n",
    "    seq_train_X = [ x[:len(x)-lag] for x in seq_train]\n",
    "    seq_train_Y = [ x[len(x)-lag] for x in seq_train]\n",
    "    seq_test_X = [ x[:len(x)-lag] for x in seq_test]\n",
    "    seq_test_Y = [ x[len(x)-lag] for x in seq_test]\n",
    "    return seq_train_X, seq_train_Y, seq_test_X, seq_test_Y"
   ]
  },
  {
   "cell_type": "code",
   "execution_count": 53,
   "metadata": {},
   "outputs": [
    {
     "name": "stdout",
     "output_type": "stream",
     "text": [
      "no checkpoint, build model from scratch\n",
      "Start Training\n"
     ]
    },
    {
     "ename": "ValueError",
     "evalue": "Found array with dim 3. Estimator expected <= 2.",
     "output_type": "error",
     "traceback": [
      "\u001b[0;31m---------------------------------------------------------------------------\u001b[0m",
      "\u001b[0;31mValueError\u001b[0m                                Traceback (most recent call last)",
      "\u001b[1;32m/home/zhehan/amlt/swin_moe_analyer.ipynb Cell 9'\u001b[0m in \u001b[0;36m<cell line: 2>\u001b[0;34m()\u001b[0m\n\u001b[1;32m      <a href='vscode-notebook-cell://ssh-remote%2B7b22686f73744e616d65223a2247435250313030227d/home/zhehan/amlt/swin_moe_analyer.ipynb#ch0000009vscode-remote?line=1'>2</a>\u001b[0m \u001b[39mfor\u001b[39;00m lag \u001b[39min\u001b[39;00m \u001b[39mrange\u001b[39m(\u001b[39m1\u001b[39m,\u001b[39m2\u001b[39m):\n\u001b[1;32m      <a href='vscode-notebook-cell://ssh-remote%2B7b22686f73744e616d65223a2247435250313030227d/home/zhehan/amlt/swin_moe_analyer.ipynb#ch0000009vscode-remote?line=2'>3</a>\u001b[0m     seq_train_X, seq_train_Y, seq_test_X, seq_test_Y \u001b[39m=\u001b[39m preprocess_data(seqs, lag)    \n\u001b[0;32m----> <a href='vscode-notebook-cell://ssh-remote%2B7b22686f73744e616d65223a2247435250313030227d/home/zhehan/amlt/swin_moe_analyer.ipynb#ch0000009vscode-remote?line=3'>4</a>\u001b[0m     train(seq_train_X, seq_train_Y, ckpt_path \u001b[39m=\u001b[39;49m \u001b[39mf\u001b[39;49m\u001b[39m\"\u001b[39;49m\u001b[39mswinmoe_lag_\u001b[39;49m\u001b[39m{\u001b[39;49;00mlag\u001b[39m}\u001b[39;49;00m\u001b[39m.pkl\u001b[39;49m\u001b[39m\"\u001b[39;49m)\n\u001b[1;32m      <a href='vscode-notebook-cell://ssh-remote%2B7b22686f73744e616d65223a2247435250313030227d/home/zhehan/amlt/swin_moe_analyer.ipynb#ch0000009vscode-remote?line=4'>5</a>\u001b[0m     \u001b[39m# score = eval(seq_test_X, seq_test_Y, ckpt_path = f\"model_mlp_with_input_lag_{lag}.pkl\")\u001b[39;00m\n\u001b[1;32m      <a href='vscode-notebook-cell://ssh-remote%2B7b22686f73744e616d65223a2247435250313030227d/home/zhehan/amlt/swin_moe_analyer.ipynb#ch0000009vscode-remote?line=5'>6</a>\u001b[0m     score \u001b[39m=\u001b[39m \u001b[39meval\u001b[39m(seq_test_X, seq_test_Y, ckpt_path \u001b[39m=\u001b[39m \u001b[39mf\u001b[39m\u001b[39m\"\u001b[39m\u001b[39mswinmoe_lag_\u001b[39m\u001b[39m{\u001b[39;00mlag\u001b[39m}\u001b[39;00m\u001b[39m.pkl\u001b[39m\u001b[39m\"\u001b[39m)\n",
      "\u001b[1;32m/home/zhehan/amlt/swin_moe_analyer.ipynb Cell 7'\u001b[0m in \u001b[0;36mtrain\u001b[0;34m(seq_train_X, seq_train_Y, ckpt_path)\u001b[0m\n\u001b[1;32m     <a href='vscode-notebook-cell://ssh-remote%2B7b22686f73744e616d65223a2247435250313030227d/home/zhehan/amlt/swin_moe_analyer.ipynb#ch0000006vscode-remote?line=17'>18</a>\u001b[0m     model \u001b[39m=\u001b[39m KNeighborsClassifier(n_jobs\u001b[39m=\u001b[39m\u001b[39m-\u001b[39m\u001b[39m1\u001b[39m)\n\u001b[1;32m     <a href='vscode-notebook-cell://ssh-remote%2B7b22686f73744e616d65223a2247435250313030227d/home/zhehan/amlt/swin_moe_analyer.ipynb#ch0000006vscode-remote?line=19'>20</a>\u001b[0m \u001b[39mprint\u001b[39m(\u001b[39m\"\u001b[39m\u001b[39mStart Training\u001b[39m\u001b[39m\"\u001b[39m)\n\u001b[0;32m---> <a href='vscode-notebook-cell://ssh-remote%2B7b22686f73744e616d65223a2247435250313030227d/home/zhehan/amlt/swin_moe_analyer.ipynb#ch0000006vscode-remote?line=20'>21</a>\u001b[0m model\u001b[39m.\u001b[39;49mfit(seq_train_X, seq_train_Y)\n\u001b[1;32m     <a href='vscode-notebook-cell://ssh-remote%2B7b22686f73744e616d65223a2247435250313030227d/home/zhehan/amlt/swin_moe_analyer.ipynb#ch0000006vscode-remote?line=22'>23</a>\u001b[0m \u001b[39mprint\u001b[39m(\u001b[39mf\u001b[39m\u001b[39m\"\u001b[39m\u001b[39mTraining Done, saving checkpoint to \u001b[39m\u001b[39m{\u001b[39;00mckpt_path\u001b[39m}\u001b[39;00m\u001b[39m\"\u001b[39m)\n\u001b[1;32m     <a href='vscode-notebook-cell://ssh-remote%2B7b22686f73744e616d65223a2247435250313030227d/home/zhehan/amlt/swin_moe_analyer.ipynb#ch0000006vscode-remote?line=23'>24</a>\u001b[0m pickle\u001b[39m.\u001b[39mdump(model, \u001b[39mopen\u001b[39m(ckpt_path, \u001b[39m\"\u001b[39m\u001b[39mwb\u001b[39m\u001b[39m\"\u001b[39m))\n",
      "File \u001b[0;32m~/venv/lib/python3.8/site-packages/sklearn/neighbors/_classification.py:198\u001b[0m, in \u001b[0;36mKNeighborsClassifier.fit\u001b[0;34m(self, X, y)\u001b[0m\n\u001b[1;32m    <a href='file:///home/zhehan/venv/lib/python3.8/site-packages/sklearn/neighbors/_classification.py?line=178'>179</a>\u001b[0m \u001b[39m\"\"\"Fit the k-nearest neighbors classifier from the training dataset.\u001b[39;00m\n\u001b[1;32m    <a href='file:///home/zhehan/venv/lib/python3.8/site-packages/sklearn/neighbors/_classification.py?line=179'>180</a>\u001b[0m \n\u001b[1;32m    <a href='file:///home/zhehan/venv/lib/python3.8/site-packages/sklearn/neighbors/_classification.py?line=180'>181</a>\u001b[0m \u001b[39mParameters\u001b[39;00m\n\u001b[0;32m   (...)\u001b[0m\n\u001b[1;32m    <a href='file:///home/zhehan/venv/lib/python3.8/site-packages/sklearn/neighbors/_classification.py?line=193'>194</a>\u001b[0m \u001b[39m    The fitted k-nearest neighbors classifier.\u001b[39;00m\n\u001b[1;32m    <a href='file:///home/zhehan/venv/lib/python3.8/site-packages/sklearn/neighbors/_classification.py?line=194'>195</a>\u001b[0m \u001b[39m\"\"\"\u001b[39;00m\n\u001b[1;32m    <a href='file:///home/zhehan/venv/lib/python3.8/site-packages/sklearn/neighbors/_classification.py?line=195'>196</a>\u001b[0m \u001b[39mself\u001b[39m\u001b[39m.\u001b[39mweights \u001b[39m=\u001b[39m _check_weights(\u001b[39mself\u001b[39m\u001b[39m.\u001b[39mweights)\n\u001b[0;32m--> <a href='file:///home/zhehan/venv/lib/python3.8/site-packages/sklearn/neighbors/_classification.py?line=197'>198</a>\u001b[0m \u001b[39mreturn\u001b[39;00m \u001b[39mself\u001b[39;49m\u001b[39m.\u001b[39;49m_fit(X, y)\n",
      "File \u001b[0;32m~/venv/lib/python3.8/site-packages/sklearn/neighbors/_base.py:400\u001b[0m, in \u001b[0;36mNeighborsBase._fit\u001b[0;34m(self, X, y)\u001b[0m\n\u001b[1;32m    <a href='file:///home/zhehan/venv/lib/python3.8/site-packages/sklearn/neighbors/_base.py?line=397'>398</a>\u001b[0m \u001b[39mif\u001b[39;00m \u001b[39mself\u001b[39m\u001b[39m.\u001b[39m_get_tags()[\u001b[39m\"\u001b[39m\u001b[39mrequires_y\u001b[39m\u001b[39m\"\u001b[39m]:\n\u001b[1;32m    <a href='file:///home/zhehan/venv/lib/python3.8/site-packages/sklearn/neighbors/_base.py?line=398'>399</a>\u001b[0m     \u001b[39mif\u001b[39;00m \u001b[39mnot\u001b[39;00m \u001b[39misinstance\u001b[39m(X, (KDTree, BallTree, NeighborsBase)):\n\u001b[0;32m--> <a href='file:///home/zhehan/venv/lib/python3.8/site-packages/sklearn/neighbors/_base.py?line=399'>400</a>\u001b[0m         X, y \u001b[39m=\u001b[39m \u001b[39mself\u001b[39;49m\u001b[39m.\u001b[39;49m_validate_data(X, y, accept_sparse\u001b[39m=\u001b[39;49m\u001b[39m\"\u001b[39;49m\u001b[39mcsr\u001b[39;49m\u001b[39m\"\u001b[39;49m, multi_output\u001b[39m=\u001b[39;49m\u001b[39mTrue\u001b[39;49;00m)\n\u001b[1;32m    <a href='file:///home/zhehan/venv/lib/python3.8/site-packages/sklearn/neighbors/_base.py?line=401'>402</a>\u001b[0m     \u001b[39mif\u001b[39;00m is_classifier(\u001b[39mself\u001b[39m):\n\u001b[1;32m    <a href='file:///home/zhehan/venv/lib/python3.8/site-packages/sklearn/neighbors/_base.py?line=402'>403</a>\u001b[0m         \u001b[39m# Classification targets require a specific format\u001b[39;00m\n\u001b[1;32m    <a href='file:///home/zhehan/venv/lib/python3.8/site-packages/sklearn/neighbors/_base.py?line=403'>404</a>\u001b[0m         \u001b[39mif\u001b[39;00m y\u001b[39m.\u001b[39mndim \u001b[39m==\u001b[39m \u001b[39m1\u001b[39m \u001b[39mor\u001b[39;00m y\u001b[39m.\u001b[39mndim \u001b[39m==\u001b[39m \u001b[39m2\u001b[39m \u001b[39mand\u001b[39;00m y\u001b[39m.\u001b[39mshape[\u001b[39m1\u001b[39m] \u001b[39m==\u001b[39m \u001b[39m1\u001b[39m:\n",
      "File \u001b[0;32m~/venv/lib/python3.8/site-packages/sklearn/base.py:581\u001b[0m, in \u001b[0;36mBaseEstimator._validate_data\u001b[0;34m(self, X, y, reset, validate_separately, **check_params)\u001b[0m\n\u001b[1;32m    <a href='file:///home/zhehan/venv/lib/python3.8/site-packages/sklearn/base.py?line=578'>579</a>\u001b[0m         y \u001b[39m=\u001b[39m check_array(y, \u001b[39m*\u001b[39m\u001b[39m*\u001b[39mcheck_y_params)\n\u001b[1;32m    <a href='file:///home/zhehan/venv/lib/python3.8/site-packages/sklearn/base.py?line=579'>580</a>\u001b[0m     \u001b[39melse\u001b[39;00m:\n\u001b[0;32m--> <a href='file:///home/zhehan/venv/lib/python3.8/site-packages/sklearn/base.py?line=580'>581</a>\u001b[0m         X, y \u001b[39m=\u001b[39m check_X_y(X, y, \u001b[39m*\u001b[39;49m\u001b[39m*\u001b[39;49mcheck_params)\n\u001b[1;32m    <a href='file:///home/zhehan/venv/lib/python3.8/site-packages/sklearn/base.py?line=581'>582</a>\u001b[0m     out \u001b[39m=\u001b[39m X, y\n\u001b[1;32m    <a href='file:///home/zhehan/venv/lib/python3.8/site-packages/sklearn/base.py?line=583'>584</a>\u001b[0m \u001b[39mif\u001b[39;00m \u001b[39mnot\u001b[39;00m no_val_X \u001b[39mand\u001b[39;00m check_params\u001b[39m.\u001b[39mget(\u001b[39m\"\u001b[39m\u001b[39mensure_2d\u001b[39m\u001b[39m\"\u001b[39m, \u001b[39mTrue\u001b[39;00m):\n",
      "File \u001b[0;32m~/venv/lib/python3.8/site-packages/sklearn/utils/validation.py:964\u001b[0m, in \u001b[0;36mcheck_X_y\u001b[0;34m(X, y, accept_sparse, accept_large_sparse, dtype, order, copy, force_all_finite, ensure_2d, allow_nd, multi_output, ensure_min_samples, ensure_min_features, y_numeric, estimator)\u001b[0m\n\u001b[1;32m    <a href='file:///home/zhehan/venv/lib/python3.8/site-packages/sklearn/utils/validation.py?line=960'>961</a>\u001b[0m \u001b[39mif\u001b[39;00m y \u001b[39mis\u001b[39;00m \u001b[39mNone\u001b[39;00m:\n\u001b[1;32m    <a href='file:///home/zhehan/venv/lib/python3.8/site-packages/sklearn/utils/validation.py?line=961'>962</a>\u001b[0m     \u001b[39mraise\u001b[39;00m \u001b[39mValueError\u001b[39;00m(\u001b[39m\"\u001b[39m\u001b[39my cannot be None\u001b[39m\u001b[39m\"\u001b[39m)\n\u001b[0;32m--> <a href='file:///home/zhehan/venv/lib/python3.8/site-packages/sklearn/utils/validation.py?line=963'>964</a>\u001b[0m X \u001b[39m=\u001b[39m check_array(\n\u001b[1;32m    <a href='file:///home/zhehan/venv/lib/python3.8/site-packages/sklearn/utils/validation.py?line=964'>965</a>\u001b[0m     X,\n\u001b[1;32m    <a href='file:///home/zhehan/venv/lib/python3.8/site-packages/sklearn/utils/validation.py?line=965'>966</a>\u001b[0m     accept_sparse\u001b[39m=\u001b[39;49maccept_sparse,\n\u001b[1;32m    <a href='file:///home/zhehan/venv/lib/python3.8/site-packages/sklearn/utils/validation.py?line=966'>967</a>\u001b[0m     accept_large_sparse\u001b[39m=\u001b[39;49maccept_large_sparse,\n\u001b[1;32m    <a href='file:///home/zhehan/venv/lib/python3.8/site-packages/sklearn/utils/validation.py?line=967'>968</a>\u001b[0m     dtype\u001b[39m=\u001b[39;49mdtype,\n\u001b[1;32m    <a href='file:///home/zhehan/venv/lib/python3.8/site-packages/sklearn/utils/validation.py?line=968'>969</a>\u001b[0m     order\u001b[39m=\u001b[39;49morder,\n\u001b[1;32m    <a href='file:///home/zhehan/venv/lib/python3.8/site-packages/sklearn/utils/validation.py?line=969'>970</a>\u001b[0m     copy\u001b[39m=\u001b[39;49mcopy,\n\u001b[1;32m    <a href='file:///home/zhehan/venv/lib/python3.8/site-packages/sklearn/utils/validation.py?line=970'>971</a>\u001b[0m     force_all_finite\u001b[39m=\u001b[39;49mforce_all_finite,\n\u001b[1;32m    <a href='file:///home/zhehan/venv/lib/python3.8/site-packages/sklearn/utils/validation.py?line=971'>972</a>\u001b[0m     ensure_2d\u001b[39m=\u001b[39;49mensure_2d,\n\u001b[1;32m    <a href='file:///home/zhehan/venv/lib/python3.8/site-packages/sklearn/utils/validation.py?line=972'>973</a>\u001b[0m     allow_nd\u001b[39m=\u001b[39;49mallow_nd,\n\u001b[1;32m    <a href='file:///home/zhehan/venv/lib/python3.8/site-packages/sklearn/utils/validation.py?line=973'>974</a>\u001b[0m     ensure_min_samples\u001b[39m=\u001b[39;49mensure_min_samples,\n\u001b[1;32m    <a href='file:///home/zhehan/venv/lib/python3.8/site-packages/sklearn/utils/validation.py?line=974'>975</a>\u001b[0m     ensure_min_features\u001b[39m=\u001b[39;49mensure_min_features,\n\u001b[1;32m    <a href='file:///home/zhehan/venv/lib/python3.8/site-packages/sklearn/utils/validation.py?line=975'>976</a>\u001b[0m     estimator\u001b[39m=\u001b[39;49mestimator,\n\u001b[1;32m    <a href='file:///home/zhehan/venv/lib/python3.8/site-packages/sklearn/utils/validation.py?line=976'>977</a>\u001b[0m )\n\u001b[1;32m    <a href='file:///home/zhehan/venv/lib/python3.8/site-packages/sklearn/utils/validation.py?line=978'>979</a>\u001b[0m y \u001b[39m=\u001b[39m _check_y(y, multi_output\u001b[39m=\u001b[39mmulti_output, y_numeric\u001b[39m=\u001b[39my_numeric)\n\u001b[1;32m    <a href='file:///home/zhehan/venv/lib/python3.8/site-packages/sklearn/utils/validation.py?line=980'>981</a>\u001b[0m check_consistent_length(X, y)\n",
      "File \u001b[0;32m~/venv/lib/python3.8/site-packages/sklearn/utils/validation.py:794\u001b[0m, in \u001b[0;36mcheck_array\u001b[0;34m(array, accept_sparse, accept_large_sparse, dtype, order, copy, force_all_finite, ensure_2d, allow_nd, ensure_min_samples, ensure_min_features, estimator)\u001b[0m\n\u001b[1;32m    <a href='file:///home/zhehan/venv/lib/python3.8/site-packages/sklearn/utils/validation.py?line=788'>789</a>\u001b[0m         \u001b[39mraise\u001b[39;00m \u001b[39mValueError\u001b[39;00m(\n\u001b[1;32m    <a href='file:///home/zhehan/venv/lib/python3.8/site-packages/sklearn/utils/validation.py?line=789'>790</a>\u001b[0m             \u001b[39m\"\u001b[39m\u001b[39mUnable to convert array of bytes/strings \u001b[39m\u001b[39m\"\u001b[39m\n\u001b[1;32m    <a href='file:///home/zhehan/venv/lib/python3.8/site-packages/sklearn/utils/validation.py?line=790'>791</a>\u001b[0m             \u001b[39m\"\u001b[39m\u001b[39minto decimal numbers with dtype=\u001b[39m\u001b[39m'\u001b[39m\u001b[39mnumeric\u001b[39m\u001b[39m'\u001b[39m\u001b[39m\"\u001b[39m\n\u001b[1;32m    <a href='file:///home/zhehan/venv/lib/python3.8/site-packages/sklearn/utils/validation.py?line=791'>792</a>\u001b[0m         ) \u001b[39mfrom\u001b[39;00m \u001b[39me\u001b[39;00m\n\u001b[1;32m    <a href='file:///home/zhehan/venv/lib/python3.8/site-packages/sklearn/utils/validation.py?line=792'>793</a>\u001b[0m \u001b[39mif\u001b[39;00m \u001b[39mnot\u001b[39;00m allow_nd \u001b[39mand\u001b[39;00m array\u001b[39m.\u001b[39mndim \u001b[39m>\u001b[39m\u001b[39m=\u001b[39m \u001b[39m3\u001b[39m:\n\u001b[0;32m--> <a href='file:///home/zhehan/venv/lib/python3.8/site-packages/sklearn/utils/validation.py?line=793'>794</a>\u001b[0m     \u001b[39mraise\u001b[39;00m \u001b[39mValueError\u001b[39;00m(\n\u001b[1;32m    <a href='file:///home/zhehan/venv/lib/python3.8/site-packages/sklearn/utils/validation.py?line=794'>795</a>\u001b[0m         \u001b[39m\"\u001b[39m\u001b[39mFound array with dim \u001b[39m\u001b[39m%d\u001b[39;00m\u001b[39m. \u001b[39m\u001b[39m%s\u001b[39;00m\u001b[39m expected <= 2.\u001b[39m\u001b[39m\"\u001b[39m\n\u001b[1;32m    <a href='file:///home/zhehan/venv/lib/python3.8/site-packages/sklearn/utils/validation.py?line=795'>796</a>\u001b[0m         \u001b[39m%\u001b[39m (array\u001b[39m.\u001b[39mndim, estimator_name)\n\u001b[1;32m    <a href='file:///home/zhehan/venv/lib/python3.8/site-packages/sklearn/utils/validation.py?line=796'>797</a>\u001b[0m     )\n\u001b[1;32m    <a href='file:///home/zhehan/venv/lib/python3.8/site-packages/sklearn/utils/validation.py?line=798'>799</a>\u001b[0m \u001b[39mif\u001b[39;00m force_all_finite:\n\u001b[1;32m    <a href='file:///home/zhehan/venv/lib/python3.8/site-packages/sklearn/utils/validation.py?line=799'>800</a>\u001b[0m     _assert_all_finite(array, allow_nan\u001b[39m=\u001b[39mforce_all_finite \u001b[39m==\u001b[39m \u001b[39m\"\u001b[39m\u001b[39mallow-nan\u001b[39m\u001b[39m\"\u001b[39m)\n",
      "\u001b[0;31mValueError\u001b[0m: Found array with dim 3. Estimator expected <= 2."
     ]
    }
   ],
   "source": [
    "result = {}\n",
    "for lag in range(1,2):\n",
    "    seq_train_X, seq_train_Y, seq_test_X, seq_test_Y = preprocess_data(seqs, lag)    \n",
    "    train(seq_train_X, seq_train_Y, ckpt_path = f\"swinmoe_lag_{lag}.pkl\")\n",
    "    # score = eval(seq_test_X, seq_test_Y, ckpt_path = f\"model_mlp_with_input_lag_{lag}.pkl\")\n",
    "    score = eval(seq_test_X, seq_test_Y, ckpt_path = f\"swinmoe_lag_{lag}.pkl\")\n",
    "    result[lag] = score"
   ]
  },
  {
   "cell_type": "code",
   "execution_count": 81,
   "metadata": {},
   "outputs": [
    {
     "name": "stdout",
     "output_type": "stream",
     "text": [
      "no checkpoint, build model from scratch\n",
      "Start Training\n",
      "Training Done, saving checkpoint to swinmoe_lag_1.pkl\n"
     ]
    }
   ],
   "source": [
    "seq_train_X_2 = [  sum(x, [])  for x in seq_train_X]\n",
    "train(seq_train_X_2, seq_train_Y, ckpt_path = f\"swinmoe_lag_{lag}.pkl\")"
   ]
  },
  {
   "cell_type": "code",
   "execution_count": 92,
   "metadata": {},
   "outputs": [
    {
     "name": "stdout",
     "output_type": "stream",
     "text": [
      "load checkpoint from swinmoe_lag_1.pkl\n",
      "Start Eval\n",
      " Eval Score: 0.20946636284722336\n"
     ]
    },
    {
     "data": {
      "text/plain": [
       "0.20946636284722336"
      ]
     },
     "execution_count": 92,
     "metadata": {},
     "output_type": "execute_result"
    }
   ],
   "source": [
    "seq_test_X_2 = [  sum(x, [])  for x in seq_test_X]\n",
    "score = eval(seq_test_X_2, seq_test_Y, ckpt_path = f\"swinmoe_lag_{lag}.pkl\")\n",
    "score/len(seq_test_X_2)"
   ]
  },
  {
   "cell_type": "code",
   "execution_count": 1,
   "metadata": {},
   "outputs": [],
   "source": [
    "# for image_id in range(10):\n",
    "#     for layer_id, layer in enumerate(layers):\n",
    "#         dim = 12 if layer[0] == 2 else 6\n",
    "#         x = [[seqs[image_id][layer_id][i*dim+j] for j in range(dim)] for i in range(dim)]\n",
    "#         plt.figure()\n",
    "#         cax = plt.imshow(x)\n",
    "#         cbar = plt.colorbar(cax, extend='both', drawedges = False)\n",
    "#         plt.title(f'layer{layer}')\n",
    "#         plt.savefig(f'swinmoe_token/image{image_id}.{layer}.png')"
   ]
  },
  {
   "cell_type": "code",
   "execution_count": 7,
   "metadata": {},
   "outputs": [],
   "source": [
    "layer_stat = [ [] for i in range(len(layers))]\n",
    "for image_id in range(len(seqs)):\n",
    "    for layer_id, layer in enumerate(layers):\n",
    "        dim = 12 if layer[0] == 2 else 6\n",
    "        num_active_expert = len(set([int(x) for x in seqs[image_id][layer_id]]))\n",
    "        layer_stat[layer_id].append(num_active_expert)"
   ]
  },
  {
   "cell_type": "code",
   "execution_count": 8,
   "metadata": {},
   "outputs": [],
   "source": [
    "# for layer_id, _ in enumerate(layers):\n",
    "#     plt.figure(figsize=[20,3])\n",
    "#     plt.hist(layer_stat[layer_id], bins = 16)\n",
    "#     plt.xticks([i for i in range(16)])\n",
    "#     plt.show()"
   ]
  },
  {
   "cell_type": "code",
   "execution_count": 11,
   "metadata": {},
   "outputs": [],
   "source": [
    "layer_expert_stat = [ [[] for j in range(16)] for i in range(len(layers))]\n",
    "for image_id in range(1000):\n",
    "    for layer_id, layer in enumerate(layers):\n",
    "        dim = 12 if layer[0] == 2 else 6\n",
    "        for i in range(16):\n",
    "            layer_expert_stat[layer_id][i].append(0)\n",
    "        for x in seqs[image_id][layer_id]:\n",
    "            layer_expert_stat[layer_id][x][-1] += 1"
   ]
  },
  {
   "cell_type": "code",
   "execution_count": 1,
   "metadata": {},
   "outputs": [],
   "source": [
    "# for layer_id, _ in enumerate(layers):\n",
    "#     xs, ys = [], []\n",
    "#     for expert_id in range(16):\n",
    "#         xs.extend([expert_id]*len(layer_expert_stat[layer_id][expert_id]))\n",
    "#         ys.extend(layer_expert_stat[layer_id][expert_id])\n",
    "#     plt.figure()\n",
    "#     plt.violinplot([[y for y in x if y>0] for x in layer_expert_stat[layer_id]])\n",
    "#     plt.show()"
   ]
  },
  {
   "cell_type": "code",
   "execution_count": 39,
   "metadata": {},
   "outputs": [],
   "source": [
    "max_capacity = 144 \n",
    "n_shapes = 64\n",
    "break_method = 'optimal'"
   ]
  },
  {
   "cell_type": "code",
   "execution_count": 40,
   "metadata": {},
   "outputs": [],
   "source": [
    "layer_stat = [ [] for i in range(len(layers))]\n",
    "for layer_id in range(len(layers)):\n",
    "    agg_expert = []\n",
    "    for expert_id in range(16):\n",
    "        agg_expert.extend([min(x, max_capacity) for x in layer_expert_stat[layer_id][expert_id] if x > 0])\n",
    "    shape_count = pd.value_counts(agg_expert)\n",
    "    shapes = sorted(shape_count.keys())\n",
    "    layer_stat[layer_id] = [(s, shape_count[s]) for s in shapes]"
   ]
  },
  {
   "cell_type": "code",
   "execution_count": 43,
   "metadata": {},
   "outputs": [],
   "source": [
    "def find_optimal_breakpoints(layer_stat, n_shapes):\n",
    "    max_shape = max([x[0] for x in layer_stat])\n",
    "    if n_shapes > max_shape:\n",
    "        n_shapes = max_shape\n",
    "    dp = [[0 for i in range(n_shapes)] for j in range(max_shape+1)]\n",
    "    transfer = [[None for i in range(n_shapes)] for j in range(max_shape+1)]\n",
    "    for cur_shape in tqdm(range(max_shape+1)):\n",
    "        for shape_id in range(n_shapes):\n",
    "            min_cost = 1e100\n",
    "            min_pre_shape = None\n",
    "            if shape_id == 0:\n",
    "                min_cost = sum(x[1]*(cur_shape-x[0]) for x in layer_stat if x[0]<=cur_shape)\n",
    "            else:\n",
    "                for pre_shape in range(cur_shape):\n",
    "                    cost = dp[pre_shape][shape_id-1] + \\\n",
    "                        sum([x[1]*(cur_shape - x[0]) for x in layer_stat if x[0] > pre_shape and x[0] <= cur_shape])\n",
    "                    if cost < min_cost:\n",
    "                        min_cost = cost\n",
    "                        min_pre_shape = pre_shape\n",
    "            dp[cur_shape][shape_id] = min_cost\n",
    "            transfer[cur_shape][shape_id] = min_pre_shape\n",
    "    breakpoints = [max_shape]\n",
    "    cur_shape = max_shape\n",
    "    cur_id = n_shapes-1\n",
    "    while cur_id > 0:\n",
    "        cur_shape = transfer[cur_shape][cur_id]\n",
    "        cur_id -= 1\n",
    "        if cur_id >= 0:\n",
    "            breakpoints.append(cur_shape)\n",
    "    breakpoints.reverse()\n",
    "    return breakpoints"
   ]
  },
  {
   "cell_type": "code",
   "execution_count": 44,
   "metadata": {},
   "outputs": [
    {
     "name": "stdout",
     "output_type": "stream",
     "text": [
      "144 64\n"
     ]
    },
    {
     "name": "stderr",
     "output_type": "stream",
     "text": [
      "100%|██████████| 143/143 [00:13<00:00, 10.36it/s]\n",
      "100%|██████████| 127/127 [00:08<00:00, 15.49it/s]\n",
      "100%|██████████| 113/113 [00:06<00:00, 16.44it/s]\n",
      "100%|██████████| 127/127 [00:09<00:00, 13.12it/s]\n",
      "100%|██████████| 135/135 [00:11<00:00, 11.71it/s]\n",
      "100%|██████████| 134/134 [00:11<00:00, 11.32it/s]\n",
      "100%|██████████| 126/126 [00:09<00:00, 12.68it/s]\n",
      "100%|██████████| 114/114 [00:07<00:00, 15.46it/s]\n",
      "100%|██████████| 118/118 [00:08<00:00, 14.72it/s]\n",
      "100%|██████████| 32/32 [00:00<00:00, 282.47it/s]"
     ]
    },
    {
     "name": "stdout",
     "output_type": "stream",
     "text": [
      "[[1, 2, 3, 4, 5, 6, 7, 8, 9, 10, 11, 12, 13, 14, 15, 16, 17, 18, 19, 20, 21, 22, 23, 24, 25, 26, 27, 28, 29, 30, 31, 32, 33, 34, 35, 36, 37, 39, 40, 41, 43, 45, 47, 49, 51, 53, 55, 58, 60, 63, 66, 69, 73, 78, 82, 87, 93, 96, 103, 111, 117, 126, 132, 142], [1, 2, 3, 4, 5, 6, 7, 8, 9, 10, 11, 12, 13, 14, 15, 16, 17, 18, 19, 20, 21, 22, 23, 24, 25, 26, 27, 28, 29, 30, 31, 32, 33, 34, 35, 36, 37, 38, 39, 40, 41, 42, 43, 44, 45, 46, 47, 48, 50, 52, 54, 56, 58, 60, 63, 65, 70, 75, 78, 82, 87, 90, 98, 126], [1, 2, 3, 4, 5, 6, 7, 8, 9, 10, 11, 12, 13, 14, 15, 16, 17, 18, 19, 20, 21, 22, 23, 24, 25, 26, 27, 28, 29, 30, 31, 32, 33, 34, 35, 36, 37, 38, 39, 40, 41, 42, 43, 44, 45, 46, 48, 50, 51, 53, 55, 57, 59, 61, 63, 65, 68, 72, 76, 79, 83, 89, 97, 112], [1, 2, 3, 4, 5, 6, 7, 8, 9, 10, 11, 12, 13, 14, 15, 16, 17, 18, 19, 20, 21, 22, 23, 24, 25, 26, 27, 28, 29, 30, 31, 32, 33, 34, 35, 36, 37, 38, 39, 41, 42, 43, 45, 47, 49, 50, 52, 54, 56, 59, 61, 64, 66, 70, 73, 77, 81, 86, 91, 97, 101, 110, 116, 126], [1, 2, 3, 4, 5, 6, 7, 8, 9, 10, 11, 12, 13, 14, 15, 16, 17, 18, 19, 20, 21, 22, 23, 24, 25, 26, 27, 28, 29, 30, 31, 32, 33, 34, 35, 36, 37, 39, 41, 43, 45, 47, 49, 51, 53, 55, 57, 59, 61, 64, 66, 70, 73, 78, 82, 85, 89, 93, 99, 106, 110, 118, 126, 134], [1, 2, 3, 4, 5, 6, 7, 8, 9, 10, 11, 12, 13, 14, 15, 16, 17, 18, 19, 20, 21, 22, 23, 24, 25, 26, 27, 28, 29, 30, 31, 32, 33, 34, 36, 37, 38, 39, 40, 42, 44, 46, 48, 50, 52, 54, 56, 58, 60, 63, 65, 68, 71, 73, 77, 80, 84, 90, 95, 101, 106, 111, 123, 133], [1, 2, 3, 4, 5, 6, 7, 8, 9, 10, 11, 12, 13, 14, 15, 16, 17, 18, 19, 20, 21, 22, 23, 24, 25, 26, 27, 28, 29, 30, 31, 32, 33, 34, 35, 37, 39, 41, 43, 45, 47, 49, 51, 53, 55, 57, 59, 61, 63, 65, 68, 71, 73, 75, 78, 81, 85, 89, 92, 97, 103, 107, 114, 125], [1, 2, 3, 4, 5, 6, 7, 8, 9, 10, 11, 12, 13, 14, 15, 16, 17, 18, 19, 20, 21, 22, 23, 24, 25, 26, 27, 28, 29, 30, 31, 32, 33, 34, 35, 36, 38, 40, 42, 44, 46, 47, 49, 50, 52, 54, 56, 58, 60, 62, 64, 66, 68, 70, 72, 75, 77, 79, 83, 88, 92, 97, 104, 113], [1, 2, 3, 4, 5, 6, 7, 8, 9, 10, 11, 12, 13, 14, 15, 16, 17, 18, 19, 20, 21, 22, 23, 24, 25, 26, 27, 28, 29, 31, 32, 33, 34, 36, 38, 40, 42, 43, 45, 47, 49, 51, 53, 55, 57, 59, 61, 63, 65, 67, 69, 72, 74, 76, 78, 80, 83, 86, 91, 94, 100, 103, 108, 117], [1, 2, 3, 4, 5, 6, 7, 8, 9, 10, 11, 12, 13, 14, 15, 16, 17, 18, 19, 20, 21, 22, 23, 24, 25, 26, 27, 28, 29, 30, 31]]\n"
     ]
    },
    {
     "name": "stderr",
     "output_type": "stream",
     "text": [
      "\n"
     ]
    }
   ],
   "source": [
    "import math\n",
    "print(max_capacity, n_shapes)\n",
    "breakpoints = [[] for i in range(len(layers))]\n",
    "if break_method == 'optimal':\n",
    "    for layer_id in range(len(layers)):\n",
    "        breakpoints[layer_id] = find_optimal_breakpoints(layer_stat[layer_id], n_shapes)\n",
    "elif break_method == 'uniform':\n",
    "    for layer_id in range(len(layers)):\n",
    "        for i in range(1, n_shapes):\n",
    "            breakpoints[layer_id].append(math.floor(i*max_capacity/float(n_shapes-1)))\n",
    "        breakpoints[layer_id].append(max_capacity)\n",
    "print(breakpoints)"
   ]
  },
  {
   "cell_type": "code",
   "execution_count": 45,
   "metadata": {},
   "outputs": [],
   "source": [
    "import bisect\n",
    "enable_bmm = False\n",
    "results = []\n",
    "for layer_id in range(len(layers)):\n",
    "    for sentense_id, _ in enumerate(layer_expert_stat[layer_id][0]):\n",
    "        max_batch_size = max([layer_expert_stat[layer_id][expert_id][sentense_id] for expert_id in range(16)])\n",
    "        max_batch_size = min(max_capacity, max_batch_size)\n",
    "        sentense_token = sum([layer_expert_stat[layer_id][i][sentense_id] for i in range(16)])\n",
    "        dim = 12 if layers[layer_id][0] == 2 else 6\n",
    "        assert(sentense_token == dim*dim)\n",
    "        padding_bmm = sum([max(0, max_batch_size - layer_expert_stat[layer_id][expert_id][sentense_id]) for expert_id in range(16)])\n",
    "        padding_brt = 0\n",
    "        use_bmm = False\n",
    "        for expert_id in range(len(layers)):\n",
    "            expert_token = min(max_capacity, layer_expert_stat[layer_id][expert_id][sentense_id])\n",
    "            kernel_idx = bisect.bisect_right(breakpoints[layer_id], expert_token)\n",
    "            if kernel_idx >= len(breakpoints[layer_id]) or (enable_bmm and use_bmm):\n",
    "                kernel_shape = max_batch_size\n",
    "                use_bmm = True\n",
    "            else:\n",
    "                kernel_shape = breakpoints[layer_id][kernel_idx]\n",
    "            assert(kernel_shape >= expert_token)\n",
    "            padding_brt += kernel_shape - expert_token\n",
    "        if enable_bmm and use_bmm:\n",
    "            padding_brt = padding_bmm\n",
    "        results.append((use_bmm, padding_bmm, padding_brt, dim*dim))"
   ]
  },
  {
   "cell_type": "code",
   "execution_count": 46,
   "metadata": {},
   "outputs": [
    {
     "data": {
      "text/plain": [
       "(4.947255255255255, 0.07776576576576577)"
      ]
     },
     "execution_count": 46,
     "metadata": {},
     "output_type": "execute_result"
    }
   ],
   "source": [
    "len([x for x in results if x[0]])\n",
    "sum([x[1] for x in results])/sum([x[3] for x in results]), sum([x[2] for x in results])/sum([x[3] for x in results])"
   ]
  }
 ],
 "metadata": {
  "kernelspec": {
   "display_name": "Python 3.8.10 64-bit ('base')",
   "language": "python",
   "name": "python3"
  },
  "language_info": {
   "codemirror_mode": {
    "name": "ipython",
    "version": 3
   },
   "file_extension": ".py",
   "mimetype": "text/x-python",
   "name": "python",
   "nbconvert_exporter": "python",
   "pygments_lexer": "ipython3",
   "version": "3.8.10"
  },
  "orig_nbformat": 4,
  "vscode": {
   "interpreter": {
    "hash": "d4914c35dbc1a262acb2241fbfc193aaeb9362d455da2cebdd4b0a1d658dbfd5"
   }
  }
 },
 "nbformat": 4,
 "nbformat_minor": 2
}
