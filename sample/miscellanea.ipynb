{
 "cells": [
  {
   "cell_type": "code",
   "execution_count": 33,
   "metadata": {},
   "outputs": [
    {
     "name": "stdout",
     "output_type": "stream",
     "text": [
      "tensor([[True, True, True, True, True, True, True, True, True, True],\n",
      "        [True, True, True, True, True, True, True, True, True, True],\n",
      "        [True, True, True, True, True, True, True, True, True, True],\n",
      "        [True, True, True, True, True, True, True, True, True, True],\n",
      "        [True, True, True, True, True, True, True, True, True, True],\n",
      "        [True, True, True, True, True, True, True, True, True, True],\n",
      "        [True, True, True, True, True, True, True, True, True, True],\n",
      "        [True, True, True, True, True, True, True, True, True, True],\n",
      "        [True, True, True, True, True, True, True, True, True, True],\n",
      "        [True, True, True, True, True, True, True, True, True, True]])\n"
     ]
    }
   ],
   "source": [
    "from brt.router import FusedRandomGatherRouter, FusedRandomScatterRouter\n",
    "import brt.nn as nn\n",
    "import brt\n",
    "import torch\n",
    "\n",
    "\n",
    "@brt.domain\n",
    "class FusedMoE(nn.Module):\n",
    "    def __init__(self, route_num):\n",
    "        super().__init__()\n",
    "        self.scatter_router = FusedRandomScatterRouter(\n",
    "            route_num=route_num, supported_capacities=[2, 4, 8, 16]\n",
    "        )\n",
    "        self.gather_router = FusedRandomGatherRouter(route_num=route_num)\n",
    "\n",
    "    def forward(self, inputs):\n",
    "        route_results, reverse_indices, _ = self.scatter_router(inputs)\n",
    "        route_results = self.gather_router(route_results, reverse_indices)\n",
    "        return route_results\n",
    "\n",
    "\n",
    "fused_moe = FusedMoE(route_num=2)\n",
    "input_tensor = torch.rand((10, 10))\n",
    "output_tensor = fused_moe(input_tensor)\n",
    "print(torch.isclose(output_tensor, input_tensor))\n",
    "\n"
   ]
  }
 ],
 "metadata": {
  "interpreter": {
   "hash": "7b495db98349be6abb0a1b61323eb6d203b46e23d9d808745216e0de8177f2c3"
  },
  "kernelspec": {
   "display_name": "Python 3.8.12 64-bit ('base')",
   "language": "python",
   "name": "python3"
  },
  "language_info": {
   "codemirror_mode": {
    "name": "ipython",
    "version": 3
   },
   "file_extension": ".py",
   "mimetype": "text/x-python",
   "name": "python",
   "nbconvert_exporter": "python",
   "pygments_lexer": "ipython3",
   "version": "3.8.12"
  },
  "orig_nbformat": 4
 },
 "nbformat": 4,
 "nbformat_minor": 2
}
