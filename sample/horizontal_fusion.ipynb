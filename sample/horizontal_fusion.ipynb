{
 "cells": [
  {
   "cell_type": "code",
   "execution_count": 1,
   "metadata": {},
   "outputs": [
    {
     "name": "stdout",
     "output_type": "stream",
     "text": [
      "using logger for brainstorm.primitive\n",
      "using logger for brainstorm.router\n",
      "setting logger for brainstorm.router to DEBUG level\n",
      "setting logger for brainstorm.primitive to DEBUG level\n",
      "<Logger brainstorm.router (DEBUG)>\n"
     ]
    },
    {
     "name": "stderr",
     "output_type": "stream",
     "text": [
      "dispatcher update time: 0.0005271434783935547\n"
     ]
    },
    {
     "name": "stdout",
     "output_type": "stream",
     "text": [
      "tensor([-1.7280, -0.3930,  0.2153, -0.2337, -0.7869,  1.0724, -0.8080,  0.1821,\n",
      "         0.1815, -0.8225], device='cuda:0', grad_fn=<AddBackward0>)\n"
     ]
    }
   ],
   "source": [
    "import torch\n",
    "from brt.common import log\n",
    "import brt\n",
    "import brt.nn as nn\n",
    "from brt.router import TopKScatterRouter\n",
    "\n",
    "log.set_level(\"router\", \"DEBUG\")\n",
    "log.set_level(\"primitive\", \"DEBUG\")\n",
    "\n",
    "\n",
    "@brt.netlet\n",
    "class MoE(nn.Module):\n",
    "    def __init__(self):\n",
    "        super().__init__()\n",
    "        self.scatter_router = TopKScatterRouter(route_num=2, gran_dim=10)\n",
    "        self.expert1 = nn.Linear(10, 10)\n",
    "        self.expert2 = nn.Linear(10, 10)\n",
    "\n",
    "    def forward(self, x):\n",
    "        route_results, reverse_indice, reverse_shape = self.scatter_router(x)\n",
    "        x_0 = self.expert1(route_results[0])\n",
    "        x_1 = self.expert2(route_results[1])\n",
    "        x = x_0 + x_1\n",
    "        return x\n",
    "\n",
    "\n",
    "@brt.domain\n",
    "class MoEModel(nn.Module):\n",
    "    def __init__(self):\n",
    "        super().__init__()\n",
    "        self.moe = MoE()\n",
    "\n",
    "    def forward(self, x):\n",
    "        return self.moe(x)\n",
    "\n",
    "\n",
    "moe_model = MoEModel()\n",
    "\n",
    "x = torch.ones((60, 10))\n",
    "x = x.cuda()\n",
    "moe_model.cuda()\n",
    "z = moe_model(x)\n",
    "print(z)\n"
   ]
  }
 ],
 "metadata": {
  "interpreter": {
   "hash": "849bd15258cbc1fdb3dc8c930a1445a9f672620f82bbd55fbc814541035aa795"
  },
  "kernelspec": {
   "display_name": "Python 3.7.11 64-bit ('base')",
   "language": "python",
   "name": "python3"
  },
  "language_info": {
   "codemirror_mode": {
    "name": "ipython",
    "version": 3
   },
   "file_extension": ".py",
   "mimetype": "text/x-python",
   "name": "python",
   "nbconvert_exporter": "python",
   "pygments_lexer": "ipython3",
   "version": "3.7.11"
  },
  "orig_nbformat": 4
 },
 "nbformat": 4,
 "nbformat_minor": 2
}
