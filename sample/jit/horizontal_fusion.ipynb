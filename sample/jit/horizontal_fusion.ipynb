{
 "cells": [
  {
   "cell_type": "code",
   "execution_count": 1,
   "metadata": {},
   "outputs": [
    {
     "name": "stdout",
     "output_type": "stream",
     "text": [
      "DEBUG:brainstorm.primitive:using brt_forward\n",
      "DEBUG:brainstorm.primitive:using brt_forward\n",
      "tensor([ 0.3787,  0.5939, -0.0650, -0.6993, -1.6051,  0.6451,  0.2829, -0.8155,\n",
      "         0.2437,  0.2173], device='cuda:0', grad_fn=<AddBackward0>)\n"
     ]
    }
   ],
   "source": [
    "import torch\n",
    "import brt\n",
    "from brt.common import log\n",
    "# import brt.frontend\n",
    "import brt.nn as nn\n",
    "from brt.routers import TopKScatterRouter\n",
    "log.set_level(\"primitive\", \"DEBUG\")\n",
    "\n",
    "\n",
    "class MoE(nn.Module):\n",
    "    def __init__(self):\n",
    "        super().__init__()\n",
    "        self.scatter_router = TopKScatterRouter(route_num=2, gran_dim=10)\n",
    "        self.expert1 = nn.Linear(10, 10)\n",
    "        self.expert2 = nn.Linear(10, 10)\n",
    "\n",
    "    def forward(self, x):\n",
    "        route_results, reverse_indice, reverse_shape = self.scatter_router(x)\n",
    "        x_0 = self.expert1(route_results[0])\n",
    "        x_1 = self.expert2(route_results[1])\n",
    "        x = x_0 + x_1\n",
    "        return x\n",
    "\n",
    "\n",
    "class MoEModel(nn.Module):\n",
    "    def __init__(self):\n",
    "        super().__init__()\n",
    "        self.moe = MoE()\n",
    "\n",
    "    def forward(self, x):\n",
    "        return self.moe(x)\n",
    "\n",
    "\n",
    "moe_model = MoEModel()\n",
    "\n",
    "x = torch.ones((60, 10))\n",
    "x = x.cuda()\n",
    "moe_model.cuda()\n",
    "z = moe_model(x)\n",
    "print(z)\n"
   ]
  }
 ],
 "metadata": {
  "interpreter": {
   "hash": "7b495db98349be6abb0a1b61323eb6d203b46e23d9d808745216e0de8177f2c3"
  },
  "kernelspec": {
   "display_name": "Python 3.8.12 64-bit ('base')",
   "language": "python",
   "name": "python3"
  },
  "language_info": {
   "codemirror_mode": {
    "name": "ipython",
    "version": 3
   },
   "file_extension": ".py",
   "mimetype": "text/x-python",
   "name": "python",
   "nbconvert_exporter": "python",
   "pygments_lexer": "ipython3",
   "version": "3.8.12"
  },
  "orig_nbformat": 4
 },
 "nbformat": 4,
 "nbformat_minor": 2
}
