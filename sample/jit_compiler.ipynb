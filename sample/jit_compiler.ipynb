{
 "cells": [
  {
   "cell_type": "code",
   "execution_count": 2,
   "metadata": {},
   "outputs": [
    {
     "name": "stdout",
     "output_type": "stream",
     "text": [
      "Get devices for measurement successfully!\n",
      "WARNING:brainstorm.jit:TVM tuner of BRT only supports one task for horizontal kernel fusion once. We will use the first task for tuning.\n",
      "DEBUG:brainstorm.jit:kernel args: [[8, 64, 64], [8, 64, 64], [8, 64, 64]]\n"
     ]
    }
   ],
   "source": [
    "from brt.jit.tvm import TVMTuner\n",
    "from brt.common import BRT_CACHE_PATH\n",
    "from brt.common import log\n",
    "\n",
    "log.set_level(\"jit\", \"DEBUG\")\n",
    "\n",
    "tuner = TVMTuner()\n",
    "onnx_model = \"sparse_fusion_2_thor_model\"\n",
    "tuner.import_onnx_netlet(onnx_model)\n",
    "tuner.export_netlet_template()"
   ]
  },
  {
   "cell_type": "code",
   "execution_count": 1,
   "metadata": {},
   "outputs": [
    {
     "name": "stdout",
     "output_type": "stream",
     "text": [
      "tensor([[[64., 64., 64.,  ..., 64., 64., 64.],\n",
      "         [64., 64., 64.,  ..., 64., 64., 64.],\n",
      "         [64., 64., 64.,  ..., 64., 64., 64.],\n",
      "         ...,\n",
      "         [64., 64., 64.,  ..., 64., 64., 64.],\n",
      "         [64., 64., 64.,  ..., 64., 64., 64.],\n",
      "         [64., 64., 64.,  ..., 64., 64., 64.]],\n",
      "\n",
      "        [[64., 64., 64.,  ..., 64., 64., 64.],\n",
      "         [64., 64., 64.,  ..., 64., 64., 64.],\n",
      "         [64., 64., 64.,  ..., 64., 64., 64.],\n",
      "         ...,\n",
      "         [64., 64., 64.,  ..., 64., 64., 64.],\n",
      "         [64., 64., 64.,  ..., 64., 64., 64.],\n",
      "         [64., 64., 64.,  ..., 64., 64., 64.]],\n",
      "\n",
      "        [[64., 64., 64.,  ..., 64., 64., 64.],\n",
      "         [64., 64., 64.,  ..., 64., 64., 64.],\n",
      "         [64., 64., 64.,  ..., 64., 64., 64.],\n",
      "         ...,\n",
      "         [64., 64., 64.,  ..., 64., 64., 64.],\n",
      "         [64., 64., 64.,  ..., 64., 64., 64.],\n",
      "         [64., 64., 64.,  ..., 64., 64., 64.]],\n",
      "\n",
      "        ...,\n",
      "\n",
      "        [[64., 64., 64.,  ..., 64., 64., 64.],\n",
      "         [64., 64., 64.,  ..., 64., 64., 64.],\n",
      "         [64., 64., 64.,  ..., 64., 64., 64.],\n",
      "         ...,\n",
      "         [64., 64., 64.,  ..., 64., 64., 64.],\n",
      "         [64., 64., 64.,  ..., 64., 64., 64.],\n",
      "         [64., 64., 64.,  ..., 64., 64., 64.]],\n",
      "\n",
      "        [[64., 64., 64.,  ..., 64., 64., 64.],\n",
      "         [64., 64., 64.,  ..., 64., 64., 64.],\n",
      "         [64., 64., 64.,  ..., 64., 64., 64.],\n",
      "         ...,\n",
      "         [64., 64., 64.,  ..., 64., 64., 64.],\n",
      "         [64., 64., 64.,  ..., 64., 64., 64.],\n",
      "         [64., 64., 64.,  ..., 64., 64., 64.]],\n",
      "\n",
      "        [[64., 64., 64.,  ..., 64., 64., 64.],\n",
      "         [64., 64., 64.,  ..., 64., 64., 64.],\n",
      "         [64., 64., 64.,  ..., 64., 64., 64.],\n",
      "         ...,\n",
      "         [64., 64., 64.,  ..., 64., 64., 64.],\n",
      "         [64., 64., 64.,  ..., 64., 64., 64.],\n",
      "         [64., 64., 64.,  ..., 64., 64., 64.]]], device='cuda:0')\n"
     ]
    }
   ],
   "source": [
    "from brt.jit import JitCompiler\n",
    "from brt.common import BRT_KERNEL_TEMPLATE_PATH\n",
    "import torch\n",
    "\n",
    "kernel_name = \"sparse_fusion_2_thor_model\"\n",
    "\n",
    "kernel_template_filename = str(BRT_KERNEL_TEMPLATE_PATH / (kernel_name + \".cu\"))\n",
    "\n",
    "kernel_template_source = open(kernel_template_filename, \"r\").read()\n",
    "kernel_func = JitCompiler.generate_kernel(\n",
    "    keyword_dict=None, template=kernel_template_source\n",
    ")\n",
    "data = torch.ones((8, 64, 64), device=\"cuda\")\n",
    "weight = torch.ones((8, 64, 64), device=\"cuda\")\n",
    "outdata = torch.ones((8, 64, 64), device=\"cuda\")\n",
    "kernel_func(data, weight, outdata)\n",
    "print(outdata)"
   ]
  },
  {
   "cell_type": "code",
   "execution_count": 1,
   "metadata": {},
   "outputs": [
    {
     "name": "stdout",
     "output_type": "stream",
     "text": [
      "first time: 124.008JIT: cumsum\n",
      "\n",
      "second time: 0.067\n"
     ]
    }
   ],
   "source": [
    "from brt.jit.compiler import JitCompiler\n",
    "from brt.common import BRT_KERNEL_TEMPLATE_PATH\n",
    "import time\n",
    "import torch\n",
    "\n",
    "kernel_name = \"sample\"\n",
    "\n",
    "kernel_template_filename = str(BRT_KERNEL_TEMPLATE_PATH / (kernel_name + \".cu\"))\n",
    "\n",
    "kernel_template_source = open(kernel_template_filename, \"r\").read()\n",
    "# print(kernel_template_source)\n",
    "kernel_func = JitCompiler.generate_kernel(\n",
    "    {\"batch_num\": 2, \"num_samples\": 2}, kernel_template_source,\n",
    ")\n",
    "data = torch.ones((8, 64, 64), device=\"cuda\")\n",
    "weight = torch.ones((8, 64, 64), device=\"cuda\")\n",
    "outdata = torch.ones((8, 64, 64), device=\"cuda\")\n",
    "start_stamp = time.time()\n",
    "kernel_func(data, weight, outdata)\n",
    "end_stamp = time.time()\n",
    "print(\"first time: {:.3f}\".format((end_stamp - start_stamp) * 1000))\n",
    "\n",
    "start_stamp = time.time()\n",
    "kernel_func(data, weight, outdata)\n",
    "end_stamp = time.time()\n",
    "print(\"second time: {:.3f}\".format((end_stamp - start_stamp) * 1000))\n"
   ]
  }
 ],
 "metadata": {
  "interpreter": {
   "hash": "31f2aee4e71d21fbe5cf8b01ff0e069b9275f58929596ceb00d14d90e3e16cd6"
  },
  "kernelspec": {
   "display_name": "Python 3.8.10 64-bit",
   "language": "python",
   "name": "python3"
  },
  "language_info": {
   "codemirror_mode": {
    "name": "ipython",
    "version": 3
   },
   "file_extension": ".py",
   "mimetype": "text/x-python",
   "name": "python",
   "nbconvert_exporter": "python",
   "pygments_lexer": "ipython3",
   "version": "3.8.12"
  },
  "orig_nbformat": 4
 },
 "nbformat": 4,
 "nbformat_minor": 2
}
