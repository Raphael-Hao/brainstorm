{
 "cells": [
  {
   "cell_type": "code",
   "execution_count": 2,
   "metadata": {},
   "outputs": [
    {
     "name": "stdout",
     "output_type": "stream",
     "text": [
      "Get devices for measurement successfully!\n",
      "WARNING:brainstorm.jit:TVM tuner of BRT only supports one task for horizontal kernel fusion once. We will use the first task for tuning.\n",
      "DEBUG:brainstorm.jit:kernel args: [[8, 64, 64], [8, 64, 64], [8, 64, 64]]\n"
     ]
    }
   ],
   "source": [
    "from brt.jit.tvm import TVMTuner\n",
    "from brt.common import BRT_CACHE_PATH\n",
    "from brt.common import log\n",
    "\n",
    "log.set_level(\"jit\", \"DEBUG\")\n",
    "\n",
    "tuner = TVMTuner()\n",
    "onnx_model = \"sparse_fusion_2_thor_model\"\n",
    "tuner.import_onnx_netlet(onnx_model)\n",
    "tuner.export_netlet_template()"
   ]
  },
  {
   "cell_type": "code",
   "execution_count": null,
   "metadata": {},
   "outputs": [],
   "source": [
    "from brt.jit import CUDACompiler\n",
    "from brt.common import BRT_KERNEL_TEMPLATE_PATH\n",
    "import torch\n",
    "\n",
    "kernel_name = \"sparse_fusion_2_thor_model\"\n",
    "\n",
    "kernel_template_filename = str(BRT_KERNEL_TEMPLATE_PATH / (kernel_name + \".cu\"))\n",
    "\n",
    "kernel_template_source = open(kernel_template_filename, \"r\").read()\n",
    "kernel_func = CUDACompiler.generate_kernel(\n",
    "    keyword_dict=None, template=kernel_template_source\n",
    ")\n",
    "data = torch.ones((8, 64, 64), device=\"cuda\")\n",
    "weight = torch.ones((8, 64, 64), device=\"cuda\")\n",
    "outdata = torch.ones((8, 64, 64), device=\"cuda\")\n",
    "kernel_func(data, weight, outdata)\n",
    "print(outdata.shape)"
   ]
  },
  {
   "cell_type": "code",
   "execution_count": 11,
   "metadata": {},
   "outputs": [
    {
     "name": "stdout",
     "output_type": "stream",
     "text": [
      "first time: 466.115\n",
      "second time: 0.065\n"
     ]
    }
   ],
   "source": [
    "from brt.jit.compiler import CUDACompiler\n",
    "from brt.common import BRT_KERNEL_TEMPLATE_PATH\n",
    "import time\n",
    "import torch\n",
    "\n",
    "kernel_name = \"sample\"\n",
    "\n",
    "kernel_template_filename = str(BRT_KERNEL_TEMPLATE_PATH / (kernel_name + \".cu\"))\n",
    "\n",
    "kernel_template_source = open(kernel_template_filename, \"r\").read()\n",
    "# print(kernel_template_source)\n",
    "kernel_func = CUDACompiler.generate_kernel(\n",
    "    {\"batch_num\": 2, \"num_samples\": 2}, kernel_template_source,\n",
    ")\n",
    "data = torch.ones((8, 64, 64), device=\"cuda\")\n",
    "weight = torch.ones((8, 64, 64), device=\"cuda\")\n",
    "outdata = torch.ones((8, 64, 64), device=\"cuda\")\n",
    "start_stamp = time.time()\n",
    "kernel_func(data, weight, outdata)\n",
    "end_stamp = time.time()\n",
    "print(\"first time: {:.3f}\".format((end_stamp - start_stamp) * 1000))\n",
    "\n",
    "start_stamp = time.time()\n",
    "kernel_func(data, weight, outdata)\n",
    "end_stamp = time.time()\n",
    "print(\"second time: {:.3f}\".format((end_stamp - start_stamp) * 1000))\n"
   ]
  },
  {
   "cell_type": "code",
   "execution_count": null,
   "metadata": {},
   "outputs": [],
   "source": [
    "from brt.common import BRT_KERNEL_TEMPLATE_PATH\n",
    "from brt.jit.generic import GenericFunction\n",
    "from brt.jit.compiler import CUDACompiler\n",
    "import torch\n",
    "kernel_name = \"sample\"\n",
    "\n",
    "kernel_template_filename = str(BRT_KERNEL_TEMPLATE_PATH / (kernel_name + \".cu\"))\n",
    "\n",
    "kernel_template_source = open(kernel_template_filename, \"r\").read()\n",
    "\n",
    "# print(kernel_template_source)\n",
    "generic_function = GenericFunction(kernel_template_source)\n",
    "\n",
    "code = generic_function.get_code(\"global\")\n",
    "# processed_template_fname = str(\n",
    "#     BRT_KERNEL_TEMPLATE_PATH / (\"processed_\" + kernel_name + \".cu\")\n",
    "# )\n",
    "# with open(processed_template_fname, \"w\") as f:\n",
    "#     f.write(code)\n",
    "data = torch.ones((8, 64, 64), device=\"cuda\")\n",
    "weight = torch.ones((8, 64, 64), device=\"cuda\")\n",
    "outdata = torch.ones((8, 64, 64), device=\"cuda\")\n",
    "\n",
    "func = CUDACompiler.generate_kernel(None, code)\n",
    "func(data, weight, outdata)"
   ]
  },
  {
   "cell_type": "code",
   "execution_count": 12,
   "metadata": {},
   "outputs": [
    {
     "name": "stdout",
     "output_type": "stream",
     "text": [
      "DEBUG:brainstorm.jit:Fusing blocks from 0 to 255 for 0-th block\n",
      "DEBUG:brainstorm.jit:Fusing blocks from 256 to 511 for 1-th block\n"
     ]
    },
    {
     "ename": "Error",
     "evalue": "Canceled future for execute_request message before replies were done",
     "output_type": "error",
     "traceback": [
      "Error: Canceled future for execute_request message before replies were done",
      "at t.KernelShellFutureHandler.dispose (/home/whcui/.vscode-server/extensions/ms-toolsai.jupyter-2022.3.1000901801/out/extension.js:2:1204175)",
      "at /home/whcui/.vscode-server/extensions/ms-toolsai.jupyter-2022.3.1000901801/out/extension.js:2:1223227",
      "at Map.forEach (<anonymous>)",
      "at v._clearKernelState (/home/whcui/.vscode-server/extensions/ms-toolsai.jupyter-2022.3.1000901801/out/extension.js:2:1223212)",
      "at v.dispose (/home/whcui/.vscode-server/extensions/ms-toolsai.jupyter-2022.3.1000901801/out/extension.js:2:1216694)",
      "at /home/whcui/.vscode-server/extensions/ms-toolsai.jupyter-2022.3.1000901801/out/extension.js:2:533674",
      "at t.swallowExceptions (/home/whcui/.vscode-server/extensions/ms-toolsai.jupyter-2022.3.1000901801/out/extension.js:2:913059)",
      "at dispose (/home/whcui/.vscode-server/extensions/ms-toolsai.jupyter-2022.3.1000901801/out/extension.js:2:533652)",
      "at t.RawSession.dispose (/home/whcui/.vscode-server/extensions/ms-toolsai.jupyter-2022.3.1000901801/out/extension.js:2:537330)",
      "at runMicrotasks (<anonymous>)",
      "at processTicksAndRejections (node:internal/process/task_queues:96:5)"
     ]
    }
   ],
   "source": [
    "\n",
    "import torch\n",
    "from brt.jit.block_fuse import BlockFuser\n",
    "from brt.common import BRT_KERNEL_TEMPLATE_PATH, log\n",
    "from brt.jit.generic import GenericFunction\n",
    "from brt.jit.compiler import CUDACompiler\n",
    "\n",
    "log.set_level(\"jit\", \"DEBUG\")\n",
    "\n",
    "kernel_name = \"sample\"\n",
    "\n",
    "kernel_template_filename = str(BRT_KERNEL_TEMPLATE_PATH / (kernel_name + \".cu\"))\n",
    "\n",
    "kernel_template_source = open(kernel_template_filename, \"r\").read()\n",
    "\n",
    "block_fuser = BlockFuser([kernel_template_source, kernel_template_source])\n",
    "\n",
    "code = block_fuser.get_code()\n",
    "\n",
    "processed_template_fname = str(\n",
    "    BRT_KERNEL_TEMPLATE_PATH / (\"processed_\" + kernel_name + \".cu\")\n",
    ")\n",
    "with open(processed_template_fname, \"w\") as f:\n",
    "    f.write(code)\n",
    "\n",
    "fused_matmul = CUDACompiler.generate_kernel(None, code)\n",
    "\n",
    "data = torch.ones((8, 64, 64), device=\"cuda\")\n",
    "weight = torch.ones((8, 64, 64), device=\"cuda\")\n",
    "outdata = torch.ones((8, 64, 64), device=\"cuda\")\n",
    "fused_matmul(data, weight, outdata, data, weight, outdata)\n"
   ]
  }
 ],
 "metadata": {
  "interpreter": {
   "hash": "31f2aee4e71d21fbe5cf8b01ff0e069b9275f58929596ceb00d14d90e3e16cd6"
  },
  "kernelspec": {
   "display_name": "Python 3.8.10 64-bit",
   "language": "python",
   "name": "python3"
  },
  "language_info": {
   "codemirror_mode": {
    "name": "ipython",
    "version": 3
   },
   "file_extension": ".py",
   "mimetype": "text/x-python",
   "name": "python",
   "nbconvert_exporter": "python",
   "pygments_lexer": "ipython3",
   "version": "3.8.12"
  },
  "orig_nbformat": 4
 },
 "nbformat": 4,
 "nbformat_minor": 2
}
