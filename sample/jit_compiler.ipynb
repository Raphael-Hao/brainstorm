{
 "cells": [
  {
   "cell_type": "code",
   "execution_count": 4,
   "metadata": {},
   "outputs": [
    {
     "data": {
      "text/plain": [
       "<function brt.runtime.jit.JitCompiler.create_raw.<locals>.func(*inputs, extra=[])>"
      ]
     },
     "execution_count": 4,
     "metadata": {},
     "output_type": "execute_result"
    }
   ],
   "source": [
    "from brt.runtime.jit import JitCompiler\n",
    "\n",
    "JitCompiler.generate_kernel(\n",
    "    {\"dtype\": \"float\", \"IS_FLOAT\": 1},\n",
    "    \"\"\"\n",
    "    #define __dtype @dtype@\n",
    "\n",
    "    extern \"C\" __global__ __launch_bounds__(1024) void execute(__dtype* __restrict__ gates1_s, int* __restrict__ indices1_s, int* __restrict__ locations1_s, __dtype* __restrict__ reshaped_input, __dtype* __restrict__ dispatched_input, int samples, int hidden, int capacity) {\n",
    "      // [thread_extent] blockIdx.x = 512\n",
    "      // [thread_extent] threadIdx.x = 1024\n",
    "\n",
    "      for (int i = blockIdx.x; i < samples; i += gridDim.x)\n",
    "          if (locations1_s[i] < capacity && indices1_s[i] >= 0) {\n",
    "              #pragma unroll\n",
    "              for (int j = threadIdx.x; j < hidden; j += 1024)\n",
    "                  atomicAdd(&dispatched_input[(indices1_s[i] * capacity + locations1_s[i]) * (hidden) + j], gates1_s[i] * reshaped_input[i * (hidden) + j]);\n",
    "          }\n",
    "    }\n",
    "  \"\"\",\n",
    ")\n",
    "\n",
    "JitCompiler.generate_kernel(\n",
    "    {\"dtype\": \"float\", \"IS_FLOAT\": 1},\n",
    "    \"\"\"\n",
    "    #define __dtype @dtype@\n",
    "\n",
    "    extern \"C\" __global__ __launch_bounds__(1024) void execute(__dtype* __restrict__ gates1_s, int* __restrict__ indices1_s, int* __restrict__ locations1_s, __dtype* __restrict__ reshaped_input, __dtype* __restrict__ dispatched_input, int samples, int hidden, int capacity) {\n",
    "      // [thread_extent] blockIdx.x = 512\n",
    "      // [thread_extent] threadIdx.x = 1024\n",
    "\n",
    "      for (int i = blockIdx.x; i < samples; i += gridDim.x)\n",
    "          if (locations1_s[i] < capacity && indices1_s[i] >= 0) {\n",
    "              #pragma unroll\n",
    "              for (int j = threadIdx.x; j < hidden; j += 1024)\n",
    "                  atomicAdd(&dispatched_input[(indices1_s[i] * capacity + locations1_s[i]) * (hidden) + j], gates1_s[i] * reshaped_input[i * (hidden) + j]);\n",
    "          }\n",
    "    }\n",
    "  \"\"\",\n",
    ")\n",
    "\n"
   ]
  }
 ],
 "metadata": {
  "interpreter": {
   "hash": "31f2aee4e71d21fbe5cf8b01ff0e069b9275f58929596ceb00d14d90e3e16cd6"
  },
  "kernelspec": {
   "display_name": "Python 3.8.10 64-bit",
   "language": "python",
   "name": "python3"
  },
  "language_info": {
   "codemirror_mode": {
    "name": "ipython",
    "version": 3
   },
   "file_extension": ".py",
   "mimetype": "text/x-python",
   "name": "python",
   "nbconvert_exporter": "python",
   "pygments_lexer": "ipython3",
   "version": "3.8.12"
  },
  "orig_nbformat": 4
 },
 "nbformat": 4,
 "nbformat_minor": 2
}
