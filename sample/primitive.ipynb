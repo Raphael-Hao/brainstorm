{
 "cells": [
  {
   "cell_type": "code",
   "execution_count": 2,
   "metadata": {},
   "outputs": [],
   "source": [
    "import brt.nn as nn"
   ]
  },
  {
   "cell_type": "code",
   "execution_count": 1,
   "metadata": {},
   "outputs": [
    {
     "ename": "ImportError",
     "evalue": "cannot import name 'graph' from 'brt' (/home/whcui/brainstorm_project/brainstorm/python/brt/__init__.py)",
     "output_type": "error",
     "traceback": [
      "\u001b[0;31m---------------------------------------------------------------------------\u001b[0m",
      "\u001b[0;31mImportError\u001b[0m                               Traceback (most recent call last)",
      "\u001b[0;32m/tmp/ipykernel_2645503/896952641.py\u001b[0m in \u001b[0;36m<module>\u001b[0;34m\u001b[0m\n\u001b[0;32m----> 1\u001b[0;31m \u001b[0;32mimport\u001b[0m \u001b[0mbrt\u001b[0m\u001b[0;34m\u001b[0m\u001b[0;34m\u001b[0m\u001b[0m\n\u001b[0m\u001b[1;32m      2\u001b[0m \u001b[0;32mimport\u001b[0m \u001b[0mbrt\u001b[0m\u001b[0;34m.\u001b[0m\u001b[0mnn\u001b[0m \u001b[0;32mas\u001b[0m \u001b[0mnn\u001b[0m\u001b[0;34m\u001b[0m\u001b[0;34m\u001b[0m\u001b[0m\n\u001b[1;32m      3\u001b[0m \u001b[0;32mimport\u001b[0m \u001b[0mtorch\u001b[0m\u001b[0;34m\u001b[0m\u001b[0;34m\u001b[0m\u001b[0m\n\u001b[1;32m      4\u001b[0m \u001b[0;32mfrom\u001b[0m \u001b[0mbrt\u001b[0m\u001b[0;34m.\u001b[0m\u001b[0mprimitive\u001b[0m \u001b[0;32mimport\u001b[0m \u001b[0mis_netlet\u001b[0m\u001b[0;34m\u001b[0m\u001b[0;34m\u001b[0m\u001b[0m\n\u001b[1;32m      5\u001b[0m \u001b[0;34m\u001b[0m\u001b[0m\n",
      "\u001b[0;32m~/brainstorm_project/brainstorm/python/brt/__init__.py\u001b[0m in \u001b[0;36m<module>\u001b[0;34m\u001b[0m\n\u001b[1;32m      3\u001b[0m \u001b[0;34m\u001b[0m\u001b[0m\n\u001b[1;32m      4\u001b[0m \u001b[0;34m\u001b[0m\u001b[0m\n\u001b[0;32m----> 5\u001b[0;31m \u001b[0;32mfrom\u001b[0m \u001b[0;34m.\u001b[0m \u001b[0;32mimport\u001b[0m \u001b[0mgraph\u001b[0m\u001b[0;34m,\u001b[0m \u001b[0mnn\u001b[0m\u001b[0;34m\u001b[0m\u001b[0;34m\u001b[0m\u001b[0m\n\u001b[0m\u001b[1;32m      6\u001b[0m \u001b[0;32mfrom\u001b[0m \u001b[0;34m.\u001b[0m\u001b[0mprimitive\u001b[0m \u001b[0;32mimport\u001b[0m \u001b[0mdomain\u001b[0m\u001b[0;34m,\u001b[0m \u001b[0mnetlet\u001b[0m\u001b[0;34m\u001b[0m\u001b[0;34m\u001b[0m\u001b[0m\n",
      "\u001b[0;31mImportError\u001b[0m: cannot import name 'graph' from 'brt' (/home/whcui/brainstorm_project/brainstorm/python/brt/__init__.py)"
     ]
    }
   ],
   "source": [
    "import brt\n",
    "import brt.nn as nn\n",
    "import torch\n",
    "from brt.primitive import is_netlet\n",
    "\n",
    "\n",
    "@brt.netlet\n",
    "class SimpleNet(nn.Module):\n",
    "    def __init__(self):\n",
    "        super().__init__()\n",
    "        self.linear1 = nn.Linear(10, 10)\n",
    "        self.linear2 = nn.Linear(10, 10)\n",
    "    \n",
    "    def forward(self, x):\n",
    "        x = self.linear1(x)\n",
    "        x = self.linear2(x)\n",
    "        return x\n",
    "\n",
    "\n",
    "@brt.domain\n",
    "class SimpleNet2(nn.Module):\n",
    "    def __init__(self):\n",
    "        super().__init__()\n",
    "        self.net = SimpleNet()\n",
    "    \n",
    "    def forward(self, x):\n",
    "        x = self.net(x)\n",
    "        return x\n",
    "\n",
    "simple_net = SimpleNet()\n",
    "simple_net2 = SimpleNet2()\n",
    "\n",
    "script_simple_net = torch.jit.script(simple_net)\n",
    "\n",
    "script_simple_net2 = torch.jit.script(simple_net2)\n",
    "\n",
    "# x = torch.Tensor([0, 1, 2, 3, 4, 5, 6, 7, 8, 9])\n",
    "# print(script_simple_net2(x))\n",
    "# print(\"-----------------------------------------------------\")\n",
    "# print(script_simple_net2.inlined_graph)\n",
    "# print(\"-----------------------------------------------------\")\n",
    "# print(script_simple_net2.net.inlined_graph)\n",
    "# print(\"-----------------------------------------------------\")\n"
   ]
  },
  {
   "cell_type": "code",
   "execution_count": 2,
   "metadata": {},
   "outputs": [
    {
     "name": "stdout",
     "output_type": "stream",
     "text": [
      "<torch._C.ScriptMethod object at 0x7f0f8e265170>\n",
      "<torch._C.ScriptMethod object at 0x7f0f848ab7d0>\n",
      "Node(id=-1, name=_inputs, python_name=None, label=None, operation=_IOPseudoOperation(type=\"_inputs\"))\n",
      "Node(id=-2, name=_outputs, python_name=None, label=None, operation=_IOPseudoOperation(type=\"_outputs\"))\n",
      "Node(id=3, name=_model__net__linear1, python_name=net.linear1, label=None, operation=ModuleOperator(type=\"__torch__.torch.nn.modules.linear.Linear\", in_features=10, out_features=10))\n",
      "Node(id=5, name=_model__net__linear2, python_name=net.linear2, label=None, operation=ModuleOperator(type=\"__torch__.torch.nn.modules.linear.Linear\", in_features=10, out_features=10))\n",
      "Node(id=-1, name=_inputs, python_name=None, label=None, operation=_IOPseudoOperation(type=\"_inputs\"))\n",
      "Node(id=-2, name=_outputs, python_name=None, label=None, operation=_IOPseudoOperation(type=\"_outputs\"))\n",
      "Node(id=6, name=_model__net, python_name=net, label=None, operation=Cell(type=\"_cell\"))\n",
      "-----------------\n",
      "Node(id=6, name=_model__net, python_name=net, label=None, operation=Cell(type=\"_cell\"))\n",
      "import torch\n",
      "import torch.nn as nn\n",
      "import torch.nn.functional as F\n",
      "import torch.optim as optim\n",
      "\n",
      "import brt.nn\n",
      "\n",
      "import torch\n",
      "\n",
      "\n",
      "class _model__net(nn.Module):\n",
      "    def __init__(self):\n",
      "        super().__init__()\n",
      "        self._linear1 = torch.nn.modules.linear.Linear(in_features=10, out_features=10)\n",
      "        self._linear2 = torch.nn.modules.linear.Linear(in_features=10, out_features=10)\n",
      "        self._mapping_ = {'_linear1': 'net.linear1', '_linear2': 'net.linear2'}\n",
      "\n",
      "    def forward(self, x__1):\n",
      "        _linear1 = self._linear1(x__1)\n",
      "        _linear2 = self._linear2(_linear1)\n",
      "        return _linear2\n",
      "\n",
      "\n",
      "\n",
      "class _model(nn.Module):\n",
      "    def __init__(self):\n",
      "        super().__init__()\n",
      "        self._net = _model__net()\n",
      "        self._mapping_ = {'_net': 'net'}\n",
      "\n",
      "    def forward(self, x__1):\n",
      "        _net = self._net(x__1)\n",
      "        return _net\n"
     ]
    }
   ],
   "source": [
    "from brt.frontend import build_graph\n",
    "from brt.backend.pytorch import model_to_script\n",
    "model_ir = build_graph(script_simple_net2, simple_net2)\n",
    "\n",
    "for node in model_ir.get_nodes():\n",
    "    print(node)\n",
    "\n",
    "print(\"-----------------\")\n",
    "\n",
    "for cell_node in model_ir.get_cell_nodes():\n",
    "    print(cell_node)\n",
    "\n",
    "model_code = model_to_script(model_ir)\n",
    "print(model_code)"
   ]
  },
  {
   "cell_type": "code",
   "execution_count": 1,
   "metadata": {},
   "outputs": [
    {
     "name": "stdout",
     "output_type": "stream",
     "text": [
      "tensor([ 1.,  2.,  3.,  4.,  5.,  6.,  7.,  8.,  9., 10.])\n",
      "[tensor([[ 8.0177,  0.2170,  1.7873, -1.5705,  3.5048, -0.8114, -0.2820, -5.2147,\n",
      "          0.5031, -4.6683]], grad_fn=<AddmmBackward0>), tensor([[ 0.6432, -0.2556, -1.6817,  0.7738, -2.1663, -2.8370, -4.0695,  1.5846,\n",
      "          3.3701, -3.0807]], grad_fn=<AddmmBackward0>)]\n",
      "(tensor([[ 8.0177,  0.2170,  1.7873, -1.5705,  3.5048, -0.8114, -0.2820, -5.2147,\n",
      "          0.5031, -4.6683]], grad_fn=<AddmmBackward0>), tensor([[ 0.6432, -0.2556, -1.6817,  0.7738, -2.1663, -2.8370, -4.0695,  1.5846,\n",
      "          3.3701, -3.0807]], grad_fn=<AddmmBackward0>))\n",
      "graph(%self : __torch__.Model,\n",
      "      %x.1 : Tensor):\n",
      "  %moe_model : __torch__.MoEModel = prim::GetAttr[name=\"moe_model\"](%self)\n",
      "  %4 : (Tensor, Tensor) = prim::CallMethod[name=\"forward\"](%moe_model, %x.1) # /tmp/ipykernel_10124/1649510055.py:40:15\n",
      "  return (%4)\n",
      "\n"
     ]
    }
   ],
   "source": [
    "import torch\n",
    "import brt\n",
    "import brt.nn as nn\n",
    "from brt.router import RandomScatterRouter, RandomGatherRouter\n",
    "\n",
    "\n",
    "@brt.netlet\n",
    "class MoE(nn.Module):\n",
    "    def __init__(self):\n",
    "        super().__init__()\n",
    "        self.scatter_router = RandomScatterRouter(route_num=2)\n",
    "        self.expert1 = nn.Linear(10, 10)\n",
    "        self.expert2 = nn.Linear(10, 10)\n",
    "        self.gather_router = RandomGatherRouter(route_num=2)\n",
    "\n",
    "    def forward(self, x):\n",
    "        route_results, reverse_indice, reverse_shape = self.scatter_router(x)\n",
    "        x_0 = self.expert1(route_results[0])\n",
    "        x_1 = self.expert2(route_results[1])\n",
    "        x = self.gather_router([x_0, x_1], reverse_indice, reverse_shape)\n",
    "        return x_0, x_1\n",
    "\n",
    "\n",
    "@brt.netlet\n",
    "class MoEModel(nn.Module):\n",
    "    def __init__(self):\n",
    "        super().__init__()\n",
    "        self.moe = MoE()\n",
    "\n",
    "    def forward(self, x):\n",
    "        return self.moe(x)\n",
    "\n",
    "@brt.domain\n",
    "class Model(nn.Module):\n",
    "    def __init__(self):\n",
    "        super().__init__()\n",
    "        self.moe_model = MoEModel()\n",
    "\n",
    "    def forward(self, x):\n",
    "        return self.moe_model(x)\n",
    "\n",
    "\n",
    "moe_model = Model()\n",
    "\n",
    "x = torch.Tensor([[1, 2, 3, 4, 5, 6, 7, 8, 9, 10], [1, 2, 3, 4, 5, 6, 7, 8, 9, 10]])\n",
    "# model.cuda()\n",
    "y = 10\n",
    "z = moe_model(x)\n",
    "print(z)\n",
    "\n",
    "script_moe_model = torch.jit.script(moe_model)\n",
    "print(script_moe_model.graph)\n"
   ]
  },
  {
   "cell_type": "code",
   "execution_count": 4,
   "metadata": {},
   "outputs": [
    {
     "name": "stdout",
     "output_type": "stream",
     "text": [
      "<torch._C.ScriptMethod object at 0x7f3a40d75890>\n",
      "<torch._C.ScriptMethod object at 0x7f3a40d75890>\n",
      "<torch._C.ScriptMethod object at 0x7f3a40d756b0>\n",
      "Node(id=-1, name=_inputs, python_name=None, label=None, operation=_IOPseudoOperation(type=\"_inputs\"))\n",
      "Node(id=-2, name=_outputs, python_name=None, label=None, operation=_IOPseudoOperation(type=\"_outputs\"))\n",
      "Node(id=3, name=_model__moe_model__moe__Constant3, python_name=None, label=None, operation=PrimConstant(type=\"prim::Constant\", type='int', value=0))\n",
      "Node(id=4, name=_model__moe_model__moe__Constant4, python_name=None, label=None, operation=PrimConstant(type=\"prim::Constant\", type='int', value=1))\n",
      "Node(id=5, name=_model__moe_model__moe__Attr5, python_name=None, label=None, operation=PrimGetAttr(type=\"prim::GetAttr\", name='scatter_router', input='self', value=None))\n",
      "Node(id=6, name=_model__moe_model__moe__prim__PythonOp6, python_name=None, label=None, operation=PyTorchOperation(type=\"prim::PythonOp\"))\n",
      "Node(id=7, name=_model__moe_model__moe__TupleUnpack7, python_name=None, label=None, operation=PrimTupleUnpack(type=\"prim::TupleUnpack\"))\n",
      "Node(id=9, name=_model__moe_model__moe__aten____getitem__9, python_name=moe_model.moe.__getitem__, label=None, operation=AtenGetitem(type=\"aten::__getitem__\"))\n",
      "Node(id=10, name=_model__moe_model__moe__expert1, python_name=moe_model.moe.expert1, label=None, operation=ModuleOperator(type=\"__torch__.torch.nn.modules.linear.Linear\", in_features=10, out_features=10))\n",
      "Node(id=12, name=_model__moe_model__moe__aten____getitem__11, python_name=moe_model.moe.__getitem__, label=None, operation=AtenGetitem(type=\"aten::__getitem__\"))\n",
      "Node(id=13, name=_model__moe_model__moe__expert2, python_name=moe_model.moe.expert2, label=None, operation=ModuleOperator(type=\"__torch__.torch.nn.modules.linear.Linear\", in_features=10, out_features=10))\n",
      "Node(id=14, name=_model__moe_model__moe__Attr12, python_name=None, label=None, operation=PrimGetAttr(type=\"prim::GetAttr\", name='gather_router', input='self', value=None))\n",
      "Node(id=15, name=_model__moe_model__moe__ListConstruct13, python_name=None, label=None, operation=PrimListConstruct(type=\"prim::ListConstruct\"))\n",
      "Node(id=16, name=_model__moe_model__moe__prim__PythonOp14, python_name=None, label=None, operation=PyTorchOperation(type=\"prim::PythonOp\"))\n",
      "Node(id=17, name=_model__moe_model__moe__TupleConstruct15, python_name=None, label=None, operation=PrimTupleConstruct(type=\"prim::TupleConstruct\"))\n",
      "Node(id=-1, name=_inputs, python_name=None, label=None, operation=_IOPseudoOperation(type=\"_inputs\"))\n",
      "Node(id=-2, name=_outputs, python_name=None, label=None, operation=_IOPseudoOperation(type=\"_outputs\"))\n",
      "Node(id=18, name=_model__moe_model__moe, python_name=moe_model.moe, label=None, operation=Cell(type=\"_cell\"))\n",
      "Node(id=-1, name=_inputs, python_name=None, label=None, operation=_IOPseudoOperation(type=\"_inputs\"))\n",
      "Node(id=-2, name=_outputs, python_name=None, label=None, operation=_IOPseudoOperation(type=\"_outputs\"))\n",
      "Node(id=19, name=_model__moe_model, python_name=moe_model, label=None, operation=Cell(type=\"_cell\"))\n"
     ]
    },
    {
     "ename": "RuntimeError",
     "evalue": "unsupported operation type: prim::PythonOp ? None",
     "output_type": "error",
     "traceback": [
      "\u001b[0;31m---------------------------------------------------------------------------\u001b[0m",
      "\u001b[0;31mRuntimeError\u001b[0m                              Traceback (most recent call last)",
      "\u001b[0;32m/tmp/ipykernel_1563562/3093619945.py\u001b[0m in \u001b[0;36m<module>\u001b[0;34m\u001b[0m\n\u001b[1;32m      6\u001b[0m     \u001b[0mprint\u001b[0m\u001b[0;34m(\u001b[0m\u001b[0mnode\u001b[0m\u001b[0;34m)\u001b[0m\u001b[0;34m\u001b[0m\u001b[0;34m\u001b[0m\u001b[0m\n\u001b[1;32m      7\u001b[0m \u001b[0;34m\u001b[0m\u001b[0m\n\u001b[0;32m----> 8\u001b[0;31m \u001b[0mmodel_code\u001b[0m \u001b[0;34m=\u001b[0m \u001b[0mmodel_to_script\u001b[0m\u001b[0;34m(\u001b[0m\u001b[0mmodel_ir\u001b[0m\u001b[0;34m)\u001b[0m\u001b[0;34m\u001b[0m\u001b[0;34m\u001b[0m\u001b[0m\n\u001b[0m",
      "\u001b[0;32m~/brainstorm_project/brainstorm/python/brt/backend/pytorch/codegen.py\u001b[0m in \u001b[0;36mmodel_to_script\u001b[0;34m(model, placement)\u001b[0m\n\u001b[1;32m     20\u001b[0m     \u001b[0;32mfor\u001b[0m \u001b[0mname\u001b[0m\u001b[0;34m,\u001b[0m \u001b[0mcell\u001b[0m \u001b[0;32min\u001b[0m \u001b[0mmodel\u001b[0m\u001b[0;34m.\u001b[0m\u001b[0mgraphs\u001b[0m\u001b[0;34m.\u001b[0m\u001b[0mitems\u001b[0m\u001b[0;34m(\u001b[0m\u001b[0;34m)\u001b[0m\u001b[0;34m:\u001b[0m\u001b[0;34m\u001b[0m\u001b[0;34m\u001b[0m\u001b[0m\n\u001b[1;32m     21\u001b[0m         import_pkgs, graph_code = graph_to_model(\n\u001b[0;32m---> 22\u001b[0;31m             \u001b[0mname\u001b[0m\u001b[0;34m,\u001b[0m \u001b[0mcell\u001b[0m\u001b[0;34m,\u001b[0m \u001b[0mplacement\u001b[0m\u001b[0;34m=\u001b[0m\u001b[0mplacement\u001b[0m\u001b[0;34m\u001b[0m\u001b[0;34m\u001b[0m\u001b[0m\n\u001b[0m\u001b[1;32m     23\u001b[0m         )\n\u001b[1;32m     24\u001b[0m         \u001b[0mgraphs\u001b[0m\u001b[0;34m.\u001b[0m\u001b[0mappend\u001b[0m\u001b[0;34m(\u001b[0m\u001b[0mgraph_code\u001b[0m\u001b[0;34m)\u001b[0m\u001b[0;34m\u001b[0m\u001b[0;34m\u001b[0m\u001b[0m\n",
      "\u001b[0;32m~/brainstorm_project/brainstorm/python/brt/backend/pytorch/codegen.py\u001b[0m in \u001b[0;36mgraph_to_model\u001b[0;34m(graph_name, graph, placement)\u001b[0m\n\u001b[1;32m    209\u001b[0m             edge_codes.append(\n\u001b[1;32m    210\u001b[0m                 node.operation.to_forward_code(\n\u001b[0;32m--> 211\u001b[0;31m                     \u001b[0msubmodule_name\u001b[0m\u001b[0;34m,\u001b[0m \u001b[0mnode_name\u001b[0m\u001b[0;34m,\u001b[0m \u001b[0minputs\u001b[0m\u001b[0;34m,\u001b[0m \u001b[0minputs_value\u001b[0m\u001b[0;34m\u001b[0m\u001b[0;34m\u001b[0m\u001b[0m\n\u001b[0m\u001b[1;32m    212\u001b[0m                 )\n\u001b[1;32m    213\u001b[0m             )\n",
      "\u001b[0;32m~/brainstorm_project/brainstorm/python/brt/operation/base.py\u001b[0m in \u001b[0;36mto_forward_code\u001b[0;34m(self, field, output, inputs, inputs_value)\u001b[0m\n\u001b[1;32m    181\u001b[0m         \u001b[0;32melse\u001b[0m\u001b[0;34m:\u001b[0m\u001b[0;34m\u001b[0m\u001b[0;34m\u001b[0m\u001b[0m\n\u001b[1;32m    182\u001b[0m             raise RuntimeError(\n\u001b[0;32m--> 183\u001b[0;31m                 \u001b[0;34mf\"unsupported operation type: {self.type} ? {self._to_class_name()}\"\u001b[0m\u001b[0;34m\u001b[0m\u001b[0;34m\u001b[0m\u001b[0m\n\u001b[0m\u001b[1;32m    184\u001b[0m             )\n\u001b[1;32m    185\u001b[0m \u001b[0;34m\u001b[0m\u001b[0m\n",
      "\u001b[0;31mRuntimeError\u001b[0m: unsupported operation type: prim::PythonOp ? None"
     ]
    }
   ],
   "source": [
    "from brt.frontend.builder import build_graph\n",
    "from brt.backend.pytorch import model_to_script\n",
    "model_ir = build_graph(script_moe_model, moe_model)\n",
    "\n",
    "for node in model_ir.get_nodes():\n",
    "    print(node)\n",
    "\n",
    "model_code = model_to_script(model_ir)\n"
   ]
  },
  {
   "cell_type": "code",
   "execution_count": 5,
   "metadata": {},
   "outputs": [
    {
     "name": "stdout",
     "output_type": "stream",
     "text": [
      "import torch\n",
      "import torch.nn as nn\n",
      "import torch.nn.functional as F\n",
      "import torch.optim as optim\n",
      "\n",
      "import nni.retiarii.nn.pytorch\n"
     ]
    },
    {
     "ename": "NameError",
     "evalue": "name '_model' is not defined",
     "output_type": "error",
     "traceback": [
      "\u001b[0;31m---------------------------------------------------------------------------\u001b[0m",
      "\u001b[0;31mNameError\u001b[0m                                 Traceback (most recent call last)",
      "\u001b[0;32m/tmp/ipykernel_2894864/2141977247.py\u001b[0m in \u001b[0;36m<module>\u001b[0;34m\u001b[0m\n\u001b[1;32m    141\u001b[0m \u001b[0;34m\u001b[0m\u001b[0m\n\u001b[1;32m    142\u001b[0m \u001b[0mtest_models\u001b[0m \u001b[0;34m=\u001b[0m \u001b[0mTestModels\u001b[0m\u001b[0;34m(\u001b[0m\u001b[0;34m)\u001b[0m\u001b[0;34m\u001b[0m\u001b[0;34m\u001b[0m\u001b[0m\n\u001b[0;32m--> 143\u001b[0;31m \u001b[0mtest_models\u001b[0m\u001b[0;34m.\u001b[0m\u001b[0mtest_nn_sequential_inherit\u001b[0m\u001b[0;34m(\u001b[0m\u001b[0;34m)\u001b[0m\u001b[0;34m\u001b[0m\u001b[0;34m\u001b[0m\u001b[0m\n\u001b[0m",
      "\u001b[0;32m/tmp/ipykernel_2894864/2141977247.py\u001b[0m in \u001b[0;36mtest_nn_sequential_inherit\u001b[0;34m(self)\u001b[0m\n\u001b[1;32m    137\u001b[0m         \u001b[0mmodel\u001b[0m \u001b[0;34m=\u001b[0m \u001b[0mNet\u001b[0m\u001b[0;34m(\u001b[0m\u001b[0;34m)\u001b[0m\u001b[0;34m\u001b[0m\u001b[0;34m\u001b[0m\u001b[0m\n\u001b[1;32m    138\u001b[0m         \u001b[0mx\u001b[0m \u001b[0;34m=\u001b[0m \u001b[0mtorch\u001b[0m\u001b[0;34m.\u001b[0m\u001b[0mrand\u001b[0m\u001b[0;34m(\u001b[0m\u001b[0;34m(\u001b[0m\u001b[0;36m1\u001b[0m\u001b[0;34m,\u001b[0m \u001b[0;36m3\u001b[0m\u001b[0;34m,\u001b[0m \u001b[0;36m224\u001b[0m\u001b[0;34m,\u001b[0m \u001b[0;36m224\u001b[0m\u001b[0;34m)\u001b[0m\u001b[0;34m,\u001b[0m \u001b[0mdtype\u001b[0m\u001b[0;34m=\u001b[0m\u001b[0mtorch\u001b[0m\u001b[0;34m.\u001b[0m\u001b[0mfloat\u001b[0m\u001b[0;34m)\u001b[0m\u001b[0;34m\u001b[0m\u001b[0;34m\u001b[0m\u001b[0m\n\u001b[0;32m--> 139\u001b[0;31m         \u001b[0mself\u001b[0m\u001b[0;34m.\u001b[0m\u001b[0mrun_test\u001b[0m\u001b[0;34m(\u001b[0m\u001b[0mmodel\u001b[0m\u001b[0;34m,\u001b[0m \u001b[0;34m(\u001b[0m\u001b[0mx\u001b[0m\u001b[0;34m,\u001b[0m\u001b[0;34m)\u001b[0m\u001b[0;34m)\u001b[0m\u001b[0;34m\u001b[0m\u001b[0;34m\u001b[0m\u001b[0m\n\u001b[0m\u001b[1;32m    140\u001b[0m \u001b[0;34m\u001b[0m\u001b[0m\n\u001b[1;32m    141\u001b[0m \u001b[0;34m\u001b[0m\u001b[0m\n",
      "\u001b[0;32m/tmp/ipykernel_2894864/2141977247.py\u001b[0m in \u001b[0;36mrun_test\u001b[0;34m(self, model, input, check_value)\u001b[0m\n\u001b[1;32m     30\u001b[0m \u001b[0;34m\u001b[0m\u001b[0m\n\u001b[1;32m     31\u001b[0m         \u001b[0mexec_vars\u001b[0m \u001b[0;34m=\u001b[0m \u001b[0;34m{\u001b[0m\u001b[0;34m}\u001b[0m\u001b[0;34m\u001b[0m\u001b[0;34m\u001b[0m\u001b[0m\n\u001b[0;32m---> 32\u001b[0;31m         \u001b[0mexec\u001b[0m\u001b[0;34m(\u001b[0m\u001b[0mmodel_code\u001b[0m \u001b[0;34m+\u001b[0m \u001b[0;34m\"\\n\\nconverted_model = _model()\"\u001b[0m\u001b[0;34m,\u001b[0m \u001b[0mexec_vars\u001b[0m\u001b[0;34m)\u001b[0m\u001b[0;34m\u001b[0m\u001b[0;34m\u001b[0m\u001b[0m\n\u001b[0m\u001b[1;32m     33\u001b[0m         \u001b[0mconverted_model\u001b[0m \u001b[0;34m=\u001b[0m \u001b[0mexec_vars\u001b[0m\u001b[0;34m[\u001b[0m\u001b[0;34m\"converted_model\"\u001b[0m\u001b[0;34m]\u001b[0m\u001b[0;34m\u001b[0m\u001b[0;34m\u001b[0m\u001b[0m\n\u001b[1;32m     34\u001b[0m \u001b[0;34m\u001b[0m\u001b[0m\n",
      "\u001b[0;32m<string>\u001b[0m in \u001b[0;36m<module>\u001b[0;34m\u001b[0m\n",
      "\u001b[0;31mNameError\u001b[0m: name '_model' is not defined"
     ]
    }
   ],
   "source": []
  }
 ],
 "metadata": {
  "kernelspec": {
   "display_name": "Python 3.8.12 64-bit ('base')",
   "language": "python",
   "name": "python3"
  },
  "language_info": {
   "codemirror_mode": {
    "name": "ipython",
    "version": 3
   },
   "file_extension": ".py",
   "mimetype": "text/x-python",
   "name": "python",
   "nbconvert_exporter": "python",
   "pygments_lexer": "ipython3",
   "version": "3.8.12"
  },
  "orig_nbformat": 4,
  "vscode": {
   "interpreter": {
    "hash": "7b495db98349be6abb0a1b61323eb6d203b46e23d9d808745216e0de8177f2c3"
   }
  }
 },
 "nbformat": 4,
 "nbformat_minor": 2
}
