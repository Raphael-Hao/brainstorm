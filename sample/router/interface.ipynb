{
 "cells": [
  {
   "cell_type": "code",
   "execution_count": 3,
   "metadata": {},
   "outputs": [
    {
     "name": "stdout",
     "output_type": "stream",
     "text": [
      "a\n",
      "b\n"
     ]
    }
   ],
   "source": [
    "def func(**kwargs):\n",
    "    pass\n",
    "\n",
    "def factory_kwargs(kwargs):\n",
    "    if kwargs is None:\n",
    "        return {}\n",
    "    else:\n",
    "        return kwargs\n",
    "\n",
    "def make_func(kwargs=None):\n",
    "    kwargs = factory_kwargs(kwargs)\n",
    "    \n",
    "    return func(**kwargs)\n",
    "\n",
    "func_1 = make_func()\n",
    "\n",
    "kwargs = {'a': 1, 'b': 2}\n",
    "for k in kwargs:\n",
    "    print(k)\n"
   ]
  }
 ],
 "metadata": {
  "kernelspec": {
   "display_name": "Python 3.8.10 64-bit ('base')",
   "language": "python",
   "name": "python3"
  },
  "language_info": {
   "codemirror_mode": {
    "name": "ipython",
    "version": 3
   },
   "file_extension": ".py",
   "mimetype": "text/x-python",
   "name": "python",
   "nbconvert_exporter": "python",
   "pygments_lexer": "ipython3",
   "version": "3.8.10"
  },
  "orig_nbformat": 4,
  "vscode": {
   "interpreter": {
    "hash": "d4914c35dbc1a262acb2241fbfc193aaeb9362d455da2cebdd4b0a1d658dbfd5"
   }
  }
 },
 "nbformat": 4,
 "nbformat_minor": 2
}
