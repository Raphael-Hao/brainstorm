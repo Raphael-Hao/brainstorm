{
 "cells": [
  {
   "cell_type": "code",
   "execution_count": 23,
   "metadata": {},
   "outputs": [
    {
     "name": "stdout",
     "output_type": "stream",
     "text": [
      "[tensor([[0],\n",
      "        [1]]), tensor([[2]])]\n",
      "tensor([[ -6.1178,  -5.4062,   0.1572,   1.1319,   0.0743,   2.5648,   3.2278,\n",
      "          -1.2482,   1.8481,   2.0728],\n",
      "        [-11.5727, -16.8110,  -1.7224,   5.1504,   0.7890,   4.1539,   7.6824,\n",
      "          -5.6100,   5.2367,   5.3597],\n",
      "        [ -1.4000,  -6.7778,   1.9196,   3.4563, -12.3829,  -4.1050,  18.9692,\n",
      "         -13.0372,  -6.0614,  -2.5030]], grad_fn=<ScatterAddBackward0>)\n"
     ]
    }
   ],
   "source": [
    "import torch\n",
    "import brt.nn as nn\n",
    "from brt.router import RandomScatterRouter, GatherRouter\n",
    "\n",
    "\n",
    "class MoE(nn.Module):\n",
    "    def __init__(self):\n",
    "        super().__init__()\n",
    "        self.scatter_router = RandomScatterRouter(route_num=2)\n",
    "        self.expert1 = nn.Linear(10, 10)\n",
    "        self.expert2 = nn.Linear(10, 10)\n",
    "        self.gather_router = GatherRouter(route_num=2)\n",
    "\n",
    "    def forward(self, x):\n",
    "        route_results, route_tags, loads = self.scatter_router(x)\n",
    "        print(route_tags)\n",
    "        x_0 = self.expert1(route_results[0])\n",
    "        x_1 = self.expert2(route_results[1])\n",
    "        x = self.gather_router([x_0, x_1], route_tags, loads)\n",
    "        return x\n",
    "\n",
    "\n",
    "class ThorMoE(nn.Module):\n",
    "    def __init__(\n",
    "        self,\n",
    "    ):\n",
    "        super().__init__()\n",
    "        self.moe = MoE()\n",
    "\n",
    "    def forward(self, x):\n",
    "        return self.moe(x)\n",
    "\n",
    "\n",
    "thor_moe = ThorMoE()\n",
    "x = torch.arange(0, 30, dtype=torch.float32).view(3, 10)\n",
    "x = thor_moe(x)\n",
    "print(x)\n"
   ]
  }
 ],
 "metadata": {
  "interpreter": {
   "hash": "d4914c35dbc1a262acb2241fbfc193aaeb9362d455da2cebdd4b0a1d658dbfd5"
  },
  "kernelspec": {
   "display_name": "Python 3.8.10 64-bit ('base')",
   "language": "python",
   "name": "python3"
  },
  "language_info": {
   "codemirror_mode": {
    "name": "ipython",
    "version": 3
   },
   "file_extension": ".py",
   "mimetype": "text/x-python",
   "name": "python",
   "nbconvert_exporter": "python",
   "pygments_lexer": "ipython3",
   "version": "3.8.10"
  },
  "orig_nbformat": 4
 },
 "nbformat": 4,
 "nbformat_minor": 2
}
