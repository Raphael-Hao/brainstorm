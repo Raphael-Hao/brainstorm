{
 "cells": [
  {
   "cell_type": "code",
   "execution_count": 1,
   "metadata": {},
   "outputs": [
    {
     "name": "stdout",
     "output_type": "stream",
     "text": [
      "FlowTensor:\n",
      "data: tensor([[  4.2140,   0.9085,   1.5545,   1.7966,  -4.5195,   1.5102,  -2.8344,\n",
      "           3.6941,   4.4830,  -4.5715],\n",
      "        [ 11.3935,   7.3480,   7.7715,   5.5238, -10.5437,   4.6983,  -6.4914,\n",
      "          11.6486,  13.1363, -16.0143],\n",
      "        [ 18.5730,  13.7875,  13.9886,   9.2509, -16.5679,   7.8865, -10.1483,\n",
      "          19.6031,  21.7896, -27.4572]])\n",
      "tags: tensor([[0],\n",
      "        [1],\n",
      "        [2]])\n",
      "load: 3\n"
     ]
    }
   ],
   "source": [
    "import torch\n",
    "import brt.nn as nn\n",
    "from brt.router._random import RandomScatterRouter, RandomGatherRouter\n",
    "\n",
    "\n",
    "class MoE(nn.Module):\n",
    "    def __init__(self):\n",
    "        super().__init__()\n",
    "        self.scatter_router = RandomScatterRouter(dst_num=2)\n",
    "        self.expert1 = nn.Linear(10, 10)\n",
    "        self.expert2 = nn.Linear(10, 10)\n",
    "        self.gather_router = RandomGatherRouter(dst_num=2)\n",
    "\n",
    "    def forward(self, x):\n",
    "        route_results = self.scatter_router(x)\n",
    "        x_0 = self.expert1(route_results[0])\n",
    "        x_1 = self.expert2(route_results[1])\n",
    "        x = self.gather_router([x_0, x_1])\n",
    "        return x\n",
    "\n",
    "\n",
    "class ThorMoE(nn.Module):\n",
    "    def __init__(\n",
    "        self,\n",
    "    ):\n",
    "        super().__init__()\n",
    "        self.moe = MoE()\n",
    "\n",
    "    def forward(self, x):\n",
    "        return self.moe(x)\n",
    "\n",
    "\n",
    "thor_moe = ThorMoE()\n",
    "x = torch.arange(0, 30, dtype=torch.float32).view(3, 10)\n",
    "x = thor_moe(x)\n",
    "print(x)\n"
   ]
  }
 ],
 "metadata": {
  "interpreter": {
   "hash": "d4914c35dbc1a262acb2241fbfc193aaeb9362d455da2cebdd4b0a1d658dbfd5"
  },
  "kernelspec": {
   "display_name": "Python 3.8.10 64-bit ('base')",
   "language": "python",
   "name": "python3"
  },
  "language_info": {
   "codemirror_mode": {
    "name": "ipython",
    "version": 3
   },
   "file_extension": ".py",
   "mimetype": "text/x-python",
   "name": "python",
   "nbconvert_exporter": "python",
   "pygments_lexer": "ipython3",
   "version": "3.8.10"
  },
  "orig_nbformat": 4
 },
 "nbformat": 4,
 "nbformat_minor": 2
}
