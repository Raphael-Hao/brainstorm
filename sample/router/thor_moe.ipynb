{
 "cells": [
  {
   "cell_type": "code",
   "execution_count": 1,
   "metadata": {},
   "outputs": [
    {
     "name": "stdout",
     "output_type": "stream",
     "text": [
      "tensor([[ -0.1637,   1.9598,  -1.8768,   0.4871,   0.3627,  -1.6415,  -2.2952,\n",
      "          -4.3027,   0.3830,  -0.3647],\n",
      "        [ -1.1561,   7.7347,   2.5445,  14.5481, -13.4185,  13.1255,   1.7102,\n",
      "          -8.8952, -13.6887, -11.6499],\n",
      "        [  1.3115,  10.0178,   3.5990,   3.9877,   2.2013, -14.4831, -11.1553,\n",
      "         -21.3098,  -7.2553,   1.8244]], grad_fn=<ScatterAddBackward0>)\n"
     ]
    }
   ],
   "source": [
    "import torch\n",
    "from brt.common import log\n",
    "import brt.nn as nn\n",
    "from brt.router import RandomScatterRouter, GatherRouter\n",
    "\n",
    "\n",
    "class MoE(nn.Module):\n",
    "    def __init__(self):\n",
    "        super().__init__()\n",
    "        self.scatter_router = RandomScatterRouter(route_num=2)\n",
    "        self.expert1 = nn.Linear(10, 10)\n",
    "        self.expert2 = nn.Linear(10, 10)\n",
    "        self.gather_router = GatherRouter(route_num=2)\n",
    "\n",
    "    def forward(self, x):\n",
    "        route_results, route_tags, loads = self.scatter_router(x)\n",
    "        x_0 = self.expert1(route_results[0])\n",
    "        x_1 = self.expert2(route_results[1])\n",
    "        x = self.gather_router([x_0, x_1], route_tags, loads)\n",
    "        return x\n",
    "\n",
    "\n",
    "class ThorMoE(nn.Module):\n",
    "    def __init__(\n",
    "        self,\n",
    "    ):\n",
    "        super().__init__()\n",
    "        self.moe = MoE()\n",
    "\n",
    "    def forward(self, x):\n",
    "        return self.moe(x)\n",
    "\n",
    "\n",
    "thor_moe = ThorMoE()\n",
    "x = torch.arange(0, 30, dtype=torch.float32).view(3, 10)\n",
    "x = thor_moe(x)\n",
    "print(x)\n"
   ]
  }
 ],
 "metadata": {
  "interpreter": {
   "hash": "d4914c35dbc1a262acb2241fbfc193aaeb9362d455da2cebdd4b0a1d658dbfd5"
  },
  "kernelspec": {
   "display_name": "Python 3.8.10 64-bit ('base')",
   "language": "python",
   "name": "python3"
  },
  "language_info": {
   "codemirror_mode": {
    "name": "ipython",
    "version": 3
   },
   "file_extension": ".py",
   "mimetype": "text/x-python",
   "name": "python",
   "nbconvert_exporter": "python",
   "pygments_lexer": "ipython3",
   "version": "3.8.10"
  },
  "orig_nbformat": 4
 },
 "nbformat": 4,
 "nbformat_minor": 2
}
