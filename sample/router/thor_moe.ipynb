{
 "cells": [
  {
   "cell_type": "code",
   "execution_count": 1,
   "metadata": {},
   "outputs": [
    {
     "name": "stdout",
     "output_type": "stream",
     "text": [
      "tensor([[0],\n",
      "        [1]], device='cuda:0')\n",
      "tensor([[2]], device='cuda:0')\n",
      "tensor([[ -1.0387,  -2.1702,   0.5604,  -9.0361,  -1.3278,   0.8976,  -0.7379,\n",
      "          -1.9866,  -1.0795,  -1.4519],\n",
      "        [ -2.4891,  -7.4809,   1.4222, -26.0576,  -0.4686,   4.3179,   1.4807,\n",
      "          -7.0531,  -4.7407,  -6.0141],\n",
      "        [  5.2827,  13.0791,   2.2238,   3.7662,  -9.0699,  -0.4922,  14.7732,\n",
      "         -13.0405,  24.5402,  14.3863]], device='cuda:0',\n",
      "       grad_fn=<AliasBackward0>)\n"
     ]
    }
   ],
   "source": [
    "import torch\n",
    "import brt.nn as nn\n",
    "from brt.routers.rand import RandomScatterRouter, RandomGatherRouter\n",
    "\n",
    "\n",
    "class MoE(nn.Module):\n",
    "    def __init__(self):\n",
    "        super().__init__()\n",
    "        self.scatter_router = RandomScatterRouter(dst_num=2)\n",
    "        self.expert1 = nn.Linear(10, 10)\n",
    "        self.expert2 = nn.Linear(10, 10)\n",
    "        self.gather_router = RandomGatherRouter(dst_num=2)\n",
    "\n",
    "    def forward(self, x):\n",
    "        route_results = self.scatter_router(x)\n",
    "        x_0 = self.expert1(route_results[0])\n",
    "        x_1 = self.expert2(route_results[1])\n",
    "        x = self.gather_router([x_0, x_1])\n",
    "        return x\n",
    "\n",
    "\n",
    "class ThorMoE(nn.Module):\n",
    "    def __init__(\n",
    "        self,\n",
    "    ):\n",
    "        super().__init__()\n",
    "        self.moe = MoE()\n",
    "\n",
    "    def forward(self, x):\n",
    "        return self.moe(x)\n",
    "\n",
    "\n",
    "thor_moe = ThorMoE()\n",
    "thor_moe.cuda()\n",
    "x = torch.arange(0, 30, dtype=torch.float32).view(3, 10).cuda()\n",
    "x = thor_moe(x)\n",
    "print(x)\n"
   ]
  }
 ],
 "metadata": {
  "interpreter": {
   "hash": "d4914c35dbc1a262acb2241fbfc193aaeb9362d455da2cebdd4b0a1d658dbfd5"
  },
  "kernelspec": {
   "display_name": "Python 3.8.10 64-bit ('base')",
   "language": "python",
   "name": "python3"
  },
  "language_info": {
   "codemirror_mode": {
    "name": "ipython",
    "version": 3
   },
   "file_extension": ".py",
   "mimetype": "text/x-python",
   "name": "python",
   "nbconvert_exporter": "python",
   "pygments_lexer": "ipython3",
   "version": "3.8.10"
  },
  "orig_nbformat": 4
 },
 "nbformat": 4,
 "nbformat_minor": 2
}
