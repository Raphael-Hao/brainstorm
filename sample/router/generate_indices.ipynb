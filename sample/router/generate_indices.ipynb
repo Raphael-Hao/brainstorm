{
 "cells": [
  {
   "cell_type": "code",
   "execution_count": 1,
   "metadata": {},
   "outputs": [
    {
     "name": "stdout",
     "output_type": "stream",
     "text": [
      "tensor([[1, 0, 0, 1],\n",
      "        [1, 0, 0, 0],\n",
      "        [1, 1, 0, 0],\n",
      "        [1, 1, 1, 0],\n",
      "        [1, 0, 1, 0],\n",
      "        [1, 0, 1, 1],\n",
      "        [1, 0, 0, 0],\n",
      "        [1, 0, 1, 1],\n",
      "        [0, 0, 1, 1],\n",
      "        [0, 0, 1, 1],\n",
      "        [0, 0, 1, 1],\n",
      "        [0, 0, 1, 1],\n",
      "        [0, 1, 0, 1],\n",
      "        [1, 0, 1, 1],\n",
      "        [0, 0, 1, 1],\n",
      "        [1, 0, 1, 1]], device='cuda:0', dtype=torch.int32)\n"
     ]
    }
   ],
   "source": [
    "from brt._C.router import generate_dst_indices, generate_src_indices\n",
    "import torch\n",
    "hot_mask = torch.randint(0, 2, (16, 4), dtype=torch.int32).cuda()\n",
    "print(hot_mask)"
   ]
  },
  {
   "cell_type": "code",
   "execution_count": 2,
   "metadata": {},
   "outputs": [
    {
     "name": "stdout",
     "output_type": "stream",
     "text": [
      "dst format: tensor([[ 1,  0,  0,  1],\n",
      "        [ 2,  0,  0,  0],\n",
      "        [ 3,  1,  0,  0],\n",
      "        [ 4,  2,  1,  0],\n",
      "        [ 5,  0,  2,  0],\n",
      "        [ 6,  0,  3,  2],\n",
      "        [ 7,  0,  0,  0],\n",
      "        [ 8,  0,  4,  3],\n",
      "        [ 0,  0,  5,  4],\n",
      "        [ 0,  0,  6,  5],\n",
      "        [ 0,  0,  7,  6],\n",
      "        [ 0,  0,  8,  7],\n",
      "        [ 0,  3,  0,  8],\n",
      "        [ 9,  0,  9,  9],\n",
      "        [ 0,  0, 10, 10],\n",
      "        [10,  0, 11, 11]], device='cuda:0', dtype=torch.int32)\n",
      "src format: tensor([[ 0,  2,  3,  0],\n",
      "        [ 1,  3,  4,  5],\n",
      "        [ 2, 12,  5,  7],\n",
      "        [ 3,  0,  7,  8],\n",
      "        [ 4,  0,  8,  9],\n",
      "        [ 5,  0,  9, 10],\n",
      "        [ 6,  0, 10, 11],\n",
      "        [ 7,  0, 11, 12],\n",
      "        [13,  0, 13, 13],\n",
      "        [15,  0, 14, 14],\n",
      "        [ 0,  0, 15, 15],\n",
      "        [ 0,  0,  0,  0],\n",
      "        [ 0,  0,  0,  0],\n",
      "        [ 0,  0,  0,  0],\n",
      "        [ 0,  0,  0,  0],\n",
      "        [ 0,  0,  0,  0]], device='cuda:0', dtype=torch.int32)\n"
     ]
    }
   ],
   "source": [
    "dst_indices, loads = generate_dst_indices(hot_mask)\n",
    "src_indices, loads = generate_src_indices(hot_mask)\n",
    "# print(indices[0].is_contiguous())\n",
    "print(f\"dst format: {dst_indices}\")\n",
    "print(f\"src format: {src_indices}\")\n",
    "\n"
   ]
  },
  {
   "cell_type": "code",
   "execution_count": 3,
   "metadata": {},
   "outputs": [
    {
     "name": "stdout",
     "output_type": "stream",
     "text": [
      "tensor([[ 6,  0,  3,  2],\n",
      "        [ 8,  0,  4,  3],\n",
      "        [10,  0, 11, 11],\n",
      "        [ 0,  3,  0,  8],\n",
      "        [ 0,  0,  6,  5],\n",
      "        [ 0,  0,  8,  7],\n",
      "        [ 1,  0,  0,  1],\n",
      "        [ 9,  0,  9,  9],\n",
      "        [ 2,  0,  0,  0],\n",
      "        [ 0,  0,  5,  4],\n",
      "        [ 4,  2,  1,  0],\n",
      "        [ 7,  0,  0,  0],\n",
      "        [ 5,  0,  2,  0],\n",
      "        [ 3,  1,  0,  0],\n",
      "        [ 0,  0, 10, 10],\n",
      "        [ 0,  0,  7,  6]], device='cuda:0', dtype=torch.int32)\n",
      "tensor([10,  3, 11, 11], dtype=torch.int32)\n",
      "tensor([[ 6, 13, 10,  6],\n",
      "        [ 8, 10, 12,  0],\n",
      "        [13,  3,  0,  1],\n",
      "        [10,  0,  1,  9],\n",
      "        [12,  0,  9,  4],\n",
      "        [ 0,  0,  4, 15],\n",
      "        [11,  0, 15,  5],\n",
      "        [ 1,  0,  5,  3],\n",
      "        [ 7,  0,  7,  7],\n",
      "        [ 2,  0, 14, 14],\n",
      "        [ 0,  0,  2,  2],\n",
      "        [ 0,  0,  0,  0],\n",
      "        [ 0,  0,  0,  0],\n",
      "        [ 0,  0,  0,  0],\n",
      "        [ 0,  0,  0,  0],\n",
      "        [ 0,  0,  0,  0]], device='cuda:0', dtype=torch.int32)\n"
     ]
    }
   ],
   "source": [
    "from brt.router.utils import convert_index_format\n",
    "shuffled_dst_indices = dst_indices[torch.randperm(dst_indices.size(0))]\n",
    "print(shuffled_dst_indices)\n",
    "loads = torch.sum(hot_mask, dim=0, dtype=torch.int32).cpu()\n",
    "print(loads)\n",
    "src_shuffled_dst_indices = convert_index_format(shuffled_dst_indices, loads, \"dst_index\", \"src_index\")\n",
    "\n",
    "print(src_shuffled_dst_indices)"
   ]
  },
  {
   "cell_type": "code",
   "execution_count": null,
   "metadata": {},
   "outputs": [],
   "source": [
    "placement_indices = torch.index_select(\n",
    "    dst_indices, 1, torch.tensor([3, 2, 1, 0], dtype=torch.int32).cuda()\n",
    ")\n",
    "print(placement_indices)"
   ]
  }
 ],
 "metadata": {
  "kernelspec": {
   "display_name": "Python 3.8.10 64-bit ('base')",
   "language": "python",
   "name": "python3"
  },
  "language_info": {
   "codemirror_mode": {
    "name": "ipython",
    "version": 3
   },
   "file_extension": ".py",
   "mimetype": "text/x-python",
   "name": "python",
   "nbconvert_exporter": "python",
   "pygments_lexer": "ipython3",
   "version": "3.8.10"
  },
  "orig_nbformat": 4,
  "vscode": {
   "interpreter": {
    "hash": "d4914c35dbc1a262acb2241fbfc193aaeb9362d455da2cebdd4b0a1d658dbfd5"
   }
  }
 },
 "nbformat": 4,
 "nbformat_minor": 2
}
