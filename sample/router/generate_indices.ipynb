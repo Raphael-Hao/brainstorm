{
 "cells": [
  {
   "cell_type": "code",
   "execution_count": 1,
   "metadata": {},
   "outputs": [
    {
     "name": "stdout",
     "output_type": "stream",
     "text": [
      "tensor([[0, 1, 1, 0],\n",
      "        [0, 1, 0, 0],\n",
      "        [1, 1, 0, 1],\n",
      "        ...,\n",
      "        [1, 1, 0, 0],\n",
      "        [1, 1, 1, 0],\n",
      "        [0, 1, 0, 1]], device='cuda:0', dtype=torch.int32)\n"
     ]
    }
   ],
   "source": [
    "from brt._C.router import generate_dst_indices\n",
    "import torch\n",
    "hot_mask = torch.randint(0, 2, (2048, 4), dtype=torch.int32).cuda()\n",
    "print(hot_mask)"
   ]
  },
  {
   "cell_type": "code",
   "execution_count": 3,
   "metadata": {},
   "outputs": [
    {
     "name": "stdout",
     "output_type": "stream",
     "text": [
      "True\n",
      "[tensor([   2,    6,    7,  ..., 2041, 2045, 2046], device='cuda:0',\n",
      "       dtype=torch.int32), tensor([   0,    1,    2,  ..., 2045, 2046, 2047], device='cuda:0',\n",
      "       dtype=torch.int32), tensor([   0,    3,    5,  ..., 2043, 2044, 2046], device='cuda:0',\n",
      "       dtype=torch.int32), tensor([   2,    3,    6,  ..., 2039, 2044, 2047], device='cuda:0',\n",
      "       dtype=torch.int32)]\n"
     ]
    }
   ],
   "source": [
    "indices = generate_dst_indices(hot_mask)\n",
    "print(indices[0].is_contiguous())\n",
    "print(indices)"
   ]
  }
 ],
 "metadata": {
  "kernelspec": {
   "display_name": "Python 3.8.10 64-bit ('base')",
   "language": "python",
   "name": "python3"
  },
  "language_info": {
   "codemirror_mode": {
    "name": "ipython",
    "version": 3
   },
   "file_extension": ".py",
   "mimetype": "text/x-python",
   "name": "python",
   "nbconvert_exporter": "python",
   "pygments_lexer": "ipython3",
   "version": "3.8.10"
  },
  "orig_nbformat": 4,
  "vscode": {
   "interpreter": {
    "hash": "d4914c35dbc1a262acb2241fbfc193aaeb9362d455da2cebdd4b0a1d658dbfd5"
   }
  }
 },
 "nbformat": 4,
 "nbformat_minor": 2
}
