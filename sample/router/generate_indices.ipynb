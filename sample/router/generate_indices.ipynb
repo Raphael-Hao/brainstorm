{
 "cells": [
  {
   "cell_type": "code",
   "execution_count": 26,
   "metadata": {},
   "outputs": [
    {
     "name": "stdout",
     "output_type": "stream",
     "text": [
      "tensor([[0, 1, 0, 1],\n",
      "        [0, 0, 1, 1],\n",
      "        [1, 1, 1, 0],\n",
      "        [0, 1, 0, 1],\n",
      "        [1, 0, 1, 1],\n",
      "        [1, 0, 1, 1],\n",
      "        [0, 1, 0, 1],\n",
      "        [0, 0, 0, 1],\n",
      "        [0, 0, 0, 0],\n",
      "        [0, 0, 1, 1],\n",
      "        [1, 0, 0, 1],\n",
      "        [1, 1, 0, 1],\n",
      "        [0, 0, 0, 0],\n",
      "        [0, 1, 1, 0],\n",
      "        [1, 0, 1, 0],\n",
      "        [0, 1, 0, 1]], device='cuda:0', dtype=torch.int32)\n"
     ]
    }
   ],
   "source": [
    "from brt._C.router import generate_dst_indices\n",
    "import torch\n",
    "hot_mask = torch.randint(0, 2, (16, 4), dtype=torch.int32).cuda()\n",
    "print(hot_mask)"
   ]
  },
  {
   "cell_type": "code",
   "execution_count": 27,
   "metadata": {},
   "outputs": [
    {
     "name": "stdout",
     "output_type": "stream",
     "text": [
      "tensor([[ 0,  1,  0,  1],\n",
      "        [ 0,  0,  1,  2],\n",
      "        [ 1,  2,  2,  0],\n",
      "        [ 0,  3,  0,  3],\n",
      "        [ 2,  0,  3,  4],\n",
      "        [ 3,  0,  4,  5],\n",
      "        [ 0,  4,  0,  6],\n",
      "        [ 0,  0,  0,  7],\n",
      "        [ 0,  0,  0,  0],\n",
      "        [ 0,  0,  5,  8],\n",
      "        [ 4,  0,  0,  9],\n",
      "        [ 5,  5,  0, 10],\n",
      "        [ 0,  0,  0,  0],\n",
      "        [ 0,  6,  6,  0],\n",
      "        [ 6,  0,  7,  0],\n",
      "        [ 0,  7,  0, 11]], device='cuda:0', dtype=torch.int32)\n"
     ]
    }
   ],
   "source": [
    "indices, loads = generate_dst_indices(hot_mask)\n",
    "# print(indices[0].is_contiguous())\n",
    "print(indices)\n"
   ]
  },
  {
   "cell_type": "code",
   "execution_count": 28,
   "metadata": {},
   "outputs": [
    {
     "name": "stdout",
     "output_type": "stream",
     "text": [
      "tensor([[ 1,  0,  1,  0],\n",
      "        [ 2,  1,  0,  0],\n",
      "        [ 0,  2,  2,  1],\n",
      "        [ 3,  0,  3,  0],\n",
      "        [ 4,  3,  0,  2],\n",
      "        [ 5,  4,  0,  3],\n",
      "        [ 6,  0,  4,  0],\n",
      "        [ 7,  0,  0,  0],\n",
      "        [ 0,  0,  0,  0],\n",
      "        [ 8,  5,  0,  0],\n",
      "        [ 9,  0,  0,  4],\n",
      "        [10,  0,  5,  5],\n",
      "        [ 0,  0,  0,  0],\n",
      "        [ 0,  6,  6,  0],\n",
      "        [ 0,  7,  0,  6],\n",
      "        [11,  0,  7,  0]], device='cuda:0', dtype=torch.int32)\n"
     ]
    }
   ],
   "source": [
    "placement_indices = torch.index_select(\n",
    "    indices, 1, torch.tensor([3, 2, 1, 0], dtype=torch.int32).cuda()\n",
    ")\n",
    "print(placement_indices)"
   ]
  }
 ],
 "metadata": {
  "kernelspec": {
   "display_name": "Python 3.8.10 64-bit ('base')",
   "language": "python",
   "name": "python3"
  },
  "language_info": {
   "codemirror_mode": {
    "name": "ipython",
    "version": 3
   },
   "file_extension": ".py",
   "mimetype": "text/x-python",
   "name": "python",
   "nbconvert_exporter": "python",
   "pygments_lexer": "ipython3",
   "version": "3.8.10"
  },
  "orig_nbformat": 4,
  "vscode": {
   "interpreter": {
    "hash": "d4914c35dbc1a262acb2241fbfc193aaeb9362d455da2cebdd4b0a1d658dbfd5"
   }
  }
 },
 "nbformat": 4,
 "nbformat_minor": 2
}
