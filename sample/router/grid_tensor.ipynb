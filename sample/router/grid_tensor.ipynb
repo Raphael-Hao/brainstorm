{
 "cells": [
  {
   "cell_type": "code",
   "execution_count": 2,
   "metadata": {},
   "outputs": [
    {
     "name": "stdout",
     "output_type": "stream",
     "text": [
      "GridTensor([[1., 1., 1., 1.],\n",
      "            [1., 1., 1., 1.],\n",
      "            [1., 1., 1., 1.],\n",
      "            [1., 1., 1., 1.],\n",
      "            [1., 1., 1., 1.],\n",
      "            [1., 1., 1., 1.]], device='cuda:0')\n",
      "tag_stack: [tensor([1., 2., 3.])]\n",
      "load stack: [3]\n",
      "extra_attr_dict: {}\n",
      "tensor([[1., 1., 1., 1.],\n",
      "        [1., 1., 1., 1.],\n",
      "        [1., 1., 1., 1.],\n",
      "        [1., 1., 1., 1.],\n",
      "        [1., 1., 1., 1.],\n",
      "        [1., 1., 1., 1.]], device='cuda:0')\n",
      "GridTensor([[ 0.5969,  0.1101, -0.4116, -1.0876],\n",
      "            [ 0.5969,  0.1101, -0.4116, -1.0876],\n",
      "            [ 0.5969,  0.1101, -0.4116, -1.0876]], device='cuda:0',\n",
      "           grad_fn=<AliasBackward0>)\n",
      "tag_stack: [tensor([1., 2., 3.])]\n",
      "load stack: [3]\n",
      "extra_attr_dict: {}\n",
      "GridTensor([[2., 2., 2., 2.],\n",
      "            [2., 2., 2., 2.],\n",
      "            [2., 2., 2., 2.]], device='cuda:0')\n",
      "tag_stack: [tensor([1., 2., 3.])]\n",
      "load stack: [3]\n",
      "extra_attr_dict: {}\n"
     ]
    }
   ],
   "source": [
    "from brt.runtime.grid_tensor import init_grid_tensor, deinit_grid_tensor\n",
    "import torch\n",
    "import torch.nn as nn\n",
    "\n",
    "data_0 = init_grid_tensor(\n",
    "    torch.ones(3, 4, device=\"cuda\"), tag_stack=[torch.Tensor([1, 2, 3])], load_stack=[3]\n",
    ")\n",
    "data_1 = init_grid_tensor(\n",
    "    torch.ones(3, 4, device=\"cuda\"), tag_stack=[torch.Tensor([1, 2, 3])], load_stack=[3]\n",
    ")\n",
    "c = torch.cat([data_0, data_1], dim=0)\n",
    "print(c)\n",
    "c_data, tag_stack, load_stack, _ = deinit_grid_tensor(c)\n",
    "print(c_data)\n",
    "\n",
    "linear = nn.Linear(4, 4).cuda()\n",
    "c = linear(data_0)\n",
    "print(c)\n",
    "c = data_0 + data_1\n",
    "print(c)\n"
   ]
  },
  {
   "cell_type": "code",
   "execution_count": 4,
   "metadata": {},
   "outputs": [
    {
     "name": "stdout",
     "output_type": "stream",
     "text": [
      "([tensor([1., 2., 3.])], [3], {})\n"
     ]
    }
   ],
   "source": [
    "from brt.runtime.grid_tensor import collect_cell_attr, init_grid_tensor\n",
    "import torch\n",
    "\n",
    "a = init_grid_tensor(\n",
    "    torch.ones(3, 4), tag_stack=[torch.Tensor([1, 2, 3])], load_stack=[3]\n",
    ")\n",
    "b = init_grid_tensor(\n",
    "    torch.ones(3, 4), tag_stack=[torch.Tensor([1, 2, 3])], load_stack=[3]\n",
    ")\n",
    "\n",
    "tags_loads = collect_cell_attr([a, b])\n",
    "print(tags_loads)\n"
   ]
  }
 ],
 "metadata": {
  "interpreter": {
   "hash": "d4914c35dbc1a262acb2241fbfc193aaeb9362d455da2cebdd4b0a1d658dbfd5"
  },
  "kernelspec": {
   "display_name": "Python 3.8.10 64-bit ('base')",
   "language": "python",
   "name": "python3"
  },
  "language_info": {
   "codemirror_mode": {
    "name": "ipython",
    "version": 3
   },
   "file_extension": ".py",
   "mimetype": "text/x-python",
   "name": "python",
   "nbconvert_exporter": "python",
   "pygments_lexer": "ipython3",
   "version": "3.8.12"
  },
  "orig_nbformat": 4
 },
 "nbformat": 4,
 "nbformat_minor": 2
}
