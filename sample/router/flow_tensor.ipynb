{
 "cells": [
  {
   "cell_type": "code",
   "execution_count": 5,
   "metadata": {},
   "outputs": [
    {
     "name": "stdout",
     "output_type": "stream",
     "text": [
      "FlowTensor:\n",
      "data: tensor([[1., 1., 1., 1.],\n",
      "        [1., 1., 1., 1.],\n",
      "        [1., 1., 1., 1.]], device='cuda:0')\n",
      "tag: tensor([1., 2., 3.])\n",
      "load: 3\n",
      "FlowTensor:\n",
      "data: tensor([[2., 2., 2., 2.],\n",
      "        [2., 2., 2., 2.],\n",
      "        [2., 2., 2., 2.]], device='cuda:0')\n",
      "tag: tensor([1., 2., 3.])\n",
      "load: 3\n",
      "FlowTensor:\n",
      "data: tensor([[-0.3840, -0.2105,  0.5860, -0.5694],\n",
      "        [-0.3840, -0.2105,  0.5860, -0.5694],\n",
      "        [-0.3840, -0.2105,  0.5860, -0.5694]], device='cuda:0',\n",
      "       grad_fn=<AliasBackward0>)\n",
      "tag: tensor([1., 2., 3.])\n",
      "load: 3\n",
      "FlowTensor:\n",
      "data: tensor([[2., 2., 2., 2.],\n",
      "        [2., 2., 2., 2.],\n",
      "        [2., 2., 2., 2.]], device='cuda:0')\n",
      "tag: tensor([1., 2., 3.])\n",
      "load: 3\n"
     ]
    },
    {
     "ename": "",
     "evalue": "",
     "output_type": "error",
     "traceback": [
      "\u001b[1;31mThe Kernel crashed while executing code in the the current cell or a previous cell. Please review the code in the cell(s) to identify a possible cause of the failure. Click <a href='https://aka.ms/vscodeJupyterKernelCrash'>here</a> for more info. View Jupyter <a href='command:jupyter.viewOutput'>log</a> for further details."
     ]
    }
   ],
   "source": [
    "from brt.router.flow_tensor import init_flow_tensor\n",
    "import torch\n",
    "import torch.nn as nn\n",
    "\n",
    "data_0 = init_flow_tensor(\n",
    "    torch.ones(3, 4, device=\"cuda\"), tag=torch.Tensor([1, 2, 3]), load=3\n",
    ")\n",
    "data_1 = init_flow_tensor(\n",
    "    torch.ones(3, 4, device=\"cuda\"), tag=torch.Tensor([1, 2, 3]), load=3\n",
    ")\n",
    "print(data_0)\n",
    "c = torch.add(data_0, data_1)\n",
    "print(c)\n",
    "linear = nn.Linear(4, 4).cuda()\n",
    "c = linear(data_0)\n",
    "print(c)\n",
    "c = data_0 + data_1\n",
    "print(c)\n"
   ]
  },
  {
   "cell_type": "code",
   "execution_count": null,
   "metadata": {},
   "outputs": [],
   "source": [
    "from torch import overrides"
   ]
  }
 ],
 "metadata": {
  "interpreter": {
   "hash": "d4914c35dbc1a262acb2241fbfc193aaeb9362d455da2cebdd4b0a1d658dbfd5"
  },
  "kernelspec": {
   "display_name": "Python 3.8.10 64-bit ('base')",
   "language": "python",
   "name": "python3"
  },
  "language_info": {
   "codemirror_mode": {
    "name": "ipython",
    "version": 3
   },
   "file_extension": ".py",
   "mimetype": "text/x-python",
   "name": "python",
   "nbconvert_exporter": "python",
   "pygments_lexer": "ipython3",
   "version": "3.8.10"
  },
  "orig_nbformat": 4
 },
 "nbformat": 4,
 "nbformat_minor": 2
}
