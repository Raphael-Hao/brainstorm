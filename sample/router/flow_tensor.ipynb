{
 "cells": [
  {
   "cell_type": "code",
   "execution_count": 2,
   "metadata": {},
   "outputs": [
    {
     "name": "stdout",
     "output_type": "stream",
     "text": [
      "tensor([1., 2., 3.])\n",
      "[tensor([1., 2., 3.]), tensor([1., 2., 3.])] [3, 3]\n",
      "FlowTensor:\n",
      "data: tensor([[2., 2., 2., 2.],\n",
      "        [2., 2., 2., 2.],\n",
      "        [2., 2., 2., 2.]])\n",
      "tags: tensor([1., 2., 3.])\n",
      "load: 3\n",
      "[tensor([1., 2., 3.])] [3]\n",
      "FlowTensor:\n",
      "data: tensor([[-0.2017,  0.2641,  0.4407, -0.4364],\n",
      "        [-0.2017,  0.2641,  0.4407, -0.4364],\n",
      "        [-0.2017,  0.2641,  0.4407, -0.4364]])\n",
      "tags: tensor([1., 2., 3.])\n",
      "load: 3\n"
     ]
    }
   ],
   "source": [
    "from brt.router.flow_tensor import FlowTensor\n",
    "import torch\n",
    "import torch.nn as nn\n",
    "\n",
    "data = torch.ones(3, 4)\n",
    "flow_tensor_0 = FlowTensor(data, tag=torch.Tensor([1, 2, 3]), load=3)\n",
    "flow_tensor_1 = FlowTensor(data, tag=torch.Tensor([1, 2, 3]), load=3)\n",
    "print(flow_tensor_0.tag)\n",
    "c = torch.add(flow_tensor_0, flow_tensor_1)\n",
    "print(c)\n",
    "linear =nn.Linear(4, 4)\n",
    "c = linear(flow_tensor_0)\n",
    "print(c)\n"
   ]
  },
  {
   "cell_type": "code",
   "execution_count": null,
   "metadata": {},
   "outputs": [],
   "source": []
  }
 ],
 "metadata": {
  "interpreter": {
   "hash": "d4914c35dbc1a262acb2241fbfc193aaeb9362d455da2cebdd4b0a1d658dbfd5"
  },
  "kernelspec": {
   "display_name": "Python 3.8.10 64-bit ('base')",
   "language": "python",
   "name": "python3"
  },
  "language_info": {
   "codemirror_mode": {
    "name": "ipython",
    "version": 3
   },
   "file_extension": ".py",
   "mimetype": "text/x-python",
   "name": "python",
   "nbconvert_exporter": "python",
   "pygments_lexer": "ipython3",
   "version": "3.8.10"
  },
  "orig_nbformat": 4
 },
 "nbformat": 4,
 "nbformat_minor": 2
}
