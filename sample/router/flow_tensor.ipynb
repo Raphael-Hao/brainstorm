{
 "cells": [
  {
   "cell_type": "code",
   "execution_count": 1,
   "metadata": {},
   "outputs": [
    {
     "name": "stdout",
     "output_type": "stream",
     "text": [
      "[[tensor([1., 2., 3.])], [tensor([1., 2., 3.])]] [[3], [3]]\n"
     ]
    },
    {
     "ename": "AssertionError",
     "evalue": "",
     "output_type": "error",
     "traceback": [
      "\u001b[0;31m---------------------------------------------------------------------------\u001b[0m",
      "\u001b[0;31mAssertionError\u001b[0m                            Traceback (most recent call last)",
      "\u001b[1;32m/home/whcui/brainstorm_project/brainstorm/sample/router/flow_tensor.ipynb Cell 1'\u001b[0m in \u001b[0;36m<cell line: 11>\u001b[0;34m()\u001b[0m\n\u001b[1;32m      <a href='vscode-notebook-cell://ssh-remote%2B7b22686f73744e616d65223a22413130302d3031227d/home/whcui/brainstorm_project/brainstorm/sample/router/flow_tensor.ipynb#ch0000000vscode-remote?line=4'>5</a>\u001b[0m data_0 \u001b[39m=\u001b[39m init_flow_tensor(\n\u001b[1;32m      <a href='vscode-notebook-cell://ssh-remote%2B7b22686f73744e616d65223a22413130302d3031227d/home/whcui/brainstorm_project/brainstorm/sample/router/flow_tensor.ipynb#ch0000000vscode-remote?line=5'>6</a>\u001b[0m     torch\u001b[39m.\u001b[39mones(\u001b[39m3\u001b[39m, \u001b[39m4\u001b[39m, device\u001b[39m=\u001b[39m\u001b[39m\"\u001b[39m\u001b[39mcuda\u001b[39m\u001b[39m\"\u001b[39m), tags\u001b[39m=\u001b[39m[torch\u001b[39m.\u001b[39mTensor([\u001b[39m1\u001b[39m, \u001b[39m2\u001b[39m, \u001b[39m3\u001b[39m])], loads\u001b[39m=\u001b[39m[\u001b[39m3\u001b[39m]\n\u001b[1;32m      <a href='vscode-notebook-cell://ssh-remote%2B7b22686f73744e616d65223a22413130302d3031227d/home/whcui/brainstorm_project/brainstorm/sample/router/flow_tensor.ipynb#ch0000000vscode-remote?line=6'>7</a>\u001b[0m )\n\u001b[1;32m      <a href='vscode-notebook-cell://ssh-remote%2B7b22686f73744e616d65223a22413130302d3031227d/home/whcui/brainstorm_project/brainstorm/sample/router/flow_tensor.ipynb#ch0000000vscode-remote?line=7'>8</a>\u001b[0m data_1 \u001b[39m=\u001b[39m init_flow_tensor(\n\u001b[1;32m      <a href='vscode-notebook-cell://ssh-remote%2B7b22686f73744e616d65223a22413130302d3031227d/home/whcui/brainstorm_project/brainstorm/sample/router/flow_tensor.ipynb#ch0000000vscode-remote?line=8'>9</a>\u001b[0m     torch\u001b[39m.\u001b[39mones(\u001b[39m3\u001b[39m, \u001b[39m4\u001b[39m, device\u001b[39m=\u001b[39m\u001b[39m\"\u001b[39m\u001b[39mcuda\u001b[39m\u001b[39m\"\u001b[39m), tags\u001b[39m=\u001b[39m[torch\u001b[39m.\u001b[39mTensor([\u001b[39m1\u001b[39m, \u001b[39m2\u001b[39m, \u001b[39m3\u001b[39m])], loads\u001b[39m=\u001b[39m[\u001b[39m3\u001b[39m]\n\u001b[1;32m     <a href='vscode-notebook-cell://ssh-remote%2B7b22686f73744e616d65223a22413130302d3031227d/home/whcui/brainstorm_project/brainstorm/sample/router/flow_tensor.ipynb#ch0000000vscode-remote?line=9'>10</a>\u001b[0m )\n\u001b[0;32m---> <a href='vscode-notebook-cell://ssh-remote%2B7b22686f73744e616d65223a22413130302d3031227d/home/whcui/brainstorm_project/brainstorm/sample/router/flow_tensor.ipynb#ch0000000vscode-remote?line=10'>11</a>\u001b[0m c \u001b[39m=\u001b[39m torch\u001b[39m.\u001b[39;49mcat([data_0, data_1], dim\u001b[39m=\u001b[39;49m\u001b[39m0\u001b[39;49m)\n\u001b[1;32m     <a href='vscode-notebook-cell://ssh-remote%2B7b22686f73744e616d65223a22413130302d3031227d/home/whcui/brainstorm_project/brainstorm/sample/router/flow_tensor.ipynb#ch0000000vscode-remote?line=11'>12</a>\u001b[0m \u001b[39mprint\u001b[39m(c)\n\u001b[1;32m     <a href='vscode-notebook-cell://ssh-remote%2B7b22686f73744e616d65223a22413130302d3031227d/home/whcui/brainstorm_project/brainstorm/sample/router/flow_tensor.ipynb#ch0000000vscode-remote?line=12'>13</a>\u001b[0m c_data, tags, loads \u001b[39m=\u001b[39m deinit_flow_tensor(c)\n",
      "File \u001b[0;32m~/brainstorm_project/brainstorm/python/brt/router/flow_tensor.py:87\u001b[0m, in \u001b[0;36mFlowTensor.__torch_function__\u001b[0;34m(cls, func, types, args, kwargs)\u001b[0m\n\u001b[1;32m     <a href='file:///home/whcui/brainstorm_project/brainstorm/python/brt/router/flow_tensor.py?line=83'>84</a>\u001b[0m all_tags, all_loads \u001b[39m=\u001b[39m collect_tags_loads(args)\n\u001b[1;32m     <a href='file:///home/whcui/brainstorm_project/brainstorm/python/brt/router/flow_tensor.py?line=84'>85</a>\u001b[0m \u001b[39mprint\u001b[39m(all_tags, all_loads)\n\u001b[0;32m---> <a href='file:///home/whcui/brainstorm_project/brainstorm/python/brt/router/flow_tensor.py?line=86'>87</a>\u001b[0m \u001b[39massert\u001b[39;00m \u001b[39mlen\u001b[39m(all_tags) \u001b[39m==\u001b[39m \u001b[39m0\u001b[39m \u001b[39mand\u001b[39;00m \u001b[39mlen\u001b[39m(all_loads) \u001b[39m==\u001b[39m \u001b[39m0\u001b[39m\n\u001b[1;32m     <a href='file:///home/whcui/brainstorm_project/brainstorm/python/brt/router/flow_tensor.py?line=87'>88</a>\u001b[0m \u001b[39mif\u001b[39;00m \u001b[39mcls\u001b[39m\u001b[39m.\u001b[39mCHECK_TAGS:\n\u001b[1;32m     <a href='file:///home/whcui/brainstorm_project/brainstorm/python/brt/router/flow_tensor.py?line=88'>89</a>\u001b[0m     \u001b[39mfor\u001b[39;00m tags \u001b[39min\u001b[39;00m all_tags:\n",
      "\u001b[0;31mAssertionError\u001b[0m: "
     ]
    }
   ],
   "source": [
    "from brt.router.flow_tensor import init_flow_tensor, deinit_flow_tensor\n",
    "import torch\n",
    "import torch.nn as nn\n",
    "\n",
    "data_0 = init_flow_tensor(\n",
    "    torch.ones(3, 4, device=\"cuda\"), tags=[torch.Tensor([1, 2, 3])], loads=[3]\n",
    ")\n",
    "data_1 = init_flow_tensor(\n",
    "    torch.ones(3, 4, device=\"cuda\"), tags=[torch.Tensor([1, 2, 3])], loads=[3]\n",
    ")\n",
    "c = torch.cat([data_0, data_1], dim=0)\n",
    "print(c)\n",
    "c_data, tags, loads = deinit_flow_tensor(c)\n",
    "print(c_data)\n",
    "\n",
    "linear = nn.Linear(4, 4).cuda()\n",
    "c = linear(data_0)\n",
    "print(c)\n",
    "c = data_0 + data_1\n",
    "print(c)\n"
   ]
  },
  {
   "cell_type": "code",
   "execution_count": 2,
   "metadata": {},
   "outputs": [
    {
     "name": "stdout",
     "output_type": "stream",
     "text": [
      "([[tensor([1., 2., 3.])], [tensor([1., 2., 3.])]], [[3], [3]])\n"
     ]
    }
   ],
   "source": [
    "from brt.router.flow_tensor import collect_tags_loads,init_flow_tensor\n",
    "import torch\n",
    "\n",
    "a = init_flow_tensor(torch.ones(3, 4), tags=[torch.Tensor([1, 2, 3])], loads=[3])\n",
    "b = init_flow_tensor(torch.ones(3, 4), tags=[torch.Tensor([1, 2, 3])], loads=[3])\n",
    "\n",
    "tags_loads = collect_tags_loads([a, b])\n",
    "print(tags_loads)"
   ]
  }
 ],
 "metadata": {
  "interpreter": {
   "hash": "d4914c35dbc1a262acb2241fbfc193aaeb9362d455da2cebdd4b0a1d658dbfd5"
  },
  "kernelspec": {
   "display_name": "Python 3.8.10 64-bit ('base')",
   "language": "python",
   "name": "python3"
  },
  "language_info": {
   "codemirror_mode": {
    "name": "ipython",
    "version": 3
   },
   "file_extension": ".py",
   "mimetype": "text/x-python",
   "name": "python",
   "nbconvert_exporter": "python",
   "pygments_lexer": "ipython3",
   "version": "3.8.10"
  },
  "orig_nbformat": 4
 },
 "nbformat": 4,
 "nbformat_minor": 2
}
