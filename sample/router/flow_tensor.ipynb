{
 "cells": [
  {
   "cell_type": "code",
   "execution_count": 12,
   "metadata": {},
   "outputs": [
    {
     "name": "stdout",
     "output_type": "stream",
     "text": [
      "FlowTensor:\n",
      "data: tensor([[1., 1., 1., 1.],\n",
      "        [1., 1., 1., 1.],\n",
      "        [1., 1., 1., 1.],\n",
      "        [1., 1., 1., 1.],\n",
      "        [1., 1., 1., 1.],\n",
      "        [1., 1., 1., 1.]], device='cuda:0')\n",
      "current tag: tensor([1., 2., 3.])\n",
      "current load: 3\n",
      "tensor([[1., 1., 1., 1.],\n",
      "        [1., 1., 1., 1.],\n",
      "        [1., 1., 1., 1.],\n",
      "        [1., 1., 1., 1.],\n",
      "        [1., 1., 1., 1.],\n",
      "        [1., 1., 1., 1.]], device='cuda:0')\n",
      "FlowTensor:\n",
      "data: tensor([[-0.4859, -0.7896, -0.1471,  0.0152],\n",
      "        [-0.4859, -0.7896, -0.1471,  0.0152],\n",
      "        [-0.4859, -0.7896, -0.1471,  0.0152]], device='cuda:0',\n",
      "       grad_fn=<AliasBackward0>)\n",
      "current tag: tensor([1., 2., 3.])\n",
      "current load: 3\n",
      "FlowTensor:\n",
      "data: tensor([[2., 2., 2., 2.],\n",
      "        [2., 2., 2., 2.],\n",
      "        [2., 2., 2., 2.]], device='cuda:0')\n",
      "current tag: tensor([1., 2., 3.])\n",
      "current load: 3\n"
     ]
    }
   ],
   "source": [
    "from brt.router.flow_tensor import init_flow_tensor, deinit_flow_tensor\n",
    "import torch\n",
    "import torch.nn as nn\n",
    "\n",
    "data_0 = init_flow_tensor(\n",
    "    torch.ones(3, 4, device=\"cuda\"), tags=[torch.Tensor([1, 2, 3])], loads=[3]\n",
    ")\n",
    "data_1 = init_flow_tensor(\n",
    "    torch.ones(3, 4, device=\"cuda\"), tags=[torch.Tensor([1, 2, 3])], loads=[3]\n",
    ")\n",
    "c = torch.cat([data_0, data_1], dim=0)\n",
    "print(c)\n",
    "c_data, tags, loads = deinit_flow_tensor(c)\n",
    "print(c_data)\n",
    "\n",
    "linear = nn.Linear(4, 4).cuda()\n",
    "c = linear(data_0)\n",
    "print(c)\n",
    "c = data_0 + data_1\n",
    "print(c)\n"
   ]
  },
  {
   "cell_type": "code",
   "execution_count": null,
   "metadata": {},
   "outputs": [],
   "source": [
    "from torch import overrides"
   ]
  }
 ],
 "metadata": {
  "interpreter": {
   "hash": "d4914c35dbc1a262acb2241fbfc193aaeb9362d455da2cebdd4b0a1d658dbfd5"
  },
  "kernelspec": {
   "display_name": "Python 3.8.10 64-bit ('base')",
   "language": "python",
   "name": "python3"
  },
  "language_info": {
   "codemirror_mode": {
    "name": "ipython",
    "version": 3
   },
   "file_extension": ".py",
   "mimetype": "text/x-python",
   "name": "python",
   "nbconvert_exporter": "python",
   "pygments_lexer": "ipython3",
   "version": "3.8.10"
  },
  "orig_nbformat": 4
 },
 "nbformat": 4,
 "nbformat_minor": 2
}
