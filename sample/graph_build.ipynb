{
 "cells": [
  {
   "cell_type": "code",
   "execution_count": 9,
   "metadata": {},
   "outputs": [
    {
     "name": "stdout",
     "output_type": "stream",
     "text": [
      "setting logger for brainstorm.frontend to DEBUG level\n",
      "setting logger for brainstorm.backend to DEBUG level\n",
      "[2022-04-25 16:10:42] DEBUG (brainstorm.frontend/MainThread) building module NormalModel, __class__.__module__:__main__\n",
      "[2022-04-25 16:10:42] DEBUG (brainstorm.frontend/MainThread) converted input name: x__1\n",
      "[2022-04-25 16:10:42] DEBUG (brainstorm.frontend/MainThread) handling function callmethod\n",
      "[2022-04-25 16:10:42] DEBUG (brainstorm.frontend/MainThread) building module Normal, __class__.__module__:__main__\n",
      "[2022-04-25 16:10:42] DEBUG (brainstorm.frontend/MainThread) converted input name: x__1\n",
      "[2022-04-25 16:10:42] DEBUG (brainstorm.frontend/MainThread) handling function callmethod\n",
      "[2022-04-25 16:10:42] DEBUG (brainstorm.frontend/MainThread) building module Linear, __class__.__module__:torch.nn.modules.linear\n",
      "[2022-04-25 16:10:42] DEBUG (brainstorm.frontend/MainThread) building torch.nn module Linear, m_attrs: {'in_features': 10, 'out_features': 10}\n",
      "[2022-04-25 16:10:42] DEBUG (brainstorm.frontend/MainThread) handling function callmethod\n",
      "[2022-04-25 16:10:42] DEBUG (brainstorm.frontend/MainThread) building module Linear, __class__.__module__:torch.nn.modules.linear\n",
      "[2022-04-25 16:10:42] DEBUG (brainstorm.frontend/MainThread) building torch.nn module Linear, m_attrs: {'in_features': 10, 'out_features': 10}\n",
      "[2022-04-25 16:10:42] DEBUG (brainstorm.frontend/MainThread) building module MoEModel, __class__.__module__:__main__\n",
      "[2022-04-25 16:10:42] DEBUG (brainstorm.frontend/MainThread) converted input name: x__1\n",
      "[2022-04-25 16:10:42] DEBUG (brainstorm.frontend/MainThread) handling function callmethod\n",
      "[2022-04-25 16:10:42] DEBUG (brainstorm.frontend/MainThread) building module MoE, __class__.__module__:__main__\n",
      "[2022-04-25 16:10:42] DEBUG (brainstorm.frontend/MainThread) converted input name: x__1\n",
      "[2022-04-25 16:10:42] DEBUG (brainstorm.frontend/MainThread) handling function callmethod\n",
      "[2022-04-25 16:10:42] DEBUG (brainstorm.frontend/MainThread) building module Linear, __class__.__module__:torch.nn.modules.linear\n",
      "[2022-04-25 16:10:42] DEBUG (brainstorm.frontend/MainThread) building torch.nn module Linear, m_attrs: {'in_features': 10, 'out_features': 10}\n",
      "[2022-04-25 16:10:42] DEBUG (brainstorm.frontend/MainThread) handling function callmethod\n",
      "[2022-04-25 16:10:42] DEBUG (brainstorm.frontend/MainThread) building module Linear, __class__.__module__:torch.nn.modules.linear\n",
      "[2022-04-25 16:10:42] DEBUG (brainstorm.frontend/MainThread) building torch.nn module Linear, m_attrs: {'in_features': 10, 'out_features': 10}\n"
     ]
    }
   ],
   "source": [
    "import torch\n",
    "from brt.common import log\n",
    "import brt\n",
    "import brt.nn as nn\n",
    "from brt.router import RandomScatterRouter, RandomGatherRouter\n",
    "from brt.frontend import build_graph\n",
    "\n",
    "log.set_level(\"frontend\", \"DEBUG\")\n",
    "log.set_level(\"backend\", \"DEBUG\")\n",
    "\n",
    "\n",
    "@brt.netlet\n",
    "class MoE(nn.Module):\n",
    "    def __init__(self):\n",
    "        super().__init__()\n",
    "        self.scatter_router = RandomScatterRouter(route_num=2)\n",
    "        self.expert1 = nn.Linear(10, 10)\n",
    "        self.expert2 = nn.Linear(10, 10)\n",
    "        self.gather_router = RandomGatherRouter(route_num=2)\n",
    "\n",
    "    def forward(self, x):\n",
    "        route_results, reverse_indice, reverse_shape = self.scatter_router(x)\n",
    "        x_0 = self.expert1(route_results[0])\n",
    "        x_1 = self.expert2(route_results[1])\n",
    "        x = self.gather_router([x_0, x_1], reverse_indice, reverse_shape)\n",
    "        return x\n",
    "\n",
    "\n",
    "@brt.netlet\n",
    "class Normal(nn.Module):\n",
    "    def __init__(self):\n",
    "        super().__init__()\n",
    "        self.expert1 = nn.Linear(10, 10)\n",
    "        self.expert2 = nn.Linear(10, 10)\n",
    "\n",
    "    def forward(self, x):\n",
    "        x = self.expert1(x)\n",
    "        x = self.expert2(x)\n",
    "        return x\n",
    "\n",
    "\n",
    "@brt.domain\n",
    "class MoEModel(nn.Module):\n",
    "    def __init__(self):\n",
    "        super().__init__()\n",
    "        self.moe = MoE()\n",
    "\n",
    "    def forward(self, x):\n",
    "        return self.moe(x)\n",
    "\n",
    "\n",
    "@brt.domain\n",
    "class NormalModel(nn.Module):\n",
    "    def __init__(self):\n",
    "        super().__init__()\n",
    "        self.normal = Normal()\n",
    "\n",
    "    def forward(self, x):\n",
    "        return self.normal(x)\n",
    "\n",
    "\n",
    "normal_model = NormalModel()\n",
    "moe_model = MoEModel()\n",
    "normal_model_ir = build_graph(normal_model)\n",
    "moe_model_ir = build_graph(moe_model)\n"
   ]
  },
  {
   "cell_type": "code",
   "execution_count": 11,
   "metadata": {},
   "outputs": [
    {
     "name": "stdout",
     "output_type": "stream",
     "text": [
      "[2022-04-25 16:11:13] DEBUG (brainstorm.backend/MainThread) sorted_incoming_edges: [Edge(head=(Node(id=-1, name=_inputs, python_name=None, label=None, operation=_IOPseudoOperation(type=\"_inputs\")), 0), tail=(Node(id=57, name=_model__normal__expert1, python_name=normal.expert1, label=None, operation=ModuleOperator(type=\"__torch__.torch.nn.modules.linear.Linear\", in_features=10, out_features=10)), None))]\n",
      "[2022-04-25 16:11:13] DEBUG (brainstorm.backend/MainThread) all tail_slots are None: [None]\n",
      "[2022-04-25 16:11:13] DEBUG (brainstorm.backend/MainThread) submodule_name: _expert1, node_name: _expert1, inputs: ['x__1'], inputs_value: [None]\n",
      "[2022-04-25 16:11:13] DEBUG (brainstorm.backend/MainThread) sorted_incoming_edges: [Edge(head=(Node(id=57, name=_model__normal__expert1, python_name=normal.expert1, label=None, operation=ModuleOperator(type=\"__torch__.torch.nn.modules.linear.Linear\", in_features=10, out_features=10)), None), tail=(Node(id=59, name=_model__normal__expert2, python_name=normal.expert2, label=None, operation=ModuleOperator(type=\"__torch__.torch.nn.modules.linear.Linear\", in_features=10, out_features=10)), None))]\n",
      "[2022-04-25 16:11:13] DEBUG (brainstorm.backend/MainThread) all tail_slots are None: [None]\n",
      "[2022-04-25 16:11:13] DEBUG (brainstorm.backend/MainThread) submodule_name: _expert2, node_name: _expert2, inputs: ['_expert1'], inputs_value: [None]\n",
      "[2022-04-25 16:11:13] DEBUG (brainstorm.backend/MainThread) sorted_incoming_edges: [Edge(head=(Node(id=59, name=_model__normal__expert2, python_name=normal.expert2, label=None, operation=ModuleOperator(type=\"__torch__.torch.nn.modules.linear.Linear\", in_features=10, out_features=10)), None), tail=(Node(id=-2, name=_outputs, python_name=None, label=None, operation=_IOPseudoOperation(type=\"_outputs\")), None))]\n",
      "[2022-04-25 16:11:13] DEBUG (brainstorm.backend/MainThread) all tail_slots are None: [None]\n",
      "[2022-04-25 16:11:13] DEBUG (brainstorm.backend/MainThread) sorted_incoming_edges: [Edge(head=(Node(id=-1, name=_inputs, python_name=None, label=None, operation=_IOPseudoOperation(type=\"_inputs\")), 0), tail=(Node(id=60, name=_model__normal, python_name=normal, label=None, operation=Cell(type=\"_cell\")), None))]\n",
      "[2022-04-25 16:11:13] DEBUG (brainstorm.backend/MainThread) all tail_slots are None: [None]\n",
      "[2022-04-25 16:11:13] DEBUG (brainstorm.backend/MainThread) submodule_name: _normal, node_name: _normal, inputs: ['x__1'], inputs_value: [None]\n",
      "[2022-04-25 16:11:13] DEBUG (brainstorm.backend/MainThread) sorted_incoming_edges: [Edge(head=(Node(id=60, name=_model__normal, python_name=normal, label=None, operation=Cell(type=\"_cell\")), None), tail=(Node(id=-2, name=_outputs, python_name=None, label=None, operation=_IOPseudoOperation(type=\"_outputs\")), None))]\n",
      "[2022-04-25 16:11:13] DEBUG (brainstorm.backend/MainThread) all tail_slots are None: [None]\n",
      "---------------------------------------------\n",
      "[2022-04-25 16:11:13] DEBUG (brainstorm.backend/MainThread) sorted_incoming_edges: []\n",
      "[2022-04-25 16:11:13] DEBUG (brainstorm.backend/MainThread) submodule_name: _Constant2, node_name: _Constant2, inputs: [], inputs_value: []\n",
      "[2022-04-25 16:11:13] DEBUG (brainstorm.backend/MainThread) sorted_incoming_edges: []\n",
      "[2022-04-25 16:11:13] DEBUG (brainstorm.backend/MainThread) submodule_name: _Constant3, node_name: _Constant3, inputs: [], inputs_value: []\n",
      "[2022-04-25 16:11:13] DEBUG (brainstorm.backend/MainThread) sorted_incoming_edges: []\n",
      "[2022-04-25 16:11:13] DEBUG (brainstorm.backend/MainThread) submodule_name: _Attr4, node_name: _Attr4, inputs: [], inputs_value: []\n",
      "[2022-04-25 16:11:13] DEBUG (brainstorm.backend/MainThread) sorted_incoming_edges: []\n",
      "[2022-04-25 16:11:13] DEBUG (brainstorm.backend/MainThread) submodule_name: _Attr11, node_name: _Attr11, inputs: [], inputs_value: []\n",
      "[2022-04-25 16:11:13] DEBUG (brainstorm.backend/MainThread) sorted_incoming_edges: [Edge(head=(Node(id=64, name=_model__moe__Attr4, python_name=None, label=None, operation=PrimGetAttr(type=\"prim::GetAttr\", name='scatter_router', input='self', value=None)), None), tail=(Node(id=65, name=_model__moe__prim__PythonOp5, python_name=None, label=None, operation=PyTorchOperation(type=\"prim::PythonOp\")), 0)), Edge(head=(Node(id=-1, name=_inputs, python_name=None, label=None, operation=_IOPseudoOperation(type=\"_inputs\")), 0), tail=(Node(id=65, name=_model__moe__prim__PythonOp5, python_name=None, label=None, operation=PyTorchOperation(type=\"prim::PythonOp\")), 1))]\n",
      "[2022-04-25 16:11:13] DEBUG (brainstorm.backend/MainThread) all tail_slots are None: [0, 1]\n",
      "[2022-04-25 16:11:13] DEBUG (brainstorm.backend/MainThread) submodule_name: _prim__PythonOp5, node_name: _prim__PythonOp5, inputs: ['_Attr4', 'x__1'], inputs_value: [None, None]\n"
     ]
    },
    {
     "ename": "RuntimeError",
     "evalue": "unsupported operation type: prim::PythonOp ? None",
     "output_type": "error",
     "traceback": [
      "\u001b[0;31m---------------------------------------------------------------------------\u001b[0m",
      "\u001b[0;31mRuntimeError\u001b[0m                              Traceback (most recent call last)",
      "\u001b[0;32m/tmp/ipykernel_3795038/918636190.py\u001b[0m in \u001b[0;36m<module>\u001b[0;34m\u001b[0m\n\u001b[1;32m      3\u001b[0m \u001b[0mmodel_script\u001b[0m \u001b[0;34m=\u001b[0m \u001b[0mmodel_to_script\u001b[0m\u001b[0;34m(\u001b[0m\u001b[0mnormal_model_ir\u001b[0m\u001b[0;34m)\u001b[0m\u001b[0;34m\u001b[0m\u001b[0;34m\u001b[0m\u001b[0m\n\u001b[1;32m      4\u001b[0m \u001b[0mprint\u001b[0m\u001b[0;34m(\u001b[0m\u001b[0;34m\"---------------------------------------------\"\u001b[0m\u001b[0;34m)\u001b[0m\u001b[0;34m\u001b[0m\u001b[0;34m\u001b[0m\u001b[0m\n\u001b[0;32m----> 5\u001b[0;31m \u001b[0mmodel_script\u001b[0m \u001b[0;34m=\u001b[0m \u001b[0mmodel_to_script\u001b[0m\u001b[0;34m(\u001b[0m\u001b[0mmoe_model_ir\u001b[0m\u001b[0;34m)\u001b[0m\u001b[0;34m\u001b[0m\u001b[0;34m\u001b[0m\u001b[0m\n\u001b[0m",
      "\u001b[0;32m~/brainstorm_project/brainstorm/python/brt/backend/pytorch/codegen.py\u001b[0m in \u001b[0;36mmodel_to_script\u001b[0;34m(model, placement)\u001b[0m\n\u001b[1;32m     19\u001b[0m     \u001b[0mtotal_pkgs\u001b[0m \u001b[0;34m=\u001b[0m \u001b[0mset\u001b[0m\u001b[0;34m(\u001b[0m\u001b[0;34m)\u001b[0m\u001b[0;34m\u001b[0m\u001b[0;34m\u001b[0m\u001b[0m\n\u001b[1;32m     20\u001b[0m     \u001b[0;32mfor\u001b[0m \u001b[0mname\u001b[0m\u001b[0;34m,\u001b[0m \u001b[0mcell\u001b[0m \u001b[0;32min\u001b[0m \u001b[0mmodel\u001b[0m\u001b[0;34m.\u001b[0m\u001b[0mgraphs\u001b[0m\u001b[0;34m.\u001b[0m\u001b[0mitems\u001b[0m\u001b[0;34m(\u001b[0m\u001b[0;34m)\u001b[0m\u001b[0;34m:\u001b[0m\u001b[0;34m\u001b[0m\u001b[0;34m\u001b[0m\u001b[0m\n\u001b[0;32m---> 21\u001b[0;31m         \u001b[0mimport_pkgs\u001b[0m\u001b[0;34m,\u001b[0m \u001b[0mgraph_code\u001b[0m \u001b[0;34m=\u001b[0m \u001b[0mgraph_to_model\u001b[0m\u001b[0;34m(\u001b[0m\u001b[0mname\u001b[0m\u001b[0;34m,\u001b[0m \u001b[0mcell\u001b[0m\u001b[0;34m,\u001b[0m \u001b[0mplacement\u001b[0m\u001b[0;34m=\u001b[0m\u001b[0mplacement\u001b[0m\u001b[0;34m)\u001b[0m\u001b[0;34m\u001b[0m\u001b[0;34m\u001b[0m\u001b[0m\n\u001b[0m\u001b[1;32m     22\u001b[0m         \u001b[0mgraphs\u001b[0m\u001b[0;34m.\u001b[0m\u001b[0mappend\u001b[0m\u001b[0;34m(\u001b[0m\u001b[0mgraph_code\u001b[0m\u001b[0;34m)\u001b[0m\u001b[0;34m\u001b[0m\u001b[0;34m\u001b[0m\u001b[0m\n\u001b[1;32m     23\u001b[0m         \u001b[0mtotal_pkgs\u001b[0m\u001b[0;34m.\u001b[0m\u001b[0mupdate\u001b[0m\u001b[0;34m(\u001b[0m\u001b[0mimport_pkgs\u001b[0m\u001b[0;34m)\u001b[0m\u001b[0;34m\u001b[0m\u001b[0;34m\u001b[0m\u001b[0m\n",
      "\u001b[0;32m~/brainstorm_project/brainstorm/python/brt/backend/pytorch/codegen.py\u001b[0m in \u001b[0;36mgraph_to_model\u001b[0;34m(graph_name, graph, placement)\u001b[0m\n\u001b[1;32m    208\u001b[0m             edge_codes.append(\n\u001b[1;32m    209\u001b[0m                 node.operation.to_forward_code(\n\u001b[0;32m--> 210\u001b[0;31m                     \u001b[0msubmodule_name\u001b[0m\u001b[0;34m,\u001b[0m \u001b[0mnode_name\u001b[0m\u001b[0;34m,\u001b[0m \u001b[0minputs\u001b[0m\u001b[0;34m,\u001b[0m \u001b[0minputs_value\u001b[0m\u001b[0;34m\u001b[0m\u001b[0;34m\u001b[0m\u001b[0m\n\u001b[0m\u001b[1;32m    211\u001b[0m                 )\n\u001b[1;32m    212\u001b[0m             )\n",
      "\u001b[0;32m~/brainstorm_project/brainstorm/python/brt/operation/base.py\u001b[0m in \u001b[0;36mto_forward_code\u001b[0;34m(self, field, output, inputs, inputs_value)\u001b[0m\n\u001b[1;32m    181\u001b[0m         \u001b[0;32melse\u001b[0m\u001b[0;34m:\u001b[0m\u001b[0;34m\u001b[0m\u001b[0;34m\u001b[0m\u001b[0m\n\u001b[1;32m    182\u001b[0m             raise RuntimeError(\n\u001b[0;32m--> 183\u001b[0;31m                 \u001b[0;34mf\"unsupported operation type: {self.type} ? {self._to_class_name()}\"\u001b[0m\u001b[0;34m\u001b[0m\u001b[0;34m\u001b[0m\u001b[0m\n\u001b[0m\u001b[1;32m    184\u001b[0m             )\n\u001b[1;32m    185\u001b[0m \u001b[0;34m\u001b[0m\u001b[0m\n",
      "\u001b[0;31mRuntimeError\u001b[0m: unsupported operation type: prim::PythonOp ? None"
     ]
    }
   ],
   "source": [
    "from brt.backend.pytorch import model_to_script\n",
    "\n",
    "model_script = model_to_script(normal_model_ir)\n",
    "print(\"---------------------------------------------\")\n",
    "model_script = model_to_script(moe_model_ir)"
   ]
  }
 ],
 "metadata": {
  "interpreter": {
   "hash": "849bd15258cbc1fdb3dc8c930a1445a9f672620f82bbd55fbc814541035aa795"
  },
  "kernelspec": {
   "display_name": "Python 3.7.11 64-bit ('base')",
   "language": "python",
   "name": "python3"
  },
  "language_info": {
   "codemirror_mode": {
    "name": "ipython",
    "version": 3
   },
   "file_extension": ".py",
   "mimetype": "text/x-python",
   "name": "python",
   "nbconvert_exporter": "python",
   "pygments_lexer": "ipython3",
   "version": "3.7.11"
  },
  "orig_nbformat": 4
 },
 "nbformat": 4,
 "nbformat_minor": 2
}
