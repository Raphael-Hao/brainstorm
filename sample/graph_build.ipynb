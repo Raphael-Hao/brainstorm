{
 "cells": [
  {
   "cell_type": "code",
   "execution_count": 1,
   "metadata": {},
   "outputs": [
    {
     "name": "stdout",
     "output_type": "stream",
     "text": [
      "setting logger for brainstorm.frontend to DEBUG level\n",
      "[2022-04-27 12:47:38] DEBUG (brainstorm.frontend/MainThread) building brt.router RandomScatterRouter, m_attrs: {'route_num': 2}\n",
      "[2022-04-27 12:47:38] DEBUG (brainstorm.frontend/MainThread) building brt.router RandomGatherRouter, m_attrs: {'route_num': 2}\n"
     ]
    }
   ],
   "source": [
    "import torch\n",
    "from brt.common import log\n",
    "import brt\n",
    "import brt.nn as nn\n",
    "from brt.router import RandomScatterRouter, RandomGatherRouter\n",
    "from brt.frontend import build_graph, flatten_model_graph\n",
    "log.set_level(\"frontend\", \"DEBUG\")\n",
    "# log.set_level(\"backend\", \"DEBUG\")\n",
    "# log.set_level(\"ir\", \"DEBUG\")\n",
    "\n",
    "\n",
    "@brt.netlet\n",
    "class MoE(nn.Module):\n",
    "    def __init__(self):\n",
    "        super().__init__()\n",
    "        self.scatter_router = RandomScatterRouter(route_num=2)\n",
    "        self.expert1 = nn.Linear(10, 10)\n",
    "        self.expert2 = nn.Linear(10, 10)\n",
    "        self.gather_router = RandomGatherRouter(route_num=2)\n",
    "\n",
    "    def forward(self, x):\n",
    "        route_results, reverse_indice, reverse_shape = self.scatter_router(x)\n",
    "        x_0 = self.expert1(route_results[0])\n",
    "        x_1 = self.expert2(route_results[1])\n",
    "        x = self.gather_router([x_0, x_1], reverse_indice, reverse_shape)\n",
    "        return x\n",
    "\n",
    "\n",
    "@brt.netlet\n",
    "class Normal(nn.Module):\n",
    "    def __init__(self):\n",
    "        super().__init__()\n",
    "        self.expert1 = nn.Linear(10, 10)\n",
    "        self.expert2 = nn.Linear(10, 10)\n",
    "\n",
    "    def forward(self, x):\n",
    "        x = self.expert1(x)\n",
    "        x = self.expert2(x)\n",
    "        return x\n",
    "\n",
    "\n",
    "@brt.domain\n",
    "class MoEModel(nn.Module):\n",
    "    def __init__(self):\n",
    "        super().__init__()\n",
    "        self.moe = MoE()\n",
    "\n",
    "    def forward(self, x):\n",
    "        return self.moe(x)\n",
    "\n",
    "\n",
    "@brt.domain\n",
    "class NormalModel(nn.Module):\n",
    "    def __init__(self):\n",
    "        super().__init__()\n",
    "        self.normal = Normal()\n",
    "\n",
    "    def forward(self, x):\n",
    "        return self.normal(x)\n",
    "\n",
    "\n",
    "normal_model = NormalModel()\n",
    "moe_model = MoEModel()\n",
    "script_moe_model = torch.jit.script(moe_model)\n",
    "sm_graph = script_moe_model.moe.graph\n",
    "# print(sm_graph)\n",
    "# for node in sm_graph.nodes():\n",
    "#     if node.kind() == \"prim::PythonOp\":\n",
    "#         print(node, node.inputsAt(0).debugName())\n",
    "    # print(node.s(\"name\"))\n",
    "    # print(node.inputsAt(0).debugName())\n",
    "    # _val = getattr(moe_model, node.s(\"name\"))\n",
    "    # print(_val)\n",
    "    # print(type(_val))\n",
    "# normal_model_ir = build_graph(normal_model)\n",
    "ir_moe_model = build_graph(moe_model)\n",
    "flattened_ir_moe_model = flatten_model_graph(ir_moe_model)\n"
   ]
  },
  {
   "cell_type": "code",
   "execution_count": 5,
   "metadata": {},
   "outputs": [
    {
     "name": "stdout",
     "output_type": "stream",
     "text": [
      "---------------------------------------------\n",
      "import torch\n",
      "import torch.nn as nn\n",
      "import torch.nn.functional as F\n",
      "import torch.optim as optim\n",
      "\n",
      "import brt.nn\n",
      "\n",
      "import torch\n",
      "import brt\n",
      "\n",
      "\n",
      "class _model(nn.Module):\n",
      "    def __init__(self):\n",
      "        super().__init__()\n",
      "        self._moe__scatter_router = brt.router.scatter_router.RandomScatterRouter(route_num=2)\n",
      "        self._moe__expert2 = torch.nn.modules.linear.Linear(in_features=10, out_features=10)\n",
      "        self._moe__expert1 = torch.nn.modules.linear.Linear(in_features=10, out_features=10)\n",
      "        self._moe__gather_router = brt.router.gather_router.RandomGatherRouter(route_num=2)\n",
      "        self._mapping_ = {'_moe__scatter_router': None, '_moe__expert2': None, '_moe__expert1': None, '_moe__gather_router': None}\n",
      "\n",
      "    def forward(self, x__1):\n",
      "        _moe__Constant2 = 0\n",
      "        _moe__Constant3 = 1\n",
      "        _moe__scatter_router = self._moe__scatter_router()\n",
      "        _moe__TupleUnpack6 = _moe__scatter_router\n",
      "        _moe__aten____getitem__10 = _moe__TupleUnpack6[0][_moe__Constant3]\n",
      "        _moe__aten____getitem__8 = _moe__TupleUnpack6[0][_moe__Constant2]\n",
      "        _moe__expert2 = self._moe__expert2(_moe__aten____getitem__10)\n",
      "        _moe__expert1 = self._moe__expert1(_moe__aten____getitem__8)\n",
      "        _moe__ListConstruct12 = [_moe__expert1, _moe__expert2]\n",
      "        _moe__gather_router = self._moe__gather_router(_moe__ListConstruct12, _moe__TupleUnpack6[1], _moe__TupleUnpack6[2])\n",
      "        return _moe__gather_router\n"
     ]
    }
   ],
   "source": [
    "from brt.backend.pytorch import model_to_script\n",
    "\n",
    "model_script = model_to_script(flattened_ir_moe_model)\n",
    "print(model_script)"
   ]
  },
  {
   "cell_type": "code",
   "execution_count": 2,
   "metadata": {},
   "outputs": [
    {
     "name": "stdout",
     "output_type": "stream",
     "text": [
      "[tensor([[-1.1668,  4.0991, -2.0578,  4.3479,  5.3001, -0.1832, -1.3333,  9.3435,\n",
      "         -6.1432, -0.5831]], grad_fn=<AddmmBackward0>), tensor([[ 3.9222,  1.4431, -0.2387,  1.0776,  0.0810,  1.5783,  1.2412,  0.8928,\n",
      "          1.4979, -1.1245]], grad_fn=<AddmmBackward0>)]\n"
     ]
    }
   ],
   "source": [
    "import torch\n",
    "import torch.nn as nn\n",
    "import torch.nn.functional as F\n",
    "\n",
    "import brt.nn\n",
    "\n",
    "import torch\n",
    "import brt\n",
    "\n",
    "\n",
    "class m_model(nn.Module):\n",
    "    def __init__(self):\n",
    "        super().__init__()\n",
    "        self._moe__scatter_router = brt.router.scatter_router.RandomScatterRouter(route_num=2)\n",
    "        self._moe__expert2 = torch.nn.modules.linear.Linear(in_features=10, out_features=10)\n",
    "        self._moe__expert1 = torch.nn.modules.linear.Linear(in_features=10, out_features=10)\n",
    "        self._moe__gather_router = brt.router.gather_router.RandomGatherRouter(route_num=2)\n",
    "        self._mapping_ = {'_moe__scatter_router': None, '_moe__expert2': None, '_moe__expert1': None, '_moe__gather_router': None}\n",
    "\n",
    "    def forward(self, x__1):\n",
    "        _moe__Constant2 = 0\n",
    "        _moe__Constant3 = 1\n",
    "        _moe__scatter_router = self._moe__scatter_router(x__1)\n",
    "        _moe__TupleUnpack6 = _moe__scatter_router\n",
    "        _moe__aten____getitem__10 = _moe__TupleUnpack6[0][_moe__Constant3]\n",
    "        _moe__aten____getitem__8 = _moe__TupleUnpack6[0][_moe__Constant2]\n",
    "        _moe__expert2 = self._moe__expert2(_moe__aten____getitem__10)\n",
    "        _moe__expert1 = self._moe__expert1(_moe__aten____getitem__8)\n",
    "        _moe__ListConstruct12 = [_moe__expert1, _moe__expert2]\n",
    "        _moe__gather_router = self._moe__gather_router(_moe__ListConstruct12, _moe__TupleUnpack6[1], _moe__TupleUnpack6[2])\n",
    "        return _moe__gather_router\n",
    "    \n",
    "moe = m_model()\n",
    "x = torch.Tensor([[1, 2, 3, 4, 5, 6, 7, 8, 9, 10], [1, 2, 3, 4, 5, 6, 7, 8, 9, 10]])\n",
    "x = moe(x)"
   ]
  }
 ],
 "metadata": {
  "interpreter": {
   "hash": "849bd15258cbc1fdb3dc8c930a1445a9f672620f82bbd55fbc814541035aa795"
  },
  "kernelspec": {
   "display_name": "Python 3.7.11 64-bit ('base')",
   "language": "python",
   "name": "python3"
  },
  "language_info": {
   "codemirror_mode": {
    "name": "ipython",
    "version": 3
   },
   "file_extension": ".py",
   "mimetype": "text/x-python",
   "name": "python",
   "nbconvert_exporter": "python",
   "pygments_lexer": "ipython3",
   "version": "3.7.11"
  },
  "orig_nbformat": 4
 },
 "nbformat": 4,
 "nbformat_minor": 2
}
