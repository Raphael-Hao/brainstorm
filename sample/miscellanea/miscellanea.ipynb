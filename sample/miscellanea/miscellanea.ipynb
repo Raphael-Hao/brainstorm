{
 "cells": [
  {
   "cell_type": "code",
   "execution_count": 1,
   "metadata": {},
   "outputs": [
    {
     "name": "stdout",
     "output_type": "stream",
     "text": [
      "tensor([[True, True, True,  ..., True, True, True],\n",
      "        [True, True, True,  ..., True, True, True],\n",
      "        [True, True, True,  ..., True, True, True],\n",
      "        ...,\n",
      "        [True, True, True,  ..., True, True, True],\n",
      "        [True, True, True,  ..., True, True, True],\n",
      "        [True, True, True,  ..., True, True, True]])\n"
     ]
    }
   ],
   "source": [
    "from brt.router._random import FusedRandomGatherRouter, FusedRandomScatterRouter\n",
    "import brt.nn as nn\n",
    "import brt\n",
    "import torch\n",
    "\n",
    "\n",
    "class FusedMoE(nn.Module):\n",
    "    def __init__(self, expert_num):\n",
    "        super().__init__()\n",
    "        self.scatter_router = FusedRandomScatterRouter(\n",
    "            route_num=expert_num, supported_capacities=[2, 4, 8, 16, 32, 64]\n",
    "        )\n",
    "        self.gather_router = FusedRandomGatherRouter(route_num=expert_num)\n",
    "\n",
    "    def forward(self, inputs):\n",
    "        route_results, reverse_indices, expert_capacities = self.scatter_router(inputs)\n",
    "        route_results = self.gather_router(route_results, reverse_indices)\n",
    "        return route_results\n",
    "\n",
    "\n",
    "fused_moe = FusedMoE(expert_num=64)\n",
    "input_tensor = torch.rand((64, 64))\n",
    "output_tensor = fused_moe(input_tensor)\n",
    "print(torch.isclose(output_tensor, input_tensor))\n"
   ]
  },
  {
   "cell_type": "code",
   "execution_count": null,
   "metadata": {},
   "outputs": [],
   "source": [
    "from brt.router import RandomGatherRouter, RandomScatterRouter\n",
    "import brt.nn as nn\n",
    "import brt\n",
    "import torch\n",
    "\n",
    "\n",
    "class MoE(nn.Module):\n",
    "    def __init__(self, expert_num):\n",
    "        super().__init__()\n",
    "        self.scatter_router = RandomScatterRouter(route_num=expert_num)\n",
    "        self.gather_router = RandomGatherRouter(route_num=expert_num)\n",
    "\n",
    "    def forward(self, inputs):\n",
    "        route_results, reverse_indices = self.scatter_router(inputs)\n",
    "        route_results = self.gather_router(route_results, reverse_indices)\n",
    "        return route_results\n"
   ]
  }
 ],
 "metadata": {
  "interpreter": {
   "hash": "7b495db98349be6abb0a1b61323eb6d203b46e23d9d808745216e0de8177f2c3"
  },
  "kernelspec": {
   "display_name": "Python 3.8.12 64-bit ('base')",
   "language": "python",
   "name": "python3"
  },
  "language_info": {
   "codemirror_mode": {
    "name": "ipython",
    "version": 3
   },
   "file_extension": ".py",
   "mimetype": "text/x-python",
   "name": "python",
   "nbconvert_exporter": "python",
   "pygments_lexer": "ipython3",
   "version": "3.8.12"
  },
  "orig_nbformat": 4
 },
 "nbformat": 4,
 "nbformat_minor": 2
}
