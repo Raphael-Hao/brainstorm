{
 "cells": [
  {
   "cell_type": "code",
   "execution_count": 16,
   "metadata": {},
   "outputs": [
    {
     "name": "stdout",
     "output_type": "stream",
     "text": [
      "generate_local_indices elapsed time: 0.088\n",
      "route_with_local_indices elapsed time: 0.199\n",
      "route_back_with_local_indices elapsed time: 0.080\n",
      "False\n"
     ]
    }
   ],
   "source": [
    "from brt.routers.inference import make_homo_proto_tensor_cls\n",
    "\n",
    "make_homo_proto_tensor_cls()\n",
    "\n",
    "from brt.routers.app import RandHomoFusedScatterRouter\n",
    "from brt.routers.inference import HomoFusedGatherRouter\n",
    "import brt.nn as nn\n",
    "import torch\n",
    "\n",
    "\n",
    "class FusedMoE(nn.Module):\n",
    "    def __init__(self, expert_num):\n",
    "        super().__init__()\n",
    "        self.scatter_router = RandHomoFusedScatterRouter(\n",
    "            dst_num=expert_num,\n",
    "            supported_capacities=[\n",
    "                2,\n",
    "                4,\n",
    "                8,\n",
    "                16,\n",
    "                32,\n",
    "                64,\n",
    "                128,\n",
    "                256,\n",
    "                512,\n",
    "                1024,\n",
    "                2048,\n",
    "                4096,\n",
    "                8192,\n",
    "            ],\n",
    "        )\n",
    "        self.gather_router = HomoFusedGatherRouter(dst_num=expert_num)\n",
    "\n",
    "    def forward(self, inputs):\n",
    "        route_results = self.scatter_router(inputs)\n",
    "        # print(route_results)\n",
    "        route_results = self.gather_router(route_results)\n",
    "        return route_results\n",
    "\n",
    "\n",
    "fused_moe = FusedMoE(expert_num=8).cuda()\n",
    "\n",
    "input_tensor = torch.rand((1024, 64)).cuda()\n",
    "# print(input_tensor)\n",
    "output_tensor = fused_moe(input_tensor)\n",
    "# print(output_tensor)\n",
    "print(torch.allclose(output_tensor, input_tensor))\n"
   ]
  },
  {
   "cell_type": "code",
   "execution_count": null,
   "metadata": {},
   "outputs": [],
   "source": []
  }
 ],
 "metadata": {
  "kernelspec": {
   "display_name": "Python 3.8.10 64-bit ('base')",
   "language": "python",
   "name": "python3"
  },
  "language_info": {
   "codemirror_mode": {
    "name": "ipython",
    "version": 3
   },
   "file_extension": ".py",
   "mimetype": "text/x-python",
   "name": "python",
   "nbconvert_exporter": "python",
   "pygments_lexer": "ipython3",
   "version": "3.8.10"
  },
  "orig_nbformat": 4,
  "vscode": {
   "interpreter": {
    "hash": "d4914c35dbc1a262acb2241fbfc193aaeb9362d455da2cebdd4b0a1d658dbfd5"
   }
  }
 },
 "nbformat": 4,
 "nbformat_minor": 2
}
