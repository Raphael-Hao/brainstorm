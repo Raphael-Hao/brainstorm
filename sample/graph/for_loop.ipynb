{
 "cells": [
  {
   "cell_type": "code",
   "execution_count": 1,
   "metadata": {},
   "outputs": [
    {
     "name": "stdout",
     "output_type": "stream",
     "text": [
      "graph(%self : __torch__.ForLoop,\n",
      "      %xs.1 : Tensor[]):\n",
      "  %13 : NoneType = prim::Constant()\n",
      "  %2 : int = prim::Constant[value=9223372036854775807]() # /tmp/ipykernel_485535/2648660742.py:11:8\n",
      "  %4 : int = prim::Constant[value=0]() # /tmp/ipykernel_485535/2648660742.py:11:17\n",
      "  %24 : Tensor = aten::__getitem__(%xs.1, %4) # /tmp/ipykernel_485535/2648660742.py:11:14\n",
      "  %25 : int = aten::numel(%24) # /tmp/ipykernel_485535/2648660742.py:11:14\n",
      "  %26 : bool = aten::gt(%25, %4) # /tmp/ipykernel_485535/2648660742.py:11:14\n",
      "   = prim::Loop(%2, %26) # /tmp/ipykernel_485535/2648660742.py:11:8\n",
      "    block0(%9 : int):\n",
      "      %12 : int[] = prim::ListConstruct(%4, %4)\n",
      "      %17 : Tensor = aten::zeros(%12, %13, %13, %13, %13) # /tmp/ipykernel_485535/2648660742.py:12:20\n",
      "      %19 : Tensor[] = aten::_set_item(%xs.1, %4, %17) # /tmp/ipykernel_485535/2648660742.py:12:12\n",
      "      %5 : Tensor = aten::__getitem__(%xs.1, %4) # /tmp/ipykernel_485535/2648660742.py:11:14\n",
      "      %6 : int = aten::numel(%5) # /tmp/ipykernel_485535/2648660742.py:11:14\n",
      "      %7 : bool = aten::gt(%6, %4) # /tmp/ipykernel_485535/2648660742.py:11:14\n",
      "      -> (%7)\n",
      "  return (%xs.1)\n",
      "\n"
     ]
    }
   ],
   "source": [
    "from typing import List\n",
    "import torch\n",
    "import torch.nn as nn\n",
    "\n",
    "\n",
    "class ForLoop(nn.Module):\n",
    "    def __init__(self):\n",
    "        super().__init__()\n",
    "\n",
    "    def forward(self, xs: List[torch.Tensor]):\n",
    "        while xs[0].numel() > 0:\n",
    "            xs[0] = torch.zeros((0, 0))\n",
    "        return xs\n",
    "\n",
    "\n",
    "for_loop_model = ForLoop()\n",
    "s_for_loop_model = torch.jit.script(for_loop_model)\n",
    "print(s_for_loop_model.graph)\n"
   ]
  },
  {
   "cell_type": "code",
   "execution_count": 2,
   "metadata": {},
   "outputs": [
    {
     "name": "stdout",
     "output_type": "stream",
     "text": [
      "tensor([[-0.2335,  0.2240,  0.8765,  0.7727,  0.4278, -0.7833, -1.2467,  0.7585,\n",
      "         -0.7476, -0.7688]], grad_fn=<AliasBackward0>)\n",
      "graph(%self : __torch__.___torch_mangle_7.ForLoop,\n",
      "      %x.1 : Tensor):\n",
      "  %8 : NoneType = prim::Constant()\n",
      "  %2 : int = prim::Constant[value=1]() # /tmp/ipykernel_1381397/910957184.py:16:30\n",
      "  %12 : int = prim::Constant[value=9223372036854775807]() # /tmp/ipykernel_1381397/910957184.py:17:8\n",
      "  %15 : int = prim::Constant[value=0]() # /tmp/ipykernel_1381397/910957184.py:17:31\n",
      "  %5 : Device = prim::device(%x.1)\n",
      "  %7 : int[] = prim::ListConstruct(%2, %2)\n",
      "  %target.1 : Tensor = aten::zeros(%7, %8, %8, %5, %8) # /tmp/ipykernel_1381397/910957184.py:16:17\n",
      "  %49 : int = aten::numel(%target.1) # /tmp/ipykernel_1381397/910957184.py:17:14\n",
      "  %50 : bool = aten::gt(%49, %15) # /tmp/ipykernel_1381397/910957184.py:17:14\n",
      "  %x : Tensor = prim::Loop(%12, %50, %x.1) # /tmp/ipykernel_1381397/910957184.py:17:8\n",
      "    block0(%18 : int, %x.19 : Tensor):\n",
      "      %scatter : __torch__.brt.routers.rand.RandomScatterRouter = prim::GetAttr[name=\"scatter\"](%self)\n",
      "      %route_results.1 : Tensor[] = prim::CallMethod[name=\"forward\"](%scatter, %x.19) # /tmp/ipykernel_1381397/910957184.py:18:28\n",
      "      %target.5 : Tensor = aten::__getitem__(%route_results.1, %15) # /tmp/ipykernel_1381397/910957184.py:19:21\n",
      "      %moe_decoder : __torch__.torch.nn.modules.linear.Linear = prim::GetAttr[name=\"moe_decoder\"](%self)\n",
      "      %27 : Tensor = aten::__getitem__(%route_results.1, %15) # /tmp/ipykernel_1381397/910957184.py:20:33\n",
      "      %x.7 : Tensor = prim::CallMethod[name=\"forward\"](%moe_decoder, %27) # /tmp/ipykernel_1381397/910957184.py:20:16\n",
      "      %gather : __torch__.brt.routers.rand.RandomGatherRouter = prim::GetAttr[name=\"gather\"](%self)\n",
      "      %33 : Tensor = aten::__getitem__(%route_results.1, %2) # /tmp/ipykernel_1381397/910957184.py:21:32\n",
      "      %34 : Tensor[] = prim::ListConstruct(%x.7, %33)\n",
      "      %x.13 : Tensor = prim::CallMethod[name=\"forward\"](%gather, %34) # /tmp/ipykernel_1381397/910957184.py:21:16\n",
      "      %14 : int = aten::numel(%target.5) # /tmp/ipykernel_1381397/910957184.py:17:14\n",
      "      %16 : bool = aten::gt(%14, %15) # /tmp/ipykernel_1381397/910957184.py:17:14\n",
      "      -> (%16, %x.13)\n",
      "  return (%x)\n",
      "\n"
     ]
    }
   ],
   "source": [
    "from typing import List\n",
    "import torch\n",
    "import torch.nn as nn\n",
    "from brt.routers.rand import RandomScatterRouter, RandomGatherRouter\n",
    "from brt.primitive.helper import symbolize\n",
    "\n",
    "\n",
    "class ForLoop(nn.Module):\n",
    "    def __init__(self):\n",
    "        super().__init__()\n",
    "        self.scatter = RandomScatterRouter(dst_num=2)\n",
    "        self.moe_decoder = nn.Linear(10, 10)\n",
    "        self.gather = RandomGatherRouter(dst_num=2)\n",
    "\n",
    "    def forward(self, x: torch.Tensor):\n",
    "        target = torch.zeros((1, 1), device=x.device)\n",
    "        while target.numel() > 0:\n",
    "            route_results = self.scatter(x)\n",
    "            target = route_results[0]\n",
    "            x = self.moe_decoder(route_results[0])\n",
    "            x = self.gather([x, route_results[1]])\n",
    "        return x\n",
    "\n",
    "\n",
    "for_loop_model = ForLoop()\n",
    "\n",
    "x = torch.randn(1, 10)\n",
    "y = for_loop_model(x)\n",
    "print(y)\n",
    "s_for_loop_model = torch.jit.script(symbolize(for_loop_model))\n",
    "print(s_for_loop_model.graph)\n"
   ]
  }
 ],
 "metadata": {
  "interpreter": {
   "hash": "d4914c35dbc1a262acb2241fbfc193aaeb9362d455da2cebdd4b0a1d658dbfd5"
  },
  "kernelspec": {
   "display_name": "Python 3.8.10 64-bit ('base')",
   "language": "python",
   "name": "python3"
  },
  "language_info": {
   "codemirror_mode": {
    "name": "ipython",
    "version": 3
   },
   "file_extension": ".py",
   "mimetype": "text/x-python",
   "name": "python",
   "nbconvert_exporter": "python",
   "pygments_lexer": "ipython3",
   "version": "3.8.10"
  },
  "orig_nbformat": 4
 },
 "nbformat": 4,
 "nbformat_minor": 2
}
