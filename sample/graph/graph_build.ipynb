{
 "cells": [
  {
   "cell_type": "code",
   "execution_count": 1,
   "metadata": {},
   "outputs": [
    {
     "name": "stdout",
     "output_type": "stream",
     "text": [
      "graph(%x.1 : Tensor):\n",
      "  %8 : NoneType = prim::Constant()\n",
      "  %2 : int = prim::Constant[value=0]() # /tmp/ipykernel_2878822/2877097691.py:4:30\n",
      "  %5 : int = prim::Constant[value=1]() # /tmp/ipykernel_2878822/2877097691.py:4:41\n",
      "  %3 : int = aten::size(%x.1, %2) # /tmp/ipykernel_2878822/2877097691.py:4:23\n",
      "  %6 : int = aten::size(%x.1, %5) # /tmp/ipykernel_2878822/2877097691.py:4:34\n",
      "  %7 : int[] = prim::ListConstruct(%3, %6)\n",
      "  %12 : Tensor = aten::randn(%7, %8, %8, %8, %8) # /tmp/ipykernel_2878822/2877097691.py:4:11\n",
      "  return (%12)\n",
      "\n"
     ]
    }
   ],
   "source": [
    "import torch\n",
    "\n",
    "def f(x):\n",
    "    return torch.randn(x.size(0), x.size(1))\n",
    "\n",
    "sm_randn = torch.jit.script(f)\n",
    "print(sm_randn.graph)"
   ]
  },
  {
   "cell_type": "code",
   "execution_count": 1,
   "metadata": {},
   "outputs": [
    {
     "name": "stdout",
     "output_type": "stream",
     "text": [
      "tensor([[ -2.1933,   0.5259,   5.3248,  -2.4949,   0.6522,   3.0274,   0.7719,\n",
      "          -0.4352,   5.2967,   1.8439],\n",
      "        [ -4.0227,  10.2557,   7.6807,   7.3433,  -2.1963,  14.8702,   1.8967,\n",
      "          -8.2479,  -7.2180,  -8.7040],\n",
      "        [ -7.2936,  17.2094,  12.7483,  12.7952,  -4.7621,  24.6789,   1.9324,\n",
      "         -14.0765, -13.6807, -15.8386]], grad_fn=<AliasBackward0>)\n"
     ]
    }
   ],
   "source": [
    "import torch\n",
    "import torch.nn as nn\n",
    "from brt.runtime import log\n",
    "from brt.app import RandScatter\n",
    "from brt.router import GatherRouter\n",
    "\n",
    "\n",
    "log.set_level(\"frontend\", \"INFO\")\n",
    "log.set_level(\"backend\", \"INFO\")\n",
    "log.set_level(\"ir\", \"INFO\")\n",
    "\n",
    "\n",
    "class MoE(nn.Module):\n",
    "    def __init__(self):\n",
    "        super().__init__()\n",
    "        self.scatter_router = RandScatter(path_num=2)\n",
    "        self.expert1 = nn.Linear(10, 10)\n",
    "        self.expert2 = nn.Linear(10, 10)\n",
    "        self.gather_router = GatherRouter()\n",
    "\n",
    "    def forward(self, x):\n",
    "        route_results = self.scatter_router(x)\n",
    "        x_0 = self.expert1(route_results[0])\n",
    "        x_1 = self.expert2(route_results[1])\n",
    "        x = self.gather_router([x_0, x_1])\n",
    "        return x\n",
    "\n",
    "\n",
    "class MoEModel(nn.Module):\n",
    "    def __init__(\n",
    "        self,\n",
    "    ):\n",
    "        super().__init__()\n",
    "        self.moe = MoE()\n",
    "\n",
    "    def forward(self, x):\n",
    "        return self.moe(x)\n",
    "\n",
    "\n",
    "moe_model = MoEModel()\n",
    "x = torch.arange(0, 30, dtype=torch.float32).view(3, 10)\n",
    "x = moe_model(x)\n",
    "print(x)\n"
   ]
  },
  {
   "cell_type": "code",
   "execution_count": 2,
   "metadata": {},
   "outputs": [
    {
     "name": "stdout",
     "output_type": "stream",
     "text": [
      "import torch\n",
      "import torch.nn as nn\n",
      "import torch.nn.functional as F\n",
      "import torch.optim as optim\n",
      "\n",
      "import torch\n",
      "import brt\n",
      "\n",
      "\n",
      "class MoEModel_model__moe(nn.Module):\n",
      "    def __init__(self):\n",
      "        super().__init__()\n",
      "        self._scatter_router = brt.routers.app.rand.RandScatterRouter(dst_num=2)\n",
      "        self._expert1 = torch.nn.modules.linear.Linear(in_features=10, out_features=10)\n",
      "        self._expert2 = torch.nn.modules.linear.Linear(in_features=10, out_features=10)\n",
      "        self._gather_router = brt.routers.router.GatherRouter(dst_num=2)\n",
      "        self._mapping_ = {'_scatter_router': 'moe.scatter_router', '_expert1': 'moe.expert1', '_expert2': 'moe.expert2', '_gather_router': 'moe.gather_router'}\n",
      "\n",
      "    def forward(self, x__1):\n",
      "        _Constant2 = 0\n",
      "        _Constant3 = 1\n",
      "        _scatter_router = self._scatter_router(x__1)\n",
      "        _aten____getitem__6 = _scatter_router[_Constant2]\n",
      "        _aten____getitem__8 = _scatter_router[_Constant3]\n",
      "        _expert1 = self._expert1(_aten____getitem__6)\n",
      "        _expert2 = self._expert2(_aten____getitem__8)\n",
      "        _ListConstruct10 = [_expert1, _expert2]\n",
      "        _gather_router = self._gather_router(_ListConstruct10)\n",
      "        return _gather_router\n",
      "\n",
      "\n",
      "\n",
      "class MoEModel_model(nn.Module):\n",
      "    def __init__(self):\n",
      "        super().__init__()\n",
      "        self._moe = MoEModel_model__moe()\n",
      "        self._mapping_ = {'_moe': 'moe'}\n",
      "\n",
      "    def forward(self, x__1):\n",
      "        _moe = self._moe(x__1)\n",
      "        return _moe\n"
     ]
    }
   ],
   "source": [
    "from brt.frontend import build_graph\n",
    "from brt.backend.pytorch import model_to_script\n",
    "from brt.frontend import symbolize\n",
    "\n",
    "script_moe_model = torch.jit.script(symbolize(moe_model))\n",
    "sm_graph = script_moe_model.graph\n",
    "ir_moe_model = build_graph(moe_model)\n",
    "model_script = model_to_script(ir_moe_model)\n",
    "print(model_script)\n"
   ]
  },
  {
   "cell_type": "code",
   "execution_count": 3,
   "metadata": {},
   "outputs": [
    {
     "name": "stdout",
     "output_type": "stream",
     "text": [
      "WARNING:brainstorm.routers:threshold is not specified for Threshold route method, use default threshold=0.0\n",
      "[2022-06-19 20:58:21] WARNING (brainstorm.routers/MainThread) threshold is not specified for Threshold route method, use default threshold=0.0\n",
      "WARNING:brainstorm.routers:threshold is not specified for Threshold route method, use default threshold=0.0\n",
      "[2022-06-19 20:58:21] WARNING (brainstorm.routers/MainThread) threshold is not specified for Threshold route method, use default threshold=0.0\n",
      "torch.Size([2, 10])\n",
      "torch.Size([1, 20])\n"
     ]
    }
   ],
   "source": [
    "import torch\n",
    "import torch.nn as nn\n",
    "from brt.runtime import log\n",
    "from brt.router import ScatterRouter, GatherRouter\n",
    "\n",
    "\n",
    "route_func = nn.Sequential(nn.Linear(10, 2), nn.ReLU())\n",
    "\n",
    "\n",
    "class DynamicRouting(nn.Module):\n",
    "    def __init__(self, dst_num):\n",
    "        super().__init__()\n",
    "        self.scatter_router_0 = ScatterRouter(\n",
    "            dst_num=dst_num,\n",
    "            route_func=route_func,\n",
    "            route_method=\"threshold\",\n",
    "        )\n",
    "        self.scatter_router_1 = ScatterRouter(\n",
    "            dst_num=dst_num,\n",
    "            route_func=route_func,\n",
    "            route_method=\"threshold\",\n",
    "        )\n",
    "        self.expert1 = nn.Linear(10, 10)\n",
    "        self.expert2 = nn.Linear(10, 20)\n",
    "        self.expert3 = nn.Linear(10, 10)\n",
    "        self.expert4 = nn.Linear(10, 20)\n",
    "        self.gather_router_0 = GatherRouter(dst_num=dst_num)\n",
    "        self.gather_router_1 = GatherRouter(dst_num=dst_num)\n",
    "\n",
    "    def forward(self, x, y):\n",
    "        route_results_x = self.scatter_router_0(x)\n",
    "        route_results_y = self.scatter_router_1(y)\n",
    "        x_0 = self.expert1(route_results_x[0])\n",
    "        x_1 = self.expert2(route_results_x[1])\n",
    "        y_0 = self.expert3(route_results_y[0])\n",
    "        y_1 = self.expert4(route_results_y[1])\n",
    "        x = self.gather_router_0([x_0, y_0])\n",
    "        y = self.gather_router_1([x_1, y_1])\n",
    "        return x, y\n",
    "\n",
    "\n",
    "dy_model = DynamicRouting(2)\n",
    "\n",
    "x = torch.randn((2, 10))\n",
    "y = torch.randn((2, 10))\n",
    "\n",
    "x, y = dy_model(x, y)\n",
    "\n",
    "print(x.shape)\n",
    "print(y.shape)\n"
   ]
  },
  {
   "cell_type": "code",
   "execution_count": 5,
   "metadata": {},
   "outputs": [
    {
     "name": "stdout",
     "output_type": "stream",
     "text": [
      "tensor([[ 0.0051,  0.0605, -0.0592,  0.1375,  0.0241,  0.1902,  0.0502, -0.2667,\n",
      "         -0.0570, -0.1436],\n",
      "        [ 0.1365,  0.0330,  0.2277,  0.2845, -0.2512,  0.4982,  0.2820, -0.1979,\n",
      "          0.0123,  0.0257]], grad_fn=<AliasBackward0>)\n",
      "ProtoTensor(\n",
      "data: tensor([[ 0.2542,  0.1385,  0.2069,  0.2163, -0.0799,  0.0771, -0.3654,  0.0262,\n",
      "          0.0798,  0.2070, -0.4161, -0.0174,  0.2717, -0.0166,  0.0447,  0.1913,\n",
      "          0.0356, -0.2541,  0.2141,  0.0365]], grad_fn=<AliasBackward0>)\n",
      "tag_stack: [tensor([[0]])]\n",
      "load stack: [2])\n"
     ]
    }
   ],
   "source": [
    "import torch\n",
    "import torch.nn as nn\n",
    "from brt.runtime import log\n",
    "from brt.router import ScatterRouter, GatherRouter\n",
    "\n",
    "\n",
    "route_func = nn.Sequential(nn.Linear(10, 2), nn.ReLU())\n",
    "\n",
    "\n",
    "class DynamicRouting(nn.Module):\n",
    "    def __init__(self, dst_num):\n",
    "        super().__init__()\n",
    "        self.scatter_router_0 = ScatterRouter(\n",
    "            dst_num=dst_num,\n",
    "            route_func=route_func,\n",
    "            route_method=\"threshold\",\n",
    "            threshold=0,\n",
    "            residual_dst=0,\n",
    "        )\n",
    "        self.scatter_router_1 = ScatterRouter(\n",
    "            dst_num=dst_num,\n",
    "            route_func=route_func,\n",
    "            route_method=\"threshold\",\n",
    "            threshold=0,\n",
    "            residual_dst=0,\n",
    "        )\n",
    "        self.expert1 = nn.Linear(10, 10)\n",
    "        self.expert2 = nn.Linear(10, 20)\n",
    "        self.expert3 = nn.Linear(10, 10)\n",
    "        self.expert4 = nn.Linear(10, 20)\n",
    "        self.gather_router_0 = GatherRouter(dst_num=dst_num)\n",
    "        self.gather_router_1 = GatherRouter(dst_num=dst_num)\n",
    "\n",
    "    def forward(self, x, y):\n",
    "        route_results_x = self.scatter_router_0(x)\n",
    "        route_results_y = self.scatter_router_1(y)\n",
    "        x_0 = self.expert1(route_results_x[0])\n",
    "        x_1 = self.expert2(route_results_x[1])\n",
    "        y_0 = self.expert3(route_results_y[0])\n",
    "        y_1 = self.expert4(route_results_y[1])\n",
    "        x = self.gather_router_0([x_0, y_0])\n",
    "        y = self.gather_router_1([x_1, y_1])\n",
    "        return x, y\n",
    "\n",
    "\n",
    "dy_model = DynamicRouting(2)\n",
    "\n",
    "x = torch.randn((2, 10))\n",
    "y = torch.randn((2, 10))\n",
    "\n",
    "x, y = dy_model(x, y)\n",
    "\n",
    "print(x)\n",
    "print(y)\n"
   ]
  }
 ],
 "metadata": {
  "interpreter": {
   "hash": "d4914c35dbc1a262acb2241fbfc193aaeb9362d455da2cebdd4b0a1d658dbfd5"
  },
  "kernelspec": {
   "display_name": "Python 3.8.10 64-bit ('base')",
   "language": "python",
   "name": "python3"
  },
  "language_info": {
   "codemirror_mode": {
    "name": "ipython",
    "version": 3
   },
   "file_extension": ".py",
   "mimetype": "text/x-python",
   "name": "python",
   "nbconvert_exporter": "python",
   "pygments_lexer": "ipython3",
   "version": "3.8.10"
  },
  "orig_nbformat": 4,
  "vscode": {
   "interpreter": {
    "hash": "7b495db98349be6abb0a1b61323eb6d203b46e23d9d808745216e0de8177f2c3"
   }
  }
 },
 "nbformat": 4,
 "nbformat_minor": 2
}
