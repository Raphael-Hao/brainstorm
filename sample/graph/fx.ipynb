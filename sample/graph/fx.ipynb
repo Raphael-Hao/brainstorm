{
 "cells": [
  {
   "cell_type": "code",
   "execution_count": 1,
   "metadata": {},
   "outputs": [
    {
     "name": "stdout",
     "output_type": "stream",
     "text": [
      "tensor([[ 0.,  1.,  2.,  3.,  4.,  5.,  6.,  7.,  8.,  9.],\n",
      "        [10., 11., 12., 13., 14., 15., 16., 17., 18., 19.],\n",
      "        [20., 21., 22., 23., 24., 25., 26., 27., 28., 29.],\n",
      "        [30., 31., 32., 33., 34., 35., 36., 37., 38., 39.]])\n"
     ]
    }
   ],
   "source": [
    "import torch\n",
    "import torch.nn as nn\n",
    "from brt.runtime import log\n",
    "from brt.app.rand import RandScatter\n",
    "from brt.router import GatherRouter\n",
    "\n",
    "\n",
    "class MoE(nn.Module):\n",
    "    def __init__(self):\n",
    "        super().__init__()\n",
    "        self.rand_scatter = RandScatter(path_num=2)\n",
    "        self.expert1 = nn.Identity()\n",
    "        self.expert2 = nn.Identity()\n",
    "        self.gather_router = GatherRouter()\n",
    "        self.iteration = 1\n",
    "        self.ret = 1\n",
    "\n",
    "    def forward(self, x):\n",
    "        route_results = self.rand_scatter(x)\n",
    "        x_0 = self.expert1(route_results[0])\n",
    "        x_1 = self.expert2(route_results[1])\n",
    "        x = self.gather_router([x_0, x_1])\n",
    "        return x\n",
    "\n",
    "class SimpleModel(nn.Module):\n",
    "    def __init__(self):\n",
    "        super().__init__()\n",
    "        self.moe = MoE()\n",
    "\n",
    "    def forward(self, x):\n",
    "        x = self.moe(x)\n",
    "        return x\n",
    "\n",
    "\n",
    "moe_model = SimpleModel()\n",
    "\n",
    "indata = torch.arange(0, 40, dtype=torch.float32).view(4, 10)\n",
    "outdata = moe_model(indata)\n",
    "print(outdata)\n"
   ]
  },
  {
   "cell_type": "code",
   "execution_count": 2,
   "metadata": {},
   "outputs": [],
   "source": [
    "from brt.trace.graph import GraphTracer\n",
    "from torch.fx.graph_module import GraphModule\n",
    "from brt.runtime import BRT_CACHE_PATH\n",
    "tracer = GraphTracer()\n",
    "graph = tracer.trace(moe_model)\n",
    "name = moe_model.__class__.__name__ if isinstance(moe_model, torch.nn.Module) else moe_model.__name__\n",
    "graph_module= GraphModule(tracer.root, graph, name)\n",
    "\n",
    "from torch.fx.passes.graph_drawer import FxGraphDrawer\n",
    "\n",
    "graph_drawer = FxGraphDrawer(graph_module, \"brt_model\")\n",
    "with open(\"a.svg\", \"wb\") as f:\n",
    "    f.write(graph_drawer.get_dot_graph().create_svg())\n",
    "\n",
    "\n"
   ]
  },
  {
   "cell_type": "code",
   "execution_count": 3,
   "metadata": {},
   "outputs": [
    {
     "name": "stdout",
     "output_type": "stream",
     "text": [
      "\n",
      "torch.fx._symbolic_trace.wrap(\"brt_app_rand_rand_gate\")\n",
      "\n",
      "def forward(self, x):\n",
      "    rand_gate = brt_app_rand_rand_gate(x, 2)\n",
      "    moe_rand_scatter_scatter_router = self.moe.rand_scatter.scatter_router(x, rand_gate);  x = rand_gate = None\n",
      "    getitem = moe_rand_scatter_scatter_router[0]\n",
      "    moe_expert1 = self.moe.expert1(getitem);  getitem = None\n",
      "    getitem_1 = moe_rand_scatter_scatter_router[1];  moe_rand_scatter_scatter_router = None\n",
      "    moe_expert2 = self.moe.expert2(getitem_1);  getitem_1 = None\n",
      "    moe_gather_router = self.moe.gather_router([moe_expert1, moe_expert2]);  moe_expert1 = moe_expert2 = None\n",
      "    return moe_gather_router\n",
      "    \n",
      "([moe_expert1, moe_expert2],)\n",
      "([moe_expert2],)\n",
      "\n",
      "torch.fx._symbolic_trace.wrap(\"brt_app_rand_rand_gate\")\n",
      "\n",
      "def forward(self, x):\n",
      "    rand_gate = brt_app_rand_rand_gate(x, 2)\n",
      "    moe_rand_scatter_scatter_router = self.moe.rand_scatter.scatter_router(x, rand_gate);  x = rand_gate = None\n",
      "    getitem_1 = moe_rand_scatter_scatter_router[1];  moe_rand_scatter_scatter_router = None\n",
      "    moe_expert2 = self.moe.expert2(getitem_1);  getitem_1 = None\n",
      "    moe_gather_router = self.moe.gather_router([moe_expert2]);  moe_expert2 = None\n",
      "    return moe_gather_router\n",
      "    \n"
     ]
    }
   ],
   "source": [
    "print(graph_module.code)\n",
    "models = graph_module.named_modules()\n",
    "# for node in graph.nodes:\n",
    "#     print(node.target, node.args , node.users)\n",
    "\n",
    "for node in graph.nodes:\n",
    "    if node.target == \"moe.gather_router\":\n",
    "        print(node.args)\n",
    "        new_args = ([node.args[0][1]],)\n",
    "        node.args = new_args\n",
    "        print(node.args)\n",
    "\n",
    "graph.eliminate_dead_code()\n",
    "new_graph_module = GraphModule(tracer.root, graph, name)\n",
    "\n",
    "print(new_graph_module.code)\n",
    "\n",
    "\n",
    "from torch.fx.passes.graph_drawer import FxGraphDrawer\n",
    "\n",
    "graph_drawer = FxGraphDrawer(new_graph_module, \"new_brt_model\")\n",
    "with open(\"b.svg\", \"wb\") as f:\n",
    "    f.write(graph_drawer.get_dot_graph().create_svg())\n"
   ]
  },
  {
   "cell_type": "code",
   "execution_count": 4,
   "metadata": {},
   "outputs": [
    {
     "name": "stdout",
     "output_type": "stream",
     "text": [
      "([moe_expert2],)\n",
      "tensor([[ 0.,  1.,  2.,  3.,  4.,  5.,  6.,  7.,  8.,  9.],\n",
      "        [10., 11., 12., 13., 14., 15., 16., 17., 18., 19.],\n",
      "        [ 0.,  0.,  0.,  0.,  0.,  0.,  0.,  0.,  0.,  0.],\n",
      "        [ 0.,  0.,  0.,  0.,  0.,  0.,  0.,  0.,  0.,  0.]])\n"
     ]
    }
   ],
   "source": [
    "from brt.trace.graph import GraphTracer\n",
    "from torch.fx.graph_module import GraphModule\n",
    "from brt.runtime import BRT_CACHE_PATH\n",
    "tracer = GraphTracer()\n",
    "graph = tracer.trace(moe_model)\n",
    "name = moe_model.__class__.__name__\n",
    "graph_module= GraphModule(tracer.root, graph, name)\n",
    "models = graph_module.named_modules()\n",
    "\n",
    "for node in graph.nodes:\n",
    "    if node.target == \"moe.gather_router\":\n",
    "        new_args = ([node.args[0][1]],)\n",
    "        node.args = new_args\n",
    "        print(node.args)\n",
    "\n",
    "graph.eliminate_dead_code()\n",
    "new_graph_module = GraphModule(tracer.root, graph, name)\n",
    "indata = torch.arange(0, 40, dtype=torch.float32).view(4, 10)\n",
    "outdata = new_graph_module(indata)\n",
    "print(outdata)"
   ]
  },
  {
   "cell_type": "code",
   "execution_count": 12,
   "metadata": {},
   "outputs": [
    {
     "name": "stdout",
     "output_type": "stream",
     "text": [
      "tensor([[ 0.,  1.,  2.,  3.,  4.,  5.,  6.,  7.,  8.,  9.],\n",
      "        [10., 11., 12., 13., 14., 15., 16., 17., 18., 19.],\n",
      "        [20., 21., 22., 23., 24., 25., 26., 27., 28., 29.],\n",
      "        [30., 31., 32., 33., 34., 35., 36., 37., 38., 39.]])\n",
      "tensor([0., 4.], dtype=torch.float64)\n",
      "tensor([0., 4.], dtype=torch.float64)\n"
     ]
    }
   ],
   "source": [
    "import torch\n",
    "import torch.nn as nn\n",
    "from brt.runtime import log\n",
    "from brt.app.rand import RandScatter\n",
    "from brt.router import GatherRouter\n",
    "\n",
    "\n",
    "class MoE(nn.Module):\n",
    "    def __init__(self):\n",
    "        super().__init__()\n",
    "        self.rand_scatter = RandScatter(path_num=2, capturing=True)\n",
    "        self.expert1 = nn.Identity()\n",
    "        self.expert2 = nn.Identity()\n",
    "        self.gather_router = GatherRouter(\n",
    "            fabric_kwargs={\"sparse\": True}, capturing=True\n",
    "        )\n",
    "        self.iteration = 1\n",
    "        self.ret = 1\n",
    "\n",
    "    def forward(self, x):\n",
    "        route_results = self.rand_scatter(x)\n",
    "        x_0 = self.expert1(route_results[0])\n",
    "        x_1 = self.expert2(route_results[1])\n",
    "        x = self.gather_router([x_0, x_1])\n",
    "        return x\n",
    "\n",
    "\n",
    "class SimpleModel(nn.Module):\n",
    "    def __init__(self):\n",
    "        super().__init__()\n",
    "        self.moe = MoE()\n",
    "\n",
    "    def forward(self, x):\n",
    "        x = self.moe(x)\n",
    "        return x\n",
    "\n",
    "\n",
    "moe_model = SimpleModel()\n",
    "\n",
    "indata = torch.arange(0, 40, dtype=torch.float32).view(4, 10)\n",
    "outdata = moe_model(indata)\n",
    "print(outdata)\n",
    "print(moe_model.moe.rand_scatter.scatter_router.load_history)\n",
    "print(moe_model.moe.gather_router.load_history)\n"
   ]
  },
  {
   "cell_type": "code",
   "execution_count": 15,
   "metadata": {},
   "outputs": [
    {
     "name": "stdout",
     "output_type": "stream",
     "text": [
      "\n",
      "torch.fx._symbolic_trace.wrap(\"brt_app_rand_rand_gate\")\n",
      "\n",
      "def forward(self, x):\n",
      "    rand_gate = brt_app_rand_rand_gate(x, 2)\n",
      "    moe_rand_scatter_scatter_router = self.moe.rand_scatter.scatter_router(x, rand_gate);  x = rand_gate = None\n",
      "    getitem = moe_rand_scatter_scatter_router[0];  moe_rand_scatter_scatter_router = None\n",
      "    moe_expert1 = self.moe.expert1(getitem);  getitem = None\n",
      "    moe_gather_router = self.moe.gather_router([moe_expert1]);  moe_expert1 = None\n",
      "    return moe_gather_router\n",
      "    \n",
      "ProtoTensor([[10., 11., 12., 13., 14., 15., 16., 17., 18., 19.]])\n",
      "tag_stack: [tensor([[1]])]\n",
      "load stack: [4])\n"
     ]
    }
   ],
   "source": [
    "from brt.passes import get_pass\n",
    "\n",
    "eliminate_pass_cls = get_pass(\"dead_path_eliminate\")\n",
    "eliminate_pass = eliminate_pass_cls(moe_model)\n",
    "eliminate_pass.run_on_graph()\n",
    "new_moe_model = eliminate_pass.finalize()\n",
    "print(new_moe_model.code)\n",
    "indata = torch.arange(0, 40, dtype=torch.float32).view(4, 10)\n",
    "outdata = new_moe_model(indata)\n",
    "print(outdata)\n"
   ]
  },
  {
   "cell_type": "code",
   "execution_count": 1,
   "metadata": {},
   "outputs": [
    {
     "name": "stdout",
     "output_type": "stream",
     "text": [
      "(tensor([[ 1.5824, -0.4830,  1.0120],\n",
      "        [ 0.9769, -0.0374,  1.3430]]), tensor([[ 0.2445,  1.5441, -0.0383],\n",
      "        [ 1.4352,  0.0041,  0.6622]]))\n"
     ]
    }
   ],
   "source": [
    "import torch\n",
    "import torch.nn as nn\n",
    "import torch.fx as fx\n",
    "\n",
    "class SimpleNet(nn.Module):\n",
    "    def __init__(self) -> None:\n",
    "        super().__init__()\n",
    "        self.indentity = nn.Identity()\n",
    "\n",
    "    def forward(self, y, z):\n",
    "        y = self.indentity(y)\n",
    "        z = self.indentity(z)\n",
    "        return y, z\n",
    "\n",
    "simple_net = SimpleNet()\n",
    "x = torch.randn(2, 3)\n",
    "z = torch.randn(2, 3)\n",
    "y = simple_net(x,z)\n",
    "print(y)\n"
   ]
  },
  {
   "cell_type": "code",
   "execution_count": 2,
   "metadata": {},
   "outputs": [
    {
     "name": "stdout",
     "output_type": "stream",
     "text": [
      "[y, z, indentity, event_emitter, getitem, indentity_1, event_emitter_1, getitem_1, output]\n",
      "\n",
      "\n",
      "\n",
      "def forward(self, y, z):\n",
      "    indentity = self.indentity(y);  y = None\n",
      "    event_emitter = self.event_emitter(indentity);  indentity = None\n",
      "    getitem = event_emitter[0];  event_emitter = None\n",
      "    indentity_1 = self.indentity(z);  z = None\n",
      "    event_emitter_1 = self.event_emitter(indentity_1);  indentity_1 = None\n",
      "    getitem_1 = event_emitter_1[0];  event_emitter_1 = None\n",
      "    return (getitem, getitem_1)\n",
      "    \n",
      "(tensor([[ 1.5824, -0.4830,  1.0120],\n",
      "        [ 0.9769, -0.0374,  1.3430]]), tensor([[ 0.2445,  1.5441, -0.0383],\n",
      "        [ 1.4352,  0.0041,  0.6622]]))\n"
     ]
    }
   ],
   "source": [
    "from brt.runtime.memory_plan import EventCollector, EventEmitter\n",
    "from brt.trace.graph import symbolic_trace\n",
    "from torch.fx import Node\n",
    "import operator\n",
    "\n",
    "graph_m = symbolic_trace(simple_net)\n",
    "\n",
    "event_emitter = EventEmitter(1)\n",
    "event_collector = EventCollector(1)\n",
    "setattr(graph_m, \"event_emitter\", event_emitter)\n",
    "setattr(graph_m, \"event_collector\", event_collector)\n",
    "\n",
    "node: Node\n",
    "for node in graph_m.graph.nodes:\n",
    "    if node.target == \"indentity\":\n",
    "        with graph_m.graph.inserting_after(node):\n",
    "            emmit_node = graph_m.graph.call_module(\n",
    "                \"event_emitter\", (node,)\n",
    "            )\n",
    "        with graph_m.graph.inserting_after(emmit_node):\n",
    "            new_node = graph_m.graph.call_function(operator.getitem, (emmit_node, 0))\n",
    "        node.replace_all_uses_with(new_node, lambda x: x != emmit_node)\n",
    "\n",
    "        graph_m.graph.lint()\n",
    "graph_m.recompile()\n",
    "print(list(graph_m.graph.nodes))\n",
    "print(graph_m.code)\n",
    "y = graph_m(x,z)\n",
    "\n",
    "print(y)"
   ]
  },
  {
   "cell_type": "code",
   "execution_count": 11,
   "metadata": {},
   "outputs": [],
   "source": [
    "\n",
    "class InjectedSimpleNet(nn.Module):\n",
    "    def __init__(self) -> None:\n",
    "        super().__init__()\n",
    "        self.event_collector = EventCollector(2)\n",
    "        self.indentity = nn.Identity()\n",
    "\n",
    "    def forward(self, y, z):\n",
    "        y, e1, e2 = self.event_emitter(y)\n",
    "        y = self.indentity(y)\n",
    "        z = self.indentity(z)\n",
    "        y = self.event_collector(y, 0, 1)\n",
    "        return y, z\n"
   ]
  }
 ],
 "metadata": {
  "kernelspec": {
   "display_name": "Python 3.8.10 64-bit ('base')",
   "language": "python",
   "name": "python3"
  },
  "language_info": {
   "codemirror_mode": {
    "name": "ipython",
    "version": 3
   },
   "file_extension": ".py",
   "mimetype": "text/x-python",
   "name": "python",
   "nbconvert_exporter": "python",
   "pygments_lexer": "ipython3",
   "version": "3.8.10"
  },
  "orig_nbformat": 4,
  "vscode": {
   "interpreter": {
    "hash": "d4914c35dbc1a262acb2241fbfc193aaeb9362d455da2cebdd4b0a1d658dbfd5"
   }
  }
 },
 "nbformat": 4,
 "nbformat_minor": 2
}
