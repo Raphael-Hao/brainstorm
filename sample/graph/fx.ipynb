{
 "cells": [
  {
   "cell_type": "code",
   "execution_count": 19,
   "metadata": {},
   "outputs": [],
   "source": [
    "import torch\n",
    "import torch.nn as nn\n",
    "from brt.runtime import log\n",
    "from brt.app import RandScatter\n",
    "from brt.router import GatherRouter\n",
    "\n",
    "\n",
    "class MoE(nn.Module):\n",
    "    def __init__(self):\n",
    "        super().__init__()\n",
    "        self.rand_scatter = RandScatter(path_num=2)\n",
    "        self.expert1 = nn.Identity()\n",
    "        self.expert2 = nn.Identity()\n",
    "        self.gather_router = GatherRouter()\n",
    "        self.iteration = 1\n",
    "        self.ret = 1\n",
    "\n",
    "    def forward(self, x):\n",
    "        route_results = self.rand_scatter(x)\n",
    "        x_0 = self.expert1(route_results[0])\n",
    "        x_1 = self.expert2(route_results[1])\n",
    "        x = self.gather_router([x_0, x_1])\n",
    "        return x\n",
    "\n",
    "class SimpleModel(nn.Module):\n",
    "    def __init__(self):\n",
    "        super().__init__()\n",
    "        self.moe = MoE()\n",
    "\n",
    "    def forward(self, x):\n",
    "        x = self.moe(x)\n",
    "        return x\n",
    "\n",
    "\n",
    "moe_model = SimpleModel()\n",
    "\n",
    "indata = torch.arange(0, 40, dtype=torch.float32).view(4, 10)\n",
    "outdata = moe_model(indata)\n",
    "# print(outdata[0])\n"
   ]
  },
  {
   "cell_type": "code",
   "execution_count": 28,
   "metadata": {},
   "outputs": [
    {
     "name": "stdout",
     "output_type": "stream",
     "text": [
      "\n",
      "torch.fx._symbolic_trace.wrap(\"brt_app_rand_rand_gate\")\n",
      "\n",
      "def forward(self, x):\n",
      "    rand_gate = brt_app_rand_rand_gate(x, 2)\n",
      "    moe_rand_scatter_scatter_router = self.moe.rand_scatter.scatter_router(x, rand_gate);  x = rand_gate = None\n",
      "    getitem = moe_rand_scatter_scatter_router[0]\n",
      "    moe_expert1 = self.moe.expert1(getitem);  getitem = None\n",
      "    getitem_1 = moe_rand_scatter_scatter_router[1];  moe_rand_scatter_scatter_router = None\n",
      "    moe_expert2 = self.moe.expert2(getitem_1);  getitem_1 = None\n",
      "    moe_gather_router = self.moe.gather_router([moe_expert1, moe_expert2]);  moe_expert1 = moe_expert2 = None\n",
      "    return moe_gather_router\n",
      "    \n",
      "([moe_expert2],)\n",
      "\n",
      "torch.fx._symbolic_trace.wrap(\"brt_app_rand_rand_gate\")\n",
      "\n",
      "def forward(self, x):\n",
      "    rand_gate = brt_app_rand_rand_gate(x, 2)\n",
      "    moe_rand_scatter_scatter_router = self.moe.rand_scatter.scatter_router(x, rand_gate);  x = rand_gate = None\n",
      "    getitem_1 = moe_rand_scatter_scatter_router[1];  moe_rand_scatter_scatter_router = None\n",
      "    moe_expert2 = self.moe.expert2(getitem_1);  getitem_1 = None\n",
      "    moe_gather_router = self.moe.gather_router([moe_expert2]);  moe_expert2 = None\n",
      "    return moe_gather_router\n",
      "    \n"
     ]
    }
   ],
   "source": [
    "from brt.trace.graph import GraphTracer\n",
    "from torch.fx.graph_module import GraphModule\n",
    "from brt.runtime import BRT_CACHE_PATH\n",
    "tracer = GraphTracer()\n",
    "graph = tracer.trace(moe_model)\n",
    "name = moe_model.__class__.__name__ if isinstance(moe_model, torch.nn.Module) else moe_model.__name__\n",
    "graph_module= GraphModule(tracer.root, graph, name)\n",
    "print(graph_module.code)\n",
    "models = graph_module.named_modules()\n",
    "# for node in graph.nodes:\n",
    "#     print(node.target, node.args , node.users)\n",
    "\n",
    "for node in graph.nodes:\n",
    "    if node.target == \"moe.gather_router\":\n",
    "        # pass\n",
    "        new_args = ([node.args[0][1]],)\n",
    "        node.args = new_args\n",
    "        print(node.args)\n",
    "\n",
    "graph.eliminate_dead_code()\n",
    "new_graph_module = GraphModule(tracer.root, graph, name)\n",
    "\n",
    "print(new_graph_module.code)\n",
    "\n"
   ]
  },
  {
   "cell_type": "code",
   "execution_count": 7,
   "metadata": {},
   "outputs": [],
   "source": [
    "from torch.fx.passes.graph_drawer import FxGraphDrawer\n",
    "\n",
    "graph_drawer = FxGraphDrawer(graph_module, \"brt_model\")\n",
    "with open(\"a.svg\", \"wb\") as f:\n",
    "    f.write(graph_drawer.get_dot_graph().create_svg())\n"
   ]
  }
 ],
 "metadata": {
  "kernelspec": {
   "display_name": "Python 3.8.10 64-bit ('base')",
   "language": "python",
   "name": "python3"
  },
  "language_info": {
   "codemirror_mode": {
    "name": "ipython",
    "version": 3
   },
   "file_extension": ".py",
   "mimetype": "text/x-python",
   "name": "python",
   "nbconvert_exporter": "python",
   "pygments_lexer": "ipython3",
   "version": "3.8.10"
  },
  "orig_nbformat": 4,
  "vscode": {
   "interpreter": {
    "hash": "d4914c35dbc1a262acb2241fbfc193aaeb9362d455da2cebdd4b0a1d658dbfd5"
   }
  }
 },
 "nbformat": 4,
 "nbformat_minor": 2
}
