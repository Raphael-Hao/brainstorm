{
 "cells": [
  {
   "cell_type": "code",
   "execution_count": null,
   "metadata": {},
   "outputs": [],
   "source": [
    "import torch\n",
    "import torch.fx\n",
    "import torch.nn as nn\n",
    "\n",
    "\n",
    "class WrapModule(nn.Module):\n",
    "    def __init__(self):\n",
    "        super().__init__()\n",
    "\n",
    "    def forward(self, x):\n",
    "        return x\n",
    "\n",
    "\n",
    "class SampleModule(nn.Module):\n",
    "    def __init__(self):\n",
    "        super().__init__()\n",
    "        self.wrap = WrapModule()\n",
    "\n",
    "    def forward(self, x):\n",
    "        return self.wrap(x)\n",
    "\n",
    "\n",
    "sample_module = SampleModule()\n",
    "traced_module = torch.fx.symbolic_trace(sample_module)\n",
    "print(traced_module.graph)"
   ]
  },
  {
   "cell_type": "code",
   "execution_count": 8,
   "metadata": {},
   "outputs": [
    {
     "name": "stdout",
     "output_type": "stream",
     "text": [
      "WARNING:brainstorm.routers:residual_path is not specified for Threshold route method, use default residual_path=-1\n",
      "[2022-07-07 22:55:22] WARNING (brainstorm.routers/MainThread) residual_path is not specified for Threshold route method, use default residual_path=-1\n",
      "tensor([[ -0.8853,  -2.4841,   2.3834,  -4.2445,   3.2223,  -3.9983,   1.2346,\n",
      "          -0.1389,  -6.2976,  -1.4735],\n",
      "        [ -6.7856,  -1.6684,   6.8806,  -8.2467,   5.0737, -10.9107,   3.6119,\n",
      "          -7.4432, -16.8607,  -7.0406],\n",
      "        [-12.6859,  -0.8526,  11.3779, -12.2490,   6.9252, -17.8231,   5.9893,\n",
      "         -14.7474, -27.4239, -12.6077]], grad_fn=<AliasBackward0>)\n"
     ]
    }
   ],
   "source": [
    "import torch\n",
    "import torch.nn as nn\n",
    "from brt.common import log\n",
    "from brt.routers.app import RandScatterRouter\n",
    "from brt.routers import GatherRouter\n",
    "\n",
    "\n",
    "log.set_level(\"frontend\", \"INFO\")\n",
    "log.set_level(\"backend\", \"INFO\")\n",
    "log.set_level(\"ir\", \"INFO\")\n",
    "\n",
    "\n",
    "class MoE(nn.Module):\n",
    "    def __init__(self):\n",
    "        super().__init__()\n",
    "        self.scatter_router = RandScatterRouter(path_num=2)\n",
    "        self.expert1 = nn.Linear(10, 10)\n",
    "        self.expert2 = nn.Linear(10, 10)\n",
    "        self.gather_router = GatherRouter(path_num=2)\n",
    "\n",
    "    def forward(self, x):\n",
    "        route_results = self.scatter_router(x)\n",
    "        x_0 = self.expert1(route_results[0])\n",
    "        x_1 = self.expert2(route_results[1])\n",
    "        x = self.gather_router([x_0, x_1])\n",
    "        return x\n",
    "\n",
    "\n",
    "class MoEModel(nn.Module):\n",
    "    def __init__(\n",
    "        self,\n",
    "    ):\n",
    "        super().__init__()\n",
    "        self.moe = MoE()\n",
    "\n",
    "    def forward(self, x):\n",
    "        return self.moe(x)\n",
    "\n",
    "\n",
    "moe_model = MoEModel()\n",
    "indata = torch.arange(0, 30, dtype=torch.float32).view(3, 10)\n",
    "outdata = moe_model(indata)\n",
    "print(outdata)\n"
   ]
  },
  {
   "cell_type": "code",
   "execution_count": 9,
   "metadata": {},
   "outputs": [
    {
     "name": "stdout",
     "output_type": "stream",
     "text": [
      "graph():\n",
      "    %x : [#users=1] = placeholder[target=x]\n",
      "    %moe_scatter_router : [#users=2] = call_module[target=moe.scatter_router](args = (%x,), kwargs = {})\n",
      "    %getitem : [#users=1] = call_function[target=operator.getitem](args = (%moe_scatter_router, 0), kwargs = {})\n",
      "    %moe_expert1 : [#users=1] = call_module[target=moe.expert1](args = (%getitem,), kwargs = {})\n",
      "    %getitem_1 : [#users=1] = call_function[target=operator.getitem](args = (%moe_scatter_router, 1), kwargs = {})\n",
      "    %moe_expert2 : [#users=1] = call_module[target=moe.expert2](args = (%getitem_1,), kwargs = {})\n",
      "    %moe_gather_router : [#users=1] = call_module[target=moe.gather_router](args = ([%moe_expert1, %moe_expert2],), kwargs = {})\n",
      "    return moe_gather_router\n",
      "tensor([[ -0.8853,  -2.4841,   2.3834,  -4.2445,   3.2223,  -3.9983,   1.2346,\n",
      "          -0.1389,  -6.2976,  -1.4735],\n",
      "        [ -0.7183,  -9.7317,   3.7233,   9.1266, -12.8416,  -2.9161, -14.1668,\n",
      "           5.3655,  -0.9843,   7.6397],\n",
      "        [-12.6859,  -0.8526,  11.3779, -12.2490,   6.9252, -17.8231,   5.9893,\n",
      "         -14.7474, -27.4239, -12.6077]], grad_fn=<AliasBackward0>)\n"
     ]
    }
   ],
   "source": [
    "from brt.transform.tracer import BRTTRacer\n",
    "from torch.fx.graph_module import GraphModule\n",
    "tracer = BRTTRacer()\n",
    "graph = tracer.trace(moe_model)\n",
    "name = moe_model.__class__.__name__ if isinstance(moe_model, torch.nn.Module) else moe_model.__name__\n",
    "graph_module= GraphModule(tracer.root, graph, name)\n",
    "print(graph_module.graph)\n",
    "outdata = graph_module(indata)\n",
    "print(outdata)\n"
   ]
  }
 ],
 "metadata": {
  "kernelspec": {
   "display_name": "Python 3.8.10 64-bit ('base')",
   "language": "python",
   "name": "python3"
  },
  "language_info": {
   "codemirror_mode": {
    "name": "ipython",
    "version": 3
   },
   "file_extension": ".py",
   "mimetype": "text/x-python",
   "name": "python",
   "nbconvert_exporter": "python",
   "pygments_lexer": "ipython3",
   "version": "3.8.10"
  },
  "orig_nbformat": 4,
  "vscode": {
   "interpreter": {
    "hash": "d4914c35dbc1a262acb2241fbfc193aaeb9362d455da2cebdd4b0a1d658dbfd5"
   }
  }
 },
 "nbformat": 4,
 "nbformat_minor": 2
}
