{
 "cells": [
  {
   "cell_type": "code",
   "execution_count": 2,
   "metadata": {},
   "outputs": [
    {
     "name": "stdout",
     "output_type": "stream",
     "text": [
      "WARNING:brainstorm.routers:residual_path is not specified for Top-K protocol, use default residual_path=-1, no effect\n",
      "[2022-07-11 17:22:24] WARNING (brainstorm.routers/MainThread) residual_path is not specified for Top-K protocol, use default residual_path=-1, no effect\n",
      "tensor([[ 0.,  1.,  2.,  3.,  4.,  5.,  6.,  7.,  8.,  9.],\n",
      "        [10., 11., 12., 13., 14., 15., 16., 17., 18., 19.],\n",
      "        [20., 21., 22., 23., 24., 25., 26., 27., 28., 29.]])\n"
     ]
    }
   ],
   "source": [
    "import torch\n",
    "import torch.nn as nn\n",
    "from brt.runtime import log\n",
    "from brt.app import RandScatter\n",
    "from brt.router import GatherRouter\n",
    "\n",
    "\n",
    "class MoE(nn.Module):\n",
    "    def __init__(self):\n",
    "        super().__init__()\n",
    "        self.rand_scatter = RandScatter(rand_path_num=2)\n",
    "        self.expert1 = nn.Identity()\n",
    "        self.expert2 = nn.Identity()\n",
    "        self.gather_router = GatherRouter(path_num=2)\n",
    "\n",
    "    def forward(self, x):\n",
    "        route_results = self.rand_scatter(x)\n",
    "        x_0 = self.expert1(route_results[0])\n",
    "        x_1 = self.expert2(route_results[1])\n",
    "        x = self.gather_router([x_0, x_1])\n",
    "        return x\n",
    "\n",
    "\n",
    "moe_model = MoE()\n",
    "\n",
    "indata = torch.arange(0, 30, dtype=torch.float32).view(3, 10)\n",
    "outdata = moe_model(indata)\n",
    "print(outdata)\n"
   ]
  },
  {
   "cell_type": "code",
   "execution_count": 4,
   "metadata": {},
   "outputs": [
    {
     "name": "stdout",
     "output_type": "stream",
     "text": [
      "brt.routers.app.rand\n",
      "{'path_num': 2, 'protocol_type': 'topk', 'fabric_type': 'dispatch', 'k': 1}\n"
     ]
    }
   ],
   "source": [
    "import brt\n",
    "print(RandScatter.__module__)\n",
    "print(moe_model.rand_scatter.scatter_router.trace_kwargs)"
   ]
  },
  {
   "cell_type": "code",
   "execution_count": 5,
   "metadata": {},
   "outputs": [
    {
     "name": "stdout",
     "output_type": "stream",
     "text": [
      "graph():\n",
      "    %x : [#users=2] = placeholder[target=x]\n",
      "    %rand_gate : [#users=1] = call_function[target=brt.routers.app.rand.rand_gate](args = (%x, 2), kwargs = {})\n",
      "    %scatter_router_scatter_router : [#users=2] = call_module[target=scatter_router.scatter_router](args = (%x, %rand_gate), kwargs = {})\n",
      "    %getitem : [#users=1] = call_function[target=operator.getitem](args = (%scatter_router_scatter_router, 0), kwargs = {})\n",
      "    %expert1 : [#users=1] = call_module[target=expert1](args = (%getitem,), kwargs = {})\n",
      "    %getitem_1 : [#users=1] = call_function[target=operator.getitem](args = (%scatter_router_scatter_router, 1), kwargs = {})\n",
      "    %expert2 : [#users=1] = call_module[target=expert2](args = (%getitem_1,), kwargs = {})\n",
      "    %gather_router : [#users=1] = call_module[target=gather_router](args = ([%expert1, %expert2],), kwargs = {})\n",
      "    return gather_router\n",
      "\n",
      "torch.fx._symbolic_trace.wrap(\"brt_routers_app_rand_rand_gate\")\n",
      "\n",
      "def forward(self, x):\n",
      "    rand_gate = brt_routers_app_rand_rand_gate(x, 2)\n",
      "    scatter_router_scatter_router = self.scatter_router.scatter_router(x, rand_gate);  x = rand_gate = None\n",
      "    getitem = scatter_router_scatter_router[0]\n",
      "    expert1 = self.expert1(getitem);  getitem = None\n",
      "    getitem_1 = scatter_router_scatter_router[1];  scatter_router_scatter_router = None\n",
      "    expert2 = self.expert2(getitem_1);  getitem_1 = None\n",
      "    gather_router = self.gather_router([expert1, expert2]);  expert1 = expert2 = None\n",
      "    return gather_router\n",
      "    \n",
      "tensor([[ 0.,  1.,  2.,  3.,  4.,  5.,  6.,  7.,  8.,  9.],\n",
      "        [10., 11., 12., 13., 14., 15., 16., 17., 18., 19.],\n",
      "        [20., 21., 22., 23., 24., 25., 26., 27., 28., 29.]])\n"
     ]
    },
    {
     "name": "stderr",
     "output_type": "stream",
     "text": [
      "/state/partition/whcui/tools/pyenv/versions/miniconda3-3.8-4.10.3/lib/python3.8/site-packages/torch/fx/graph_module.py:468: UserWarning: Was not able to save the following children modules as reprs -saved as pickled files instead: ['scatter_router', 'expert1', 'expert2', 'gather_router']\n",
      "  warnings.warn(\"Was not able to save the following children modules as reprs -\"\n"
     ]
    }
   ],
   "source": [
    "from brt.trace.graph import GraphTracer\n",
    "from torch.fx.graph_module import GraphModule\n",
    "from brt.runtime import BRT_CACHE_PATH\n",
    "tracer = GraphTracer()\n",
    "graph = tracer.trace(moe_model)\n",
    "name = moe_model.__class__.__name__ if isinstance(moe_model, torch.nn.Module) else moe_model.__name__\n",
    "graph_module= GraphModule(tracer.root, graph, name)\n",
    "print(graph_module.graph)\n",
    "print(graph_module.code)\n",
    "outdata = graph_module(indata)\n",
    "print(outdata)\n",
    "graph_module.to_folder(BRT_CACHE_PATH/\"transformed_model\")"
   ]
  },
  {
   "cell_type": "code",
   "execution_count": 5,
   "metadata": {},
   "outputs": [
    {
     "name": "stdout",
     "output_type": "stream",
     "text": [
      "<__main__.SubFoo1 object at 0x7f1605beda90>\n",
      "<__main__.Sub2Foo1 object at 0x7f1605bed940>\n"
     ]
    }
   ],
   "source": [
    "from typing import Callable\n",
    "from brt.runtime.registry import Registry\n",
    "\n",
    "class Foo1:\n",
    "    pass\n",
    "\n",
    "\n",
    "def register_Foo1(name: str)-> Callable:\n",
    "    return Registry.register_cls(name, Foo1)\n",
    "\n",
    "def make_Foo1(name: str, **kwargs) -> Foo1:\n",
    "    return Registry.get_cls(name, Foo1)(**kwargs)\n",
    "\n",
    "\n",
    "@register_Foo1(\"SubFoo1\")\n",
    "class SubFoo1(Foo1):\n",
    "    pass\n",
    "\n",
    "@register_Foo1(\"Sub2Foo1\")\n",
    "class Sub2Foo1(Foo1):\n",
    "    pass\n",
    "\n",
    "sub_foo1 = make_Foo1(\"SubFoo1\")\n",
    "print(sub_foo1)\n",
    "sub_foo2 = make_Foo1(\"Sub2Foo1\")\n",
    "print(sub_foo2)\n"
   ]
  },
  {
   "cell_type": "code",
   "execution_count": null,
   "metadata": {},
   "outputs": [],
   "source": [
    "import torch.nn\n",
    "\n",
    "model = nn.Transformer()"
   ]
  }
 ],
 "metadata": {
  "kernelspec": {
   "display_name": "Python 3.8.10 64-bit ('base')",
   "language": "python",
   "name": "python3"
  },
  "language_info": {
   "codemirror_mode": {
    "name": "ipython",
    "version": 3
   },
   "file_extension": ".py",
   "mimetype": "text/x-python",
   "name": "python",
   "nbconvert_exporter": "python",
   "pygments_lexer": "ipython3",
   "version": "3.8.10"
  },
  "orig_nbformat": 4,
  "vscode": {
   "interpreter": {
    "hash": "d4914c35dbc1a262acb2241fbfc193aaeb9362d455da2cebdd4b0a1d658dbfd5"
   }
  }
 },
 "nbformat": 4,
 "nbformat_minor": 2
}
