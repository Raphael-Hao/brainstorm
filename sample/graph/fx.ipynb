{
 "cells": [
  {
   "cell_type": "code",
   "execution_count": 1,
   "metadata": {},
   "outputs": [
    {
     "name": "stdout",
     "output_type": "stream",
     "text": [
      "tensor([[ 0.,  1.,  2.,  3.,  4.,  5.,  6.,  7.,  8.,  9.],\n",
      "        [10., 11., 12., 13., 14., 15., 16., 17., 18., 19.],\n",
      "        [20., 21., 22., 23., 24., 25., 26., 27., 28., 29.],\n",
      "        [30., 31., 32., 33., 34., 35., 36., 37., 38., 39.]])\n"
     ]
    }
   ],
   "source": [
    "import torch\n",
    "import torch.nn as nn\n",
    "from brt.runtime import log\n",
    "from brt.app.rand import RandScatter\n",
    "from brt.router import GatherRouter\n",
    "\n",
    "\n",
    "class MoE(nn.Module):\n",
    "    def __init__(self):\n",
    "        super().__init__()\n",
    "        self.rand_scatter = RandScatter(path_num=2)\n",
    "        self.expert1 = nn.Identity()\n",
    "        self.expert2 = nn.Identity()\n",
    "        self.gather_router = GatherRouter()\n",
    "        self.iteration = 1\n",
    "        self.ret = 1\n",
    "\n",
    "    def forward(self, x):\n",
    "        route_results = self.rand_scatter(x)\n",
    "        x_0 = self.expert1(route_results[0])\n",
    "        x_1 = self.expert2(route_results[1])\n",
    "        x = self.gather_router([x_0, x_1])\n",
    "        return x\n",
    "\n",
    "class SimpleModel(nn.Module):\n",
    "    def __init__(self):\n",
    "        super().__init__()\n",
    "        self.moe = MoE()\n",
    "\n",
    "    def forward(self, x):\n",
    "        x = self.moe(x)\n",
    "        return x\n",
    "\n",
    "\n",
    "moe_model = SimpleModel()\n",
    "\n",
    "indata = torch.arange(0, 40, dtype=torch.float32).view(4, 10)\n",
    "outdata = moe_model(indata)\n",
    "print(outdata)\n"
   ]
  },
  {
   "cell_type": "code",
   "execution_count": 2,
   "metadata": {},
   "outputs": [],
   "source": [
    "from brt.trace.graph import GraphTracer\n",
    "from torch.fx.graph_module import GraphModule\n",
    "from brt.runtime import BRT_CACHE_PATH\n",
    "tracer = GraphTracer()\n",
    "graph = tracer.trace(moe_model)\n",
    "name = moe_model.__class__.__name__ if isinstance(moe_model, torch.nn.Module) else moe_model.__name__\n",
    "graph_module= GraphModule(tracer.root, graph, name)\n",
    "\n",
    "from torch.fx.passes.graph_drawer import FxGraphDrawer\n",
    "\n",
    "graph_drawer = FxGraphDrawer(graph_module, \"brt_model\")\n",
    "with open(\"a.svg\", \"wb\") as f:\n",
    "    f.write(graph_drawer.get_dot_graph().create_svg())\n",
    "\n",
    "\n"
   ]
  },
  {
   "cell_type": "code",
   "execution_count": 3,
   "metadata": {},
   "outputs": [
    {
     "name": "stdout",
     "output_type": "stream",
     "text": [
      "\n",
      "torch.fx._symbolic_trace.wrap(\"brt_app_rand_rand_gate\")\n",
      "\n",
      "def forward(self, x):\n",
      "    rand_gate = brt_app_rand_rand_gate(x, 2)\n",
      "    moe_rand_scatter_scatter_router = self.moe.rand_scatter.scatter_router(x, rand_gate);  x = rand_gate = None\n",
      "    getitem = moe_rand_scatter_scatter_router[0]\n",
      "    moe_expert1 = self.moe.expert1(getitem);  getitem = None\n",
      "    getitem_1 = moe_rand_scatter_scatter_router[1];  moe_rand_scatter_scatter_router = None\n",
      "    moe_expert2 = self.moe.expert2(getitem_1);  getitem_1 = None\n",
      "    moe_gather_router = self.moe.gather_router([moe_expert1, moe_expert2]);  moe_expert1 = moe_expert2 = None\n",
      "    return moe_gather_router\n",
      "    \n",
      "([moe_expert1, moe_expert2],)\n",
      "([moe_expert2],)\n",
      "\n",
      "torch.fx._symbolic_trace.wrap(\"brt_app_rand_rand_gate\")\n",
      "\n",
      "def forward(self, x):\n",
      "    rand_gate = brt_app_rand_rand_gate(x, 2)\n",
      "    moe_rand_scatter_scatter_router = self.moe.rand_scatter.scatter_router(x, rand_gate);  x = rand_gate = None\n",
      "    getitem_1 = moe_rand_scatter_scatter_router[1];  moe_rand_scatter_scatter_router = None\n",
      "    moe_expert2 = self.moe.expert2(getitem_1);  getitem_1 = None\n",
      "    moe_gather_router = self.moe.gather_router([moe_expert2]);  moe_expert2 = None\n",
      "    return moe_gather_router\n",
      "    \n"
     ]
    }
   ],
   "source": [
    "print(graph_module.code)\n",
    "models = graph_module.named_modules()\n",
    "# for node in graph.nodes:\n",
    "#     print(node.target, node.args , node.users)\n",
    "\n",
    "for node in graph.nodes:\n",
    "    if node.target == \"moe.gather_router\":\n",
    "        print(node.args)\n",
    "        new_args = ([node.args[0][1]],)\n",
    "        node.args = new_args\n",
    "        print(node.args)\n",
    "\n",
    "graph.eliminate_dead_code()\n",
    "new_graph_module = GraphModule(tracer.root, graph, name)\n",
    "\n",
    "print(new_graph_module.code)\n",
    "\n",
    "\n",
    "from torch.fx.passes.graph_drawer import FxGraphDrawer\n",
    "\n",
    "graph_drawer = FxGraphDrawer(new_graph_module, \"new_brt_model\")\n",
    "with open(\"b.svg\", \"wb\") as f:\n",
    "    f.write(graph_drawer.get_dot_graph().create_svg())\n"
   ]
  },
  {
   "cell_type": "code",
   "execution_count": 4,
   "metadata": {},
   "outputs": [
    {
     "name": "stdout",
     "output_type": "stream",
     "text": [
      "([moe_expert2],)\n",
      "tensor([[ 0.,  1.,  2.,  3.,  4.,  5.,  6.,  7.,  8.,  9.],\n",
      "        [10., 11., 12., 13., 14., 15., 16., 17., 18., 19.],\n",
      "        [ 0.,  0.,  0.,  0.,  0.,  0.,  0.,  0.,  0.,  0.],\n",
      "        [ 0.,  0.,  0.,  0.,  0.,  0.,  0.,  0.,  0.,  0.]])\n"
     ]
    }
   ],
   "source": [
    "from brt.trace.graph import GraphTracer\n",
    "from torch.fx.graph_module import GraphModule\n",
    "from brt.runtime import BRT_CACHE_PATH\n",
    "tracer = GraphTracer()\n",
    "graph = tracer.trace(moe_model)\n",
    "name = moe_model.__class__.__name__\n",
    "graph_module= GraphModule(tracer.root, graph, name)\n",
    "models = graph_module.named_modules()\n",
    "\n",
    "for node in graph.nodes:\n",
    "    if node.target == \"moe.gather_router\":\n",
    "        new_args = ([node.args[0][1]],)\n",
    "        node.args = new_args\n",
    "        print(node.args)\n",
    "\n",
    "graph.eliminate_dead_code()\n",
    "new_graph_module = GraphModule(tracer.root, graph, name)\n",
    "indata = torch.arange(0, 40, dtype=torch.float32).view(4, 10)\n",
    "outdata = new_graph_module(indata)\n",
    "print(outdata)"
   ]
  },
  {
   "cell_type": "code",
   "execution_count": 12,
   "metadata": {},
   "outputs": [
    {
     "name": "stdout",
     "output_type": "stream",
     "text": [
      "tensor([[ 0.,  1.,  2.,  3.,  4.,  5.,  6.,  7.,  8.,  9.],\n",
      "        [10., 11., 12., 13., 14., 15., 16., 17., 18., 19.],\n",
      "        [20., 21., 22., 23., 24., 25., 26., 27., 28., 29.],\n",
      "        [30., 31., 32., 33., 34., 35., 36., 37., 38., 39.]])\n",
      "tensor([0., 4.], dtype=torch.float64)\n",
      "tensor([0., 4.], dtype=torch.float64)\n"
     ]
    }
   ],
   "source": [
    "import torch\n",
    "import torch.nn as nn\n",
    "from brt.runtime import log\n",
    "from brt.app.rand import RandScatter\n",
    "from brt.router import GatherRouter\n",
    "\n",
    "\n",
    "class MoE(nn.Module):\n",
    "    def __init__(self):\n",
    "        super().__init__()\n",
    "        self.rand_scatter = RandScatter(path_num=2, capturing=True)\n",
    "        self.expert1 = nn.Identity()\n",
    "        self.expert2 = nn.Identity()\n",
    "        self.gather_router = GatherRouter(\n",
    "            fabric_kwargs={\"sparse\": True}, capturing=True\n",
    "        )\n",
    "        self.iteration = 1\n",
    "        self.ret = 1\n",
    "\n",
    "    def forward(self, x):\n",
    "        route_results = self.rand_scatter(x)\n",
    "        x_0 = self.expert1(route_results[0])\n",
    "        x_1 = self.expert2(route_results[1])\n",
    "        x = self.gather_router([x_0, x_1])\n",
    "        return x\n",
    "\n",
    "\n",
    "class SimpleModel(nn.Module):\n",
    "    def __init__(self):\n",
    "        super().__init__()\n",
    "        self.moe = MoE()\n",
    "\n",
    "    def forward(self, x):\n",
    "        x = self.moe(x)\n",
    "        return x\n",
    "\n",
    "\n",
    "moe_model = SimpleModel()\n",
    "\n",
    "indata = torch.arange(0, 40, dtype=torch.float32).view(4, 10)\n",
    "outdata = moe_model(indata)\n",
    "print(outdata)\n",
    "print(moe_model.moe.rand_scatter.scatter_router.load_history)\n",
    "print(moe_model.moe.gather_router.load_history)\n"
   ]
  },
  {
   "cell_type": "code",
   "execution_count": 15,
   "metadata": {},
   "outputs": [
    {
     "name": "stdout",
     "output_type": "stream",
     "text": [
      "\n",
      "torch.fx._symbolic_trace.wrap(\"brt_app_rand_rand_gate\")\n",
      "\n",
      "def forward(self, x):\n",
      "    rand_gate = brt_app_rand_rand_gate(x, 2)\n",
      "    moe_rand_scatter_scatter_router = self.moe.rand_scatter.scatter_router(x, rand_gate);  x = rand_gate = None\n",
      "    getitem = moe_rand_scatter_scatter_router[0];  moe_rand_scatter_scatter_router = None\n",
      "    moe_expert1 = self.moe.expert1(getitem);  getitem = None\n",
      "    moe_gather_router = self.moe.gather_router([moe_expert1]);  moe_expert1 = None\n",
      "    return moe_gather_router\n",
      "    \n",
      "ProtoTensor([[10., 11., 12., 13., 14., 15., 16., 17., 18., 19.]])\n",
      "tag_stack: [tensor([[1]])]\n",
      "load stack: [4])\n"
     ]
    }
   ],
   "source": [
    "from brt.passes import get_pass\n",
    "\n",
    "eliminate_pass_cls = get_pass(\"dead_path_eliminate\")\n",
    "eliminate_pass = eliminate_pass_cls(moe_model)\n",
    "eliminate_pass.run_on_graph()\n",
    "new_moe_model = eliminate_pass.finalize()\n",
    "print(new_moe_model.code)\n",
    "indata = torch.arange(0, 40, dtype=torch.float32).view(4, 10)\n",
    "outdata = new_moe_model(indata)\n",
    "print(outdata)\n"
   ]
  },
  {
   "cell_type": "code",
   "execution_count": 3,
   "metadata": {},
   "outputs": [
    {
     "name": "stdout",
     "output_type": "stream",
     "text": [
      "tensor([[ 1.0143, -0.5633,  0.4272],\n",
      "        [-0.5826, -1.2026,  0.7366]])\n",
      "tensor([[ 1.0143, -0.5633,  0.4272],\n",
      "        [-0.5826, -1.2026,  0.7366]])\n",
      "graph():\n",
      "    %x : [#users=1] = placeholder[target=x]\n",
      "    %event_emitter : [#users=3] = call_module[target=event_emitter](args = (%x,), kwargs = {})\n",
      "    %getitem : [#users=1] = call_function[target=operator.getitem](args = (%event_emitter, 0), kwargs = {})\n",
      "    %getitem_1 : [#users=1] = call_function[target=operator.getitem](args = (%event_emitter, 1), kwargs = {})\n",
      "    %getitem_2 : [#users=1] = call_function[target=operator.getitem](args = (%event_emitter, 2), kwargs = {})\n",
      "    %indentity : [#users=1] = call_module[target=indentity](args = (%getitem,), kwargs = {})\n",
      "    %event_collector : [#users=1] = call_module[target=event_collector](args = (%indentity, %getitem_1, %getitem_2), kwargs = {})\n",
      "    return event_collector\n",
      "graph():\n",
      "    %x : [#users=1] = placeholder[target=x]\n",
      "    %event_emitter : [#users=3] = call_module[target=event_emitter](args = (%x,), kwargs = {})\n",
      "    %getitem : [#users=1] = call_function[target=operator.getitem](args = (%event_emitter, 0), kwargs = {})\n",
      "    %getitem_1 : [#users=1] = call_function[target=operator.getitem](args = (%event_emitter, 1), kwargs = {})\n",
      "    %getitem_2 : [#users=1] = call_function[target=operator.getitem](args = (%event_emitter, 2), kwargs = {})\n",
      "    %indentity : [#users=1] = call_module[target=indentity](args = (%getitem,), kwargs = {})\n",
      "    %event_collector : [#users=1] = call_module[target=event_collector](args = (%indentity, %getitem_1, %getitem_2), kwargs = {})\n",
      "    return event_collector\n"
     ]
    }
   ],
   "source": [
    "import torch\n",
    "import torch.nn as nn\n",
    "import torch.fx as fx\n",
    "from brt.runtime.preload import EventEmitter, EventCollector, PreLoader\n",
    "from brt.trace.graph import symbolic_trace\n",
    "\n",
    "class SimpleNet(nn.Module):\n",
    "    def __init__(self) -> None:\n",
    "        super().__init__()\n",
    "        self.event_emitter = EventEmitter(2)\n",
    "        self.event_collector = EventCollector(2)\n",
    "        self.indentity = nn.Identity()\n",
    "\n",
    "    def forward(self, x):\n",
    "        x, e1, e2 = self.event_emitter(x)\n",
    "        x = self.indentity(x)\n",
    "        y = self.event_collector(x, e1, e2)\n",
    "        return y\n",
    "\n",
    "simple_net = SimpleNet()\n",
    "x = torch.randn(2, 3)\n",
    "print(x)\n",
    "y = simple_net(x)\n",
    "print(y)\n",
    "\n",
    "g = symbolic_trace(SimpleNet())\n",
    "print(g.graph)\n",
    "g.graph.eliminate_dead_code()\n",
    "g.recompile()\n",
    "print(g.graph)\n",
    "\n",
    "from torch.fx.passes.graph_drawer import FxGraphDrawer\n",
    "\n",
    "graph_drawer = FxGraphDrawer(g, \"preload_model\")\n",
    "with open(\"preload_model.svg\", \"wb\") as f:\n",
    "    f.write(graph_drawer.get_dot_graph().create_svg())\n",
    "\n"
   ]
  }
 ],
 "metadata": {
  "kernelspec": {
   "display_name": "Python 3.8.10 64-bit ('base')",
   "language": "python",
   "name": "python3"
  },
  "language_info": {
   "codemirror_mode": {
    "name": "ipython",
    "version": 3
   },
   "file_extension": ".py",
   "mimetype": "text/x-python",
   "name": "python",
   "nbconvert_exporter": "python",
   "pygments_lexer": "ipython3",
   "version": "3.8.10"
  },
  "orig_nbformat": 4,
  "vscode": {
   "interpreter": {
    "hash": "d4914c35dbc1a262acb2241fbfc193aaeb9362d455da2cebdd4b0a1d658dbfd5"
   }
  }
 },
 "nbformat": 4,
 "nbformat_minor": 2
}
