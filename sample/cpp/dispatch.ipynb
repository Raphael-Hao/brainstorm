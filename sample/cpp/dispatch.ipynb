{
 "cells": [
  {
   "cell_type": "code",
   "execution_count": 9,
   "metadata": {},
   "outputs": [
    {
     "name": "stdout",
     "output_type": "stream",
     "text": [
      "tensor([[0, 0, 1, 0],\n",
      "        [0, 0, 0, 1],\n",
      "        [0, 0, 2, 0],\n",
      "        [1, 0, 0, 0],\n",
      "        [2, 0, 0, 0],\n",
      "        [0, 0, 0, 2],\n",
      "        [3, 0, 0, 0],\n",
      "        [4, 0, 0, 0]], device='cuda:0', dtype=torch.int32)\n",
      "tensor([4, 0, 2, 2], device='cuda:0', dtype=torch.int32)\n"
     ]
    }
   ],
   "source": [
    "import torch\n",
    "from brt._C.router import (\n",
    "    generate_indices_and_loads,\n",
    "    dispatch_with_indices_and_loads,\n",
    "    split_fused_cells_to_paths\n",
    ")\n",
    "\n",
    "path_num = 4\n",
    "gates = torch.randn((8, path_num)).cuda()\n",
    "topk_indices = torch.topk(gates, k=1, dim=1).indices\n",
    "\n",
    "hot_mask = (\n",
    "    torch.zeros(gates.size(0), path_num, dtype=torch.int32, device=gates.device,)\n",
    "    .scatter_(1, topk_indices, 1)\n",
    "    .cuda()\n",
    ")\n",
    "\n",
    "supported_capacities = torch.Tensor([1, 2, 4, 8, 16]).int().cuda()\n",
    "# supported_capacities = None\n",
    "\n",
    "route_indices, dst_loads = generate_indices_and_loads(\n",
    "    hot_mask, supported_capacities, capacity_padding=True, is_dst_index=True\n",
    ")\n",
    "print(route_indices)\n",
    "print(dst_loads)\n"
   ]
  },
  {
   "cell_type": "code",
   "execution_count": 10,
   "metadata": {},
   "outputs": [
    {
     "name": "stdout",
     "output_type": "stream",
     "text": [
      "tensor([[-3.0107e-01, -1.6857e-01,  1.1110e+00, -3.9645e-01],\n",
      "        [-1.7685e+00, -5.3793e-01,  5.7216e-01, -1.8304e+00],\n",
      "        [-1.4158e+00,  2.0783e+00,  3.2193e-01,  6.9651e-01],\n",
      "        [ 4.0995e-01, -1.1471e-01,  1.0525e+00, -4.8346e-01],\n",
      "        [ 1.1637e-01,  1.8467e-01, -6.4796e-01,  2.9781e-01],\n",
      "        [ 1.4768e-04, -1.6258e+00, -5.3404e-01, -1.1788e+00],\n",
      "        [-5.3572e-01, -4.7726e-01,  3.1614e-01,  3.7010e-01],\n",
      "        [ 9.2405e-01, -3.0598e-01, -3.4310e-01, -2.8236e-01]], device='cuda:0')\n",
      "tensor([[0, 0, 1, 0],\n",
      "        [0, 0, 0, 1],\n",
      "        [0, 0, 2, 0],\n",
      "        [1, 0, 0, 0],\n",
      "        [2, 0, 0, 0],\n",
      "        [0, 0, 0, 2],\n",
      "        [3, 0, 0, 0],\n",
      "        [4, 0, 0, 0]], device='cuda:0', dtype=torch.int32)\n",
      "tensor([4, 0, 2, 2], device='cuda:0', dtype=torch.int32)\n",
      "tensor([[ 4.0995e-01, -1.1471e-01,  1.0525e+00, -4.8346e-01],\n",
      "        [ 1.1637e-01,  1.8467e-01, -6.4796e-01,  2.9781e-01],\n",
      "        [-5.3572e-01, -4.7726e-01,  3.1614e-01,  3.7010e-01],\n",
      "        [ 9.2405e-01, -3.0598e-01, -3.4310e-01, -2.8236e-01],\n",
      "        [-3.0107e-01, -1.6857e-01,  1.1110e+00, -3.9645e-01],\n",
      "        [-1.4158e+00,  2.0783e+00,  3.2193e-01,  6.9651e-01],\n",
      "        [-1.7685e+00, -5.3793e-01,  5.7216e-01, -1.8304e+00],\n",
      "        [ 1.4768e-04, -1.6258e+00, -5.3404e-01, -1.1788e+00]], device='cuda:0')\n",
      "[[tensor([[ 0.4099, -0.1147,  1.0525, -0.4835],\n",
      "        [ 0.1164,  0.1847, -0.6480,  0.2978],\n",
      "        [-0.5357, -0.4773,  0.3161,  0.3701],\n",
      "        [ 0.9241, -0.3060, -0.3431, -0.2824]], device='cuda:0'), tensor([], device='cuda:0', size=(0, 4)), tensor([[-0.3011, -0.1686,  1.1110, -0.3965],\n",
      "        [-1.4158,  2.0783,  0.3219,  0.6965]], device='cuda:0'), tensor([[-1.7685e+00, -5.3793e-01,  5.7216e-01, -1.8304e+00],\n",
      "        [ 1.4768e-04, -1.6258e+00, -5.3404e-01, -1.1788e+00]], device='cuda:0')], [tensor([4], device='cuda:0', dtype=torch.int32), tensor([0], device='cuda:0', dtype=torch.int32), tensor([2], device='cuda:0', dtype=torch.int32), tensor([2], device='cuda:0', dtype=torch.int32)]]\n",
      "[[tensor([[ 0.4099, -0.1147,  1.0525, -0.4835],\n",
      "        [ 0.1164,  0.1847, -0.6480,  0.2978],\n",
      "        [-0.5357, -0.4773,  0.3161,  0.3701],\n",
      "        [ 0.9241, -0.3060, -0.3431, -0.2824]], device='cuda:0'), tensor([], device='cuda:0', size=(0, 4)), tensor([[-0.3011, -0.1686,  1.1110, -0.3965],\n",
      "        [-1.4158,  2.0783,  0.3219,  0.6965]], device='cuda:0'), tensor([[-1.7685e+00, -5.3793e-01,  5.7216e-01, -1.8304e+00],\n",
      "        [ 1.4768e-04, -1.6258e+00, -5.3404e-01, -1.1788e+00]], device='cuda:0')], [tensor([4], device='cuda:0', dtype=torch.int32), tensor([0], device='cuda:0', dtype=torch.int32), tensor([2], device='cuda:0', dtype=torch.int32), tensor([2], device='cuda:0', dtype=torch.int32)], [tensor([4, 5, 7, 0], device='cuda:0', dtype=torch.int32), tensor([], device='cuda:0', dtype=torch.int32), tensor([1, 3], device='cuda:0', dtype=torch.int32), tensor([2, 6], device='cuda:0', dtype=torch.int32)]]\n",
      "[[tensor([[ 0.4099, -0.1147,  1.0525, -0.4835],\n",
      "        [ 0.1164,  0.1847, -0.6480,  0.2978],\n",
      "        [-0.5357, -0.4773,  0.3161,  0.3701],\n",
      "        [ 0.9241, -0.3060, -0.3431, -0.2824]], device='cuda:0'), tensor([[0., 0., 0., 0.],\n",
      "        [0., 0., 0., 0.],\n",
      "        [0., 0., 0., 0.],\n",
      "        [0., 0., 0., 0.]], device='cuda:0'), tensor([[-0.3011, -0.1686,  1.1110, -0.3965],\n",
      "        [-1.4158,  2.0783,  0.3219,  0.6965],\n",
      "        [ 0.0000,  0.0000,  0.0000,  0.0000],\n",
      "        [ 0.0000,  0.0000,  0.0000,  0.0000]], device='cuda:0'), tensor([[-1.7685e+00, -5.3793e-01,  5.7216e-01, -1.8304e+00],\n",
      "        [ 1.4768e-04, -1.6258e+00, -5.3404e-01, -1.1788e+00],\n",
      "        [ 0.0000e+00,  0.0000e+00,  0.0000e+00,  0.0000e+00],\n",
      "        [ 0.0000e+00,  0.0000e+00,  0.0000e+00,  0.0000e+00]], device='cuda:0')], [tensor([4], device='cuda:0', dtype=torch.int32), tensor([4], device='cuda:0', dtype=torch.int32), tensor([4], device='cuda:0', dtype=torch.int32), tensor([4], device='cuda:0', dtype=torch.int32)], [tensor([4, 5, 7, 8], device='cuda:0', dtype=torch.int32), tensor([0, 0, 0, 0], device='cuda:0', dtype=torch.int32), tensor([1, 3, 0, 0], device='cuda:0', dtype=torch.int32), tensor([2, 6, 0, 0], device='cuda:0', dtype=torch.int32)]]\n",
      "[tensor([ 0.4099,  0.1164, -0.5357,  0.9241,  0.0000,  0.0000,  0.0000,  0.0000,\n",
      "         1.1110,  0.3219,  0.0000,  0.0000, -1.8304, -1.1788,  0.0000,  0.0000],\n",
      "       device='cuda:0')]\n"
     ]
    }
   ],
   "source": [
    "in_data = torch.randn((8, path_num)).cuda()\n",
    "print(in_data)\n",
    "print(route_indices)\n",
    "print(dst_loads)\n",
    "(out_data_1,) = dispatch_with_indices_and_loads(in_data, route_indices, dst_loads)\n",
    "print(out_data_1)\n",
    "split_data = split_fused_cells_to_paths(out_data_1, dst_loads)\n",
    "print(split_data)\n",
    "\n",
    "out_data_1, tags = dispatch_with_indices_and_loads(\n",
    "    in_data, route_indices, dst_loads, tag_generating=True\n",
    ")\n",
    "split_data = split_fused_cells_to_paths(out_data_1, dst_loads, tags=tags)\n",
    "print(split_data)\n",
    "\n",
    "out_data_1, tags = dispatch_with_indices_and_loads(\n",
    "    in_data, route_indices, dst_loads, max_path_padding=True, tag_generating=True\n",
    ")\n",
    "split_data = split_fused_cells_to_paths(out_data_1, dst_loads, max_path_padding=True,tags=tags)\n",
    "print(split_data)# print(out_data_1)\n",
    "\n",
    "out_data_2 = dispatch_with_indices_and_loads(\n",
    "    in_data, route_indices, dst_loads, is_1d_routing=False\n",
    ")\n",
    "print(out_data_2)\n",
    "# torch.allclose(out_data_1[0], out_data_2)\n"
   ]
  }
 ],
 "metadata": {
  "kernelspec": {
   "display_name": "base",
   "language": "python",
   "name": "python3"
  },
  "language_info": {
   "codemirror_mode": {
    "name": "ipython",
    "version": 3
   },
   "file_extension": ".py",
   "mimetype": "text/x-python",
   "name": "python",
   "nbconvert_exporter": "python",
   "pygments_lexer": "ipython3",
   "version": "3.8.12"
  },
  "orig_nbformat": 4
 },
 "nbformat": 4,
 "nbformat_minor": 2
}
