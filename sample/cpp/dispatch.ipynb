{
 "cells": [
  {
   "cell_type": "code",
   "execution_count": 1,
   "metadata": {},
   "outputs": [
    {
     "name": "stderr",
     "output_type": "stream",
     "text": [
      "/home/whcui/.pyenv/versions/miniconda3-3.8-4.11.0/lib/python3.8/site-packages/tqdm/auto.py:22: TqdmWarning: IProgress not found. Please update jupyter and ipywidgets. See https://ipywidgets.readthedocs.io/en/stable/user_install.html\n",
      "  from .autonotebook import tqdm as notebook_tqdm\n"
     ]
    },
    {
     "name": "stdout",
     "output_type": "stream",
     "text": [
      "tensor([[0, 0, 0, 1],\n",
      "        [1, 0, 0, 0],\n",
      "        [0, 0, 0, 2],\n",
      "        [2, 0, 0, 0],\n",
      "        [0, 1, 0, 0],\n",
      "        [0, 0, 0, 3],\n",
      "        [0, 0, 0, 4],\n",
      "        [3, 0, 0, 0]], device='cuda:0', dtype=torch.int32)\n",
      "tensor([4, 1, 0, 4], device='cuda:0', dtype=torch.int32)\n"
     ]
    }
   ],
   "source": [
    "import torch\n",
    "from brt._C.router import (\n",
    "    generate_indices_and_loads,\n",
    "    dispatch_with_indices_and_loads,\n",
    "    split_fused_cells_to_paths,\n",
    "    fuse_split_cells_from_paths,\n",
    ")\n",
    "\n",
    "path_num = 4\n",
    "gates = torch.randn((8, path_num)).cuda()\n",
    "topk_indices = torch.topk(gates, k=1, dim=1).indices\n",
    "\n",
    "hot_mask = (\n",
    "    torch.zeros(gates.size(0), path_num, dtype=torch.int32, device=gates.device,)\n",
    "    .scatter_(1, topk_indices, 1)\n",
    "    .cuda()\n",
    ")\n",
    "\n",
    "supported_capacities = torch.Tensor([1, 2, 4, 8, 16]).int().cuda()\n",
    "# supported_capacities = None\n",
    "\n",
    "route_indices, dst_loads = generate_indices_and_loads(\n",
    "    hot_mask, supported_capacities, capacity_padding=True, is_dst_index=True\n",
    ")\n",
    "print(route_indices)\n",
    "print(dst_loads)\n"
   ]
  },
  {
   "cell_type": "code",
   "execution_count": 2,
   "metadata": {},
   "outputs": [
    {
     "name": "stdout",
     "output_type": "stream",
     "text": [
      "tensor([[ 1.7467e+00, -2.6529e-05,  4.6493e-01, -7.9430e-01],\n",
      "        [ 4.2112e-01, -4.4683e-01,  3.4100e-01, -4.6677e-01],\n",
      "        [ 4.9132e-01,  5.8635e-02,  5.8778e-01,  1.8528e-02],\n",
      "        [-1.7568e+00,  1.7797e-01,  4.6597e-01, -9.1231e-01],\n",
      "        [ 3.0627e-01,  1.8742e+00,  4.4877e-01,  8.4431e-01],\n",
      "        [-9.4262e-01,  2.0211e+00, -1.8118e+00,  1.5891e+00],\n",
      "        [-1.0158e+00,  1.1762e+00,  8.3643e-01,  1.6531e+00],\n",
      "        [-2.6587e-02, -1.0188e+00,  7.3847e-01,  3.0552e-01]], device='cuda:0')\n",
      "tensor([[0, 0, 0, 1],\n",
      "        [1, 0, 0, 0],\n",
      "        [0, 0, 0, 2],\n",
      "        [2, 0, 0, 0],\n",
      "        [0, 1, 0, 0],\n",
      "        [0, 0, 0, 3],\n",
      "        [0, 0, 0, 4],\n",
      "        [3, 0, 0, 0]], device='cuda:0', dtype=torch.int32)\n",
      "tensor([4, 1, 0, 4], device='cuda:0', dtype=torch.int32)\n",
      "tensor([2, 4, 8, 0, 5, 1, 3, 6, 7], device='cuda:0', dtype=torch.int32)\n",
      "[tensor([2, 4, 8, 0], device='cuda:0', dtype=torch.int32), tensor([5], device='cuda:0', dtype=torch.int32), tensor([], device='cuda:0', dtype=torch.int32), tensor([1, 3, 6, 7], device='cuda:0', dtype=torch.int32)]\n",
      "tensor([[ 4.2112e-01, -4.4683e-01,  3.4100e-01, -4.6677e-01],\n",
      "        [-1.7568e+00,  1.7797e-01,  4.6597e-01, -9.1231e-01],\n",
      "        [-2.6587e-02, -1.0188e+00,  7.3847e-01,  3.0552e-01],\n",
      "        [ 0.0000e+00,  0.0000e+00,  0.0000e+00,  0.0000e+00],\n",
      "        [ 3.0627e-01,  1.8742e+00,  4.4877e-01,  8.4431e-01],\n",
      "        [ 1.7467e+00, -2.6529e-05,  4.6493e-01, -7.9430e-01],\n",
      "        [ 4.9132e-01,  5.8635e-02,  5.8778e-01,  1.8528e-02],\n",
      "        [-9.4262e-01,  2.0211e+00, -1.8118e+00,  1.5891e+00],\n",
      "        [-1.0158e+00,  1.1762e+00,  8.3643e-01,  1.6531e+00]], device='cuda:0')\n",
      "tensor([0, 1, 2, 3, 4, 5, 6, 7, 8], device='cuda:0', dtype=torch.int32)\n"
     ]
    },
    {
     "ename": "RuntimeError",
     "evalue": "The expanded size of the tensor (4) must match the existing size (9) at non-singleton dimension 1.  Target sizes: [9, 4].  Tensor sizes: [9]",
     "output_type": "error",
     "traceback": [
      "\u001b[0;31m---------------------------------------------------------------------------\u001b[0m",
      "\u001b[0;31mRuntimeError\u001b[0m                              Traceback (most recent call last)",
      "\u001b[1;32m/home/whcui/brainstorm_project/brainstorm/sample/cpp/dispatch.ipynb Cell 2\u001b[0m in \u001b[0;36m<cell line: 25>\u001b[0;34m()\u001b[0m\n\u001b[1;32m     <a href='vscode-notebook-cell://ssh-remote%2B7b22686f73744e616d65223a2252545833303930227d/home/whcui/brainstorm_project/brainstorm/sample/cpp/dispatch.ipynb#W1sdnNjb2RlLXJlbW90ZQ%3D%3D?line=22'>23</a>\u001b[0m \u001b[39mprint\u001b[39m(fused_data)\n\u001b[1;32m     <a href='vscode-notebook-cell://ssh-remote%2B7b22686f73744e616d65223a2252545833303930227d/home/whcui/brainstorm_project/brainstorm/sample/cpp/dispatch.ipynb#W1sdnNjb2RlLXJlbW90ZQ%3D%3D?line=23'>24</a>\u001b[0m \u001b[39mprint\u001b[39m(new_tags)\n\u001b[0;32m---> <a href='vscode-notebook-cell://ssh-remote%2B7b22686f73744e616d65223a2252545833303930227d/home/whcui/brainstorm_project/brainstorm/sample/cpp/dispatch.ipynb#W1sdnNjb2RlLXJlbW90ZQ%3D%3D?line=24'>25</a>\u001b[0m global_dst_indices \u001b[39m=\u001b[39m global_dst_indices\u001b[39m.\u001b[39;49mexpand_as(fused_data)\n\u001b[1;32m     <a href='vscode-notebook-cell://ssh-remote%2B7b22686f73744e616d65223a2252545833303930227d/home/whcui/brainstorm_project/brainstorm/sample/cpp/dispatch.ipynb#W1sdnNjb2RlLXJlbW90ZQ%3D%3D?line=25'>26</a>\u001b[0m \u001b[39mprint\u001b[39m(global_dst_indices)\n",
      "\u001b[0;31mRuntimeError\u001b[0m: The expanded size of the tensor (4) must match the existing size (9) at non-singleton dimension 1.  Target sizes: [9, 4].  Tensor sizes: [9]"
     ]
    }
   ],
   "source": [
    "in_data = torch.randn((8, path_num)).cuda()\n",
    "print(in_data)\n",
    "print(route_indices)\n",
    "print(dst_loads)\n",
    "# (out_data_1,) = dispatch_with_indices_and_loads(in_data, route_indices, dst_loads)\n",
    "# print(out_data_1)\n",
    "# split_data = split_fused_cells_to_paths(out_data_1, dst_loads)\n",
    "# print(split_data)\n",
    "\n",
    "out_data_1, tags = dispatch_with_indices_and_loads(\n",
    "    in_data, route_indices, dst_loads, tag_generating=True\n",
    ")\n",
    "print(tags)\n",
    "split_data, split_loads, split_tags = split_fused_cells_to_paths(\n",
    "    out_data_1, dst_loads, is_load_split=True, is_tag_split=True, tags=tags\n",
    ")\n",
    "print(split_tags)\n",
    "\n",
    "fused_data, new_tags, global_dst_indices = fuse_split_cells_from_paths(\n",
    "    split_data, is_tag_fuse=True, tags=split_tags\n",
    ")\n",
    "\n",
    "print(fused_data)\n",
    "print(new_tags)\n",
    "global_dst_indices = global_dst_indices.expand_as(fused_data)\n",
    "print(global_dst_indices)\n",
    "# results = (\n",
    "#     torch.zeros((9, 4), dtype=torch.float32)\n",
    "#     .cuda()\n",
    "#     .scatter_reduce(0, global_dst_indices, fused_data, reduce=\"sum\")\n",
    "# )\n",
    "\n",
    "# out_data_1, tags = dispatch_with_indices_and_loads(\n",
    "#     in_data, route_indices, dst_loads, max_path_padding=True, tag_generating=True\n",
    "# )\n",
    "# split_data = split_fused_cells_to_paths(out_data_1, dst_loads, max_path_padding=True,tags=tags)\n",
    "# print(split_data)# print(out_data_1)\n",
    "\n",
    "# out_data_2 = dispatch_with_indices_and_loads(\n",
    "#     in_data, route_indices, dst_loads, is_1d_routing=False\n",
    "# )\n",
    "# print(out_data_2)\n",
    "# torch.allclose(out_data_1[0], out_data_2)\n"
   ]
  }
 ],
 "metadata": {
  "kernelspec": {
   "display_name": "base",
   "language": "python",
   "name": "python3"
  },
  "language_info": {
   "codemirror_mode": {
    "name": "ipython",
    "version": 3
   },
   "file_extension": ".py",
   "mimetype": "text/x-python",
   "name": "python",
   "nbconvert_exporter": "python",
   "pygments_lexer": "ipython3",
   "version": "3.8.12"
  },
  "orig_nbformat": 4
 },
 "nbformat": 4,
 "nbformat_minor": 2
}
