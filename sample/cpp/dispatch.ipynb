{
 "cells": [
  {
   "cell_type": "code",
   "execution_count": 8,
   "metadata": {},
   "outputs": [
    {
     "name": "stdout",
     "output_type": "stream",
     "text": [
      "tensor([[0, 0, 1, 0],\n",
      "        [0, 0, 2, 0],\n",
      "        [1, 0, 0, 0],\n",
      "        [0, 1, 0, 0],\n",
      "        [0, 0, 0, 1],\n",
      "        [2, 0, 0, 0],\n",
      "        [0, 0, 3, 0],\n",
      "        [0, 0, 4, 0]], device='cuda:0', dtype=torch.int32)\n",
      "tensor([2, 1, 4, 1], device='cuda:0', dtype=torch.int32)\n"
     ]
    }
   ],
   "source": [
    "import torch\n",
    "from brt._C.router import generate_indices_and_loads, dispatch_with_indices_and_loads,dispatch_with_dst_indices_1d\n",
    "\n",
    "path_num = 4\n",
    "gates = torch.randn((8, path_num)).cuda()\n",
    "topk_indices = torch.topk(gates, k=1, dim=1).indices\n",
    "\n",
    "hot_mask = (\n",
    "    torch.zeros(gates.size(0), path_num, dtype=torch.int32, device=gates.device,)\n",
    "    .scatter_(1, topk_indices, 1)\n",
    "    .cuda()\n",
    ")\n",
    "\n",
    "supported_capacities = torch.Tensor([1, 2, 4, 8, 16]).int().cuda()\n",
    "# supported_capacities = None\n",
    "\n",
    "route_indices, dst_loads = generate_indices_and_loads(\n",
    "    hot_mask, supported_capacities, capacity_padding=True, is_dst_index=True\n",
    ")\n",
    "print(route_indices)\n",
    "print(dst_loads)\n"
   ]
  },
  {
   "cell_type": "code",
   "execution_count": 12,
   "metadata": {},
   "outputs": [
    {
     "name": "stdout",
     "output_type": "stream",
     "text": [
      "tensor([[ 1.5505,  0.4794,  0.2362, -0.3262],\n",
      "        [ 1.4210,  0.9824,  1.0255, -1.0544],\n",
      "        [-2.0510, -1.7376,  0.6509,  0.1170],\n",
      "        [-1.1487,  0.4429, -0.4612,  0.5667],\n",
      "        [ 0.2725, -0.2631, -0.7710, -0.0592],\n",
      "        [-0.8056,  0.3006, -1.3536,  1.1864],\n",
      "        [ 0.4708, -0.0932,  0.2063, -1.8165],\n",
      "        [-0.0180,  0.6837, -1.8995,  0.4710]], device='cuda:0')\n",
      "[tensor([[-2.0510, -1.7376,  0.6509,  0.1170],\n",
      "        [-0.8056,  0.3006, -1.3536,  1.1864],\n",
      "        [-1.1487,  0.4429, -0.4612,  0.5667],\n",
      "        [ 1.5505,  0.4794,  0.2362, -0.3262],\n",
      "        [ 1.4210,  0.9824,  1.0255, -1.0544],\n",
      "        [ 0.4708, -0.0932,  0.2063, -1.8165],\n",
      "        [-0.0180,  0.6837, -1.8995,  0.4710],\n",
      "        [ 0.2725, -0.2631, -0.7710, -0.0592]], device='cuda:0')]\n",
      "tensor([[-2.0510, -1.7376,  0.6509,  0.1170],\n",
      "        [-0.8056,  0.3006, -1.3536,  1.1864],\n",
      "        [-1.1487,  0.4429, -0.4612,  0.5667],\n",
      "        [ 1.5505,  0.4794,  0.2362, -0.3262],\n",
      "        [ 1.4210,  0.9824,  1.0255, -1.0544],\n",
      "        [ 0.4708, -0.0932,  0.2063, -1.8165],\n",
      "        [-0.0180,  0.6837, -1.8995,  0.4710],\n",
      "        [ 0.2725, -0.2631, -0.7710, -0.0592]], device='cuda:0')\n"
     ]
    },
    {
     "data": {
      "text/plain": [
       "True"
      ]
     },
     "execution_count": 12,
     "metadata": {},
     "output_type": "execute_result"
    }
   ],
   "source": [
    "in_data = torch.randn((8, path_num)).cuda()\n",
    "print(in_data)\n",
    "out_data_1 = dispatch_with_indices_and_loads(in_data, route_indices, dst_loads)\n",
    "print(out_data_1)\n",
    "out_data_2 = dispatch_with_dst_indices_1d(in_data, route_indices, dst_loads)\n",
    "print(out_data_2)\n",
    "torch.allclose(out_data_1[0], out_data_2)"
   ]
  }
 ],
 "metadata": {
  "kernelspec": {
   "display_name": "base",
   "language": "python",
   "name": "python3"
  },
  "language_info": {
   "codemirror_mode": {
    "name": "ipython",
    "version": 3
   },
   "file_extension": ".py",
   "mimetype": "text/x-python",
   "name": "python",
   "nbconvert_exporter": "python",
   "pygments_lexer": "ipython3",
   "version": "3.8.12"
  },
  "orig_nbformat": 4
 },
 "nbformat": 4,
 "nbformat_minor": 2
}
