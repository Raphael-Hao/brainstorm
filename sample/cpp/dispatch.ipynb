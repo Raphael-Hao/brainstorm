{
 "cells": [
  {
   "cell_type": "code",
   "execution_count": 1,
   "metadata": {},
   "outputs": [
    {
     "name": "stderr",
     "output_type": "stream",
     "text": [
      "/home/whcui/.pyenv/versions/miniconda3-3.8-4.11.0/lib/python3.8/site-packages/tqdm/auto.py:22: TqdmWarning: IProgress not found. Please update jupyter and ipywidgets. See https://ipywidgets.readthedocs.io/en/stable/user_install.html\n",
      "  from .autonotebook import tqdm as notebook_tqdm\n"
     ]
    },
    {
     "name": "stdout",
     "output_type": "stream",
     "text": [
      "tensor([[0, 1, 0, 0],\n",
      "        [0, 0, 0, 1],\n",
      "        [1, 0, 0, 0],\n",
      "        [2, 0, 0, 0],\n",
      "        [0, 0, 0, 2],\n",
      "        [0, 0, 1, 0],\n",
      "        [0, 0, 2, 0],\n",
      "        [0, 0, 3, 0]], device='cuda:0', dtype=torch.int32)\n",
      "tensor([2, 1, 4, 2], device='cuda:0', dtype=torch.int32)\n"
     ]
    }
   ],
   "source": [
    "import torch\n",
    "from brt._C.router import (\n",
    "    generate_indices_and_loads,\n",
    "    dispatch_with_indices_and_loads,\n",
    "    split_fused_cells_to_paths,\n",
    "    fuse_split_cells_from_paths,\n",
    "    combine_with_indices_and_loads,\n",
    ")\n",
    "\n",
    "path_num = 4\n",
    "gates = torch.randn((8, path_num)).cuda()\n",
    "topk_indices = torch.topk(gates, k=1, dim=1).indices\n",
    "\n",
    "hot_mask = (\n",
    "    torch.zeros(gates.size(0), path_num, dtype=torch.int32, device=gates.device,)\n",
    "    .scatter_(1, topk_indices, 1)\n",
    "    .cuda()\n",
    ")\n",
    "\n",
    "supported_capacities = torch.Tensor([1, 2, 4, 8, 16]).int().cuda()\n",
    "# supported_capacities = None\n",
    "\n",
    "route_indices, dst_loads = generate_indices_and_loads(\n",
    "    hot_mask, supported_capacities, capacity_padding=True, is_tag_index=False\n",
    ")\n",
    "print(route_indices)\n",
    "print(dst_loads)\n"
   ]
  },
  {
   "cell_type": "code",
   "execution_count": 3,
   "metadata": {},
   "outputs": [
    {
     "name": "stdout",
     "output_type": "stream",
     "text": [
      "tensor([[-0.2296, -0.7083, -0.2889,  0.0953],\n",
      "        [-0.4906, -1.1487,  0.6038,  0.0545],\n",
      "        [-0.3319, -1.3258,  0.9305,  1.7306],\n",
      "        [ 0.0906,  0.2670,  0.4063, -0.3558],\n",
      "        [-1.0018, -0.3968, -0.2029, -0.0085],\n",
      "        [ 0.6007, -0.9677, -0.1781, -0.4924],\n",
      "        [-1.1791,  1.4208,  0.1571,  0.5924],\n",
      "        [-1.5516, -0.7332, -0.5385, -0.6513]], device='cuda:0')\n",
      "tensor([[0, 1, 0, 0],\n",
      "        [0, 0, 0, 1],\n",
      "        [1, 0, 0, 0],\n",
      "        [2, 0, 0, 0],\n",
      "        [0, 0, 0, 2],\n",
      "        [0, 0, 1, 0],\n",
      "        [0, 0, 2, 0],\n",
      "        [0, 0, 3, 0]], device='cuda:0', dtype=torch.int32)\n",
      "tensor([2, 1, 4, 2], device='cuda:0', dtype=torch.int32)\n",
      "tensor([3, 4, 1, 6, 7, 8, 0, 2, 5], device='cuda:0', dtype=torch.int32)\n",
      "[tensor([3, 4], device='cuda:0', dtype=torch.int32), tensor([1], device='cuda:0', dtype=torch.int32), tensor([6, 7, 8, 0], device='cuda:0', dtype=torch.int32), tensor([2, 5], device='cuda:0', dtype=torch.int32)]\n"
     ]
    }
   ],
   "source": [
    "in_data = torch.randn((8, path_num)).cuda()\n",
    "print(in_data)\n",
    "print(route_indices)\n",
    "print(dst_loads)\n",
    "# (out_data_1,) = dispatch_with_indices_and_loads(in_data, route_indices, dst_loads)\n",
    "# print(out_data_1)\n",
    "# split_data = split_fused_cells_to_paths(out_data_1, dst_loads)\n",
    "# print(split_data)\n",
    "\n",
    "out_data_1, tags = dispatch_with_indices_and_loads(\n",
    "    in_data, route_indices, dst_loads, tag_generating=True\n",
    ")\n",
    "print(tags)\n",
    "\n",
    "split_data, split_loads, split_tags = split_fused_cells_to_paths(\n",
    "    out_data_1, dst_loads, is_load_split=True, is_tag_split=True, tags=tags\n",
    ")\n",
    "print(split_tags)\n",
    "\n",
    "\n",
    "# results = (\n",
    "#     torch.zeros((9, 4), dtype=torch.float32)\n",
    "#     .cuda()\n",
    "#     .scatter_reduce(0, global_dst_indices, fused_data, reduce=\"sum\")\n",
    "# )\n",
    "\n",
    "# out_data_1, tags = dispatch_with_indices_and_loads(\n",
    "#     in_data, route_indices, dst_loads, max_path_padding=True, tag_generating=True\n",
    "# )\n",
    "# split_data = split_fused_cells_to_paths(out_data_1, dst_loads, max_path_padding=True,tags=tags)\n",
    "# print(split_data)# print(out_data_1)\n",
    "\n",
    "# out_data_2 = dispatch_with_indices_and_loads(\n",
    "#     in_data, route_indices, dst_loads, is_1d_routing=False\n",
    "# )\n",
    "# print(out_data_2)\n",
    "# torch.allclose(out_data_1[0], out_data_2)\n"
   ]
  },
  {
   "cell_type": "code",
   "execution_count": 4,
   "metadata": {},
   "outputs": [
    {
     "name": "stdout",
     "output_type": "stream",
     "text": [
      "tensor([[-0.3319, -1.3258,  0.9305,  1.7306],\n",
      "        [ 0.0906,  0.2670,  0.4063, -0.3558],\n",
      "        [-0.2296, -0.7083, -0.2889,  0.0953],\n",
      "        [ 0.6007, -0.9677, -0.1781, -0.4924],\n",
      "        [-1.1791,  1.4208,  0.1571,  0.5924],\n",
      "        [-1.5516, -0.7332, -0.5385, -0.6513],\n",
      "        [ 0.0000,  0.0000,  0.0000,  0.0000],\n",
      "        [-0.4906, -1.1487,  0.6038,  0.0545],\n",
      "        [-1.0018, -0.3968, -0.2029, -0.0085]], device='cuda:0')\n",
      "tensor([0, 1, 2, 3, 4, 5, 6, 7, 8], device='cuda:0', dtype=torch.int32)\n",
      "tensor([3, 4, 1, 6, 7, 8, 0, 2, 5], device='cuda:0')\n",
      "tensor([[-0.2296, -0.7083, -0.2889,  0.0953],\n",
      "        [-0.4906, -1.1487,  0.6038,  0.0545],\n",
      "        [-0.3319, -1.3258,  0.9305,  1.7306],\n",
      "        [ 0.0906,  0.2670,  0.4063, -0.3558],\n",
      "        [-1.0018, -0.3968, -0.2029, -0.0085],\n",
      "        [ 0.6007, -0.9677, -0.1781, -0.4924],\n",
      "        [-1.1791,  1.4208,  0.1571,  0.5924],\n",
      "        [-1.5516, -0.7332, -0.5385, -0.6513]], device='cuda:0')\n",
      "True\n"
     ]
    },
    {
     "name": "stderr",
     "output_type": "stream",
     "text": [
      "[W TensorAdvancedIndexing.cpp:1550] Warning: scatter_reduce() is in beta and the API may change at any time. (function operator())\n"
     ]
    }
   ],
   "source": [
    "fused_data, new_tags, global_seat_indices = fuse_split_cells_from_paths(\n",
    "    split_data, is_tag_fuse=True, tags=split_tags\n",
    ")\n",
    "\n",
    "print(fused_data)\n",
    "print(new_tags)\n",
    "print(global_seat_indices)\n",
    "\n",
    "final_data = combine_with_indices_and_loads(\n",
    "    fused_data, global_seat_indices, dst_loads, tags=new_tags, is_tag_index=True\n",
    ")\n",
    "print(final_data)\n",
    "print(torch.allclose(final_data, in_data))\n",
    "\n",
    "\n",
    "\n"
   ]
  },
  {
   "cell_type": "code",
   "execution_count": 5,
   "metadata": {},
   "outputs": [
    {
     "name": "stdout",
     "output_type": "stream",
     "text": [
      "tensor([[-0.3319, -1.3258,  0.9305,  1.7306],\n",
      "        [ 0.0906,  0.2670,  0.4063, -0.3558],\n",
      "        [-0.2296, -0.7083, -0.2889,  0.0953],\n",
      "        [ 0.6007, -0.9677, -0.1781, -0.4924],\n",
      "        [-1.1791,  1.4208,  0.1571,  0.5924],\n",
      "        [-1.5516, -0.7332, -0.5385, -0.6513],\n",
      "        [ 0.0000,  0.0000,  0.0000,  0.0000],\n",
      "        [-0.4906, -1.1487,  0.6038,  0.0545],\n",
      "        [-1.0018, -0.3968, -0.2029, -0.0085]], device='cuda:0')\n",
      "tensor([0, 1, 2, 3, 4, 5, 6, 7, 8], device='cuda:0', dtype=torch.int32)\n",
      "tensor([3, 4, 1, 6, 7, 8, 0, 2, 5], device='cuda:0')\n",
      "tensor([[-0.2296, -0.7083, -0.2889,  0.0953],\n",
      "        [-0.4906, -1.1487,  0.6038,  0.0545],\n",
      "        [-0.3319, -1.3258,  0.9305,  1.7306],\n",
      "        [ 0.0906,  0.2670,  0.4063, -0.3558],\n",
      "        [-1.0018, -0.3968, -0.2029, -0.0085],\n",
      "        [ 0.6007, -0.9677, -0.1781, -0.4924],\n",
      "        [-1.1791,  1.4208,  0.1571,  0.5924],\n",
      "        [-1.5516, -0.7332, -0.5385, -0.6513]], device='cuda:0')\n",
      "True\n"
     ]
    }
   ],
   "source": [
    "fused_data, fused_loads = fuse_split_cells_from_paths(\n",
    "    split_data, is_load_fuse=True, loads=split_loads\n",
    ")\n",
    "\n",
    "print(fused_data)\n",
    "print(new_tags)\n",
    "print(global_seat_indices)\n",
    "\n",
    "final_data = combine_with_indices_and_loads(\n",
    "    fused_data, route_indices, fused_loads\n",
    ")\n",
    "print(final_data)\n",
    "print(torch.allclose(final_data, in_data))\n"
   ]
  }
 ],
 "metadata": {
  "kernelspec": {
   "display_name": "base",
   "language": "python",
   "name": "python3"
  },
  "language_info": {
   "codemirror_mode": {
    "name": "ipython",
    "version": 3
   },
   "file_extension": ".py",
   "mimetype": "text/x-python",
   "name": "python",
   "nbconvert_exporter": "python",
   "pygments_lexer": "ipython3",
   "version": "3.8.12"
  },
  "orig_nbformat": 4
 },
 "nbformat": 4,
 "nbformat_minor": 2
}
