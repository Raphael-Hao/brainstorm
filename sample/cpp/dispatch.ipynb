{
 "cells": [
  {
   "cell_type": "code",
   "execution_count": 13,
   "metadata": {},
   "outputs": [
    {
     "name": "stdout",
     "output_type": "stream",
     "text": [
      "tensor([[   0,    1,    1,    0],\n",
      "        [   1,    0,    2,    0],\n",
      "        [   0,    0,    3,    1],\n",
      "        ...,\n",
      "        [1036,  979,    0,    0],\n",
      "        [1037,    0,    0, 1018],\n",
      "        [1038,    0,    0, 1019]], device='cuda:0', dtype=torch.int32)\n",
      "tensor([2048, 1024, 2048, 1024], device='cuda:0', dtype=torch.int32)\n"
     ]
    }
   ],
   "source": [
    "import torch\n",
    "from brt._C.router import (\n",
    "    generate_indices_and_loads,\n",
    "    dispatch_with_indices_and_loads,\n",
    "    split_fused_cells_to_paths,\n",
    "    fuse_split_cells_from_paths,\n",
    "    combine_with_indices_and_loads,\n",
    ")\n",
    "\n",
    "path_num = 4\n",
    "gates = torch.randn((2048, path_num)).cuda()\n",
    "topk_indices = torch.topk(gates, k=2, dim=1).indices\n",
    "\n",
    "hot_mask = (\n",
    "    torch.zeros(gates.size(0), path_num, dtype=torch.int32, device=gates.device,)\n",
    "    .scatter_(1, topk_indices, 1)\n",
    "    .cuda()\n",
    ")\n",
    "\n",
    "supported_capacities = torch.Tensor([64, 128, 256, 512, 1024, 2048]).int().cuda()\n",
    "# supported_capacities = None\n",
    "\n",
    "route_indices, seat_loads = generate_indices_and_loads(\n",
    "    hot_mask, supported_capacities, capacity_padding=True, is_tag_index=False\n",
    ")\n",
    "print(route_indices)\n",
    "print(seat_loads)\n"
   ]
  },
  {
   "cell_type": "code",
   "execution_count": 14,
   "metadata": {},
   "outputs": [
    {
     "name": "stdout",
     "output_type": "stream",
     "text": [
      "tensor([[   0,    1,    1,    0],\n",
      "        [   1,    0,    2,    0],\n",
      "        [   0,    0,    3,    1],\n",
      "        ...,\n",
      "        [1036,  979,    0,    0],\n",
      "        [1037,    0,    0, 1018],\n",
      "        [1038,    0,    0, 1019]], device='cuda:0', dtype=torch.int32)\n",
      "tensor([2048, 1024, 2048, 1024], device='cuda:0', dtype=torch.int32)\n",
      "tensor([2, 5, 7,  ..., 0, 0, 0], device='cuda:0', dtype=torch.int32)\n",
      "[tensor([2, 5, 7,  ..., 0, 0, 0], device='cuda:0', dtype=torch.int32), tensor([1, 5, 6,  ..., 0, 0, 0], device='cuda:0', dtype=torch.int32), tensor([1, 2, 3,  ..., 0, 0, 0], device='cuda:0', dtype=torch.int32), tensor([3, 4, 6,  ..., 0, 0, 0], device='cuda:0', dtype=torch.int32)]\n"
     ]
    }
   ],
   "source": [
    "in_data = torch.randn((gates.size(0), 4, 3, 2, 3)).cuda()\n",
    "# print(in_data)\n",
    "print(route_indices)\n",
    "print(seat_loads)\n",
    "# (out_data_1,) = dispatch_with_indices_and_loads(in_data, route_indices, dst_loads)\n",
    "# print(out_data_1)\n",
    "# split_data = split_fused_cells_to_paths(out_data_1, dst_loads)\n",
    "# print(split_data)\n",
    "\n",
    "out_data_1, tags = dispatch_with_indices_and_loads(\n",
    "    in_data, route_indices, seat_loads, tag_generating=True\n",
    ")\n",
    "print(tags)\n",
    "\n",
    "split_data, split_loads, split_tags = split_fused_cells_to_paths(\n",
    "    out_data_1, seat_loads, is_load_split=True, is_tag_split=True, tags=tags\n",
    ")\n",
    "print(split_tags)\n"
   ]
  },
  {
   "cell_type": "code",
   "execution_count": 15,
   "metadata": {},
   "outputs": [
    {
     "name": "stdout",
     "output_type": "stream",
     "text": [
      "tensor([   0,    1,    2,  ..., 2046, 2047, 2048], device='cuda:0',\n",
      "       dtype=torch.int32)\n",
      "tensor([2, 5, 7,  ..., 0, 0, 0], device='cuda:0')\n",
      "True\n"
     ]
    }
   ],
   "source": [
    "fused_data, new_tags, global_seat_indices = fuse_split_cells_from_paths(\n",
    "    split_data, is_tag_fuse=True, tags=split_tags\n",
    ")\n",
    "\n",
    "# print(fused_data)\n",
    "print(new_tags)\n",
    "print(global_seat_indices)\n",
    "\n",
    "final_data = combine_with_indices_and_loads(\n",
    "    fused_data, global_seat_indices, dst_loads, tags=new_tags, is_tag_index=True\n",
    ")\n",
    "# print(final_data)\n",
    "print(torch.allclose(final_data, in_data*2))\n",
    "\n",
    "\n",
    "\n"
   ]
  },
  {
   "cell_type": "code",
   "execution_count": 16,
   "metadata": {},
   "outputs": [
    {
     "name": "stdout",
     "output_type": "stream",
     "text": [
      "tensor([   0,    1,    2,  ..., 2046, 2047, 2048], device='cuda:0',\n",
      "       dtype=torch.int32)\n",
      "tensor([2, 5, 7,  ..., 0, 0, 0], device='cuda:0')\n",
      "True\n"
     ]
    }
   ],
   "source": [
    "fused_data, fused_loads = fuse_split_cells_from_paths(\n",
    "    split_data, is_load_fuse=True, loads=split_loads\n",
    ")\n",
    "\n",
    "# print(fused_data)\n",
    "print(new_tags)\n",
    "print(global_seat_indices)\n",
    "\n",
    "final_data = combine_with_indices_and_loads(fused_data, route_indices, fused_loads)\n",
    "# print(final_data)\n",
    "print(torch.allclose(final_data, in_data * 2))\n"
   ]
  }
 ],
 "metadata": {
  "kernelspec": {
   "display_name": "base",
   "language": "python",
   "name": "python3"
  },
  "language_info": {
   "codemirror_mode": {
    "name": "ipython",
    "version": 3
   },
   "file_extension": ".py",
   "mimetype": "text/x-python",
   "name": "python",
   "nbconvert_exporter": "python",
   "pygments_lexer": "ipython3",
   "version": "3.8.12"
  },
  "orig_nbformat": 4
 },
 "nbformat": 4,
 "nbformat_minor": 2
}
