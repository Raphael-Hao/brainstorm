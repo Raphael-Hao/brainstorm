{
 "cells": [
  {
   "cell_type": "code",
   "execution_count": 40,
   "metadata": {},
   "outputs": [
    {
     "name": "stdout",
     "output_type": "stream",
     "text": [
      "tensor([[ 0.1487, -1.0308, -0.6591,  0.1805],\n",
      "        [-0.6623,  0.0143,  1.1613,  1.2699],\n",
      "        [ 0.7879, -1.0277,  2.4124,  0.4707],\n",
      "        [-1.5529, -0.5595, -0.5892, -1.4064]], device='cuda:0')\n",
      "tensor([[3],\n",
      "        [3],\n",
      "        [2],\n",
      "        [1]], device='cuda:0')\n",
      "tensor([[0, 0, 0, 1],\n",
      "        [0, 0, 0, 1],\n",
      "        [0, 0, 1, 0],\n",
      "        [0, 1, 0, 0]], device='cuda:0')\n",
      "tensor([ 1,  2,  4,  8, 16], device='cuda:0', dtype=torch.int32)\n",
      "tensor([[0, 0, 0, 1],\n",
      "        [0, 0, 0, 2],\n",
      "        [0, 0, 1, 0],\n",
      "        [0, 1, 0, 0]], device='cuda:0', dtype=torch.int32)\n",
      "tensor([1, 1, 1, 2], dtype=torch.int32)\n",
      "tensor([[0, 0, 0, 1],\n",
      "        [0, 0, 0, 2],\n",
      "        [0, 0, 1, 0],\n",
      "        [0, 1, 0, 0]], device='cuda:0', dtype=torch.int32)\n",
      "tensor([0, 1, 1, 2], dtype=torch.int32)\n"
     ]
    }
   ],
   "source": [
    "from brt.router.utils import generate_dst_indices\n",
    "import torch\n",
    "\n",
    "dst_num = 4\n",
    "gates = torch.randn((4, 4)).cuda()\n",
    "print(gates)\n",
    "topk_indices = torch.topk(gates, k=1, dim=1).indices\n",
    "print(topk_indices)\n",
    "route_indices = (\n",
    "    torch.zeros(\n",
    "        gates.size(0),\n",
    "        dst_num,\n",
    "        dtype=torch.int64,\n",
    "        device=gates.device,\n",
    "    )\n",
    "    .scatter_(1, topk_indices, 1)\n",
    "    .cuda()\n",
    ")\n",
    "print(route_indices)\n",
    "\n",
    "supported_capacities = torch.Tensor([1, 2, 4, 8, 16]).int().cuda()\n",
    "print(supported_capacities)\n",
    "\n",
    "local_indices, dst_loads = generate_dst_indices(route_indices, supported_capacities)\n",
    "print(local_indices)\n",
    "print(dst_loads)\n",
    "\n",
    "supported_capacities = None\n",
    "\n",
    "local_indices, dst_loads = generate_dst_indices(route_indices, supported_capacities)\n",
    "print(local_indices)\n",
    "print(dst_loads)\n"
   ]
  },
  {
   "cell_type": "code",
   "execution_count": 41,
   "metadata": {},
   "outputs": [
    {
     "name": "stdout",
     "output_type": "stream",
     "text": [
      "tensor([[1, 0, 0, 0],\n",
      "        [0, 0, 1, 0],\n",
      "        [1, 0, 0, 0],\n",
      "        [1, 0, 0, 0]], device='cuda:0', dtype=torch.int32)\n",
      "tensor([[1, 0, 0, 0],\n",
      "        [0, 0, 1, 0],\n",
      "        [2, 0, 0, 0],\n",
      "        [3, 0, 0, 0]], device='cuda:0', dtype=torch.int32)\n",
      "tensor([3, 0, 1, 0], dtype=torch.int32)\n",
      "<class 'torch.Tensor'>\n",
      "tensor([[0, 0, 1, 0],\n",
      "        [2, 0, 0, 0],\n",
      "        [3, 0, 0, 0],\n",
      "        [0, 0, 0, 0]], device='cuda:0', dtype=torch.int32)\n",
      "tensor([3, 0, 1, 0], dtype=torch.int32)\n",
      "<class 'torch.Tensor'>\n"
     ]
    }
   ],
   "source": [
    "from brt.router.utils import generate_dst_indices, generate_src_indices\n",
    "import torch\n",
    "import numpy as np\n",
    "dst_num = 4\n",
    "gates = torch.randn((4, 4)).cuda()\n",
    "topk_indices = torch.topk(gates, k=1, dim=1).indices\n",
    "\n",
    "route_indices = (\n",
    "    torch.zeros(\n",
    "        gates.size(0),\n",
    "        dst_num,\n",
    "        dtype=torch.int32,\n",
    "        device=gates.device,\n",
    "    )\n",
    "    .scatter_(1, topk_indices, 1)\n",
    "    .cuda()\n",
    ")\n",
    "print(route_indices)\n",
    "\n",
    "supported_capacities = torch.Tensor([1, 2, 4, 8, 16]).int().cuda()\n",
    "supported_capacities = None\n",
    "\n",
    "local_indices, dst_loads = generate_dst_indices(route_indices, supported_capacities)\n",
    "print(local_indices)\n",
    "print(dst_loads)\n",
    "print(type(dst_loads))\n",
    "\n",
    "\n",
    "local_indices, dst_loads = generate_src_indices(route_indices, supported_capacities)\n",
    "print(local_indices)\n",
    "print(dst_loads)\n",
    "print(type(dst_loads))\n"
   ]
  },
  {
   "cell_type": "code",
   "execution_count": 42,
   "metadata": {},
   "outputs": [
    {
     "name": "stdout",
     "output_type": "stream",
     "text": [
      "tensor([[[-0.3308,  0.1240,  1.0195, -0.2159],\n",
      "         [ 0.0225,  1.5018, -0.3679, -0.1782],\n",
      "         [-0.7061,  1.7608,  1.7714,  0.4425],\n",
      "         [-2.9409,  0.5268, -1.3022, -0.2594]],\n",
      "\n",
      "        [[ 0.1721, -0.8454,  0.5393, -1.3184],\n",
      "         [-0.2518, -0.6651, -0.9887,  0.2620],\n",
      "         [ 0.2734,  1.8939, -0.9966, -1.6682],\n",
      "         [-1.9212,  1.5239,  1.1228,  0.2153]],\n",
      "\n",
      "        [[-0.3862, -0.2001, -0.2069, -1.1311],\n",
      "         [ 0.1643,  0.1459,  0.8326,  0.1093],\n",
      "         [ 1.0507, -0.4440,  0.1163, -0.2765],\n",
      "         [-0.7782,  0.9823, -0.4397,  0.0120]],\n",
      "\n",
      "        [[-0.2390, -0.7391, -0.1453, -1.3747],\n",
      "         [ 0.7101, -1.3181,  0.4332,  1.6508],\n",
      "         [ 0.2804,  0.0571, -1.0369,  0.0058],\n",
      "         [ 0.1341,  1.1219,  1.2818, -0.2444]]], device='cuda:0',\n",
      "       grad_fn=<ToCopyBackward0>)\n",
      "tensor([[0, 0, 1, 0],\n",
      "        [2, 0, 0, 0],\n",
      "        [3, 0, 0, 0],\n",
      "        [0, 0, 0, 0]], device='cuda:0', dtype=torch.int32)\n",
      "tensor([3, 0, 1, 0], dtype=torch.int32)\n"
     ]
    },
    {
     "ename": "RuntimeError",
     "evalue": "loads.is_cuda() INTERNAL ASSERT FAILED at \"/home/yichuanjiaoda/brainstorm_project/brainstorm/src/backend/torch/router.cc\":130, please report a bug to PyTorch. loads must be a CUDA tensor",
     "output_type": "error",
     "traceback": [
      "\u001b[0;31m---------------------------------------------------------------------------\u001b[0m",
      "\u001b[0;31mRuntimeError\u001b[0m                              Traceback (most recent call last)",
      "\u001b[0;32m/tmp/ipykernel_1790/4146700823.py\u001b[0m in \u001b[0;36m<module>\u001b[0;34m\u001b[0m\n\u001b[1;32m     15\u001b[0m     \u001b[0min_data\u001b[0m\u001b[0;34m,\u001b[0m\u001b[0;34m\u001b[0m\u001b[0;34m\u001b[0m\u001b[0m\n\u001b[1;32m     16\u001b[0m     \u001b[0mlocal_indices\u001b[0m\u001b[0;34m,\u001b[0m\u001b[0;34m\u001b[0m\u001b[0;34m\u001b[0m\u001b[0m\n\u001b[0;32m---> 17\u001b[0;31m     \u001b[0mdst_loads\u001b[0m\u001b[0;34m,\u001b[0m\u001b[0;34m\u001b[0m\u001b[0;34m\u001b[0m\u001b[0m\n\u001b[0m\u001b[1;32m     18\u001b[0m )\n\u001b[1;32m     19\u001b[0m \u001b[0;34m\u001b[0m\u001b[0m\n",
      "\u001b[0;31mRuntimeError\u001b[0m: loads.is_cuda() INTERNAL ASSERT FAILED at \"/home/yichuanjiaoda/brainstorm_project/brainstorm/src/backend/torch/router.cc\":130, please report a bug to PyTorch. loads must be a CUDA tensor"
     ]
    }
   ],
   "source": [
    "from brt._C.router import dispatch_with_dst_indices_1d\n",
    "import torch\n",
    "\n",
    "in_data = torch.randn(4, 4, 4, dtype=torch.float32, requires_grad=True).cuda()\n",
    "\n",
    "total_load = torch.sum(dst_loads).item()\n",
    "out_data = torch.zeros((total_load, 4), dtype=in_data.dtype).cuda()\n",
    "\n",
    "new_gates = torch.ones_like(gates, dtype=torch.float32).cuda()\n",
    "\n",
    "print(in_data)\n",
    "print(local_indices)\n",
    "print(dst_loads)\n",
    "out_data = dispatch_with_dst_indices_1d(\n",
    "    in_data,\n",
    "    local_indices,\n",
    "    dst_loads,\n",
    ")\n",
    "\n",
    "print(out_data)\n"
   ]
  },
  {
   "cell_type": "code",
   "execution_count": null,
   "metadata": {},
   "outputs": [
    {
     "name": "stdout",
     "output_type": "stream",
     "text": [
      "tensor([[[-0.9770, -1.1473, -1.0334, -0.8232],\n",
      "         [-0.5851, -1.3774,  1.2046, -1.2152],\n",
      "         [-1.0122, -0.6246,  1.0016,  1.6380],\n",
      "         [ 1.9609,  0.6950, -1.5311,  1.5943]],\n",
      "\n",
      "        [[-1.3046,  1.0876,  0.6222,  0.4509],\n",
      "         [-1.3509,  0.0613, -0.7699, -0.5236],\n",
      "         [ 0.0943,  0.9361,  0.5199,  0.4449],\n",
      "         [-0.9209,  0.1338,  0.9276, -1.0284]],\n",
      "\n",
      "        [[ 0.0651, -0.5160,  1.7939, -1.1250],\n",
      "         [ 0.7448,  0.4920, -1.0126,  2.8997],\n",
      "         [ 1.5567,  0.9394, -0.1925,  0.1449],\n",
      "         [-1.5481,  0.1049,  1.3766, -1.9229]],\n",
      "\n",
      "        [[ 0.0229,  0.1393, -0.0357,  0.1752],\n",
      "         [-1.0998,  0.9090, -1.3338, -0.3332],\n",
      "         [ 0.3678,  0.6949, -0.8650, -0.0833],\n",
      "         [-0.6429, -0.0560, -0.3000, -0.8104]]], device='cuda:0')\n",
      "True\n",
      "torch.Size([4, 4, 4])\n"
     ]
    }
   ],
   "source": [
    "from brt._C.router import combine_with_src_indices\n",
    "\n",
    "final_data = combine_with_src_indices(out_data, local_indices, dst_loads)\n",
    "\n",
    "print(final_data)\n",
    "print(torch.allclose(final_data, in_data))\n",
    "print(final_data.shape)"
   ]
  }
 ],
 "metadata": {
  "kernelspec": {
   "display_name": "Python 3.7.13 ('begin')",
   "language": "python",
   "name": "python3"
  },
  "language_info": {
   "codemirror_mode": {
    "name": "ipython",
    "version": 3
   },
   "file_extension": ".py",
   "mimetype": "text/x-python",
   "name": "python",
   "nbconvert_exporter": "python",
   "pygments_lexer": "ipython3",
   "version": "3.7.13"
  },
  "orig_nbformat": 4,
  "vscode": {
   "interpreter": {
    "hash": "c13eb689fd642ac0827e1e3dddd38907462b9b7b4d2186008cc2bf0647b540d0"
   }
  }
 },
 "nbformat": 4,
 "nbformat_minor": 2
}
