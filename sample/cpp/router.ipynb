{
 "cells": [
  {
   "cell_type": "code",
   "execution_count": 1,
   "metadata": {},
   "outputs": [
    {
     "name": "stdout",
     "output_type": "stream",
     "text": [
      "tensor([[0, 1, 1, 0],\n",
      "        [1, 2, 1, 0],\n",
      "        [2, 3, 1, 0],\n",
      "        [3, 3, 1, 1]], device='cuda:0', dtype=torch.int32)\n",
      "tensor([[0, 1, 1, 0],\n",
      "        [1, 2, 0, 0],\n",
      "        [2, 3, 0, 0],\n",
      "        [3, 0, 0, 1]], device='cuda:0', dtype=torch.int32)\n",
      "tensor([4, 4, 1, 1], device='cuda:0', dtype=torch.int32)\n"
     ]
    }
   ],
   "source": [
    "from brt.cpp.router import generate_local_indices\n",
    "import torch\n",
    "\n",
    "dst_num = 4\n",
    "gates = torch.randn((4, 4)).cuda()\n",
    "topk_indices = torch.topk(gates, k=2, dim=1).indices\n",
    "\n",
    "route_indices = (\n",
    "    torch.zeros(\n",
    "        gates.size(0),\n",
    "        dst_num,\n",
    "        dtype=torch.int32,\n",
    "        device=gates.device,\n",
    "    )\n",
    "    .scatter_(1, topk_indices, 1)\n",
    "    .cuda()\n",
    ")\n",
    "\n",
    "supported_capacities = torch.Tensor([1, 2, 4, 8, 16]).int().cuda()\n",
    "\n",
    "local_indices, dst_loads = generate_local_indices(\n",
    "    route_indices, supported_capacities\n",
    ")\n",
    "print(local_indices)\n",
    "local_indices = local_indices * route_indices\n",
    "print(local_indices)\n",
    "print(dst_loads)\n",
    "\n",
    "\n"
   ]
  },
  {
   "cell_type": "code",
   "execution_count": 2,
   "metadata": {},
   "outputs": [
    {
     "name": "stdout",
     "output_type": "stream",
     "text": [
      "tensor([[ 0.3469,  1.3397, -1.2007, -1.4127,  0.0895, -0.3332, -0.2247, -1.6396,\n",
      "         -0.8053, -0.6212, -1.7722, -1.0833,  1.5094,  0.0053],\n",
      "        [-1.3546,  0.2145, -1.9215,  1.5373, -0.3905, -0.8060, -0.1938,  0.5106,\n",
      "         -1.8939, -0.5792,  0.6570,  0.2350,  0.4157, -0.3379],\n",
      "        [ 1.0445, -0.4200, -0.6408, -0.7282,  0.8074,  0.8059, -0.2770, -2.2840,\n",
      "         -0.4139,  0.4419,  0.6797, -0.4743, -0.2227,  0.1660],\n",
      "        [-0.3661, -0.5215, -1.0101, -0.6265,  0.4868,  0.5627, -0.1698,  0.8852,\n",
      "         -0.0618, -0.3311, -0.0492,  1.3408, -1.7260,  1.1847]],\n",
      "       device='cuda:0')\n",
      "tensor([[-1.3546,  0.2145, -1.9215,  1.5373, -0.3905, -0.8060, -0.1938,  0.5106,\n",
      "         -1.8939, -0.5792,  0.6570,  0.2350,  0.4157, -0.3379],\n",
      "        [ 1.0445, -0.4200, -0.6408, -0.7282,  0.8074,  0.8059, -0.2770, -2.2840,\n",
      "         -0.4139,  0.4419,  0.6797, -0.4743, -0.2227,  0.1660],\n",
      "        [-0.3661, -0.5215, -1.0101, -0.6265,  0.4868,  0.5627, -0.1698,  0.8852,\n",
      "         -0.0618, -0.3311, -0.0492,  1.3408, -1.7260,  1.1847],\n",
      "        [ 0.0000,  0.0000,  0.0000,  0.0000,  0.0000,  0.0000,  0.0000,  0.0000,\n",
      "          0.0000,  0.0000,  0.0000,  0.0000,  0.0000,  0.0000],\n",
      "        [ 0.3469,  1.3397, -1.2007, -1.4127,  0.0895, -0.3332, -0.2247, -1.6396,\n",
      "         -0.8053, -0.6212, -1.7722, -1.0833,  1.5094,  0.0053],\n",
      "        [-1.3546,  0.2145, -1.9215,  1.5373, -0.3905, -0.8060, -0.1938,  0.5106,\n",
      "         -1.8939, -0.5792,  0.6570,  0.2350,  0.4157, -0.3379],\n",
      "        [ 1.0445, -0.4200, -0.6408, -0.7282,  0.8074,  0.8059, -0.2770, -2.2840,\n",
      "         -0.4139,  0.4419,  0.6797, -0.4743, -0.2227,  0.1660],\n",
      "        [ 0.0000,  0.0000,  0.0000,  0.0000,  0.0000,  0.0000,  0.0000,  0.0000,\n",
      "          0.0000,  0.0000,  0.0000,  0.0000,  0.0000,  0.0000],\n",
      "        [ 0.3469,  1.3397, -1.2007, -1.4127,  0.0895, -0.3332, -0.2247, -1.6396,\n",
      "         -0.8053, -0.6212, -1.7722, -1.0833,  1.5094,  0.0053],\n",
      "        [-0.3661, -0.5215, -1.0101, -0.6265,  0.4868,  0.5627, -0.1698,  0.8852,\n",
      "         -0.0618, -0.3311, -0.0492,  1.3408, -1.7260,  1.1847]],\n",
      "       device='cuda:0')\n"
     ]
    }
   ],
   "source": [
    "from brt.cpp.router import route_with_local_indices\n",
    "import torch\n",
    "\n",
    "in_data = torch.randn(4, 14, dtype=torch.float32).cuda()\n",
    "\n",
    "total_load = torch.sum(dst_loads).item()\n",
    "out_data = torch.zeros((total_load, 4), dtype=in_data.dtype).cuda()\n",
    "\n",
    "new_gates = torch.ones_like(gates, dtype=torch.float32).cuda()\n",
    "\n",
    "new_gates = new_gates\n",
    "\n",
    "out_data = route_with_local_indices(\n",
    "    in_data,\n",
    "    local_indices,\n",
    "    dst_loads,\n",
    "    # new_gates,\n",
    ")\n",
    "\n",
    "print(in_data)\n",
    "print(out_data)\n"
   ]
  }
 ],
 "metadata": {
  "kernelspec": {
   "display_name": "Python 3.8.10 64-bit ('base')",
   "language": "python",
   "name": "python3"
  },
  "language_info": {
   "codemirror_mode": {
    "name": "ipython",
    "version": 3
   },
   "file_extension": ".py",
   "mimetype": "text/x-python",
   "name": "python",
   "nbconvert_exporter": "python",
   "pygments_lexer": "ipython3",
   "version": "3.8.10"
  },
  "orig_nbformat": 4,
  "vscode": {
   "interpreter": {
    "hash": "d4914c35dbc1a262acb2241fbfc193aaeb9362d455da2cebdd4b0a1d658dbfd5"
   }
  }
 },
 "nbformat": 4,
 "nbformat_minor": 2
}
