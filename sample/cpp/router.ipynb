{
 "cells": [
  {
   "cell_type": "code",
   "execution_count": 3,
   "metadata": {},
   "outputs": [
    {
     "name": "stdout",
     "output_type": "stream",
     "text": [
      "tensor([[0, 1, 0, 0],\n",
      "        [0, 0, 1, 0],\n",
      "        [1, 0, 0, 0],\n",
      "        [2, 0, 0, 0]], device='cuda:0', dtype=torch.int32)\n",
      "tensor([2, 1, 1, 0], device='cuda:0', dtype=torch.int32)\n"
     ]
    }
   ],
   "source": [
    "from brt.router.utils import generate_dst_indices\n",
    "import torch\n",
    "\n",
    "dst_num = 4\n",
    "gates = torch.randn((4, 4)).cuda()\n",
    "topk_indices = torch.topk(gates, k=1, dim=1).indices\n",
    "\n",
    "route_indices = (\n",
    "    torch.zeros(\n",
    "        gates.size(0),\n",
    "        dst_num,\n",
    "        dtype=torch.int64,\n",
    "        device=gates.device,\n",
    "    )\n",
    "    .scatter_(1, topk_indices, 1)\n",
    "    .cuda()\n",
    ")\n",
    "\n",
    "supported_capacities = torch.Tensor([1, 2, 4, 8, 16]).int().cuda()\n",
    "supported_capacities = None\n",
    "\n",
    "local_indices, dst_loads = generate_dst_indices(route_indices, supported_capacities)\n",
    "print(local_indices)\n",
    "print(dst_loads)\n"
   ]
  },
  {
   "cell_type": "code",
   "execution_count": 4,
   "metadata": {},
   "outputs": [
    {
     "name": "stdout",
     "output_type": "stream",
     "text": [
      "tensor([[[-0.9770, -1.1473, -1.0334, -0.8232],\n",
      "         [-0.5851, -1.3774,  1.2046, -1.2152],\n",
      "         [-1.0122, -0.6246,  1.0016,  1.6380],\n",
      "         [ 1.9609,  0.6950, -1.5311,  1.5943]],\n",
      "\n",
      "        [[-1.3046,  1.0876,  0.6222,  0.4509],\n",
      "         [-1.3509,  0.0613, -0.7699, -0.5236],\n",
      "         [ 0.0943,  0.9361,  0.5199,  0.4449],\n",
      "         [-0.9209,  0.1338,  0.9276, -1.0284]],\n",
      "\n",
      "        [[ 0.0651, -0.5160,  1.7939, -1.1250],\n",
      "         [ 0.7448,  0.4920, -1.0126,  2.8997],\n",
      "         [ 1.5567,  0.9394, -0.1925,  0.1449],\n",
      "         [-1.5481,  0.1049,  1.3766, -1.9229]],\n",
      "\n",
      "        [[ 0.0229,  0.1393, -0.0357,  0.1752],\n",
      "         [-1.0998,  0.9090, -1.3338, -0.3332],\n",
      "         [ 0.3678,  0.6949, -0.8650, -0.0833],\n",
      "         [-0.6429, -0.0560, -0.3000, -0.8104]]], device='cuda:0',\n",
      "       grad_fn=<ToCopyBackward0>)\n",
      "tensor([[0, 1, 0, 0],\n",
      "        [0, 0, 1, 0],\n",
      "        [1, 0, 0, 0],\n",
      "        [2, 0, 0, 0]], device='cuda:0', dtype=torch.int32)\n",
      "tensor([2, 1, 1, 0], device='cuda:0', dtype=torch.int32)\n",
      "tensor([[[-0.9770, -1.1473, -1.0334, -0.8232],\n",
      "         [-0.5851, -1.3774,  1.2046, -1.2152],\n",
      "         [-1.0122, -0.6246,  1.0016,  1.6380],\n",
      "         [ 1.9609,  0.6950, -1.5311,  1.5943]],\n",
      "\n",
      "        [[-1.3046,  1.0876,  0.6222,  0.4509],\n",
      "         [-1.3509,  0.0613, -0.7699, -0.5236],\n",
      "         [ 0.0943,  0.9361,  0.5199,  0.4449],\n",
      "         [-0.9209,  0.1338,  0.9276, -1.0284]],\n",
      "\n",
      "        [[ 0.0651, -0.5160,  1.7939, -1.1250],\n",
      "         [ 0.7448,  0.4920, -1.0126,  2.8997],\n",
      "         [ 1.5567,  0.9394, -0.1925,  0.1449],\n",
      "         [-1.5481,  0.1049,  1.3766, -1.9229]],\n",
      "\n",
      "        [[ 0.0229,  0.1393, -0.0357,  0.1752],\n",
      "         [-1.0998,  0.9090, -1.3338, -0.3332],\n",
      "         [ 0.3678,  0.6949, -0.8650, -0.0833],\n",
      "         [-0.6429, -0.0560, -0.3000, -0.8104]]], device='cuda:0',\n",
      "       grad_fn=<ToCopyBackward0>)\n",
      "tensor([[[ 0.0651, -0.5160,  1.7939, -1.1250],\n",
      "         [ 0.7448,  0.4920, -1.0126,  2.8997],\n",
      "         [ 1.5567,  0.9394, -0.1925,  0.1449],\n",
      "         [-1.5481,  0.1049,  1.3766, -1.9229]],\n",
      "\n",
      "        [[ 0.0229,  0.1393, -0.0357,  0.1752],\n",
      "         [-1.0998,  0.9090, -1.3338, -0.3332],\n",
      "         [ 0.3678,  0.6949, -0.8650, -0.0833],\n",
      "         [-0.6429, -0.0560, -0.3000, -0.8104]],\n",
      "\n",
      "        [[-0.9770, -1.1473, -1.0334, -0.8232],\n",
      "         [-0.5851, -1.3774,  1.2046, -1.2152],\n",
      "         [-1.0122, -0.6246,  1.0016,  1.6380],\n",
      "         [ 1.9609,  0.6950, -1.5311,  1.5943]],\n",
      "\n",
      "        [[-1.3046,  1.0876,  0.6222,  0.4509],\n",
      "         [-1.3509,  0.0613, -0.7699, -0.5236],\n",
      "         [ 0.0943,  0.9361,  0.5199,  0.4449],\n",
      "         [-0.9209,  0.1338,  0.9276, -1.0284]]], device='cuda:0')\n"
     ]
    }
   ],
   "source": [
    "from brt._C.router import dispatch_with_dst_indices_1d\n",
    "import torch\n",
    "\n",
    "in_data = torch.randn(4, 4, 4, dtype=torch.float32, requires_grad=True).cuda()\n",
    "\n",
    "total_load = torch.sum(dst_loads).item()\n",
    "out_data = torch.zeros((total_load, 4), dtype=in_data.dtype).cuda()\n",
    "\n",
    "new_gates = torch.ones_like(gates, dtype=torch.float32).cuda()\n",
    "\n",
    "print(in_data)\n",
    "print(local_indices)\n",
    "print(dst_loads)\n",
    "out_data = dispatch_with_dst_indices_1d(\n",
    "    in_data,\n",
    "    local_indices,\n",
    "    dst_loads,\n",
    ")\n",
    "\n",
    "print(out_data)\n"
   ]
  },
  {
   "cell_type": "code",
   "execution_count": 5,
   "metadata": {},
   "outputs": [
    {
     "name": "stdout",
     "output_type": "stream",
     "text": [
      "tensor([[[-0.9770, -1.1473, -1.0334, -0.8232],\n",
      "         [-0.5851, -1.3774,  1.2046, -1.2152],\n",
      "         [-1.0122, -0.6246,  1.0016,  1.6380],\n",
      "         [ 1.9609,  0.6950, -1.5311,  1.5943]],\n",
      "\n",
      "        [[-1.3046,  1.0876,  0.6222,  0.4509],\n",
      "         [-1.3509,  0.0613, -0.7699, -0.5236],\n",
      "         [ 0.0943,  0.9361,  0.5199,  0.4449],\n",
      "         [-0.9209,  0.1338,  0.9276, -1.0284]],\n",
      "\n",
      "        [[ 0.0651, -0.5160,  1.7939, -1.1250],\n",
      "         [ 0.7448,  0.4920, -1.0126,  2.8997],\n",
      "         [ 1.5567,  0.9394, -0.1925,  0.1449],\n",
      "         [-1.5481,  0.1049,  1.3766, -1.9229]],\n",
      "\n",
      "        [[ 0.0229,  0.1393, -0.0357,  0.1752],\n",
      "         [-1.0998,  0.9090, -1.3338, -0.3332],\n",
      "         [ 0.3678,  0.6949, -0.8650, -0.0833],\n",
      "         [-0.6429, -0.0560, -0.3000, -0.8104]]], device='cuda:0')\n",
      "True\n",
      "torch.Size([4, 4, 4])\n"
     ]
    }
   ],
   "source": [
    "from brt._C.router import combine_with_src_indices\n",
    "\n",
    "final_data = combine_with_src_indices(out_data, local_indices, dst_loads)\n",
    "\n",
    "print(final_data)\n",
    "print(torch.allclose(final_data, in_data))\n",
    "print(final_data.shape)"
   ]
  }
 ],
 "metadata": {
  "kernelspec": {
   "display_name": "Python 3.8.10 64-bit ('base')",
   "language": "python",
   "name": "python3"
  },
  "language_info": {
   "codemirror_mode": {
    "name": "ipython",
    "version": 3
   },
   "file_extension": ".py",
   "mimetype": "text/x-python",
   "name": "python",
   "nbconvert_exporter": "python",
   "pygments_lexer": "ipython3",
   "version": "3.8.10"
  },
  "orig_nbformat": 4,
  "vscode": {
   "interpreter": {
    "hash": "d4914c35dbc1a262acb2241fbfc193aaeb9362d455da2cebdd4b0a1d658dbfd5"
   }
  }
 },
 "nbformat": 4,
 "nbformat_minor": 2
}
