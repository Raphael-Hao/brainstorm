{
 "cells": [
  {
   "cell_type": "code",
   "execution_count": 1,
   "metadata": {},
   "outputs": [
    {
     "name": "stdout",
     "output_type": "stream",
     "text": [
      "tensor([[0, 1, 0, 0],\n",
      "        [0, 0, 1, 0],\n",
      "        [0, 2, 0, 0],\n",
      "        [0, 0, 0, 1]], device='cuda:0', dtype=torch.int32)\n",
      "tensor([0, 2, 1, 1], dtype=torch.int32)\n"
     ]
    }
   ],
   "source": [
    "from brt.router.utils import generate_dst_indices\n",
    "import torch\n",
    "\n",
    "dst_num = 4\n",
    "gates = torch.randn((4, 4)).cuda()\n",
    "topk_indices = torch.topk(gates, k=1, dim=1).indices\n",
    "\n",
    "route_indices = (\n",
    "    torch.zeros(\n",
    "        gates.size(0),\n",
    "        dst_num,\n",
    "        dtype=torch.int64,\n",
    "        device=gates.device,\n",
    "    )\n",
    "    .scatter_(1, topk_indices, 1)\n",
    "    .cuda()\n",
    ")\n",
    "\n",
    "supported_capacities = torch.Tensor([1, 2, 4, 8, 16]).int().cuda()\n",
    "supported_capacities = None\n",
    "\n",
    "local_indices, dst_loads = generate_dst_indices(route_indices, supported_capacities)\n",
    "print(local_indices)\n",
    "print(dst_loads)\n"
   ]
  },
  {
   "cell_type": "code",
   "execution_count": 3,
   "metadata": {},
   "outputs": [
    {
     "name": "stdout",
     "output_type": "stream",
     "text": [
      "tensor([[0, 0, 0, 1],\n",
      "        [0, 0, 0, 2],\n",
      "        [1, 0, 0, 0],\n",
      "        [0, 1, 0, 0]], device='cuda:0', dtype=torch.int32)\n",
      "tensor([1, 1, 0, 2], dtype=torch.int32)\n",
      "<class 'torch.Tensor'>\n"
     ]
    }
   ],
   "source": [
    "from brt.router.utils import generate_dst_indices, generate_src_indices\n",
    "import torch\n",
    "import numpy as np\n",
    "dst_num = 4\n",
    "gates = torch.randn((4, 4)).cuda()\n",
    "topk_indices = torch.topk(gates, k=1, dim=1).indices\n",
    "\n",
    "route_indices = (\n",
    "    torch.zeros(\n",
    "        gates.size(0),\n",
    "        dst_num,\n",
    "        dtype=torch.int32,\n",
    "        device=gates.device,\n",
    "    )\n",
    "    .scatter_(1, topk_indices, 1)\n",
    "    .cuda()\n",
    ")\n",
    "\n",
    "supported_capacities = torch.Tensor([1, 2, 4, 8, 16]).int().cuda()\n",
    "supported_capacities = None\n",
    "\n",
    "local_indices, dst_loads = generate_dst_indices(route_indices, supported_capacities)\n",
    "print(local_indices)\n",
    "print(dst_loads)\n",
    "print(type(dst_loads))\n"
   ]
  },
  {
   "cell_type": "code",
   "execution_count": 5,
   "metadata": {},
   "outputs": [
    {
     "name": "stdout",
     "output_type": "stream",
     "text": [
      "tensor([[[ 0.5350,  0.2327,  0.5188, -1.6168],\n",
      "         [ 0.4517, -0.0207, -0.3176, -0.4912],\n",
      "         [-0.0086,  1.0315, -0.3159, -0.2336],\n",
      "         [-0.7730,  1.6559, -0.1177,  0.3795]],\n",
      "\n",
      "        [[ 0.6152, -0.4958,  0.9154,  0.6812],\n",
      "         [ 1.5039, -0.7479,  0.1105, -0.2781],\n",
      "         [ 0.6638,  1.2818,  1.7344,  0.6269],\n",
      "         [-0.1343,  0.1003, -0.0755, -0.2001]],\n",
      "\n",
      "        [[ 0.0110,  0.1355, -0.1765, -0.3073],\n",
      "         [-0.0182,  0.7717, -0.5185,  1.3886],\n",
      "         [ 1.0003, -0.6967,  0.2998,  1.2957],\n",
      "         [ 0.7187, -0.2509,  0.1214, -1.1183]],\n",
      "\n",
      "        [[-0.5182,  0.2225, -0.9024, -0.1015],\n",
      "         [ 0.2034, -0.2301, -0.9605,  0.4297],\n",
      "         [ 0.4747,  1.8300,  0.0021, -0.7760],\n",
      "         [ 0.1383, -0.9376, -1.1034, -0.5206]]], device='cuda:0',\n",
      "       grad_fn=<ToCopyBackward0>)\n",
      "tensor([[0, 0, 0, 1],\n",
      "        [0, 0, 0, 2],\n",
      "        [1, 0, 0, 0],\n",
      "        [0, 1, 0, 0]], device='cuda:0', dtype=torch.int32)\n",
      "tensor([1, 1, 0, 2], dtype=torch.int32)\n",
      "tensor([[[ 0.0110,  0.1355, -0.1765, -0.3073],\n",
      "         [-0.0182,  0.7717, -0.5185,  1.3886],\n",
      "         [ 1.0003, -0.6967,  0.2998,  1.2957],\n",
      "         [ 0.7187, -0.2509,  0.1214, -1.1183]],\n",
      "\n",
      "        [[-0.5182,  0.2225, -0.9024, -0.1015],\n",
      "         [ 0.2034, -0.2301, -0.9605,  0.4297],\n",
      "         [ 0.4747,  1.8300,  0.0021, -0.7760],\n",
      "         [ 0.1383, -0.9376, -1.1034, -0.5206]],\n",
      "\n",
      "        [[ 0.5350,  0.2327,  0.5188, -1.6168],\n",
      "         [ 0.4517, -0.0207, -0.3176, -0.4912],\n",
      "         [-0.0086,  1.0315, -0.3159, -0.2336],\n",
      "         [-0.7730,  1.6559, -0.1177,  0.3795]],\n",
      "\n",
      "        [[ 0.6152, -0.4958,  0.9154,  0.6812],\n",
      "         [ 1.5039, -0.7479,  0.1105, -0.2781],\n",
      "         [ 0.6638,  1.2818,  1.7344,  0.6269],\n",
      "         [-0.1343,  0.1003, -0.0755, -0.2001]]], device='cuda:0')\n"
     ]
    }
   ],
   "source": [
    "from brt._C.router import dispatch_with_dst_indices_1d\n",
    "import torch\n",
    "\n",
    "in_data = torch.randn(4, 4, 4, dtype=torch.float32, requires_grad=True).cuda()\n",
    "\n",
    "total_load = torch.sum(dst_loads).item()\n",
    "out_data = torch.zeros((total_load, 4), dtype=in_data.dtype).cuda()\n",
    "\n",
    "new_gates = torch.ones_like(gates, dtype=torch.float32).cuda()\n",
    "\n",
    "print(in_data)\n",
    "print(local_indices)\n",
    "print(dst_loads)\n",
    "out_data = dispatch_with_dst_indices_1d(\n",
    "    in_data,\n",
    "    local_indices,\n",
    "    dst_loads,\n",
    ")\n",
    "\n",
    "print(out_data)\n"
   ]
  },
  {
   "cell_type": "code",
   "execution_count": 6,
   "metadata": {},
   "outputs": [
    {
     "name": "stdout",
     "output_type": "stream",
     "text": [
      "tensor([[[ 0.5350,  0.2327,  0.5188, -1.6168],\n",
      "         [ 0.4517, -0.0207, -0.3176, -0.4912],\n",
      "         [-0.0086,  1.0315, -0.3159, -0.2336],\n",
      "         [-0.7730,  1.6559, -0.1177,  0.3795]],\n",
      "\n",
      "        [[ 0.6152, -0.4958,  0.9154,  0.6812],\n",
      "         [ 1.5039, -0.7479,  0.1105, -0.2781],\n",
      "         [ 0.6638,  1.2818,  1.7344,  0.6269],\n",
      "         [-0.1343,  0.1003, -0.0755, -0.2001]],\n",
      "\n",
      "        [[ 0.0110,  0.1355, -0.1765, -0.3073],\n",
      "         [-0.0182,  0.7717, -0.5185,  1.3886],\n",
      "         [ 1.0003, -0.6967,  0.2998,  1.2957],\n",
      "         [ 0.7187, -0.2509,  0.1214, -1.1183]],\n",
      "\n",
      "        [[-0.5182,  0.2225, -0.9024, -0.1015],\n",
      "         [ 0.2034, -0.2301, -0.9605,  0.4297],\n",
      "         [ 0.4747,  1.8300,  0.0021, -0.7760],\n",
      "         [ 0.1383, -0.9376, -1.1034, -0.5206]]], device='cuda:0')\n",
      "True\n",
      "torch.Size([4, 4, 4])\n"
     ]
    }
   ],
   "source": [
    "from brt._C.router import combine_with_src_indices\n",
    "\n",
    "final_data = combine_with_src_indices(out_data, local_indices, dst_loads)\n",
    "\n",
    "print(final_data)\n",
    "print(torch.allclose(final_data, in_data))\n",
    "print(final_data.shape)"
   ]
  }
 ],
 "metadata": {
  "kernelspec": {
   "display_name": "Python 3.8.10 64-bit ('base')",
   "language": "python",
   "name": "python3"
  },
  "language_info": {
   "codemirror_mode": {
    "name": "ipython",
    "version": 3
   },
   "file_extension": ".py",
   "mimetype": "text/x-python",
   "name": "python",
   "nbconvert_exporter": "python",
   "pygments_lexer": "ipython3",
   "version": "3.8.10"
  },
  "orig_nbformat": 4,
  "vscode": {
   "interpreter": {
    "hash": "d4914c35dbc1a262acb2241fbfc193aaeb9362d455da2cebdd4b0a1d658dbfd5"
   }
  }
 },
 "nbformat": 4,
 "nbformat_minor": 2
}
