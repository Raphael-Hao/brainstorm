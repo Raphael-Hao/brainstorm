{
 "cells": [
  {
   "cell_type": "code",
   "execution_count": 1,
   "metadata": {},
   "outputs": [
    {
     "name": "stdout",
     "output_type": "stream",
     "text": [
      "tensor([[1, 1, 0, 0],\n",
      "        [2, 1, 1, 0],\n",
      "        [2, 2, 1, 1],\n",
      "        [3, 2, 2, 1]], device='cuda:0', dtype=torch.int32)\n",
      "tensor([[1, 1, 0, 0],\n",
      "        [2, 0, 1, 0],\n",
      "        [0, 2, 0, 1],\n",
      "        [3, 0, 2, 0]], device='cuda:0', dtype=torch.int32)\n",
      "tensor([4, 2, 2, 1], device='cuda:0', dtype=torch.int32)\n"
     ]
    }
   ],
   "source": [
    "from brt.cpp.router import generate_local_route_indices\n",
    "import torch\n",
    "\n",
    "dst_num = 4\n",
    "gates = torch.randn((4, 4)).cuda()\n",
    "topk_indices = torch.topk(gates, k=2, dim=1).indices\n",
    "\n",
    "route_indices = (\n",
    "    torch.zeros(\n",
    "        gates.size(0),\n",
    "        dst_num,\n",
    "        dtype=torch.int32,\n",
    "        device=gates.device,\n",
    "    )\n",
    "    .scatter_(1, topk_indices, 1)\n",
    "    .cuda()\n",
    ")\n",
    "\n",
    "supported_capacities = torch.Tensor([1, 2, 4, 8, 16]).int().cuda()\n",
    "\n",
    "local_indices, dst_loads = generate_local_route_indices(\n",
    "    route_indices, supported_capacities\n",
    ")\n",
    "print(local_indices)\n",
    "local_indices = local_indices * route_indices\n",
    "print(local_indices)\n",
    "print(dst_loads)\n",
    "\n",
    "\n"
   ]
  },
  {
   "cell_type": "code",
   "execution_count": 3,
   "metadata": {},
   "outputs": [
    {
     "name": "stdout",
     "output_type": "stream",
     "text": [
      "tensor([[-0.3510, -0.7133,  0.5474,  1.1233],\n",
      "        [ 0.5072, -0.6250,  1.7217, -0.6054],\n",
      "        [ 1.0321,  0.6146, -1.2543, -0.5825],\n",
      "        [ 1.8319,  0.0345,  0.4426,  0.5731]], device='cuda:0')\n",
      "tensor([[-0.1755, -0.3567,  0.2737,  0.5616],\n",
      "        [ 0.2536, -0.3125,  0.8609, -0.3027],\n",
      "        [ 0.9159,  0.0173,  0.2213,  0.2866],\n",
      "        [ 0.0000,  0.0000,  0.0000,  0.0000],\n",
      "        [-0.1755, -0.3567,  0.2737,  0.5616],\n",
      "        [ 0.5160,  0.3073, -0.6272, -0.2913],\n",
      "        [ 0.2536, -0.3125,  0.8609, -0.3027],\n",
      "        [ 0.9159,  0.0173,  0.2213,  0.2866],\n",
      "        [ 0.5160,  0.3073, -0.6272, -0.2913]], device='cuda:0')\n"
     ]
    }
   ],
   "source": [
    "from brt.cpp.router import route_data_with_local_indices\n",
    "import torch\n",
    "\n",
    "in_data = torch.randn(4, 4, dtype=torch.float32).cuda()\n",
    "\n",
    "total_load = torch.sum(dst_loads).item()\n",
    "out_data = torch.zeros((total_load, 4), dtype=in_data.dtype).cuda()\n",
    "\n",
    "new_gates = torch.ones_like(gates, dtype=torch.float32).cuda()\n",
    "\n",
    "new_gates = new_gates / 2\n",
    "\n",
    "out_data = route_data_with_local_indices(\n",
    "    in_data,\n",
    "    out_data,\n",
    "    new_gates,\n",
    "    local_indices,\n",
    "    dst_loads,\n",
    ")\n",
    "print(in_data)\n",
    "print(out_data)\n"
   ]
  }
 ],
 "metadata": {
  "kernelspec": {
   "display_name": "Python 3.8.10 64-bit ('base')",
   "language": "python",
   "name": "python3"
  },
  "language_info": {
   "codemirror_mode": {
    "name": "ipython",
    "version": 3
   },
   "file_extension": ".py",
   "mimetype": "text/x-python",
   "name": "python",
   "nbconvert_exporter": "python",
   "pygments_lexer": "ipython3",
   "version": "3.8.10"
  },
  "orig_nbformat": 4,
  "vscode": {
   "interpreter": {
    "hash": "d4914c35dbc1a262acb2241fbfc193aaeb9362d455da2cebdd4b0a1d658dbfd5"
   }
  }
 },
 "nbformat": 4,
 "nbformat_minor": 2
}
