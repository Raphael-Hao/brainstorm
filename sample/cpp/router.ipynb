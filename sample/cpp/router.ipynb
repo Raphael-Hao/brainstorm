{
 "cells": [
  {
   "cell_type": "code",
   "execution_count": 1,
   "metadata": {},
   "outputs": [
    {
     "name": "stdout",
     "output_type": "stream",
     "text": [
      "tensor([[0, 1, 0, 0],\n",
      "        [0, 2, 0, 0],\n",
      "        [1, 2, 0, 0],\n",
      "        [1, 2, 0, 1]], device='cuda:0', dtype=torch.int32)\n",
      "tensor([[0, 1, 0, 0],\n",
      "        [0, 2, 0, 0],\n",
      "        [1, 0, 0, 0],\n",
      "        [0, 0, 0, 1]], device='cuda:0', dtype=torch.int32)\n",
      "tensor([1, 2, 1, 1], device='cuda:0', dtype=torch.int32)\n"
     ]
    }
   ],
   "source": [
    "from brt.cpp.router import generate_local_indices\n",
    "import torch\n",
    "\n",
    "dst_num = 4\n",
    "gates = torch.randn((4, 4)).cuda()\n",
    "topk_indices = torch.topk(gates, k=1, dim=1).indices\n",
    "\n",
    "route_indices = (\n",
    "    torch.zeros(\n",
    "        gates.size(0),\n",
    "        dst_num,\n",
    "        dtype=torch.int64,\n",
    "        device=gates.device,\n",
    "    )\n",
    "    .scatter_(1, topk_indices, 1)\n",
    "    .cuda()\n",
    ")\n",
    "\n",
    "supported_capacities = torch.Tensor([1, 2, 4, 8, 16]).int().cuda()\n",
    "\n",
    "local_indices, dst_loads = generate_local_indices(\n",
    "    route_indices, supported_capacities\n",
    ")\n",
    "print(local_indices)\n",
    "print(dst_loads)\n",
    "\n",
    "\n"
   ]
  },
  {
   "cell_type": "code",
   "execution_count": 5,
   "metadata": {},
   "outputs": [
    {
     "name": "stdout",
     "output_type": "stream",
     "text": [
      "tensor([[[-1.3002, -1.0905, -0.2003, -0.2435],\n",
      "         [-0.8435,  1.3128, -2.1729, -0.9251],\n",
      "         [-0.4823, -0.3195,  0.8688,  0.6669],\n",
      "         [-3.0042,  0.8174,  1.1353,  0.3623]],\n",
      "\n",
      "        [[ 0.3643,  0.1735, -1.7406,  0.6933],\n",
      "         [-0.4151, -0.6063,  0.3414,  0.2058],\n",
      "         [-1.5642, -1.0758, -0.3469, -0.0738],\n",
      "         [-1.1588,  1.6699,  1.4229,  1.0638]],\n",
      "\n",
      "        [[-0.3819,  0.7073,  0.1184, -1.1172],\n",
      "         [-0.2838,  0.0434, -0.5198,  0.8079],\n",
      "         [ 0.7819, -1.8814, -0.1268,  1.5259],\n",
      "         [ 1.6006, -1.1591,  0.2308,  0.1008]],\n",
      "\n",
      "        [[-1.1017, -1.2753, -1.3597, -0.5143],\n",
      "         [-0.5345, -0.9381,  0.4791, -0.4463],\n",
      "         [ 0.7022, -1.3897, -1.2662,  0.3815],\n",
      "         [ 0.6348,  0.5748,  0.8092, -0.5442]]], device='cuda:0',\n",
      "       grad_fn=<ToCopyBackward0>)\n",
      "tensor([[[-0.3819,  0.7073,  0.1184, -1.1172],\n",
      "         [-0.2838,  0.0434, -0.5198,  0.8079],\n",
      "         [ 0.7819, -1.8814, -0.1268,  1.5259],\n",
      "         [ 1.6006, -1.1591,  0.2308,  0.1008]],\n",
      "\n",
      "        [[-1.3002, -1.0905, -0.2003, -0.2435],\n",
      "         [-0.8435,  1.3128, -2.1729, -0.9251],\n",
      "         [-0.4823, -0.3195,  0.8688,  0.6669],\n",
      "         [-3.0042,  0.8174,  1.1353,  0.3623]],\n",
      "\n",
      "        [[ 0.3643,  0.1735, -1.7406,  0.6933],\n",
      "         [-0.4151, -0.6063,  0.3414,  0.2058],\n",
      "         [-1.5642, -1.0758, -0.3469, -0.0738],\n",
      "         [-1.1588,  1.6699,  1.4229,  1.0638]],\n",
      "\n",
      "        [[ 0.0000,  0.0000,  0.0000,  0.0000],\n",
      "         [ 0.0000,  0.0000,  0.0000,  0.0000],\n",
      "         [ 0.0000,  0.0000,  0.0000,  0.0000],\n",
      "         [ 0.0000,  0.0000,  0.0000,  0.0000]],\n",
      "\n",
      "        [[-1.1017, -1.2753, -1.3597, -0.5143],\n",
      "         [-0.5345, -0.9381,  0.4791, -0.4463],\n",
      "         [ 0.7022, -1.3897, -1.2662,  0.3815],\n",
      "         [ 0.6348,  0.5748,  0.8092, -0.5442]]], device='cuda:0')\n"
     ]
    }
   ],
   "source": [
    "from brt.cpp.router import route_with_local_indices\n",
    "import torch\n",
    "\n",
    "in_data = torch.randn(4, 4, 4, dtype=torch.float32, requires_grad=True).cuda()\n",
    "\n",
    "total_load = torch.sum(dst_loads).item()\n",
    "out_data = torch.zeros((total_load, 4), dtype=in_data.dtype).cuda()\n",
    "\n",
    "new_gates = torch.ones_like(gates, dtype=torch.float32).cuda()\n",
    "\n",
    "out_data = route_with_local_indices(\n",
    "    in_data,\n",
    "    local_indices,\n",
    "    dst_loads,\n",
    ")\n",
    "\n",
    "print(in_data)\n",
    "print(out_data)\n"
   ]
  },
  {
   "cell_type": "code",
   "execution_count": 6,
   "metadata": {},
   "outputs": [
    {
     "name": "stdout",
     "output_type": "stream",
     "text": [
      "tensor([[[-1.3002, -1.0905, -0.2003, -0.2435],\n",
      "         [-0.8435,  1.3128, -2.1729, -0.9251],\n",
      "         [-0.4823, -0.3195,  0.8688,  0.6669],\n",
      "         [-3.0042,  0.8174,  1.1353,  0.3623]],\n",
      "\n",
      "        [[ 0.3643,  0.1735, -1.7406,  0.6933],\n",
      "         [-0.4151, -0.6063,  0.3414,  0.2058],\n",
      "         [-1.5642, -1.0758, -0.3469, -0.0738],\n",
      "         [-1.1588,  1.6699,  1.4229,  1.0638]],\n",
      "\n",
      "        [[-0.3819,  0.7073,  0.1184, -1.1172],\n",
      "         [-0.2838,  0.0434, -0.5198,  0.8079],\n",
      "         [ 0.7819, -1.8814, -0.1268,  1.5259],\n",
      "         [ 1.6006, -1.1591,  0.2308,  0.1008]],\n",
      "\n",
      "        [[-1.1017, -1.2753, -1.3597, -0.5143],\n",
      "         [-0.5345, -0.9381,  0.4791, -0.4463],\n",
      "         [ 0.7022, -1.3897, -1.2662,  0.3815],\n",
      "         [ 0.6348,  0.5748,  0.8092, -0.5442]]], device='cuda:0')\n",
      "True\n",
      "torch.Size([4, 4, 4])\n"
     ]
    }
   ],
   "source": [
    "from brt.cpp.router import route_back_with_local_indices\n",
    "\n",
    "final_data = route_back_with_local_indices(out_data, local_indices, dst_loads)\n",
    "\n",
    "print(final_data)\n",
    "print(torch.allclose(final_data, in_data))\n",
    "print(final_data.shape)"
   ]
  }
 ],
 "metadata": {
  "kernelspec": {
   "display_name": "Python 3.8.10 64-bit ('base')",
   "language": "python",
   "name": "python3"
  },
  "language_info": {
   "codemirror_mode": {
    "name": "ipython",
    "version": 3
   },
   "file_extension": ".py",
   "mimetype": "text/x-python",
   "name": "python",
   "nbconvert_exporter": "python",
   "pygments_lexer": "ipython3",
   "version": "3.8.10"
  },
  "orig_nbformat": 4,
  "vscode": {
   "interpreter": {
    "hash": "d4914c35dbc1a262acb2241fbfc193aaeb9362d455da2cebdd4b0a1d658dbfd5"
   }
  }
 },
 "nbformat": 4,
 "nbformat_minor": 2
}
