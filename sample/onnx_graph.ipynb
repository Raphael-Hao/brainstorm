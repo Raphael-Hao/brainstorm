{
 "cells": [
  {
   "cell_type": "code",
   "execution_count": 3,
   "metadata": {},
   "outputs": [
    {
     "name": "stdout",
     "output_type": "stream",
     "text": [
      "Get devices for measurement successfully!\n",
      "========== Task 0  (workload key: [\"32a5ff201401d5600f77ced9f22defaa\", [8, 64, 64], [8, 64, 64], [8, 64, 64]]) ==========\n"
     ]
    },
    {
     "ename": "AttributeError",
     "evalue": "'TVMTuner' object has no attribute 'log_file'",
     "output_type": "error",
     "traceback": [
      "\u001b[0;31m---------------------------------------------------------------------------\u001b[0m",
      "\u001b[0;31mAttributeError\u001b[0m                            Traceback (most recent call last)",
      "\u001b[1;32m/home/whcui/brainstorm_project/brainstorm/sample/onnx_graph.ipynb Cell 1'\u001b[0m in \u001b[0;36m<cell line: 8>\u001b[0;34m()\u001b[0m\n\u001b[1;32m      <a href='vscode-notebook-cell://ssh-remote%2B7b22686f73744e616d65223a2252545833303930227d/home/whcui/brainstorm_project/brainstorm/sample/onnx_graph.ipynb#ch0000000vscode-remote?line=5'>6</a>\u001b[0m onnx_model \u001b[39m=\u001b[39m onnx\u001b[39m.\u001b[39mload(\u001b[39mf\u001b[39m\u001b[39m\"\u001b[39m\u001b[39m/home/whcui/brainstorm_project/brainstorm/log/\u001b[39m\u001b[39m{\u001b[39;00mmodel_name\u001b[39m}\u001b[39;00m\u001b[39m.onnx\u001b[39m\u001b[39m\"\u001b[39m)\n\u001b[1;32m      <a href='vscode-notebook-cell://ssh-remote%2B7b22686f73744e616d65223a2252545833303930227d/home/whcui/brainstorm_project/brainstorm/sample/onnx_graph.ipynb#ch0000000vscode-remote?line=6'>7</a>\u001b[0m tuner\u001b[39m.\u001b[39mimport_onnx_netlet(onnx_model, model_name)\n\u001b[0;32m----> <a href='vscode-notebook-cell://ssh-remote%2B7b22686f73744e616d65223a2252545833303930227d/home/whcui/brainstorm_project/brainstorm/sample/onnx_graph.ipynb#ch0000000vscode-remote?line=7'>8</a>\u001b[0m tuner\u001b[39m.\u001b[39;49mexport_netlet_template()\n",
      "File \u001b[0;32m~/brainstorm_project/brainstorm/python/brt/runtime/jit/tvm/tuner.py:88\u001b[0m, in \u001b[0;36mTVMTuner.export_netlet_template\u001b[0;34m(self)\u001b[0m\n\u001b[1;32m     <a href='file:///home/whcui/brainstorm_project/brainstorm/python/brt/runtime/jit/tvm/tuner.py?line=84'>85</a>\u001b[0m workload \u001b[39m=\u001b[39m json\u001b[39m.\u001b[39mloads(task\u001b[39m.\u001b[39mworkload_key)\n\u001b[1;32m     <a href='file:///home/whcui/brainstorm_project/brainstorm/python/brt/runtime/jit/tvm/tuner.py?line=86'>87</a>\u001b[0m \u001b[39mif\u001b[39;00m idx \u001b[39m==\u001b[39m \u001b[39m0\u001b[39m:\n\u001b[0;32m---> <a href='file:///home/whcui/brainstorm_project/brainstorm/python/brt/runtime/jit/tvm/tuner.py?line=87'>88</a>\u001b[0m     source_code \u001b[39m=\u001b[39m task\u001b[39m.\u001b[39mprint_best(\u001b[39mself\u001b[39;49m\u001b[39m.\u001b[39;49mlog_file, print_mode\u001b[39m=\u001b[39m\u001b[39mself\u001b[39m\u001b[39m.\u001b[39mraw_target)\n\u001b[1;32m     <a href='file:///home/whcui/brainstorm_project/brainstorm/python/brt/runtime/jit/tvm/tuner.py?line=88'>89</a>\u001b[0m     kernel_name \u001b[39m=\u001b[39m \u001b[39mself\u001b[39m\u001b[39m.\u001b[39mkernel_name\n\u001b[1;32m     <a href='file:///home/whcui/brainstorm_project/brainstorm/python/brt/runtime/jit/tvm/tuner.py?line=89'>90</a>\u001b[0m     kernel_args \u001b[39m=\u001b[39m deserialize_args(workload[\u001b[39m1\u001b[39m:])\n",
      "\u001b[0;31mAttributeError\u001b[0m: 'TVMTuner' object has no attribute 'log_file'"
     ]
    }
   ],
   "source": [
    "from brt.runtime.jit.tvm import TVMTuner\n",
    "import onnx\n",
    "\n",
    "tuner = TVMTuner()\n",
    "model_name = \"sparse_fusion_2_thor_model\"\n",
    "onnx_model = onnx.load(f\"/home/whcui/brainstorm_project/brainstorm/log/{model_name}.onnx\")\n",
    "tuner.import_onnx_netlet(onnx_model, model_name)\n",
    "tuner.export_netlet_template()"
   ]
  },
  {
   "cell_type": "code",
   "execution_count": 1,
   "metadata": {},
   "outputs": [],
   "source": [
    "import tvm"
   ]
  }
 ],
 "metadata": {
  "interpreter": {
   "hash": "7b495db98349be6abb0a1b61323eb6d203b46e23d9d808745216e0de8177f2c3"
  },
  "kernelspec": {
   "display_name": "Python 3.8.12 64-bit ('base')",
   "language": "python",
   "name": "python3"
  },
  "language_info": {
   "codemirror_mode": {
    "name": "ipython",
    "version": 3
   },
   "file_extension": ".py",
   "mimetype": "text/x-python",
   "name": "python",
   "nbconvert_exporter": "python",
   "pygments_lexer": "ipython3",
   "version": "3.8.12"
  },
  "orig_nbformat": 4
 },
 "nbformat": 4,
 "nbformat_minor": 2
}
