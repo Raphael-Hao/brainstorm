{
 "cells": [
  {
   "cell_type": "code",
   "execution_count": null,
   "metadata": {},
   "outputs": [],
   "source": [
    "import torch.nn as nn\n",
    "import torch\n",
    "\n",
    "from torch.onnx import register_custom_op_symbolic, symbolic_helper\n",
    "\n",
    "\n",
    "def router_op(g: torch._C.Graph, n: torch._C.Node, *args, **kwargs):\n",
    "    print(kwargs[\"name\"])\n",
    "    return g.op(\"brt::Router\", args[0])\n",
    "\n",
    "register_custom_op_symbolic(\"::prim_PythonOp\", router_op, 1)\n",
    "\n",
    "\n",
    "class Router(nn.Module):\n",
    "    @torch.jit.ignore\n",
    "    def forward(self, in_data):\n",
    "        return in_data\n",
    "\n",
    "\n",
    "class Model(nn.Module):\n",
    "    def __init__(self):\n",
    "        super().__init__()\n",
    "        self.router = Router()\n",
    "\n",
    "    def forward(self, in_data):\n",
    "        return self.router(in_data)\n",
    "\n",
    "\n",
    "router = Model()\n",
    "\n",
    "script_router = torch.jit.script(router)\n",
    "\n",
    "for node in script_router.graph.nodes():\n",
    "    print(\n",
    "        node, node.kind(),\n",
    "    )\n",
    "print(script_router.graph)\n",
    "\n",
    "input = torch.Tensor(1, 1, 1, 1)\n",
    "torch.onnx.export(script_router, input, \"test.onnx\")\n"
   ]
  },
  {
   "cell_type": "code",
   "execution_count": null,
   "metadata": {},
   "outputs": [],
   "source": [
    "import torchvision\n",
    "\n",
    "DeformConv = torchvision.ops.DeformConv2d"
   ]
  }
 ],
 "metadata": {
  "interpreter": {
   "hash": "7b495db98349be6abb0a1b61323eb6d203b46e23d9d808745216e0de8177f2c3"
  },
  "kernelspec": {
   "display_name": "Python 3.8.12 64-bit ('base')",
   "language": "python",
   "name": "python3"
  },
  "language_info": {
   "codemirror_mode": {
    "name": "ipython",
    "version": 3
   },
   "file_extension": ".py",
   "mimetype": "text/x-python",
   "name": "python",
   "nbconvert_exporter": "python",
   "pygments_lexer": "ipython3",
   "version": "3.8.12"
  },
  "orig_nbformat": 4
 },
 "nbformat": 4,
 "nbformat_minor": 2
}
