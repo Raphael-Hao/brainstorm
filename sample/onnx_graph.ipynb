{
 "cells": [
  {
   "cell_type": "code",
   "execution_count": 6,
   "metadata": {},
   "outputs": [
    {
     "name": "stdout",
     "output_type": "stream",
     "text": [
      "graph(%self : __torch__.Model,\n",
      "      %in_data.1 : Tensor):\n",
      "  %router : __torch__.___torch_mangle_2.Router = prim::GetAttr[name=\"router\"](%self)\n",
      "  %4 : Tensor = ^forward()(%router, %in_data.1) # /tmp/ipykernel_4394/2885632829.py:17:15\n",
      "  return (%4)\n",
      "\n"
     ]
    }
   ],
   "source": [
    "import torch.nn as nn\n",
    "import torch\n",
    "\n",
    "\n",
    "class Router(nn.Module):\n",
    "    @torch.jit.ignore\n",
    "    def forward(self, in_data):\n",
    "        return in_data\n",
    "\n",
    "\n",
    "class Model(nn.Module):\n",
    "    def __init__(self):\n",
    "        super().__init__()\n",
    "        self.router = Router()\n",
    "\n",
    "    def forward(self, in_data):\n",
    "        return self.router(in_data)\n",
    "\n",
    "\n",
    "router = Model()\n",
    "\n",
    "script_router = torch.jit.script(router)\n",
    "\n",
    "print(script_router.graph)\n"
   ]
  }
 ],
 "metadata": {
  "interpreter": {
   "hash": "7b495db98349be6abb0a1b61323eb6d203b46e23d9d808745216e0de8177f2c3"
  },
  "kernelspec": {
   "display_name": "Python 3.8.12 64-bit ('base')",
   "language": "python",
   "name": "python3"
  },
  "language_info": {
   "codemirror_mode": {
    "name": "ipython",
    "version": 3
   },
   "file_extension": ".py",
   "mimetype": "text/x-python",
   "name": "python",
   "nbconvert_exporter": "python",
   "pygments_lexer": "ipython3",
   "version": "3.8.12"
  },
  "orig_nbformat": 4
 },
 "nbformat": 4,
 "nbformat_minor": 2
}
